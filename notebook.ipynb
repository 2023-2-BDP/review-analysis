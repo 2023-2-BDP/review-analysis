{
 "cells": [
  {
   "cell_type": "code",
   "execution_count": 1,
   "metadata": {},
   "outputs": [],
   "source": [
    "import pandas as pd\n",
    "import numpy as np\n",
    "import matplotlib.pyplot as plt\n",
    "import seaborn as sns\n",
    "import warnings\n",
    "warnings.filterwarnings('ignore')\n",
    "plt.rcParams['font.family'] = 'AppleGothic'"
   ]
  },
  {
   "cell_type": "code",
   "execution_count": 2,
   "metadata": {},
   "outputs": [
    {
     "data": {
      "text/html": [
       "<div>\n",
       "<style scoped>\n",
       "    .dataframe tbody tr th:only-of-type {\n",
       "        vertical-align: middle;\n",
       "    }\n",
       "\n",
       "    .dataframe tbody tr th {\n",
       "        vertical-align: top;\n",
       "    }\n",
       "\n",
       "    .dataframe thead th {\n",
       "        text-align: right;\n",
       "    }\n",
       "</style>\n",
       "<table border=\"1\" class=\"dataframe\">\n",
       "  <thead>\n",
       "    <tr style=\"text-align: right;\">\n",
       "      <th></th>\n",
       "      <th>rating</th>\n",
       "      <th>headline</th>\n",
       "      <th>review_content</th>\n",
       "    </tr>\n",
       "  </thead>\n",
       "  <tbody>\n",
       "    <tr>\n",
       "      <th>0</th>\n",
       "      <td>5</td>\n",
       "      <td>만족합니다</td>\n",
       "      <td>가성비도 좋아요 재구매 의사있어요</td>\n",
       "    </tr>\n",
       "    <tr>\n",
       "      <th>1</th>\n",
       "      <td>5</td>\n",
       "      <td>가성비 싸게샀어요 이뻐요 ㅎㅎ</td>\n",
       "      <td>등록된 리뷰내용이 없습니다</td>\n",
       "    </tr>\n",
       "    <tr>\n",
       "      <th>2</th>\n",
       "      <td>4</td>\n",
       "      <td>가성비 완전 대박!</td>\n",
       "      <td>가방이랑 볼이 정품이라 만족스럽습니다 다른 제품들은 잘살펴보면 정품이 아닌경우들이 ...</td>\n",
       "    </tr>\n",
       "    <tr>\n",
       "      <th>3</th>\n",
       "      <td>4</td>\n",
       "      <td>골린이에게 적당한 골프채^^</td>\n",
       "      <td>골프채 드라이버 및 쿼터, 우드 아이언포함하여 10개 잘 받았습니다. 하자는 없어요...</td>\n",
       "    </tr>\n",
       "    <tr>\n",
       "      <th>4</th>\n",
       "      <td>5</td>\n",
       "      <td>저처럼 골프 입문하신지 얼마 되지 않으신 분들 강추!</td>\n",
       "      <td>스크린으로 처음 골프 입문한 골린이입니다. 하우스 채로 만 치다 보니 내채가 필요하...</td>\n",
       "    </tr>\n",
       "    <tr>\n",
       "      <th>...</th>\n",
       "      <td>...</td>\n",
       "      <td>...</td>\n",
       "      <td>...</td>\n",
       "    </tr>\n",
       "    <tr>\n",
       "      <th>1599568</th>\n",
       "      <td>5</td>\n",
       "      <td>신경과 근육 기능 유지를위해 꾸준히 먹어요.</td>\n",
       "      <td>등록된 리뷰내용이 없습니다</td>\n",
       "    </tr>\n",
       "    <tr>\n",
       "      <th>1599569</th>\n",
       "      <td>5</td>\n",
       "      <td>마그네슘 함량이 많아서 좋습니다</td>\n",
       "      <td>등록된 리뷰내용이 없습니다</td>\n",
       "    </tr>\n",
       "    <tr>\n",
       "      <th>1599570</th>\n",
       "      <td>5</td>\n",
       "      <td>재 구매했어요</td>\n",
       "      <td>등록된 리뷰내용이 없습니다</td>\n",
       "    </tr>\n",
       "    <tr>\n",
       "      <th>1599571</th>\n",
       "      <td>5</td>\n",
       "      <td>다른건 모르겠고 수면의 질은 완전 좋아졌습니다</td>\n",
       "      <td>깊은 잠을 못자서 항상 피곤하고 졸렸는데마그네슘 먹고나서 진짜 효과 바로 느끼고 있...</td>\n",
       "    </tr>\n",
       "    <tr>\n",
       "      <th>1599572</th>\n",
       "      <td>5</td>\n",
       "      <td>등록된 헤드라인이 없습니다</td>\n",
       "      <td>재구매입니다.</td>\n",
       "    </tr>\n",
       "  </tbody>\n",
       "</table>\n",
       "<p>1599573 rows × 3 columns</p>\n",
       "</div>"
      ],
      "text/plain": [
       "        rating                       headline  \\\n",
       "0            5                          만족합니다   \n",
       "1            5               가성비 싸게샀어요 이뻐요 ㅎㅎ   \n",
       "2            4                     가성비 완전 대박!   \n",
       "3            4                골린이에게 적당한 골프채^^   \n",
       "4            5  저처럼 골프 입문하신지 얼마 되지 않으신 분들 강추!   \n",
       "...        ...                            ...   \n",
       "1599568      5       신경과 근육 기능 유지를위해 꾸준히 먹어요.   \n",
       "1599569      5              마그네슘 함량이 많아서 좋습니다   \n",
       "1599570      5                        재 구매했어요   \n",
       "1599571      5      다른건 모르겠고 수면의 질은 완전 좋아졌습니다   \n",
       "1599572      5                 등록된 헤드라인이 없습니다   \n",
       "\n",
       "                                            review_content  \n",
       "0                                       가성비도 좋아요 재구매 의사있어요  \n",
       "1                                           등록된 리뷰내용이 없습니다  \n",
       "2        가방이랑 볼이 정품이라 만족스럽습니다 다른 제품들은 잘살펴보면 정품이 아닌경우들이 ...  \n",
       "3        골프채 드라이버 및 쿼터, 우드 아이언포함하여 10개 잘 받았습니다. 하자는 없어요...  \n",
       "4        스크린으로 처음 골프 입문한 골린이입니다. 하우스 채로 만 치다 보니 내채가 필요하...  \n",
       "...                                                    ...  \n",
       "1599568                                     등록된 리뷰내용이 없습니다  \n",
       "1599569                                     등록된 리뷰내용이 없습니다  \n",
       "1599570                                     등록된 리뷰내용이 없습니다  \n",
       "1599571  깊은 잠을 못자서 항상 피곤하고 졸렸는데마그네슘 먹고나서 진짜 효과 바로 느끼고 있...  \n",
       "1599572                                            재구매입니다.  \n",
       "\n",
       "[1599573 rows x 3 columns]"
      ]
     },
     "execution_count": 2,
     "metadata": {},
     "output_type": "execute_result"
    }
   ],
   "source": [
    "reviews = pd.read_csv('coupang_reviews.csv', encoding='utf-8', sep='\\t')\n",
    "reviews"
   ]
  },
  {
   "cell_type": "code",
   "execution_count": 3,
   "metadata": {},
   "outputs": [
    {
     "name": "stdout",
     "output_type": "stream",
     "text": [
      "<class 'pandas.core.frame.DataFrame'>\n",
      "RangeIndex: 1599573 entries, 0 to 1599572\n",
      "Data columns (total 3 columns):\n",
      " #   Column          Non-Null Count    Dtype \n",
      "---  ------          --------------    ----- \n",
      " 0   rating          1599571 non-null  object\n",
      " 1   headline        1598844 non-null  object\n",
      " 2   review_content  1590878 non-null  object\n",
      "dtypes: object(3)\n",
      "memory usage: 36.6+ MB\n"
     ]
    }
   ],
   "source": [
    "reviews.info()"
   ]
  },
  {
   "cell_type": "code",
   "execution_count": 4,
   "metadata": {},
   "outputs": [
    {
     "data": {
      "text/plain": [
       "rating\n",
       "5                                 1243650\n",
       "4                                  192704\n",
       "3                                   74603\n",
       "1                                   51371\n",
       "2                                   29328\n",
       "                                   ...   \n",
       "중1  175                                 1\n",
       "최고였습니다                                  1\n",
       "리뷰믿고 시켰는데 주문 잘한거같아요. 단 잡내가 있어요          1\n",
       "운이 안좋아 요번 고기는 별로네요                      1\n",
       "5? 6? 재구매중이에요                           1\n",
       "Name: count, Length: 2464, dtype: int64"
      ]
     },
     "execution_count": 4,
     "metadata": {},
     "output_type": "execute_result"
    }
   ],
   "source": [
    "reviews['rating'].value_counts()"
   ]
  },
  {
   "cell_type": "code",
   "execution_count": 5,
   "metadata": {},
   "outputs": [
    {
     "data": {
      "text/html": [
       "<div>\n",
       "<style scoped>\n",
       "    .dataframe tbody tr th:only-of-type {\n",
       "        vertical-align: middle;\n",
       "    }\n",
       "\n",
       "    .dataframe tbody tr th {\n",
       "        vertical-align: top;\n",
       "    }\n",
       "\n",
       "    .dataframe thead th {\n",
       "        text-align: right;\n",
       "    }\n",
       "</style>\n",
       "<table border=\"1\" class=\"dataframe\">\n",
       "  <thead>\n",
       "    <tr style=\"text-align: right;\">\n",
       "      <th></th>\n",
       "      <th>rating</th>\n",
       "      <th>headline</th>\n",
       "      <th>review_content</th>\n",
       "    </tr>\n",
       "  </thead>\n",
       "  <tbody>\n",
       "    <tr>\n",
       "      <th>2</th>\n",
       "      <td>4</td>\n",
       "      <td>가성비 완전 대박!</td>\n",
       "      <td>가방이랑 볼이 정품이라 만족스럽습니다 다른 제품들은 잘살펴보면 정품이 아닌경우들이 ...</td>\n",
       "    </tr>\n",
       "    <tr>\n",
       "      <th>3</th>\n",
       "      <td>4</td>\n",
       "      <td>골린이에게 적당한 골프채^^</td>\n",
       "      <td>골프채 드라이버 및 쿼터, 우드 아이언포함하여 10개 잘 받았습니다. 하자는 없어요...</td>\n",
       "    </tr>\n",
       "    <tr>\n",
       "      <th>16</th>\n",
       "      <td>4</td>\n",
       "      <td>초보 골프 입문용으로 구매 했어요</td>\n",
       "      <td>이젠 하우스체에서  벗어나겠네요내일 한번  휘둘러 봐야겠네요주문한지 딱 10일만에 ...</td>\n",
       "    </tr>\n",
       "    <tr>\n",
       "      <th>21</th>\n",
       "      <td>4</td>\n",
       "      <td>저렴하게 잘 구매했습니다.</td>\n",
       "      <td>상품 잘 받았습니다. 생각보다 빨리 받을 수 있어 좋았습니다.초보자용으로 가성비 좋...</td>\n",
       "    </tr>\n",
       "    <tr>\n",
       "      <th>36</th>\n",
       "      <td>4</td>\n",
       "      <td>그립감이좋음</td>\n",
       "      <td>등록된 리뷰내용이 없습니다</td>\n",
       "    </tr>\n",
       "    <tr>\n",
       "      <th>...</th>\n",
       "      <td>...</td>\n",
       "      <td>...</td>\n",
       "      <td>...</td>\n",
       "    </tr>\n",
       "    <tr>\n",
       "      <th>1599548</th>\n",
       "      <td>4</td>\n",
       "      <td>등록된 헤드라인이 없습니다</td>\n",
       "      <td>눈 떨려서 샀는데 효과 있었으면 좋겠네요.배송 빨라요.</td>\n",
       "    </tr>\n",
       "    <tr>\n",
       "      <th>1599550</th>\n",
       "      <td>4</td>\n",
       "      <td>등록된 헤드라인이 없습니다</td>\n",
       "      <td>그닥 모르겠네요</td>\n",
       "    </tr>\n",
       "    <tr>\n",
       "      <th>1599557</th>\n",
       "      <td>4</td>\n",
       "      <td>잘 먹고 있어요^^</td>\n",
       "      <td>등록된 리뷰내용이 없습니다</td>\n",
       "    </tr>\n",
       "    <tr>\n",
       "      <th>1599563</th>\n",
       "      <td>4</td>\n",
       "      <td>잘 챙겨먹는데 효과는 모르겠음</td>\n",
       "      <td>등록된 리뷰내용이 없습니다</td>\n",
       "    </tr>\n",
       "    <tr>\n",
       "      <th>1599567</th>\n",
       "      <td>4</td>\n",
       "      <td>보통</td>\n",
       "      <td>등록된 리뷰내용이 없습니다</td>\n",
       "    </tr>\n",
       "  </tbody>\n",
       "</table>\n",
       "<p>192704 rows × 3 columns</p>\n",
       "</div>"
      ],
      "text/plain": [
       "        rating            headline  \\\n",
       "2            4          가성비 완전 대박!   \n",
       "3            4     골린이에게 적당한 골프채^^   \n",
       "16           4  초보 골프 입문용으로 구매 했어요   \n",
       "21           4      저렴하게 잘 구매했습니다.   \n",
       "36           4              그립감이좋음   \n",
       "...        ...                 ...   \n",
       "1599548      4      등록된 헤드라인이 없습니다   \n",
       "1599550      4      등록된 헤드라인이 없습니다   \n",
       "1599557      4          잘 먹고 있어요^^   \n",
       "1599563      4    잘 챙겨먹는데 효과는 모르겠음   \n",
       "1599567      4                  보통   \n",
       "\n",
       "                                            review_content  \n",
       "2        가방이랑 볼이 정품이라 만족스럽습니다 다른 제품들은 잘살펴보면 정품이 아닌경우들이 ...  \n",
       "3        골프채 드라이버 및 쿼터, 우드 아이언포함하여 10개 잘 받았습니다. 하자는 없어요...  \n",
       "16       이젠 하우스체에서  벗어나겠네요내일 한번  휘둘러 봐야겠네요주문한지 딱 10일만에 ...  \n",
       "21       상품 잘 받았습니다. 생각보다 빨리 받을 수 있어 좋았습니다.초보자용으로 가성비 좋...  \n",
       "36                                          등록된 리뷰내용이 없습니다  \n",
       "...                                                    ...  \n",
       "1599548                     눈 떨려서 샀는데 효과 있었으면 좋겠네요.배송 빨라요.  \n",
       "1599550                                           그닥 모르겠네요  \n",
       "1599557                                     등록된 리뷰내용이 없습니다  \n",
       "1599563                                     등록된 리뷰내용이 없습니다  \n",
       "1599567                                     등록된 리뷰내용이 없습니다  \n",
       "\n",
       "[192704 rows x 3 columns]"
      ]
     },
     "execution_count": 5,
     "metadata": {},
     "output_type": "execute_result"
    }
   ],
   "source": [
    "reviews[reviews['rating'] == '4']"
   ]
  },
  {
   "cell_type": "code",
   "execution_count": 6,
   "metadata": {},
   "outputs": [
    {
     "data": {
      "text/plain": [
       "7917"
      ]
     },
     "execution_count": 6,
     "metadata": {},
     "output_type": "execute_result"
    }
   ],
   "source": [
    "len(reviews[~reviews['rating'].isin(['1', '2', '3', '4', '5'])])"
   ]
  },
  {
   "cell_type": "code",
   "execution_count": 7,
   "metadata": {},
   "outputs": [],
   "source": [
    "# 평점이 1, 2, 3, 4, 5가 아닌 것들을 제거\n",
    "reviews = reviews[reviews['rating'].isin(['1', '2', '3', '4', '5'])]\n",
    "reviews['rating'] = reviews['rating'].astype('int')"
   ]
  },
  {
   "cell_type": "code",
   "execution_count": 8,
   "metadata": {},
   "outputs": [],
   "source": [
    "# headline, review_content 모두 결측치 있는 row 제거\n",
    "reviews = reviews[reviews[['headline','review_content']].isnull().sum(axis=1) == 0]"
   ]
  },
  {
   "cell_type": "code",
   "execution_count": 9,
   "metadata": {},
   "outputs": [
    {
     "data": {
      "text/html": [
       "<div>\n",
       "<style scoped>\n",
       "    .dataframe tbody tr th:only-of-type {\n",
       "        vertical-align: middle;\n",
       "    }\n",
       "\n",
       "    .dataframe tbody tr th {\n",
       "        vertical-align: top;\n",
       "    }\n",
       "\n",
       "    .dataframe thead th {\n",
       "        text-align: right;\n",
       "    }\n",
       "</style>\n",
       "<table border=\"1\" class=\"dataframe\">\n",
       "  <thead>\n",
       "    <tr style=\"text-align: right;\">\n",
       "      <th></th>\n",
       "      <th>rating</th>\n",
       "      <th>headline</th>\n",
       "      <th>review_content</th>\n",
       "    </tr>\n",
       "  </thead>\n",
       "  <tbody>\n",
       "  </tbody>\n",
       "</table>\n",
       "</div>"
      ],
      "text/plain": [
       "Empty DataFrame\n",
       "Columns: [rating, headline, review_content]\n",
       "Index: []"
      ]
     },
     "execution_count": 9,
     "metadata": {},
     "output_type": "execute_result"
    }
   ],
   "source": [
    "# headline, review_content 모두 내용이 없는 row \n",
    "reviews[reviews['headline'].str.contains('등록된 헤드라인이') & reviews['review_content'].str.contains('등록된 리뷰내용이')]"
   ]
  },
  {
   "cell_type": "code",
   "execution_count": 10,
   "metadata": {},
   "outputs": [
    {
     "data": {
      "text/plain": [
       "rating\n",
       "5    1242808\n",
       "4     192548\n",
       "3      74551\n",
       "2      29309\n",
       "1      51292\n",
       "Name: count, dtype: int64"
      ]
     },
     "execution_count": 10,
     "metadata": {},
     "output_type": "execute_result"
    }
   ],
   "source": [
    "reviews['rating'].value_counts().sort_index(ascending=False)"
   ]
  },
  {
   "cell_type": "code",
   "execution_count": 11,
   "metadata": {},
   "outputs": [
    {
     "data": {
      "image/png": "[encoded data removed]",
      "text/plain": [
       "<Figure size 640x480 with 1 Axes>"
      ]
     },
     "metadata": {},
     "output_type": "display_data"
    }
   ],
   "source": [
    "# 평점 분포 확인\n",
    "\n",
    "x = [f\"{rating} ({count})\" for rating, count in reviews['rating'].value_counts().sort_index(ascending=False).items()]\n",
    "\n",
    "sns.barplot(x=x, y=reviews['rating'].value_counts().sort_index(ascending=False).values)\n",
    "# y축에 표시 없애기\n",
    "plt.title('평점 분포')\n",
    "plt.yticks([])\n",
    "plt.show()\n"
   ]
  },
  {
   "cell_type": "code",
   "execution_count": 12,
   "metadata": {},
   "outputs": [],
   "source": [
    "# '등록된 헤드라인이 없습니다' 포함한 headline 빈 문자열로 변경\n",
    "# '등록된 리뷰내용이 없습니다' 포함한 review_content 빈 문자열로 변경\n",
    "reviews['headline'] = np.where(reviews['headline'].str.contains('등록된 헤드라인이'), '', reviews['headline'])\n",
    "reviews['review_content'] = np.where(reviews['review_content'].str.contains('등록된 리뷰내용이'), '', reviews['review_content'])"
   ]
  },
  {
   "cell_type": "code",
   "execution_count": 13,
   "metadata": {},
   "outputs": [],
   "source": [
    "# headline, review_content 공백을 기준으로 합치기\n",
    "reviews['content'] = reviews['headline'] + \" \" + reviews['review_content']\n",
    "reviews = reviews[['rating', 'content']].reset_index(drop=True)"
   ]
  },
  {
   "cell_type": "code",
   "execution_count": 14,
   "metadata": {},
   "outputs": [
    {
     "name": "stdout",
     "output_type": "stream",
     "text": [
      "779873\n",
      "1590508\n",
      "810635\n"
     ]
    }
   ],
   "source": [
    "# 중복된 리뷰 제거\n",
    "print(reviews.duplicated(subset=['rating', 'content']).sum())\n",
    "print(len(reviews))\n",
    "reviews.drop_duplicates(subset=['rating', 'content'], keep='first', inplace=True)\n",
    "print(len(reviews))"
   ]
  },
  {
   "cell_type": "code",
   "execution_count": 15,
   "metadata": {},
   "outputs": [],
   "source": [
    "from konlpy.tag import Komoran, Okt, Kkma\n",
    "import re\n",
    "\n",
    "kkma = Kkma()\n",
    "komoran = Komoran()\n",
    "okt = Okt()\n",
    "\n",
    "# 한글과 공백을 제외하고 모두 제거\n",
    "def apply_regular_expression(text):\n",
    "    hangul = re.compile('[^ ㄱ-ㅣ 가-힣]')  \n",
    "    result = hangul.sub('', text) \n",
    "    return result"
   ]
  },
  {
   "cell_type": "code",
   "execution_count": 16,
   "metadata": {},
   "outputs": [
    {
     "name": "stdout",
     "output_type": "stream",
     "text": [
      "총알배송 진짜네요 급하게 쓸 채가 필요해서 쿠팡 둘러보다 지브이 골프채를 발견했어요    와이골프 판매자로 검색하니 다른곳에가격대가 조금 더 높은것들도 있던데  이게 더 신형 같아서    년형 뉴그레이트 빅토리 ㅡ샀습니다 지브이투어는 처음 둘어본 골프채에요 어제 스크린 갔더니 번은  나오고  번은  정도 나오네요  어 생각보다 가볍게 잘  맞아요ㅡ저는 골프 안친지 오래된 대 아줌마인데요다시 레슨 끊게 되어ㅡ급히 구매하였고 미즈노하고 가격차이가 별로없어 살짝 고민했어요중고가격 안나올텐데 우짤꼬 반품할까 하루는 고민했어요 근데 꺼내보니 오 드라이버도 너무너무 예쁘고  전에 쓰던 다이와하고 비교해서이게 그립이 뚜꺼워서 잡기 편하고 헐겁지않아 좋은거 같야요채가 단단한 느낌에 무게는 적당히 가볍고요망설임에 도움되실까 열심히 적어봅니다ㅎㅎ번창하세요\n"
     ]
    }
   ],
   "source": [
    "s = apply_regular_expression(reviews.iloc[63]['content'])\n",
    "print(s)\n",
    "\n",
    "# morphs : 형태소 추출\n",
    "# nouns : 명사 추출\n",
    "\n",
    "# kkma -> 속도 너무 느림\n",
    "# komoran -> 속도 빠름, 하지만 명사를 너무 잘게 나눔 (ex. 배송 -> 배,송)\n",
    "# okt -> 속도 빠름, 명사 추출에 좋은 성능을 보임\n",
    "\n",
    "# 형태소 없이 명사만 추출해도 의미를 파악하는데 충분하다고 판단\n",
    "# print(kkma.morphs(s))\n",
    "# print(kkma.nouns(s))\n",
    "# print()\n",
    "# print(komoran.morphs(s))\n",
    "# print(komoran.nouns(s))\n",
    "# print()\n",
    "# print(okt.morphs(s))\n",
    "# print(okt.nouns(s))"
   ]
  },
  {
   "cell_type": "code",
   "execution_count": 17,
   "metadata": {},
   "outputs": [
    {
     "name": "stdout",
     "output_type": "stream",
     "text": [
      "['총알', '배송', '진짜', '쿠팡', '브이', '골프채', '발견', '골프', '판매', '자로', '검색', '가격', '조금', '신형', '그레이', '빅토리', '브이', '투어', '처음', '골프채', '어제', '스크린', '번은', '번은', '정도', '생각', '골프', '아줌마', '다시', '레슨', '구매', '미즈노', '가격', '차이', '별로', '살짝', '고민', '중고', '가격', '우짤꼬', '반품', '하루', '고민', '드라이버', '비교', '잡기', '느낌', '무게', '도움', '번창']\n"
     ]
    }
   ],
   "source": [
    "# 한글자로 된 단어는 의미가 없으므로 제거\n",
    "print([word for word in okt.nouns(s) if len(word) > 1])"
   ]
  },
  {
   "cell_type": "code",
   "execution_count": 18,
   "metadata": {},
   "outputs": [
    {
     "data": {
      "text/plain": [
       "Counter({'가격': 3,\n",
       "         '브이': 2,\n",
       "         '골프채': 2,\n",
       "         '골프': 2,\n",
       "         '번은': 2,\n",
       "         '고민': 2,\n",
       "         '총알': 1,\n",
       "         '배송': 1,\n",
       "         '진짜': 1,\n",
       "         '쿠팡': 1,\n",
       "         '발견': 1,\n",
       "         '판매': 1,\n",
       "         '자로': 1,\n",
       "         '검색': 1,\n",
       "         '조금': 1,\n",
       "         '신형': 1,\n",
       "         '그레이': 1,\n",
       "         '빅토리': 1,\n",
       "         '투어': 1,\n",
       "         '처음': 1,\n",
       "         '어제': 1,\n",
       "         '스크린': 1,\n",
       "         '정도': 1,\n",
       "         '생각': 1,\n",
       "         '아줌마': 1,\n",
       "         '다시': 1,\n",
       "         '레슨': 1,\n",
       "         '구매': 1,\n",
       "         '미즈노': 1,\n",
       "         '차이': 1,\n",
       "         '별로': 1,\n",
       "         '살짝': 1,\n",
       "         '중고': 1,\n",
       "         '우짤꼬': 1,\n",
       "         '반품': 1,\n",
       "         '하루': 1,\n",
       "         '드라이버': 1,\n",
       "         '비교': 1,\n",
       "         '잡기': 1,\n",
       "         '느낌': 1,\n",
       "         '무게': 1,\n",
       "         '도움': 1,\n",
       "         '번창': 1})"
      ]
     },
     "execution_count": 18,
     "metadata": {},
     "output_type": "execute_result"
    }
   ],
   "source": [
    "# 빈도 분석\n",
    "from collections import Counter\n",
    "\n",
    "counter = Counter([word for word in okt.nouns(s) if len(word) > 1])\n",
    "\n",
    "counter"
   ]
  },
  {
   "cell_type": "code",
   "execution_count": 19,
   "metadata": {},
   "outputs": [
    {
     "name": "stdout",
     "output_type": "stream",
     "text": [
      "674\n",
      "[['휴'], ['아이구'], ['아이쿠'], ['아이고'], ['어'], ['나'], ['우리'], ['저희'], ['따라'], ['의해']]\n"
     ]
    }
   ],
   "source": [
    "# 불용어 제거\n",
    "stopwords = pd.read_csv(\"https://raw.githubusercontent.com/yoonkt200/FastCampusDataset/master/korean_stopwords.txt\").values.tolist()\n",
    "print(len(stopwords))\n",
    "print(stopwords[:10])\n",
    "\n",
    "# 리뷰 데이터에 많이 포함된 불용어 추가\n",
    "stopwords.extend(['쿠팡', '리뷰'])\n"
   ]
  },
  {
   "cell_type": "code",
   "execution_count": 20,
   "metadata": {},
   "outputs": [
    {
     "name": "stdout",
     "output_type": "stream",
     "text": [
      "sentiment\n",
      " 1    610664\n",
      "-1    105659\n",
      " 0     94312\n",
      "Name: count, dtype: int64\n",
      "sentiment\n",
      "1    15000\n",
      "0    15000\n",
      "Name: count, dtype: int64\n",
      "(30000, 3)\n",
      "(18000,) (18000,)\n",
      "(6000,) (6000,)\n",
      "(6000,) (6000,)\n",
      "sentiment\n",
      "0    9026\n",
      "1    8974\n",
      "Name: count, dtype: int64\n",
      "sentiment\n",
      "1    3030\n",
      "0    2970\n",
      "Name: count, dtype: int64\n",
      "sentiment\n",
      "0    3004\n",
      "1    2996\n",
      "Name: count, dtype: int64\n"
     ]
    }
   ],
   "source": [
    "from sklearn.model_selection import train_test_split\n",
    "\n",
    "def split_rating(rating):\n",
    "    if rating == 5:\n",
    "        return 1\n",
    "    if rating in [1,2,3]:\n",
    "        return 0\n",
    "    return -1\n",
    "\n",
    "reviews['sentiment'] = reviews['rating'].apply(split_rating)\n",
    "print(reviews['sentiment'].value_counts())\n",
    "\n",
    "reviews_sample_positive = reviews[reviews['sentiment'] == 1].sample(15000, random_state=1353)\n",
    "reviews_sample_negative = reviews[reviews['sentiment'] == 0].sample(15000, random_state=1353)\n",
    "reviews_sample = pd.concat([reviews_sample_positive, reviews_sample_negative]).reset_index(drop=True)\n",
    "print(reviews_sample['sentiment'].value_counts())\n",
    "print(reviews_sample.shape)\n",
    "\n",
    "train_x, temp_x, train_y, temp_y = train_test_split(reviews_sample['content'], reviews_sample['sentiment'], test_size=0.4, random_state=1353)\n",
    "test_x, valid_x, test_y, valid_y = train_test_split(temp_x, temp_y, test_size=0.5, random_state=1353)\n",
    "\n",
    "del temp_x, temp_y\n",
    "\n",
    "print(train_x.shape, train_y.shape)\n",
    "print(valid_x.shape, valid_y.shape)\n",
    "print(test_x.shape, test_y.shape)\n",
    "\n",
    "print(train_y.value_counts())\n",
    "print(valid_y.value_counts())\n",
    "print(test_y.value_counts())\n",
    "\n"
   ]
  },
  {
   "cell_type": "code",
   "execution_count": 36,
   "metadata": {},
   "outputs": [],
   "source": [
    "from sklearn.feature_extraction.text import CountVectorizer\n",
    "\n",
    "def text_cleaning(text):\n",
    "    hangul = re.compile('[^ ㄱ-ㅣ 가-힣]')\n",
    "    result = hangul.sub('', text)\n",
    "    result = [word for word in okt.nouns(result) if len(word) > 1]\n",
    "    result = [word for word in result if not word in stopwords]\n",
    "    return result\n",
    "\n",
    "cv = CountVectorizer(tokenizer = text_cleaning)\n",
    "cv.fit(train_x)\n",
    "x_train_cv = cv.transform(train_x)\n",
    "x_valid_cv = cv.transform(valid_x)\n",
    "x_test_cv = cv.transform(test_x)"
   ]
  },
  {
   "cell_type": "code",
   "execution_count": 23,
   "metadata": {},
   "outputs": [
    {
     "name": "stdout",
     "output_type": "stream",
     "text": [
      "[[0 0 0 ... 0 0 0]\n",
      " [1 0 0 ... 0 0 0]\n",
      " [0 0 0 ... 0 0 1]\n",
      " ...\n",
      " [0 0 0 ... 0 0 0]\n",
      " [0 0 0 ... 0 0 1]\n",
      " [1 0 0 ... 0 0 0]]\n",
      "(18000, 100)\n",
      "100\n",
      "100\n",
      "['구매' '제품' '사용' '가격' '생각' '정도' '배송' '그냥' '후기' '주문' '상품' '피부' '느낌' '사이즈'\n",
      " '구입' '하나' '냄새' '정말' '도움' '부분' '아이' '조금' '진짜' '추천' '한번' '다른' '머리' '아주'\n",
      " '처음' '포장']\n",
      "{'가격': 3918, '가격 대비': 571, '가성': 1160, '가지': 589, '거의': 560, '걱정': 561, '계란': 821, '계속': 977, '고기': 598, '고민': 705, '구매': 6830, '구입': 1766, '그냥': 2445, '기능': 546, '기름': 539, '기분': 579, '기한': 652, '냄새': 1728, '느낌': 1984, '다른': 1496, '다시': 955, '다음': 673, '대비': 668, '도움': 1698, '디자인': 859, '때문': 1059, '라면': 789, '마음': 830, '머리': 1454, '먹기': 981, '문제': 528, '바로': 1182, '박스': 734, '반품': 725, '배송': 2475, '별로': 895, '보고': 1183, '보관': 737, '부분': 1695, '비타민': 908, '사람': 894, '사용': 5628, '사이즈': 1847, '사진': 979, '살짝': 859, '상태': 767, '상품': 2142, '색상': 823, '생각': 3108, '선택': 598, '설치': 576, '성분': 558, '소리': 691, '시간': 980, '아이': 1687, '아주': 1430, '아침': 718, '약간': 724, '얼굴': 667, '역시': 684, '완전': 831, '요리': 602, '요즘': 763, '용량': 940, '우유': 1139, '운동': 584, '유통': 629, '유통 기한': 589, '이건': 727, '이번': 1008, '이상': 592, '이유': 544, '일단': 922, '자주': 813, '작성': 676, '정도': 2634, '정말': 1704, '제일': 532, '제품': 5982, '조금': 1636, '조립': 666, '주문': 2356, '지금': 635, '진짜': 1608, '처음': 1377, '체험': 595, '최고': 672, '추천': 1582, '커피': 1074, '크기': 981, '크림': 633, '편이': 681, '포장': 1224, '피부': 2121, '하나': 1747, '하루': 891, '한번': 1578, '항상': 613, '효과': 905, '후기': 2429}\n"
     ]
    }
   ],
   "source": [
    "print(x_train_cv.toarray()) # 각 단어의 리뷰별 등장 횟수. row: 리뷰, column: 단어\n",
    "print(x_train_cv.shape)\n",
    "word_list = cv.get_feature_names_out() # 단어 리스트\n",
    "count_list:np.ndarray = x_train_cv.toarray().sum(axis=0) # 각 단어의 빈도 리스트\n",
    "print(len(word_list))\n",
    "print(len(count_list))\n",
    "print(word_list[count_list.argsort()[::-1]][:30]) # 빈도수가 높은 단어 30개\n",
    "print(dict(zip(word_list, count_list))) # 단어별 빈도수 Dictonary"
   ]
  },
  {
   "cell_type": "code",
   "execution_count": 24,
   "metadata": {},
   "outputs": [],
   "source": [
    "# TF-IDF\n",
    "# TfidfVectorizer: 텍스트 데이터를 TF-IDF 행렬로 변환\n",
    "# TfidfTransformer: 기존에 계산된 TF (Term Frequency) 행렬을 TF-IDF 행렬로 변환\n",
    "\n",
    "from sklearn.feature_extraction.text import TfidfTransformer\n",
    "\n",
    "tfidf_transformer = TfidfTransformer()\n",
    "tfidf_transformer.fit(x_train_cv)\n",
    "x_train_tfidf = tfidf_transformer.transform(x_train_cv)\n",
    "x_valid_tfidf = tfidf_transformer.transform(x_valid_cv)\n",
    "x_test_tfidf = tfidf_transformer.transform(x_test_cv)"
   ]
  },
  {
   "cell_type": "code",
   "execution_count": 25,
   "metadata": {},
   "outputs": [
    {
     "name": "stdout",
     "output_type": "stream",
     "text": [
      "(18000, 100)\n",
      "\n",
      "BOW에서 단어의 중요도(0이 아닌 것만 출력)\n",
      "  (0, 12)\t1\n",
      "\n",
      "TF-IDF에서 단어의 중요도(0이 아닌 것만 출력)\n",
      "  (0, 12)\t1.0\n"
     ]
    }
   ],
   "source": [
    "print(x_train_tfidf.shape,end='\\n\\n') # (리뷰 개수, 단어 종류 개수)\n",
    "print('BOW에서 단어의 중요도(0이 아닌 것만 출력)')\n",
    "print(x_train_cv[0],end='\\n\\n')\n",
    "print('TF-IDF에서 단어의 중요도(0이 아닌 것만 출력)')\n",
    "print(x_train_tfidf[0])\n"
   ]
  },
  {
   "cell_type": "code",
   "execution_count": 26,
   "metadata": {},
   "outputs": [
    {
     "name": "stdout",
     "output_type": "stream",
     "text": [
      "\n",
      "==============================\n",
      ">>>> accuracy-score: 0.7076666666666667\n",
      ">>>> precision-score: 0.7123834886817576\n",
      ">>>> recall-score: 0.7062706270627063\n",
      ">>>> f1-score: 0.7093138879681803\n",
      "\n",
      ">>>> Params: {'C': 0.01, 'max_iter': 100}\n",
      "==============================\n",
      "\n",
      ">>>> Best Score Update: 0.7076666666666667\n",
      ">>>> Best Params Update: {'C': 0.01, 'max_iter': 100}\n",
      "\n",
      "==============================\n",
      ">>>> accuracy-score: 0.7076666666666667\n",
      ">>>> precision-score: 0.7123834886817576\n",
      ">>>> recall-score: 0.7062706270627063\n",
      ">>>> f1-score: 0.7093138879681803\n",
      "\n",
      ">>>> Params: {'C': 0.01, 'max_iter': 200}\n",
      "==============================\n",
      "\n",
      "\n",
      "==============================\n",
      ">>>> accuracy-score: 0.7076666666666667\n",
      ">>>> precision-score: 0.7123834886817576\n",
      ">>>> recall-score: 0.7062706270627063\n",
      ">>>> f1-score: 0.7093138879681803\n",
      "\n",
      ">>>> Params: {'C': 0.01, 'max_iter': 300}\n",
      "==============================\n",
      "\n",
      "\n",
      "==============================\n",
      ">>>> accuracy-score: 0.7076666666666667\n",
      ">>>> precision-score: 0.7123834886817576\n",
      ">>>> recall-score: 0.7062706270627063\n",
      ">>>> f1-score: 0.7093138879681803\n",
      "\n",
      ">>>> Params: {'C': 0.01, 'max_iter': 1000}\n",
      "==============================\n",
      "\n",
      "\n",
      "==============================\n",
      ">>>> accuracy-score: 0.7153333333333334\n",
      ">>>> precision-score: 0.7269917582417582\n",
      ">>>> recall-score: 0.6986798679867987\n",
      ">>>> f1-score: 0.712554695388758\n",
      "\n",
      ">>>> Params: {'C': 0.1, 'max_iter': 100}\n",
      "==============================\n",
      "\n",
      ">>>> Best Score Update: 0.7153333333333334\n",
      ">>>> Best Params Update: {'C': 0.1, 'max_iter': 100}\n",
      "\n",
      "==============================\n",
      ">>>> accuracy-score: 0.7153333333333334\n",
      ">>>> precision-score: 0.7269917582417582\n",
      ">>>> recall-score: 0.6986798679867987\n",
      ">>>> f1-score: 0.712554695388758\n",
      "\n",
      ">>>> Params: {'C': 0.1, 'max_iter': 200}\n",
      "==============================\n",
      "\n",
      "\n",
      "==============================\n",
      ">>>> accuracy-score: 0.7153333333333334\n",
      ">>>> precision-score: 0.7269917582417582\n",
      ">>>> recall-score: 0.6986798679867987\n",
      ">>>> f1-score: 0.712554695388758\n",
      "\n",
      ">>>> Params: {'C': 0.1, 'max_iter': 300}\n",
      "==============================\n",
      "\n",
      "\n",
      "==============================\n",
      ">>>> accuracy-score: 0.7153333333333334\n",
      ">>>> precision-score: 0.7269917582417582\n",
      ">>>> recall-score: 0.6986798679867987\n",
      ">>>> f1-score: 0.712554695388758\n",
      "\n",
      ">>>> Params: {'C': 0.1, 'max_iter': 1000}\n",
      "==============================\n",
      "\n",
      "\n",
      "==============================\n",
      ">>>> accuracy-score: 0.7176666666666667\n",
      ">>>> precision-score: 0.7373845060412224\n",
      ">>>> recall-score: 0.6848184818481848\n",
      ">>>> f1-score: 0.7101300479123888\n",
      "\n",
      ">>>> Params: {'C': 0.5, 'max_iter': 100}\n",
      "==============================\n",
      "\n",
      ">>>> Best Score Update: 0.7176666666666667\n",
      ">>>> Best Params Update: {'C': 0.5, 'max_iter': 100}\n",
      "\n",
      "==============================\n",
      ">>>> accuracy-score: 0.7176666666666667\n",
      ">>>> precision-score: 0.7373845060412224\n",
      ">>>> recall-score: 0.6848184818481848\n",
      ">>>> f1-score: 0.7101300479123888\n",
      "\n",
      ">>>> Params: {'C': 0.5, 'max_iter': 200}\n",
      "==============================\n",
      "\n",
      "\n",
      "==============================\n",
      ">>>> accuracy-score: 0.7176666666666667\n",
      ">>>> precision-score: 0.7373845060412224\n",
      ">>>> recall-score: 0.6848184818481848\n",
      ">>>> f1-score: 0.7101300479123888\n",
      "\n",
      ">>>> Params: {'C': 0.5, 'max_iter': 300}\n",
      "==============================\n",
      "\n",
      "\n",
      "==============================\n",
      ">>>> accuracy-score: 0.7176666666666667\n",
      ">>>> precision-score: 0.7373845060412224\n",
      ">>>> recall-score: 0.6848184818481848\n",
      ">>>> f1-score: 0.7101300479123888\n",
      "\n",
      ">>>> Params: {'C': 0.5, 'max_iter': 1000}\n",
      "==============================\n",
      "\n",
      "\n",
      "==============================\n",
      ">>>> accuracy-score: 0.718\n",
      ">>>> precision-score: 0.7382478632478633\n",
      ">>>> recall-score: 0.6841584158415842\n",
      ">>>> f1-score: 0.710174717368962\n",
      "\n",
      ">>>> Params: {'C': 1, 'max_iter': 100}\n",
      "==============================\n",
      "\n",
      ">>>> Best Score Update: 0.718\n",
      ">>>> Best Params Update: {'C': 1, 'max_iter': 100}\n",
      "\n",
      "==============================\n",
      ">>>> accuracy-score: 0.718\n",
      ">>>> precision-score: 0.7382478632478633\n",
      ">>>> recall-score: 0.6841584158415842\n",
      ">>>> f1-score: 0.710174717368962\n",
      "\n",
      ">>>> Params: {'C': 1, 'max_iter': 200}\n",
      "==============================\n",
      "\n",
      "\n",
      "==============================\n",
      ">>>> accuracy-score: 0.718\n",
      ">>>> precision-score: 0.7382478632478633\n",
      ">>>> recall-score: 0.6841584158415842\n",
      ">>>> f1-score: 0.710174717368962\n",
      "\n",
      ">>>> Params: {'C': 1, 'max_iter': 300}\n",
      "==============================\n",
      "\n",
      "\n",
      "==============================\n",
      ">>>> accuracy-score: 0.718\n",
      ">>>> precision-score: 0.7382478632478633\n",
      ">>>> recall-score: 0.6841584158415842\n",
      ">>>> f1-score: 0.710174717368962\n",
      "\n",
      ">>>> Params: {'C': 1, 'max_iter': 1000}\n",
      "==============================\n",
      "\n",
      "\n",
      "==============================\n",
      ">>>> accuracy-score: 0.7176666666666667\n",
      ">>>> precision-score: 0.7382310984308131\n",
      ">>>> recall-score: 0.6831683168316832\n",
      ">>>> f1-score: 0.7096331847788824\n",
      "\n",
      ">>>> Params: {'C': 5, 'max_iter': 100}\n",
      "==============================\n",
      "\n",
      "\n",
      "==============================\n",
      ">>>> accuracy-score: 0.7176666666666667\n",
      ">>>> precision-score: 0.7382310984308131\n",
      ">>>> recall-score: 0.6831683168316832\n",
      ">>>> f1-score: 0.7096331847788824\n",
      "\n",
      ">>>> Params: {'C': 5, 'max_iter': 200}\n",
      "==============================\n",
      "\n",
      "\n",
      "==============================\n",
      ">>>> accuracy-score: 0.7176666666666667\n",
      ">>>> precision-score: 0.7382310984308131\n",
      ">>>> recall-score: 0.6831683168316832\n",
      ">>>> f1-score: 0.7096331847788824\n",
      "\n",
      ">>>> Params: {'C': 5, 'max_iter': 300}\n",
      "==============================\n",
      "\n",
      "\n",
      "==============================\n",
      ">>>> accuracy-score: 0.7176666666666667\n",
      ">>>> precision-score: 0.7382310984308131\n",
      ">>>> recall-score: 0.6831683168316832\n",
      ">>>> f1-score: 0.7096331847788824\n",
      "\n",
      ">>>> Params: {'C': 5, 'max_iter': 1000}\n",
      "==============================\n",
      "\n",
      "\n",
      "==============================\n",
      ">>>> accuracy-score: 0.7176666666666667\n",
      ">>>> precision-score: 0.7382310984308131\n",
      ">>>> recall-score: 0.6831683168316832\n",
      ">>>> f1-score: 0.7096331847788824\n",
      "\n",
      ">>>> Params: {'C': 10, 'max_iter': 100}\n",
      "==============================\n",
      "\n",
      "\n",
      "==============================\n",
      ">>>> accuracy-score: 0.7176666666666667\n",
      ">>>> precision-score: 0.7382310984308131\n",
      ">>>> recall-score: 0.6831683168316832\n",
      ">>>> f1-score: 0.7096331847788824\n",
      "\n",
      ">>>> Params: {'C': 10, 'max_iter': 200}\n",
      "==============================\n",
      "\n",
      "\n",
      "==============================\n",
      ">>>> accuracy-score: 0.7176666666666667\n",
      ">>>> precision-score: 0.7382310984308131\n",
      ">>>> recall-score: 0.6831683168316832\n",
      ">>>> f1-score: 0.7096331847788824\n",
      "\n",
      ">>>> Params: {'C': 10, 'max_iter': 300}\n",
      "==============================\n",
      "\n",
      "\n",
      "==============================\n",
      ">>>> accuracy-score: 0.7176666666666667\n",
      ">>>> precision-score: 0.7382310984308131\n",
      ">>>> recall-score: 0.6831683168316832\n",
      ">>>> f1-score: 0.7096331847788824\n",
      "\n",
      ">>>> Params: {'C': 10, 'max_iter': 1000}\n",
      "==============================\n",
      "\n",
      "==============================\n",
      ">>>> Best Score: 0.718\n",
      ">>>> Best Params: {'C': 1, 'max_iter': 100}\n"
     ]
    }
   ],
   "source": [
    "# 로지스틱 회귀\n",
    "\n",
    "from sklearn.metrics import accuracy_score, precision_score, recall_score, f1_score\n",
    "from sklearn.linear_model import LogisticRegression\n",
    "\n",
    "params = {'C': [0.01, 0.1, 0.5, 1, 5, 10], 'max_iter': [100, 200, 300, 1000]}\n",
    "best_params = {}\n",
    "best_score = 0\n",
    "        \n",
    "for C in params['C']:\n",
    "    for max_iter in params['max_iter']:\n",
    "        lr = LogisticRegression(C=C, max_iter=max_iter, random_state=1353)\n",
    "        lr.fit(x_train_tfidf, train_y)\n",
    "        pred_y = lr.predict(x_valid_tfidf)\n",
    "        score = accuracy_score(valid_y, pred_y)\n",
    "        \n",
    "        print()\n",
    "        print(\"=\" * 30)\n",
    "        print(\">>>> accuracy-score: {}\".format(accuracy_score(valid_y, pred_y)))\n",
    "        print(\">>>> precision-score: {}\".format(precision_score(valid_y, pred_y)))\n",
    "        print(\">>>> recall-score: {}\".format(recall_score(valid_y, pred_y)))\n",
    "        print(\">>>> f1-score: {}\".format(f1_score(valid_y, pred_y)))\n",
    "        print()\n",
    "        print(\">>>> Params: {}\".format({ 'C': C, 'max_iter': max_iter}))\n",
    "        print(\"=\" * 30)\n",
    "        print()\n",
    "\n",
    "        if score > best_score:\n",
    "            best_score = score\n",
    "            best_params['C'] = C\n",
    "            best_params['max_iter'] = max_iter\n",
    "            print(\">>>> Best Score Update: {}\".format(best_score))\n",
    "            print(\">>>> Best Params Update: {}\".format(best_params))\n",
    "                \n",
    "\n",
    "        \n",
    "\n",
    "print(\"=\" * 30)\n",
    "print(\">>>> Best Score: {}\".format(best_score))\n",
    "print(\">>>> Best Params: {}\".format(best_params))\n",
    "\n",
    "\n"
   ]
  },
  {
   "cell_type": "code",
   "execution_count": 27,
   "metadata": {},
   "outputs": [
    {
     "name": "stdout",
     "output_type": "stream",
     "text": [
      ">>>> accuracy-score: 0.7093333333333334\n",
      ">>>> precision-score: 0.7248563218390804\n",
      ">>>> recall-score: 0.6735647530040053\n",
      ">>>> f1-score: 0.6982698961937716\n"
     ]
    },
    {
     "data": {
      "text/plain": [
       "array([[2238,  766],\n",
       "       [ 978, 2018]])"
      ]
     },
     "execution_count": 27,
     "metadata": {},
     "output_type": "execute_result"
    }
   ],
   "source": [
    "# best_params\n",
    "# test set으로 평가\n",
    "from sklearn.metrics import confusion_matrix\n",
    "\n",
    "lr = LogisticRegression(**best_params, random_state=1353)\n",
    "lr.fit(x_train_tfidf, train_y)\n",
    "pred_y = lr.predict(x_test_tfidf)\n",
    "print(\">>>> accuracy-score: {}\".format(accuracy_score(test_y, pred_y)))\n",
    "print(\">>>> precision-score: {}\".format(precision_score(test_y, pred_y)))\n",
    "print(\">>>> recall-score: {}\".format(recall_score(test_y, pred_y)))\n",
    "print(\">>>> f1-score: {}\".format(f1_score(test_y, pred_y)))\n",
    "\n",
    "confusion_matrix(test_y, pred_y)"
   ]
  },
  {
   "cell_type": "code",
   "execution_count": 35,
   "metadata": {},
   "outputs": [
    {
     "name": "stdout",
     "output_type": "stream",
     "text": [
      "0.66 확률로 긍정 리뷰입니다.\n"
     ]
    }
   ],
   "source": [
    "text = '배송 정말 빨라요'\n",
    "text_cv = cv.transform([text])\n",
    "text_tfidf = tfidf_transformer.transform(text_cv)\n",
    "pred = lr.predict(text_tfidf)[0]\n",
    "predict_proba = lr.predict_proba(text_tfidf)[0]\n",
    "print(f\"{round(predict_proba[0], 2)} 확률로 부정 리뷰입니다.\" if pred == 0 else f\"{round(predict_proba[1], 2)} 확률로 긍정 리뷰입니다.\")"
   ]
  },
  {
   "cell_type": "code",
   "execution_count": null,
   "metadata": {},
   "outputs": [],
   "source": []
  }
 ],
 "metadata": {
  "kernelspec": {
   "display_name": "myvenv",
   "language": "python",
   "name": "python3"
  },
  "language_info": {
   "codemirror_mode": {
    "name": "ipython",
    "version": 3
   },
   "file_extension": ".py",
   "mimetype": "text/x-python",
   "name": "python",
   "nbconvert_exporter": "python",
   "pygments_lexer": "ipython3",
   "version": "3.9.7"
  }
 },
 "nbformat": 4,
 "nbformat_minor": 2
}
