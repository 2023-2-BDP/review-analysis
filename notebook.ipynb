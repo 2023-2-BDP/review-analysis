{
  "cells": [
    {
      "cell_type": "code",
      "source": [
        "from google.colab import drive\n",
        "drive.mount('/content/drive')"
      ],
      "metadata": {
        "colab": {
          "base_uri": "https://localhost:8080/"
        },
        "id": "sjCdXJJTDZ7J",
        "outputId": "daf1ab28-2753-4eb8-d641-44b52de78299"
      },
      "execution_count": 8,
      "outputs": [
        {
          "output_type": "stream",
          "name": "stdout",
          "text": [
            "Drive already mounted at /content/drive; to attempt to forcibly remount, call drive.mount(\"/content/drive\", force_remount=True).\n"
          ]
        }
      ]
    },
    {
      "cell_type": "code",
      "execution_count": 9,
      "metadata": {
        "id": "6gm9084C9Ote"
      },
      "outputs": [],
      "source": [
        "import pandas as pd\n",
        "import numpy as np\n",
        "import matplotlib.pyplot as plt\n",
        "import seaborn as sns\n",
        "import warnings\n",
        "warnings.filterwarnings('ignore')\n",
        "plt.rcParams['font.family'] = 'AppleGothic'"
      ]
    },
    {
      "cell_type": "code",
      "execution_count": 10,
      "metadata": {
        "colab": {
          "base_uri": "https://localhost:8080/",
          "height": 510
        },
        "id": "C5Ca3cKV9Otl",
        "outputId": "64b48535-177b-4000-e25f-d493a9841232"
      },
      "outputs": [
        {
          "output_type": "execute_result",
          "data": {
            "text/plain": [
              "        rating                       headline  \\\n",
              "0            5                          만족합니다   \n",
              "1            5               가성비 싸게샀어요 이뻐요 ㅎㅎ   \n",
              "2            4                     가성비 완전 대박!   \n",
              "3            4                골린이에게 적당한 골프채^^   \n",
              "4            5  저처럼 골프 입문하신지 얼마 되지 않으신 분들 강추!   \n",
              "...        ...                            ...   \n",
              "1599568      5       신경과 근육 기능 유지를위해 꾸준히 먹어요.   \n",
              "1599569      5              마그네슘 함량이 많아서 좋습니다   \n",
              "1599570      5                        재 구매했어요   \n",
              "1599571      5      다른건 모르겠고 수면의 질은 완전 좋아졌습니다   \n",
              "1599572      5                 등록된 헤드라인이 없습니다   \n",
              "\n",
              "                                            review_content  \n",
              "0                                       가성비도 좋아요 재구매 의사있어요  \n",
              "1                                           등록된 리뷰내용이 없습니다  \n",
              "2        가방이랑 볼이 정품이라 만족스럽습니다 다른 제품들은 잘살펴보면 정품이 아닌경우들이 ...  \n",
              "3        골프채 드라이버 및 쿼터, 우드 아이언포함하여 10개 잘 받았습니다. 하자는 없어요...  \n",
              "4        스크린으로 처음 골프 입문한 골린이입니다. 하우스 채로 만 치다 보니 내채가 필요하...  \n",
              "...                                                    ...  \n",
              "1599568                                     등록된 리뷰내용이 없습니다  \n",
              "1599569                                     등록된 리뷰내용이 없습니다  \n",
              "1599570                                     등록된 리뷰내용이 없습니다  \n",
              "1599571  깊은 잠을 못자서 항상 피곤하고 졸렸는데마그네슘 먹고나서 진짜 효과 바로 느끼고 있...  \n",
              "1599572                                            재구매입니다.  \n",
              "\n",
              "[1599573 rows x 3 columns]"
            ],
            "text/html": [
              "\n",
              "  <div id=\"df-972461b4-0deb-47f6-bec1-86dedefde21e\" class=\"colab-df-container\">\n",
              "    <div>\n",
              "<style scoped>\n",
              "    .dataframe tbody tr th:only-of-type {\n",
              "        vertical-align: middle;\n",
              "    }\n",
              "\n",
              "    .dataframe tbody tr th {\n",
              "        vertical-align: top;\n",
              "    }\n",
              "\n",
              "    .dataframe thead th {\n",
              "        text-align: right;\n",
              "    }\n",
              "</style>\n",
              "<table border=\"1\" class=\"dataframe\">\n",
              "  <thead>\n",
              "    <tr style=\"text-align: right;\">\n",
              "      <th></th>\n",
              "      <th>rating</th>\n",
              "      <th>headline</th>\n",
              "      <th>review_content</th>\n",
              "    </tr>\n",
              "  </thead>\n",
              "  <tbody>\n",
              "    <tr>\n",
              "      <th>0</th>\n",
              "      <td>5</td>\n",
              "      <td>만족합니다</td>\n",
              "      <td>가성비도 좋아요 재구매 의사있어요</td>\n",
              "    </tr>\n",
              "    <tr>\n",
              "      <th>1</th>\n",
              "      <td>5</td>\n",
              "      <td>가성비 싸게샀어요 이뻐요 ㅎㅎ</td>\n",
              "      <td>등록된 리뷰내용이 없습니다</td>\n",
              "    </tr>\n",
              "    <tr>\n",
              "      <th>2</th>\n",
              "      <td>4</td>\n",
              "      <td>가성비 완전 대박!</td>\n",
              "      <td>가방이랑 볼이 정품이라 만족스럽습니다 다른 제품들은 잘살펴보면 정품이 아닌경우들이 ...</td>\n",
              "    </tr>\n",
              "    <tr>\n",
              "      <th>3</th>\n",
              "      <td>4</td>\n",
              "      <td>골린이에게 적당한 골프채^^</td>\n",
              "      <td>골프채 드라이버 및 쿼터, 우드 아이언포함하여 10개 잘 받았습니다. 하자는 없어요...</td>\n",
              "    </tr>\n",
              "    <tr>\n",
              "      <th>4</th>\n",
              "      <td>5</td>\n",
              "      <td>저처럼 골프 입문하신지 얼마 되지 않으신 분들 강추!</td>\n",
              "      <td>스크린으로 처음 골프 입문한 골린이입니다. 하우스 채로 만 치다 보니 내채가 필요하...</td>\n",
              "    </tr>\n",
              "    <tr>\n",
              "      <th>...</th>\n",
              "      <td>...</td>\n",
              "      <td>...</td>\n",
              "      <td>...</td>\n",
              "    </tr>\n",
              "    <tr>\n",
              "      <th>1599568</th>\n",
              "      <td>5</td>\n",
              "      <td>신경과 근육 기능 유지를위해 꾸준히 먹어요.</td>\n",
              "      <td>등록된 리뷰내용이 없습니다</td>\n",
              "    </tr>\n",
              "    <tr>\n",
              "      <th>1599569</th>\n",
              "      <td>5</td>\n",
              "      <td>마그네슘 함량이 많아서 좋습니다</td>\n",
              "      <td>등록된 리뷰내용이 없습니다</td>\n",
              "    </tr>\n",
              "    <tr>\n",
              "      <th>1599570</th>\n",
              "      <td>5</td>\n",
              "      <td>재 구매했어요</td>\n",
              "      <td>등록된 리뷰내용이 없습니다</td>\n",
              "    </tr>\n",
              "    <tr>\n",
              "      <th>1599571</th>\n",
              "      <td>5</td>\n",
              "      <td>다른건 모르겠고 수면의 질은 완전 좋아졌습니다</td>\n",
              "      <td>깊은 잠을 못자서 항상 피곤하고 졸렸는데마그네슘 먹고나서 진짜 효과 바로 느끼고 있...</td>\n",
              "    </tr>\n",
              "    <tr>\n",
              "      <th>1599572</th>\n",
              "      <td>5</td>\n",
              "      <td>등록된 헤드라인이 없습니다</td>\n",
              "      <td>재구매입니다.</td>\n",
              "    </tr>\n",
              "  </tbody>\n",
              "</table>\n",
              "<p>1599573 rows × 3 columns</p>\n",
              "</div>\n",
              "    <div class=\"colab-df-buttons\">\n",
              "\n",
              "  <div class=\"colab-df-container\">\n",
              "    <button class=\"colab-df-convert\" onclick=\"convertToInteractive('df-972461b4-0deb-47f6-bec1-86dedefde21e')\"\n",
              "            title=\"Convert this dataframe to an interactive table.\"\n",
              "            style=\"display:none;\">\n",
              "\n",
              "  <svg xmlns=\"http://www.w3.org/2000/svg\" height=\"24px\" viewBox=\"0 -960 960 960\">\n",
              "    <path d=\"M120-120v-720h720v720H120Zm60-500h600v-160H180v160Zm220 220h160v-160H400v160Zm0 220h160v-160H400v160ZM180-400h160v-160H180v160Zm440 0h160v-160H620v160ZM180-180h160v-160H180v160Zm440 0h160v-160H620v160Z\"/>\n",
              "  </svg>\n",
              "    </button>\n",
              "\n",
              "  <style>\n",
              "    .colab-df-container {\n",
              "      display:flex;\n",
              "      gap: 12px;\n",
              "    }\n",
              "\n",
              "    .colab-df-convert {\n",
              "      background-color: #E8F0FE;\n",
              "      border: none;\n",
              "      border-radius: 50%;\n",
              "      cursor: pointer;\n",
              "      display: none;\n",
              "      fill: #1967D2;\n",
              "      height: 32px;\n",
              "      padding: 0 0 0 0;\n",
              "      width: 32px;\n",
              "    }\n",
              "\n",
              "    .colab-df-convert:hover {\n",
              "      background-color: #E2EBFA;\n",
              "      box-shadow: 0px 1px 2px rgba(60, 64, 67, 0.3), 0px 1px 3px 1px rgba(60, 64, 67, 0.15);\n",
              "      fill: #174EA6;\n",
              "    }\n",
              "\n",
              "    .colab-df-buttons div {\n",
              "      margin-bottom: 4px;\n",
              "    }\n",
              "\n",
              "    [theme=dark] .colab-df-convert {\n",
              "      background-color: #3B4455;\n",
              "      fill: #D2E3FC;\n",
              "    }\n",
              "\n",
              "    [theme=dark] .colab-df-convert:hover {\n",
              "      background-color: #434B5C;\n",
              "      box-shadow: 0px 1px 3px 1px rgba(0, 0, 0, 0.15);\n",
              "      filter: drop-shadow(0px 1px 2px rgba(0, 0, 0, 0.3));\n",
              "      fill: #FFFFFF;\n",
              "    }\n",
              "  </style>\n",
              "\n",
              "    <script>\n",
              "      const buttonEl =\n",
              "        document.querySelector('#df-972461b4-0deb-47f6-bec1-86dedefde21e button.colab-df-convert');\n",
              "      buttonEl.style.display =\n",
              "        google.colab.kernel.accessAllowed ? 'block' : 'none';\n",
              "\n",
              "      async function convertToInteractive(key) {\n",
              "        const element = document.querySelector('#df-972461b4-0deb-47f6-bec1-86dedefde21e');\n",
              "        const dataTable =\n",
              "          await google.colab.kernel.invokeFunction('convertToInteractive',\n",
              "                                                    [key], {});\n",
              "        if (!dataTable) return;\n",
              "\n",
              "        const docLinkHtml = 'Like what you see? Visit the ' +\n",
              "          '<a target=\"_blank\" href=https://colab.research.google.com/notebooks/data_table.ipynb>data table notebook</a>'\n",
              "          + ' to learn more about interactive tables.';\n",
              "        element.innerHTML = '';\n",
              "        dataTable['output_type'] = 'display_data';\n",
              "        await google.colab.output.renderOutput(dataTable, element);\n",
              "        const docLink = document.createElement('div');\n",
              "        docLink.innerHTML = docLinkHtml;\n",
              "        element.appendChild(docLink);\n",
              "      }\n",
              "    </script>\n",
              "  </div>\n",
              "\n",
              "\n",
              "<div id=\"df-481ba30f-baea-4509-a8bd-952dfdcdc77c\">\n",
              "  <button class=\"colab-df-quickchart\" onclick=\"quickchart('df-481ba30f-baea-4509-a8bd-952dfdcdc77c')\"\n",
              "            title=\"Suggest charts\"\n",
              "            style=\"display:none;\">\n",
              "\n",
              "<svg xmlns=\"http://www.w3.org/2000/svg\" height=\"24px\"viewBox=\"0 0 24 24\"\n",
              "     width=\"24px\">\n",
              "    <g>\n",
              "        <path d=\"M19 3H5c-1.1 0-2 .9-2 2v14c0 1.1.9 2 2 2h14c1.1 0 2-.9 2-2V5c0-1.1-.9-2-2-2zM9 17H7v-7h2v7zm4 0h-2V7h2v10zm4 0h-2v-4h2v4z\"/>\n",
              "    </g>\n",
              "</svg>\n",
              "  </button>\n",
              "\n",
              "<style>\n",
              "  .colab-df-quickchart {\n",
              "      --bg-color: #E8F0FE;\n",
              "      --fill-color: #1967D2;\n",
              "      --hover-bg-color: #E2EBFA;\n",
              "      --hover-fill-color: #174EA6;\n",
              "      --disabled-fill-color: #AAA;\n",
              "      --disabled-bg-color: #DDD;\n",
              "  }\n",
              "\n",
              "  [theme=dark] .colab-df-quickchart {\n",
              "      --bg-color: #3B4455;\n",
              "      --fill-color: #D2E3FC;\n",
              "      --hover-bg-color: #434B5C;\n",
              "      --hover-fill-color: #FFFFFF;\n",
              "      --disabled-bg-color: #3B4455;\n",
              "      --disabled-fill-color: #666;\n",
              "  }\n",
              "\n",
              "  .colab-df-quickchart {\n",
              "    background-color: var(--bg-color);\n",
              "    border: none;\n",
              "    border-radius: 50%;\n",
              "    cursor: pointer;\n",
              "    display: none;\n",
              "    fill: var(--fill-color);\n",
              "    height: 32px;\n",
              "    padding: 0;\n",
              "    width: 32px;\n",
              "  }\n",
              "\n",
              "  .colab-df-quickchart:hover {\n",
              "    background-color: var(--hover-bg-color);\n",
              "    box-shadow: 0 1px 2px rgba(60, 64, 67, 0.3), 0 1px 3px 1px rgba(60, 64, 67, 0.15);\n",
              "    fill: var(--button-hover-fill-color);\n",
              "  }\n",
              "\n",
              "  .colab-df-quickchart-complete:disabled,\n",
              "  .colab-df-quickchart-complete:disabled:hover {\n",
              "    background-color: var(--disabled-bg-color);\n",
              "    fill: var(--disabled-fill-color);\n",
              "    box-shadow: none;\n",
              "  }\n",
              "\n",
              "  .colab-df-spinner {\n",
              "    border: 2px solid var(--fill-color);\n",
              "    border-color: transparent;\n",
              "    border-bottom-color: var(--fill-color);\n",
              "    animation:\n",
              "      spin 1s steps(1) infinite;\n",
              "  }\n",
              "\n",
              "  @keyframes spin {\n",
              "    0% {\n",
              "      border-color: transparent;\n",
              "      border-bottom-color: var(--fill-color);\n",
              "      border-left-color: var(--fill-color);\n",
              "    }\n",
              "    20% {\n",
              "      border-color: transparent;\n",
              "      border-left-color: var(--fill-color);\n",
              "      border-top-color: var(--fill-color);\n",
              "    }\n",
              "    30% {\n",
              "      border-color: transparent;\n",
              "      border-left-color: var(--fill-color);\n",
              "      border-top-color: var(--fill-color);\n",
              "      border-right-color: var(--fill-color);\n",
              "    }\n",
              "    40% {\n",
              "      border-color: transparent;\n",
              "      border-right-color: var(--fill-color);\n",
              "      border-top-color: var(--fill-color);\n",
              "    }\n",
              "    60% {\n",
              "      border-color: transparent;\n",
              "      border-right-color: var(--fill-color);\n",
              "    }\n",
              "    80% {\n",
              "      border-color: transparent;\n",
              "      border-right-color: var(--fill-color);\n",
              "      border-bottom-color: var(--fill-color);\n",
              "    }\n",
              "    90% {\n",
              "      border-color: transparent;\n",
              "      border-bottom-color: var(--fill-color);\n",
              "    }\n",
              "  }\n",
              "</style>\n",
              "\n",
              "  <script>\n",
              "    async function quickchart(key) {\n",
              "      const quickchartButtonEl =\n",
              "        document.querySelector('#' + key + ' button');\n",
              "      quickchartButtonEl.disabled = true;  // To prevent multiple clicks.\n",
              "      quickchartButtonEl.classList.add('colab-df-spinner');\n",
              "      try {\n",
              "        const charts = await google.colab.kernel.invokeFunction(\n",
              "            'suggestCharts', [key], {});\n",
              "      } catch (error) {\n",
              "        console.error('Error during call to suggestCharts:', error);\n",
              "      }\n",
              "      quickchartButtonEl.classList.remove('colab-df-spinner');\n",
              "      quickchartButtonEl.classList.add('colab-df-quickchart-complete');\n",
              "    }\n",
              "    (() => {\n",
              "      let quickchartButtonEl =\n",
              "        document.querySelector('#df-481ba30f-baea-4509-a8bd-952dfdcdc77c button');\n",
              "      quickchartButtonEl.style.display =\n",
              "        google.colab.kernel.accessAllowed ? 'block' : 'none';\n",
              "    })();\n",
              "  </script>\n",
              "</div>\n",
              "    </div>\n",
              "  </div>\n"
            ]
          },
          "metadata": {},
          "execution_count": 10
        }
      ],
      "source": [
        "reviews = pd.read_csv('/content/drive/MyDrive/archive/coupang_reviews.csv', encoding='utf-8', sep='\\t')\n",
        "reviews"
      ]
    },
    {
      "cell_type": "code",
      "execution_count": 11,
      "metadata": {
        "colab": {
          "base_uri": "https://localhost:8080/"
        },
        "id": "81ShEHjt9Otm",
        "outputId": "1f880b22-6251-4267-c7cf-2888f8651778"
      },
      "outputs": [
        {
          "output_type": "stream",
          "name": "stdout",
          "text": [
            "<class 'pandas.core.frame.DataFrame'>\n",
            "RangeIndex: 1599573 entries, 0 to 1599572\n",
            "Data columns (total 3 columns):\n",
            " #   Column          Non-Null Count    Dtype \n",
            "---  ------          --------------    ----- \n",
            " 0   rating          1599571 non-null  object\n",
            " 1   headline        1598844 non-null  object\n",
            " 2   review_content  1590878 non-null  object\n",
            "dtypes: object(3)\n",
            "memory usage: 36.6+ MB\n"
          ]
        }
      ],
      "source": [
        "reviews.info()"
      ]
    },
    {
      "cell_type": "code",
      "execution_count": 12,
      "metadata": {
        "colab": {
          "base_uri": "https://localhost:8080/"
        },
        "id": "GXD3ouz29Otn",
        "outputId": "ad255da1-f626-413b-829f-22c62050679c"
      },
      "outputs": [
        {
          "output_type": "execute_result",
          "data": {
            "text/plain": [
              "5                                 1243650\n",
              "4                                  192704\n",
              "3                                   74603\n",
              "1                                   51371\n",
              "2                                   29328\n",
              "                                   ...   \n",
              "중1  175                                 1\n",
              "최고였습니다                                  1\n",
              "리뷰믿고 시켰는데 주문 잘한거같아요. 단 잡내가 있어요          1\n",
              "운이 안좋아 요번 고기는 별로네요                      1\n",
              "5? 6? 재구매중이에요                           1\n",
              "Name: rating, Length: 2464, dtype: int64"
            ]
          },
          "metadata": {},
          "execution_count": 12
        }
      ],
      "source": [
        "reviews['rating'].value_counts()"
      ]
    },
    {
      "cell_type": "code",
      "execution_count": 13,
      "metadata": {
        "colab": {
          "base_uri": "https://localhost:8080/",
          "height": 493
        },
        "id": "bt5Mi3Yf9Otn",
        "outputId": "4b9d7d24-9d5b-4068-8b88-6d17784306f3"
      },
      "outputs": [
        {
          "output_type": "execute_result",
          "data": {
            "text/plain": [
              "        rating            headline  \\\n",
              "2            4          가성비 완전 대박!   \n",
              "3            4     골린이에게 적당한 골프채^^   \n",
              "16           4  초보 골프 입문용으로 구매 했어요   \n",
              "21           4      저렴하게 잘 구매했습니다.   \n",
              "36           4              그립감이좋음   \n",
              "...        ...                 ...   \n",
              "1599548      4      등록된 헤드라인이 없습니다   \n",
              "1599550      4      등록된 헤드라인이 없습니다   \n",
              "1599557      4          잘 먹고 있어요^^   \n",
              "1599563      4    잘 챙겨먹는데 효과는 모르겠음   \n",
              "1599567      4                  보통   \n",
              "\n",
              "                                            review_content  \n",
              "2        가방이랑 볼이 정품이라 만족스럽습니다 다른 제품들은 잘살펴보면 정품이 아닌경우들이 ...  \n",
              "3        골프채 드라이버 및 쿼터, 우드 아이언포함하여 10개 잘 받았습니다. 하자는 없어요...  \n",
              "16       이젠 하우스체에서  벗어나겠네요내일 한번  휘둘러 봐야겠네요주문한지 딱 10일만에 ...  \n",
              "21       상품 잘 받았습니다. 생각보다 빨리 받을 수 있어 좋았습니다.초보자용으로 가성비 좋...  \n",
              "36                                          등록된 리뷰내용이 없습니다  \n",
              "...                                                    ...  \n",
              "1599548                     눈 떨려서 샀는데 효과 있었으면 좋겠네요.배송 빨라요.  \n",
              "1599550                                           그닥 모르겠네요  \n",
              "1599557                                     등록된 리뷰내용이 없습니다  \n",
              "1599563                                     등록된 리뷰내용이 없습니다  \n",
              "1599567                                     등록된 리뷰내용이 없습니다  \n",
              "\n",
              "[192704 rows x 3 columns]"
            ],
            "text/html": [
              "\n",
              "  <div id=\"df-63211f81-1e08-4a88-a1ab-4fd5f2f16695\" class=\"colab-df-container\">\n",
              "    <div>\n",
              "<style scoped>\n",
              "    .dataframe tbody tr th:only-of-type {\n",
              "        vertical-align: middle;\n",
              "    }\n",
              "\n",
              "    .dataframe tbody tr th {\n",
              "        vertical-align: top;\n",
              "    }\n",
              "\n",
              "    .dataframe thead th {\n",
              "        text-align: right;\n",
              "    }\n",
              "</style>\n",
              "<table border=\"1\" class=\"dataframe\">\n",
              "  <thead>\n",
              "    <tr style=\"text-align: right;\">\n",
              "      <th></th>\n",
              "      <th>rating</th>\n",
              "      <th>headline</th>\n",
              "      <th>review_content</th>\n",
              "    </tr>\n",
              "  </thead>\n",
              "  <tbody>\n",
              "    <tr>\n",
              "      <th>2</th>\n",
              "      <td>4</td>\n",
              "      <td>가성비 완전 대박!</td>\n",
              "      <td>가방이랑 볼이 정품이라 만족스럽습니다 다른 제품들은 잘살펴보면 정품이 아닌경우들이 ...</td>\n",
              "    </tr>\n",
              "    <tr>\n",
              "      <th>3</th>\n",
              "      <td>4</td>\n",
              "      <td>골린이에게 적당한 골프채^^</td>\n",
              "      <td>골프채 드라이버 및 쿼터, 우드 아이언포함하여 10개 잘 받았습니다. 하자는 없어요...</td>\n",
              "    </tr>\n",
              "    <tr>\n",
              "      <th>16</th>\n",
              "      <td>4</td>\n",
              "      <td>초보 골프 입문용으로 구매 했어요</td>\n",
              "      <td>이젠 하우스체에서  벗어나겠네요내일 한번  휘둘러 봐야겠네요주문한지 딱 10일만에 ...</td>\n",
              "    </tr>\n",
              "    <tr>\n",
              "      <th>21</th>\n",
              "      <td>4</td>\n",
              "      <td>저렴하게 잘 구매했습니다.</td>\n",
              "      <td>상품 잘 받았습니다. 생각보다 빨리 받을 수 있어 좋았습니다.초보자용으로 가성비 좋...</td>\n",
              "    </tr>\n",
              "    <tr>\n",
              "      <th>36</th>\n",
              "      <td>4</td>\n",
              "      <td>그립감이좋음</td>\n",
              "      <td>등록된 리뷰내용이 없습니다</td>\n",
              "    </tr>\n",
              "    <tr>\n",
              "      <th>...</th>\n",
              "      <td>...</td>\n",
              "      <td>...</td>\n",
              "      <td>...</td>\n",
              "    </tr>\n",
              "    <tr>\n",
              "      <th>1599548</th>\n",
              "      <td>4</td>\n",
              "      <td>등록된 헤드라인이 없습니다</td>\n",
              "      <td>눈 떨려서 샀는데 효과 있었으면 좋겠네요.배송 빨라요.</td>\n",
              "    </tr>\n",
              "    <tr>\n",
              "      <th>1599550</th>\n",
              "      <td>4</td>\n",
              "      <td>등록된 헤드라인이 없습니다</td>\n",
              "      <td>그닥 모르겠네요</td>\n",
              "    </tr>\n",
              "    <tr>\n",
              "      <th>1599557</th>\n",
              "      <td>4</td>\n",
              "      <td>잘 먹고 있어요^^</td>\n",
              "      <td>등록된 리뷰내용이 없습니다</td>\n",
              "    </tr>\n",
              "    <tr>\n",
              "      <th>1599563</th>\n",
              "      <td>4</td>\n",
              "      <td>잘 챙겨먹는데 효과는 모르겠음</td>\n",
              "      <td>등록된 리뷰내용이 없습니다</td>\n",
              "    </tr>\n",
              "    <tr>\n",
              "      <th>1599567</th>\n",
              "      <td>4</td>\n",
              "      <td>보통</td>\n",
              "      <td>등록된 리뷰내용이 없습니다</td>\n",
              "    </tr>\n",
              "  </tbody>\n",
              "</table>\n",
              "<p>192704 rows × 3 columns</p>\n",
              "</div>\n",
              "    <div class=\"colab-df-buttons\">\n",
              "\n",
              "  <div class=\"colab-df-container\">\n",
              "    <button class=\"colab-df-convert\" onclick=\"convertToInteractive('df-63211f81-1e08-4a88-a1ab-4fd5f2f16695')\"\n",
              "            title=\"Convert this dataframe to an interactive table.\"\n",
              "            style=\"display:none;\">\n",
              "\n",
              "  <svg xmlns=\"http://www.w3.org/2000/svg\" height=\"24px\" viewBox=\"0 -960 960 960\">\n",
              "    <path d=\"M120-120v-720h720v720H120Zm60-500h600v-160H180v160Zm220 220h160v-160H400v160Zm0 220h160v-160H400v160ZM180-400h160v-160H180v160Zm440 0h160v-160H620v160ZM180-180h160v-160H180v160Zm440 0h160v-160H620v160Z\"/>\n",
              "  </svg>\n",
              "    </button>\n",
              "\n",
              "  <style>\n",
              "    .colab-df-container {\n",
              "      display:flex;\n",
              "      gap: 12px;\n",
              "    }\n",
              "\n",
              "    .colab-df-convert {\n",
              "      background-color: #E8F0FE;\n",
              "      border: none;\n",
              "      border-radius: 50%;\n",
              "      cursor: pointer;\n",
              "      display: none;\n",
              "      fill: #1967D2;\n",
              "      height: 32px;\n",
              "      padding: 0 0 0 0;\n",
              "      width: 32px;\n",
              "    }\n",
              "\n",
              "    .colab-df-convert:hover {\n",
              "      background-color: #E2EBFA;\n",
              "      box-shadow: 0px 1px 2px rgba(60, 64, 67, 0.3), 0px 1px 3px 1px rgba(60, 64, 67, 0.15);\n",
              "      fill: #174EA6;\n",
              "    }\n",
              "\n",
              "    .colab-df-buttons div {\n",
              "      margin-bottom: 4px;\n",
              "    }\n",
              "\n",
              "    [theme=dark] .colab-df-convert {\n",
              "      background-color: #3B4455;\n",
              "      fill: #D2E3FC;\n",
              "    }\n",
              "\n",
              "    [theme=dark] .colab-df-convert:hover {\n",
              "      background-color: #434B5C;\n",
              "      box-shadow: 0px 1px 3px 1px rgba(0, 0, 0, 0.15);\n",
              "      filter: drop-shadow(0px 1px 2px rgba(0, 0, 0, 0.3));\n",
              "      fill: #FFFFFF;\n",
              "    }\n",
              "  </style>\n",
              "\n",
              "    <script>\n",
              "      const buttonEl =\n",
              "        document.querySelector('#df-63211f81-1e08-4a88-a1ab-4fd5f2f16695 button.colab-df-convert');\n",
              "      buttonEl.style.display =\n",
              "        google.colab.kernel.accessAllowed ? 'block' : 'none';\n",
              "\n",
              "      async function convertToInteractive(key) {\n",
              "        const element = document.querySelector('#df-63211f81-1e08-4a88-a1ab-4fd5f2f16695');\n",
              "        const dataTable =\n",
              "          await google.colab.kernel.invokeFunction('convertToInteractive',\n",
              "                                                    [key], {});\n",
              "        if (!dataTable) return;\n",
              "\n",
              "        const docLinkHtml = 'Like what you see? Visit the ' +\n",
              "          '<a target=\"_blank\" href=https://colab.research.google.com/notebooks/data_table.ipynb>data table notebook</a>'\n",
              "          + ' to learn more about interactive tables.';\n",
              "        element.innerHTML = '';\n",
              "        dataTable['output_type'] = 'display_data';\n",
              "        await google.colab.output.renderOutput(dataTable, element);\n",
              "        const docLink = document.createElement('div');\n",
              "        docLink.innerHTML = docLinkHtml;\n",
              "        element.appendChild(docLink);\n",
              "      }\n",
              "    </script>\n",
              "  </div>\n",
              "\n",
              "\n",
              "<div id=\"df-fd3b243e-663a-4b77-afd1-e11cd009f586\">\n",
              "  <button class=\"colab-df-quickchart\" onclick=\"quickchart('df-fd3b243e-663a-4b77-afd1-e11cd009f586')\"\n",
              "            title=\"Suggest charts\"\n",
              "            style=\"display:none;\">\n",
              "\n",
              "<svg xmlns=\"http://www.w3.org/2000/svg\" height=\"24px\"viewBox=\"0 0 24 24\"\n",
              "     width=\"24px\">\n",
              "    <g>\n",
              "        <path d=\"M19 3H5c-1.1 0-2 .9-2 2v14c0 1.1.9 2 2 2h14c1.1 0 2-.9 2-2V5c0-1.1-.9-2-2-2zM9 17H7v-7h2v7zm4 0h-2V7h2v10zm4 0h-2v-4h2v4z\"/>\n",
              "    </g>\n",
              "</svg>\n",
              "  </button>\n",
              "\n",
              "<style>\n",
              "  .colab-df-quickchart {\n",
              "      --bg-color: #E8F0FE;\n",
              "      --fill-color: #1967D2;\n",
              "      --hover-bg-color: #E2EBFA;\n",
              "      --hover-fill-color: #174EA6;\n",
              "      --disabled-fill-color: #AAA;\n",
              "      --disabled-bg-color: #DDD;\n",
              "  }\n",
              "\n",
              "  [theme=dark] .colab-df-quickchart {\n",
              "      --bg-color: #3B4455;\n",
              "      --fill-color: #D2E3FC;\n",
              "      --hover-bg-color: #434B5C;\n",
              "      --hover-fill-color: #FFFFFF;\n",
              "      --disabled-bg-color: #3B4455;\n",
              "      --disabled-fill-color: #666;\n",
              "  }\n",
              "\n",
              "  .colab-df-quickchart {\n",
              "    background-color: var(--bg-color);\n",
              "    border: none;\n",
              "    border-radius: 50%;\n",
              "    cursor: pointer;\n",
              "    display: none;\n",
              "    fill: var(--fill-color);\n",
              "    height: 32px;\n",
              "    padding: 0;\n",
              "    width: 32px;\n",
              "  }\n",
              "\n",
              "  .colab-df-quickchart:hover {\n",
              "    background-color: var(--hover-bg-color);\n",
              "    box-shadow: 0 1px 2px rgba(60, 64, 67, 0.3), 0 1px 3px 1px rgba(60, 64, 67, 0.15);\n",
              "    fill: var(--button-hover-fill-color);\n",
              "  }\n",
              "\n",
              "  .colab-df-quickchart-complete:disabled,\n",
              "  .colab-df-quickchart-complete:disabled:hover {\n",
              "    background-color: var(--disabled-bg-color);\n",
              "    fill: var(--disabled-fill-color);\n",
              "    box-shadow: none;\n",
              "  }\n",
              "\n",
              "  .colab-df-spinner {\n",
              "    border: 2px solid var(--fill-color);\n",
              "    border-color: transparent;\n",
              "    border-bottom-color: var(--fill-color);\n",
              "    animation:\n",
              "      spin 1s steps(1) infinite;\n",
              "  }\n",
              "\n",
              "  @keyframes spin {\n",
              "    0% {\n",
              "      border-color: transparent;\n",
              "      border-bottom-color: var(--fill-color);\n",
              "      border-left-color: var(--fill-color);\n",
              "    }\n",
              "    20% {\n",
              "      border-color: transparent;\n",
              "      border-left-color: var(--fill-color);\n",
              "      border-top-color: var(--fill-color);\n",
              "    }\n",
              "    30% {\n",
              "      border-color: transparent;\n",
              "      border-left-color: var(--fill-color);\n",
              "      border-top-color: var(--fill-color);\n",
              "      border-right-color: var(--fill-color);\n",
              "    }\n",
              "    40% {\n",
              "      border-color: transparent;\n",
              "      border-right-color: var(--fill-color);\n",
              "      border-top-color: var(--fill-color);\n",
              "    }\n",
              "    60% {\n",
              "      border-color: transparent;\n",
              "      border-right-color: var(--fill-color);\n",
              "    }\n",
              "    80% {\n",
              "      border-color: transparent;\n",
              "      border-right-color: var(--fill-color);\n",
              "      border-bottom-color: var(--fill-color);\n",
              "    }\n",
              "    90% {\n",
              "      border-color: transparent;\n",
              "      border-bottom-color: var(--fill-color);\n",
              "    }\n",
              "  }\n",
              "</style>\n",
              "\n",
              "  <script>\n",
              "    async function quickchart(key) {\n",
              "      const quickchartButtonEl =\n",
              "        document.querySelector('#' + key + ' button');\n",
              "      quickchartButtonEl.disabled = true;  // To prevent multiple clicks.\n",
              "      quickchartButtonEl.classList.add('colab-df-spinner');\n",
              "      try {\n",
              "        const charts = await google.colab.kernel.invokeFunction(\n",
              "            'suggestCharts', [key], {});\n",
              "      } catch (error) {\n",
              "        console.error('Error during call to suggestCharts:', error);\n",
              "      }\n",
              "      quickchartButtonEl.classList.remove('colab-df-spinner');\n",
              "      quickchartButtonEl.classList.add('colab-df-quickchart-complete');\n",
              "    }\n",
              "    (() => {\n",
              "      let quickchartButtonEl =\n",
              "        document.querySelector('#df-fd3b243e-663a-4b77-afd1-e11cd009f586 button');\n",
              "      quickchartButtonEl.style.display =\n",
              "        google.colab.kernel.accessAllowed ? 'block' : 'none';\n",
              "    })();\n",
              "  </script>\n",
              "</div>\n",
              "    </div>\n",
              "  </div>\n"
            ]
          },
          "metadata": {},
          "execution_count": 13
        }
      ],
      "source": [
        "reviews[reviews['rating'] == '4']"
      ]
    },
    {
      "cell_type": "code",
      "execution_count": 14,
      "metadata": {
        "colab": {
          "base_uri": "https://localhost:8080/"
        },
        "id": "3jbrFenw9Oto",
        "outputId": "d1bc4034-0a88-4fc2-d400-05bed1985d63"
      },
      "outputs": [
        {
          "output_type": "execute_result",
          "data": {
            "text/plain": [
              "7917"
            ]
          },
          "metadata": {},
          "execution_count": 14
        }
      ],
      "source": [
        "len(reviews[~reviews['rating'].isin(['1', '2', '3', '4', '5'])])"
      ]
    },
    {
      "cell_type": "code",
      "execution_count": 15,
      "metadata": {
        "id": "ZbYHtYR_9Oto"
      },
      "outputs": [],
      "source": [
        "# 평점이 1, 2, 3, 4, 5가 아닌 것들을 제거\n",
        "reviews = reviews[reviews['rating'].isin(['1', '2', '3', '4', '5'])]\n",
        "reviews['rating'] = reviews['rating'].astype('int')"
      ]
    },
    {
      "cell_type": "code",
      "execution_count": 16,
      "metadata": {
        "id": "fhSSoUbV9Otq"
      },
      "outputs": [],
      "source": [
        "# headline, review_content 모두 결측치 있는 row 제거\n",
        "reviews = reviews[reviews[['headline','review_content']].isnull().sum(axis=1) == 0]"
      ]
    },
    {
      "cell_type": "code",
      "execution_count": 17,
      "metadata": {
        "colab": {
          "base_uri": "https://localhost:8080/",
          "height": 53
        },
        "id": "3zHAQM-V9Otq",
        "outputId": "01c34d99-c7d0-4388-bb54-cfea55c1b5cb"
      },
      "outputs": [
        {
          "output_type": "execute_result",
          "data": {
            "text/plain": [
              "Empty DataFrame\n",
              "Columns: [rating, headline, review_content]\n",
              "Index: []"
            ],
            "text/html": [
              "\n",
              "  <div id=\"df-1d21f699-64b2-4d49-af96-c4a8170dc8cd\" class=\"colab-df-container\">\n",
              "    <div>\n",
              "<style scoped>\n",
              "    .dataframe tbody tr th:only-of-type {\n",
              "        vertical-align: middle;\n",
              "    }\n",
              "\n",
              "    .dataframe tbody tr th {\n",
              "        vertical-align: top;\n",
              "    }\n",
              "\n",
              "    .dataframe thead th {\n",
              "        text-align: right;\n",
              "    }\n",
              "</style>\n",
              "<table border=\"1\" class=\"dataframe\">\n",
              "  <thead>\n",
              "    <tr style=\"text-align: right;\">\n",
              "      <th></th>\n",
              "      <th>rating</th>\n",
              "      <th>headline</th>\n",
              "      <th>review_content</th>\n",
              "    </tr>\n",
              "  </thead>\n",
              "  <tbody>\n",
              "  </tbody>\n",
              "</table>\n",
              "</div>\n",
              "    <div class=\"colab-df-buttons\">\n",
              "\n",
              "  <div class=\"colab-df-container\">\n",
              "    <button class=\"colab-df-convert\" onclick=\"convertToInteractive('df-1d21f699-64b2-4d49-af96-c4a8170dc8cd')\"\n",
              "            title=\"Convert this dataframe to an interactive table.\"\n",
              "            style=\"display:none;\">\n",
              "\n",
              "  <svg xmlns=\"http://www.w3.org/2000/svg\" height=\"24px\" viewBox=\"0 -960 960 960\">\n",
              "    <path d=\"M120-120v-720h720v720H120Zm60-500h600v-160H180v160Zm220 220h160v-160H400v160Zm0 220h160v-160H400v160ZM180-400h160v-160H180v160Zm440 0h160v-160H620v160ZM180-180h160v-160H180v160Zm440 0h160v-160H620v160Z\"/>\n",
              "  </svg>\n",
              "    </button>\n",
              "\n",
              "  <style>\n",
              "    .colab-df-container {\n",
              "      display:flex;\n",
              "      gap: 12px;\n",
              "    }\n",
              "\n",
              "    .colab-df-convert {\n",
              "      background-color: #E8F0FE;\n",
              "      border: none;\n",
              "      border-radius: 50%;\n",
              "      cursor: pointer;\n",
              "      display: none;\n",
              "      fill: #1967D2;\n",
              "      height: 32px;\n",
              "      padding: 0 0 0 0;\n",
              "      width: 32px;\n",
              "    }\n",
              "\n",
              "    .colab-df-convert:hover {\n",
              "      background-color: #E2EBFA;\n",
              "      box-shadow: 0px 1px 2px rgba(60, 64, 67, 0.3), 0px 1px 3px 1px rgba(60, 64, 67, 0.15);\n",
              "      fill: #174EA6;\n",
              "    }\n",
              "\n",
              "    .colab-df-buttons div {\n",
              "      margin-bottom: 4px;\n",
              "    }\n",
              "\n",
              "    [theme=dark] .colab-df-convert {\n",
              "      background-color: #3B4455;\n",
              "      fill: #D2E3FC;\n",
              "    }\n",
              "\n",
              "    [theme=dark] .colab-df-convert:hover {\n",
              "      background-color: #434B5C;\n",
              "      box-shadow: 0px 1px 3px 1px rgba(0, 0, 0, 0.15);\n",
              "      filter: drop-shadow(0px 1px 2px rgba(0, 0, 0, 0.3));\n",
              "      fill: #FFFFFF;\n",
              "    }\n",
              "  </style>\n",
              "\n",
              "    <script>\n",
              "      const buttonEl =\n",
              "        document.querySelector('#df-1d21f699-64b2-4d49-af96-c4a8170dc8cd button.colab-df-convert');\n",
              "      buttonEl.style.display =\n",
              "        google.colab.kernel.accessAllowed ? 'block' : 'none';\n",
              "\n",
              "      async function convertToInteractive(key) {\n",
              "        const element = document.querySelector('#df-1d21f699-64b2-4d49-af96-c4a8170dc8cd');\n",
              "        const dataTable =\n",
              "          await google.colab.kernel.invokeFunction('convertToInteractive',\n",
              "                                                    [key], {});\n",
              "        if (!dataTable) return;\n",
              "\n",
              "        const docLinkHtml = 'Like what you see? Visit the ' +\n",
              "          '<a target=\"_blank\" href=https://colab.research.google.com/notebooks/data_table.ipynb>data table notebook</a>'\n",
              "          + ' to learn more about interactive tables.';\n",
              "        element.innerHTML = '';\n",
              "        dataTable['output_type'] = 'display_data';\n",
              "        await google.colab.output.renderOutput(dataTable, element);\n",
              "        const docLink = document.createElement('div');\n",
              "        docLink.innerHTML = docLinkHtml;\n",
              "        element.appendChild(docLink);\n",
              "      }\n",
              "    </script>\n",
              "  </div>\n",
              "\n",
              "    </div>\n",
              "  </div>\n"
            ]
          },
          "metadata": {},
          "execution_count": 17
        }
      ],
      "source": [
        "# headline, review_content 모두 내용이 없는 row\n",
        "reviews[reviews['headline'].str.contains('등록된 헤드라인이') & reviews['review_content'].str.contains('등록된 리뷰내용이')]"
      ]
    },
    {
      "cell_type": "code",
      "execution_count": 18,
      "metadata": {
        "colab": {
          "base_uri": "https://localhost:8080/"
        },
        "id": "xWM26tJf9Otr",
        "outputId": "535ac6f0-609d-48a8-f0fd-d92143690912"
      },
      "outputs": [
        {
          "output_type": "execute_result",
          "data": {
            "text/plain": [
              "5    1242808\n",
              "4     192548\n",
              "3      74551\n",
              "2      29309\n",
              "1      51292\n",
              "Name: rating, dtype: int64"
            ]
          },
          "metadata": {},
          "execution_count": 18
        }
      ],
      "source": [
        "reviews['rating'].value_counts().sort_index(ascending=False)"
      ]
    },
    {
      "cell_type": "code",
      "execution_count": 19,
      "metadata": {
        "colab": {
          "base_uri": "https://localhost:8080/",
          "height": 834
        },
        "id": "DCRiYc4g9Ots",
        "outputId": "e3dbcd64-995a-4cc1-e37e-f257262e0366"
      },
      "outputs": [
        {
          "output_type": "stream",
          "name": "stderr",
          "text": [
            "WARNING:matplotlib.font_manager:findfont: Font family 'AppleGothic' not found.\n",
            "WARNING:matplotlib.font_manager:findfont: Font family 'AppleGothic' not found.\n",
            "WARNING:matplotlib.font_manager:findfont: Font family 'AppleGothic' not found.\n",
            "WARNING:matplotlib.font_manager:findfont: Font family 'AppleGothic' not found.\n",
            "WARNING:matplotlib.font_manager:findfont: Font family 'AppleGothic' not found.\n",
            "WARNING:matplotlib.font_manager:findfont: Font family 'AppleGothic' not found.\n",
            "WARNING:matplotlib.font_manager:findfont: Font family 'AppleGothic' not found.\n",
            "WARNING:matplotlib.font_manager:findfont: Font family 'AppleGothic' not found.\n",
            "WARNING:matplotlib.font_manager:findfont: Font family 'AppleGothic' not found.\n",
            "WARNING:matplotlib.font_manager:findfont: Font family 'AppleGothic' not found.\n",
            "WARNING:matplotlib.font_manager:findfont: Font family 'AppleGothic' not found.\n",
            "WARNING:matplotlib.font_manager:findfont: Font family 'AppleGothic' not found.\n",
            "WARNING:matplotlib.font_manager:findfont: Font family 'AppleGothic' not found.\n",
            "WARNING:matplotlib.font_manager:findfont: Font family 'AppleGothic' not found.\n",
            "WARNING:matplotlib.font_manager:findfont: Font family 'AppleGothic' not found.\n",
            "WARNING:matplotlib.font_manager:findfont: Font family 'AppleGothic' not found.\n",
            "WARNING:matplotlib.font_manager:findfont: Font family 'AppleGothic' not found.\n",
            "WARNING:matplotlib.font_manager:findfont: Font family 'AppleGothic' not found.\n",
            "WARNING:matplotlib.font_manager:findfont: Font family 'AppleGothic' not found.\n",
            "WARNING:matplotlib.font_manager:findfont: Font family 'AppleGothic' not found.\n",
            "WARNING:matplotlib.font_manager:findfont: Font family 'AppleGothic' not found.\n",
            "WARNING:matplotlib.font_manager:findfont: Font family 'AppleGothic' not found.\n"
          ]
        },
        {
          "output_type": "display_data",
          "data": {
            "text/plain": [
              "<Figure size 640x480 with 1 Axes>"
            ],
            "image/png": "[encoded data removed]"
          },
          "metadata": {}
        }
      ],
      "source": [
        "# 평점 분포 확인\n",
        "\n",
        "x = [f\"{rating} ({count})\" for rating, count in reviews['rating'].value_counts().sort_index(ascending=False).items()]\n",
        "\n",
        "sns.barplot(x=x, y=reviews['rating'].value_counts().sort_index(ascending=False).values)\n",
        "# y축에 표시 없애기\n",
        "plt.title('평점 분포')\n",
        "plt.yticks([])\n",
        "plt.show()\n"
      ]
    },
    {
      "cell_type": "code",
      "execution_count": 20,
      "metadata": {
        "id": "ejPocZQN9Ots"
      },
      "outputs": [],
      "source": [
        "# '등록된 헤드라인이 없습니다' 포함한 headline 빈 문자열로 변경\n",
        "# '등록된 리뷰내용이 없습니다' 포함한 review_content 빈 문자열로 변경\n",
        "reviews['headline'] = np.where(reviews['headline'].str.contains('등록된 헤드라인이'), '', reviews['headline'])\n",
        "reviews['review_content'] = np.where(reviews['review_content'].str.contains('등록된 리뷰내용이'), '', reviews['review_content'])"
      ]
    },
    {
      "cell_type": "code",
      "execution_count": 21,
      "metadata": {
        "id": "5cXLh85p9Ots"
      },
      "outputs": [],
      "source": [
        "# headline, review_content 공백을 기준으로 합치기\n",
        "reviews['content'] = reviews['headline'] + \" \" + reviews['review_content']\n",
        "reviews = reviews[['rating', 'content']].reset_index(drop=True)"
      ]
    },
    {
      "cell_type": "code",
      "execution_count": 22,
      "metadata": {
        "colab": {
          "base_uri": "https://localhost:8080/"
        },
        "id": "eZvpJKuf9Ott",
        "outputId": "532c1d3b-0ab4-4c66-c87f-eaaa8925762d"
      },
      "outputs": [
        {
          "output_type": "stream",
          "name": "stdout",
          "text": [
            "779873\n",
            "1590508\n",
            "810635\n"
          ]
        }
      ],
      "source": [
        "# 중복된 리뷰 제거\n",
        "print(reviews.duplicated(subset=['rating', 'content']).sum())\n",
        "print(len(reviews))\n",
        "reviews.drop_duplicates(subset=['rating', 'content'], keep='first', inplace=True)\n",
        "print(len(reviews))"
      ]
    },
    {
      "cell_type": "code",
      "execution_count": 23,
      "metadata": {
        "colab": {
          "base_uri": "https://localhost:8080/"
        },
        "id": "b-XyCVMf9Ott",
        "outputId": "a2bf721c-23dc-4923-bf8a-606dee0d9b68"
      },
      "outputs": [
        {
          "output_type": "stream",
          "name": "stdout",
          "text": [
            "Requirement already satisfied: konlpy in /usr/local/lib/python3.10/dist-packages (0.6.0)\n",
            "Requirement already satisfied: JPype1>=0.7.0 in /usr/local/lib/python3.10/dist-packages (from konlpy) (1.4.1)\n",
            "Requirement already satisfied: lxml>=4.1.0 in /usr/local/lib/python3.10/dist-packages (from konlpy) (4.9.3)\n",
            "Requirement already satisfied: numpy>=1.6 in /usr/local/lib/python3.10/dist-packages (from konlpy) (1.23.5)\n",
            "Requirement already satisfied: packaging in /usr/local/lib/python3.10/dist-packages (from JPype1>=0.7.0->konlpy) (23.2)\n"
          ]
        }
      ],
      "source": [
        "!pip install konlpy\n",
        "from konlpy.tag import Komoran, Okt, Kkma\n",
        "import re\n",
        "\n",
        "kkma = Kkma()\n",
        "komoran = Komoran()\n",
        "okt = Okt()\n",
        "\n",
        "# 한글과 공백을 제외하고 모두 제거\n",
        "def apply_regular_expression(text):\n",
        "    hangul = re.compile('[^ ㄱ-ㅣ 가-힣]')\n",
        "    result = hangul.sub('', text)\n",
        "    return result"
      ]
    },
    {
      "cell_type": "code",
      "execution_count": 24,
      "metadata": {
        "colab": {
          "base_uri": "https://localhost:8080/"
        },
        "id": "3GA0XRMz9Ott",
        "outputId": "ff168f38-63a0-4e2d-e6bb-24a1582b0b06"
      },
      "outputs": [
        {
          "output_type": "stream",
          "name": "stdout",
          "text": [
            "총알배송 진짜네요 급하게 쓸 채가 필요해서 쿠팡 둘러보다 지브이 골프채를 발견했어요    와이골프 판매자로 검색하니 다른곳에가격대가 조금 더 높은것들도 있던데  이게 더 신형 같아서    년형 뉴그레이트 빅토리 ㅡ샀습니다 지브이투어는 처음 둘어본 골프채에요 어제 스크린 갔더니 번은  나오고  번은  정도 나오네요  어 생각보다 가볍게 잘  맞아요ㅡ저는 골프 안친지 오래된 대 아줌마인데요다시 레슨 끊게 되어ㅡ급히 구매하였고 미즈노하고 가격차이가 별로없어 살짝 고민했어요중고가격 안나올텐데 우짤꼬 반품할까 하루는 고민했어요 근데 꺼내보니 오 드라이버도 너무너무 예쁘고  전에 쓰던 다이와하고 비교해서이게 그립이 뚜꺼워서 잡기 편하고 헐겁지않아 좋은거 같야요채가 단단한 느낌에 무게는 적당히 가볍고요망설임에 도움되실까 열심히 적어봅니다ㅎㅎ번창하세요\n"
          ]
        }
      ],
      "source": [
        "s = apply_regular_expression(reviews.iloc[63]['content'])\n",
        "print(s)\n",
        "\n",
        "# morphs : 형태소 추출\n",
        "# nouns : 명사 추출\n",
        "\n",
        "# kkma -> 속도 너무 느림\n",
        "# komoran -> 속도 빠름, 하지만 명사를 너무 잘게 나눔 (ex. 배송 -> 배,송)\n",
        "# okt -> 속도 빠름, 명사 추출에 좋은 성능을 보임\n",
        "\n",
        "# 형태소 없이 명사만 추출해도 의미를 파악하는데 충분하다고 판단\n",
        "# print(kkma.morphs(s))\n",
        "# print(kkma.nouns(s))\n",
        "# print()\n",
        "# print(komoran.morphs(s))\n",
        "# print(komoran.nouns(s))\n",
        "# print()\n",
        "# print(okt.morphs(s))\n",
        "# print(okt.nouns(s))"
      ]
    },
    {
      "cell_type": "code",
      "execution_count": 25,
      "metadata": {
        "colab": {
          "base_uri": "https://localhost:8080/"
        },
        "id": "yIAGyM2L9Ott",
        "outputId": "142ad53d-7c06-49ff-da75-a0083cf010b4"
      },
      "outputs": [
        {
          "output_type": "stream",
          "name": "stdout",
          "text": [
            "['총알', '배송', '진짜', '쿠팡', '브이', '골프채', '발견', '골프', '판매', '자로', '검색', '가격', '조금', '신형', '그레이', '빅토리', '브이', '투어', '처음', '골프채', '어제', '스크린', '번은', '번은', '정도', '생각', '골프', '아줌마', '다시', '레슨', '구매', '미즈노', '가격', '차이', '별로', '살짝', '고민', '중고', '가격', '우짤꼬', '반품', '하루', '고민', '드라이버', '비교', '잡기', '느낌', '무게', '도움', '번창']\n"
          ]
        }
      ],
      "source": [
        "# 한글자로 된 단어는 의미가 없으므로 제거\n",
        "print([word for word in okt.nouns(s) if len(word) > 1])"
      ]
    },
    {
      "cell_type": "code",
      "execution_count": 26,
      "metadata": {
        "colab": {
          "base_uri": "https://localhost:8080/"
        },
        "id": "zSH_S1fw9Otu",
        "outputId": "c18e17c7-985e-4403-d375-8dc18e40c4b8"
      },
      "outputs": [
        {
          "output_type": "execute_result",
          "data": {
            "text/plain": [
              "Counter({'총알': 1,\n",
              "         '배송': 1,\n",
              "         '진짜': 1,\n",
              "         '쿠팡': 1,\n",
              "         '브이': 2,\n",
              "         '골프채': 2,\n",
              "         '발견': 1,\n",
              "         '골프': 2,\n",
              "         '판매': 1,\n",
              "         '자로': 1,\n",
              "         '검색': 1,\n",
              "         '가격': 3,\n",
              "         '조금': 1,\n",
              "         '신형': 1,\n",
              "         '그레이': 1,\n",
              "         '빅토리': 1,\n",
              "         '투어': 1,\n",
              "         '처음': 1,\n",
              "         '어제': 1,\n",
              "         '스크린': 1,\n",
              "         '번은': 2,\n",
              "         '정도': 1,\n",
              "         '생각': 1,\n",
              "         '아줌마': 1,\n",
              "         '다시': 1,\n",
              "         '레슨': 1,\n",
              "         '구매': 1,\n",
              "         '미즈노': 1,\n",
              "         '차이': 1,\n",
              "         '별로': 1,\n",
              "         '살짝': 1,\n",
              "         '고민': 2,\n",
              "         '중고': 1,\n",
              "         '우짤꼬': 1,\n",
              "         '반품': 1,\n",
              "         '하루': 1,\n",
              "         '드라이버': 1,\n",
              "         '비교': 1,\n",
              "         '잡기': 1,\n",
              "         '느낌': 1,\n",
              "         '무게': 1,\n",
              "         '도움': 1,\n",
              "         '번창': 1})"
            ]
          },
          "metadata": {},
          "execution_count": 26
        }
      ],
      "source": [
        "# 빈도 분석\n",
        "from collections import Counter\n",
        "\n",
        "counter = Counter([word for word in okt.nouns(s) if len(word) > 1])\n",
        "\n",
        "counter"
      ]
    },
    {
      "cell_type": "code",
      "execution_count": 27,
      "metadata": {
        "colab": {
          "base_uri": "https://localhost:8080/"
        },
        "id": "lvuaKZ4e9Otu",
        "outputId": "0b6d46d8-8911-4836-9b86-4d2785030e67"
      },
      "outputs": [
        {
          "output_type": "stream",
          "name": "stdout",
          "text": [
            "674\n",
            "[['휴'], ['아이구'], ['아이쿠'], ['아이고'], ['어'], ['나'], ['우리'], ['저희'], ['따라'], ['의해']]\n"
          ]
        }
      ],
      "source": [
        "# 불용어 제거\n",
        "stopwords = pd.read_csv(\"https://raw.githubusercontent.com/yoonkt200/FastCampusDataset/master/korean_stopwords.txt\").values.tolist()\n",
        "print(len(stopwords))\n",
        "print(stopwords[:10])\n",
        "\n",
        "# 리뷰 데이터에 많이 포함된 불용어 추가\n",
        "stopwords.extend(['쿠팡', '리뷰'])\n"
      ]
    },
    {
      "cell_type": "code",
      "execution_count": 28,
      "metadata": {
        "colab": {
          "base_uri": "https://localhost:8080/"
        },
        "id": "ZTN979K19Otu",
        "outputId": "169d582e-1890-4db6-caf6-e51068c65f65"
      },
      "outputs": [
        {
          "output_type": "stream",
          "name": "stdout",
          "text": [
            " 1    610664\n",
            "-1    105659\n",
            " 0     94312\n",
            "Name: sentiment, dtype: int64\n",
            "1    15000\n",
            "0    15000\n",
            "Name: sentiment, dtype: int64\n",
            "(30000, 3)\n",
            "(18000,) (18000,)\n",
            "(6000,) (6000,)\n",
            "(6000,) (6000,)\n",
            "0    9026\n",
            "1    8974\n",
            "Name: sentiment, dtype: int64\n",
            "1    3030\n",
            "0    2970\n",
            "Name: sentiment, dtype: int64\n",
            "0    3004\n",
            "1    2996\n",
            "Name: sentiment, dtype: int64\n"
          ]
        }
      ],
      "source": [
        "from sklearn.model_selection import train_test_split\n",
        "\n",
        "def split_rating(rating):\n",
        "    if rating == 5:\n",
        "        return 1\n",
        "    if rating in [1,2,3]:\n",
        "        return 0\n",
        "    return -1\n",
        "\n",
        "reviews['sentiment'] = reviews['rating'].apply(split_rating)\n",
        "print(reviews['sentiment'].value_counts())\n",
        "\n",
        "reviews_sample_positive = reviews[reviews['sentiment'] == 1].sample(15000, random_state=1353)\n",
        "reviews_sample_negative = reviews[reviews['sentiment'] == 0].sample(15000, random_state=1353)\n",
        "reviews_sample = pd.concat([reviews_sample_positive, reviews_sample_negative]).reset_index(drop=True)\n",
        "print(reviews_sample['sentiment'].value_counts())\n",
        "print(reviews_sample.shape)\n",
        "\n",
        "train_x, temp_x, train_y, temp_y = train_test_split(reviews_sample['content'], reviews_sample['sentiment'], test_size=0.4, random_state=1353)\n",
        "test_x, valid_x, test_y, valid_y = train_test_split(temp_x, temp_y, test_size=0.5, random_state=1353)\n",
        "\n",
        "del temp_x, temp_y\n",
        "\n",
        "print(train_x.shape, train_y.shape)\n",
        "print(valid_x.shape, valid_y.shape)\n",
        "print(test_x.shape, test_y.shape)\n",
        "\n",
        "print(train_y.value_counts())\n",
        "print(valid_y.value_counts())\n",
        "print(test_y.value_counts())\n",
        "\n"
      ]
    },
    {
      "cell_type": "code",
      "execution_count": 29,
      "metadata": {
        "id": "ob1oibqv9Otu"
      },
      "outputs": [],
      "source": [
        "from sklearn.feature_extraction.text import CountVectorizer\n",
        "\n",
        "def text_cleaning(text):\n",
        "    hangul = re.compile('[^ ㄱ-ㅣ 가-힣]')\n",
        "    result = hangul.sub('', text)\n",
        "    result = [word for word in okt.nouns(result) if len(word) > 1]\n",
        "    result = [word for word in result if not word in stopwords]\n",
        "    return result\n",
        "\n",
        "cv = CountVectorizer(tokenizer = lambda x: text_cleaning(x))\n",
        "cv.fit(train_x)\n",
        "x_train_cv = cv.transform(train_x)\n",
        "x_valid_cv = cv.transform(valid_x)\n",
        "x_test_cv = cv.transform(test_x)"
      ]
    },
    {
      "cell_type": "code",
      "execution_count": 30,
      "metadata": {
        "colab": {
          "base_uri": "https://localhost:8080/"
        },
        "id": "jFg8KAhL9Otv",
        "outputId": "a9753171-1df9-48bf-fc82-8458dcc1f0dd"
      },
      "outputs": [
        {
          "output_type": "stream",
          "name": "stdout",
          "text": [
            "[[0 0 0 ... 0 0 0]\n",
            " [0 0 0 ... 0 0 0]\n",
            " [0 0 0 ... 0 0 0]\n",
            " ...\n",
            " [0 0 0 ... 0 0 0]\n",
            " [0 0 0 ... 0 0 0]\n",
            " [0 0 0 ... 0 0 0]]\n",
            "(18000, 21231)\n",
            "21231\n",
            "21231\n",
            "['구매' '제품' '사용' '가격' '생각' '정도' '배송' '그냥' '후기' '주문' '상품' '피부' '느낌' '사이즈'\n",
            " '구입' '하나' '냄새' '정말' '도움' '부분' '아이' '조금' '진짜' '추천' '한번' '다른' '머리' '아주'\n",
            " '처음' '포장']\n",
            "{'가가': 16, '가감': 4, '가게': 63, '가격': 3918, '가격댜': 1, '가격텍': 1, '가겯': 1, '가경': 2, '가계': 1, '가공': 33, '가공품': 3, '가구': 124, '가구라': 5, '가구점': 7, '가글': 1, '가기': 58, '가까이': 63, '가끔': 344, '가나': 40, '가내': 2, '가년': 1, '가농': 25, '가늠': 10, '가능': 122, '가능도': 1, '가능성': 14, '가능풍량': 1, '가닐려구': 1, '가다가': 5, '가닥': 9, '가대': 1, '가데': 1, '가도': 14, '가독성': 2, '가동': 6, '가드': 46, '가득': 121, '가든': 1, '가듬': 1, '가디건': 45, '가뜩이나': 4, '가라': 22, '가라아게': 1, '가라지': 1, '가락': 7, '가랑비': 1, '가랑이': 11, '가래': 6, '가래떡': 23, '가량': 35, '가려움': 40, '가려움증': 11, '가려진': 1, '가렵': 14, '가렵거': 1, '가렵기': 3, '가렵네': 1, '가렵다': 3, '가렵다해': 1, '가렵지': 1, '가렵진않음': 1, '가령': 2, '가로': 55, '가로세로': 3, '가루': 370, '가루라': 3, '가루약': 2, '가루타': 2, '가르마': 10, '가름': 1, '가리개': 9, '가리마': 2, '가림': 1, '가마': 1, '가마니': 1, '가마솥': 1, '가먼트': 1, '가면': 79, '가면택': 1, '가물': 12, '가뭄': 6, '가미': 5, '가바': 11, '가방': 325, '가배': 1, '가뱝': 1, '가법': 2, '가보': 3, '가봉': 1, '가부': 3, '가브럿네': 1, '가비': 1, '가사': 6, '가사도': 1, '가산': 4, '가상': 1, '가선': 2, '가설': 1, '가성': 1160, '가세': 3, '가세영': 1, '가셧는대': 1, '가속': 1, '가수': 1, '가스': 49, '가스레인지': 20, '가스렌지': 10, '가슴': 437, '가슴통': 1, '가습기': 8, '가시': 60, '가시대': 2, '가시도': 11, '가시밖힌것': 1, '가시와': 1, '가신': 1, '가안': 10, '가야': 22, '가야대': 1, '가약': 1, '가양': 2, '가어': 1, '가연': 2, '가열': 46, '가염': 7, '가오': 2, '가오몬': 2, '가온': 2, '가왜': 6, '가요': 182, '가요제': 3, '가용': 19, '가운': 3, '가운데': 62, '가울': 1, '가원': 5, '가위': 68, '가유': 2, '가율': 1, '가은': 1, '가을': 112, '가을로': 2, '가을비': 1, '가의': 4, '가이거': 1, '가이드': 4, '가인': 3, '가일': 1, '가입': 22, '가자미': 10, '가작': 5, '가장': 403, '가장자리': 29, '가재': 1, '가전': 28, '가전제품': 16, '가정': 92, '가정은': 2, '가정의학': 1, '가제': 4, '가젤': 1, '가조': 1, '가족': 313, '가족부': 1, '가족사진': 1, '가죽': 75, '가중': 2, '가즈': 1, '가지': 589, '가지가지': 1, '가진동': 1, '가짐': 1, '가집': 2, '가짜': 19, '가차': 1, '가책': 2, '가축': 1, '가출': 1, '가치': 25, '가타': 3, '가토': 3, '가트': 1, '가편': 1, '가평': 1, '가폰': 1, '가품': 30, '가풍': 1, '가해': 10, '가행': 1, '가형': 9, '가호': 1, '가화': 3, '가희': 4, '각각': 48, '각각으로': 1, '각거리': 1, '각광': 1, '각국': 2, '각기': 3, '각도': 30, '각막': 1, '각별': 1, '각본': 1, '각설탕': 1, '각성': 1, '각양각색': 1, '각오': 11, '각의': 1, '각인': 2, '각자': 26, '각종': 52, '각지': 7, '각질': 186, '각하': 1, '간간': 6, '간격': 21, '간경변': 1, '간경화': 1, '간과': 3, '간구': 1, '간나': 1, '간날': 1, '간다': 26, '간단': 29, '간담': 2, '간도': 16, '간독': 1, '간략': 1, '간만': 21, '간반': 3, '간병': 1, '간사': 1, '간사이': 1, '간섭': 4, '간세포': 1, '간수': 10, '간수치': 7, '간식': 396, '간신': 2, '간약': 2, '간에이': 1, '간염': 2, '간이': 70, '간작': 1, '간장': 106, '간장게장': 1, '간절': 15, '간접': 3, '간정': 2, '간주': 1, '간지': 4, '간질': 1, '간짜장': 5, '간쪽': 1, '간쯔': 1, '간판': 1, '간편': 26, '간편식': 10, '간호': 1, '간호사': 2, '간혹': 43, '갇다': 1, '갈고': 12, '갈고리': 2, '갈기': 5, '갈등': 3, '갈떄': 1, '갈라': 2, '갈라고': 1, '갈레': 1, '갈리': 12, '갈릭': 15, '갈릴': 10, '갈림': 2, '갈림길': 1, '갈바': 3, '갈비': 29, '갈비살': 19, '갈비찜': 4, '갈비탕': 1, '갈색': 95, '갈수': 9, '갈수록': 22, '갈슘': 1, '갈옷': 1, '갈이': 11, '갈증': 17, '갈치': 19, '갈퀴': 1, '감각': 6, '감겨': 7, '감격': 10, '감고': 66, '감고헹굴때': 1, '감굿': 1, '감귤': 29, '감귤류': 2, '감기': 90, '감당': 20, '감돈': 1, '감동': 33, '감등뭐': 1, '감땜': 1, '감량': 14, '감마': 3, '감무': 1, '감뭐': 1, '감미': 1, '감미료': 24, '감별': 1, '감사': 79, '감상': 12, '감성': 25, '감성뿜뿜': 1, '감세': 1, '감소': 35, '감손': 1, '감솨': 1, '감수': 25, '감수성': 1, '감시': 1, '감안': 77, '감염': 8, '감임': 2, '감자': 228, '감자전': 16, '감자칩': 6, '감자탕': 2, '감쟈합니': 1, '감점': 3, '감정': 9, '감지': 10, '감지덕지': 1, '감쪽': 7, '감천': 1, '감청': 1, '감초': 2, '감촉': 28, '감칠': 1, '감칠맛': 44, '감키': 1, '감탄': 14, '감탄사': 1, '감퇴': 1, '감후': 1, '감흥': 3, '감히': 8, '갑각류': 3, '갑갑': 1, '갑니댜': 1, '갑상선': 1, '갑오징어': 2, '갑인': 6, '갑자': 2, '갑자기': 219, '갑작': 1, '갑작스레': 1, '갑투더': 1, '값못': 1, '값어치': 12, '값해': 1, '갓길': 1, '갓집': 1, '강가': 3, '강건': 2, '강검짐': 1, '강국': 1, '강권': 1, '강남': 2, '강냉이': 2, '강도': 49, '강된장': 1, '강렉': 1, '강려': 2, '강력': 85, '강력셋팅': 1, '강렬': 1, '강매': 2, '강박': 1, '강불': 2, '강비': 1, '강사': 2, '강산': 1, '강습': 6, '강시': 1, '강아지': 55, '강안': 2, '강약': 6, '강웅': 2, '강원도': 3, '강유': 1, '강의': 9, '강재': 1, '강점': 4, '강정': 4, '강제': 5, '강조': 16, '강주': 1, '강쥐': 7, '강철': 5, '강추': 170, '강추임': 2, '강추제': 1, '강츄': 1, '강탈': 1, '강판': 2, '강풍': 3, '강하': 4, '강하나': 1, '강하니': 1, '강해진': 2, '강햇': 1, '강호동': 1, '강화': 40, '강화유리': 4, '갖가지': 3, '갖은': 2, '갗아': 1, '갘단히': 1, '같드라구': 2, '같아엽': 1, '같아욤': 2, '같은핏': 1, '개각': 1, '개간': 1, '개강': 4, '개개': 2, '개개인': 13, '개겹': 1, '개구': 10, '개구리': 4, '개국': 2, '개근': 1, '개꾸르맛': 1, '개꿀': 2, '개꿀맛': 2, '개나리': 1, '개년': 1, '개념': 14, '개녹': 1, '개대': 1, '개도': 35, '개두': 1, '개똥': 2, '개똥망': 1, '개똥손': 1, '개똥이': 2, '개량': 4, '개로': 1, '개론': 1, '개맛': 10, '개머릿결': 1, '개명': 1, '개물': 1, '개밖애': 1, '개발': 15, '개발자': 2, '개방': 4, '개별': 134, '개보': 3, '개복치': 1, '개봉': 200, '개봉시': 11, '개봉일': 1, '개봉쿠': 1, '개비': 3, '개빢침': 1, '개빼': 1, '개뻥예열': 1, '개뿔': 6, '개사': 9, '개산': 1, '개살구': 1, '개삿': 3, '개삿는데': 1, '개색': 1, '개선': 218, '개성': 4, '개솔': 1, '개수': 17, '개시': 18, '개심': 5, '개아택스': 1, '개업': 3, '개열': 3, '개오지': 1, '개옴': 1, '개요': 1, '개욕': 1, '개운': 2, '개월': 322, '개월눙물': 1, '개월때': 1, '개월분': 1, '개월살': 1, '개월수': 2, '개월안': 1, '개월일': 1, '개월전': 4, '개월차': 3, '개월치': 2, '개윌': 1, '개이득': 3, '개인': 457, '개인화': 1, '개일론': 1, '개임': 4, '개입': 85, '개잡쳣습니': 1, '개잣': 1, '개재': 1, '개저': 1, '개전': 2, '개점': 1, '개정': 31, '개젛': 1, '개제': 5, '개조': 3, '개조차': 1, '개줌': 1, '개중': 47, '개지': 2, '개진': 1, '개짐': 4, '개집': 1, '개쩌': 1, '개쩖': 1, '개쪽': 1, '개취': 5, '개카': 1, '개코': 3, '개털': 12, '개통': 2, '개판': 15, '개편': 1, '개폐': 1, '개풀': 1, '개학': 1, '객관': 11, '객선': 1, '객지': 3, '갠데': 1, '갠찮': 2, '갠찮겟거니히닛으': 1, '갠찮긴': 1, '갠찮네': 1, '갠찮습': 1, '갠찮은데': 1, '갤러리아': 1, '갤럭시': 49, '갤럭시탭': 1, '갤탭': 5, '갯벌': 1, '갯수': 60, '갱년기': 15, '갸드': 1, '갸챠': 1, '걀걀걀': 1, '걋수': 1, '거가': 3, '거걑': 1, '거거': 1, '거거익선': 2, '거겟': 1, '거격': 3, '거구': 9, '거기': 180, '거꾸로': 16, '거나': 236, '거대': 2, '거더': 1, '거도': 7, '거동': 1, '거두': 2, '거드': 1, '거듭': 3, '거때매': 1, '거땜': 1, '거또': 1, '거래': 4, '거래처': 1, '거려': 31, '거려봄': 1, '거렸': 6, '거렸고손': 1, '거렸어': 1, '거론': 2, '거르': 6, '거르기': 1, '거르다보': 1, '거르려': 1, '거르려고': 1, '거르세': 2, '거른다': 1, '거름': 10, '거름종이': 1, '거릅니다': 1, '거리': 343, '거린': 1, '거린데': 1, '거릴': 1, '거릴까봐': 1, '거릴때': 2, '거림': 15, '거림왜': 1, '거립': 1, '거립니': 9, '거마': 9, '거만': 27, '거머': 1, '거멓': 1, '거무': 3, '거무스름': 2, '거무스름한': 1, '거무잡': 1, '거무틔튀': 1, '거물': 1, '거뭇': 2, '거뭇거뭇': 6, '거뭐': 2, '거미': 1, '거미줄': 2, '거볍': 1, '거보냇': 2, '거보닞': 1, '거봉': 1, '거부': 93, '거북': 4, '거북목': 1, '거북이': 1, '거사': 17, '거살걸': 1, '거살돈': 1, '거살바': 1, '거삼': 1, '거삿': 1, '거스히': 1, '거실': 64, '거여': 4, '거오': 1, '거왜': 1, '거울': 168, '거웅': 1, '거위': 3, '거유': 1, '거을때': 2, '거의': 560, '거인': 2, '거일': 1, '거임': 6, '거장': 2, '거저': 14, '거적': 2, '거전': 1, '거절': 5, '거제': 3, '거조': 1, '거주': 5, '거중': 5, '거쥬': 1, '거즈': 3, '거즘': 2, '거지': 28, '거짓': 6, '거짓말': 12, '거참': 3, '거치': 63, '거품': 269, '거픔': 1, '거피': 1, '걱절': 1, '걱정': 561, '건가': 142, '건강': 480, '건강검진': 11, '건강미': 1, '건겅': 1, '건과류': 8, '건국': 2, '건너': 2, '건대': 1, '건더기': 30, '건덩': 1, '건데': 86, '건데알': 1, '건데왜': 1, '건데컵': 1, '건또': 1, '건립': 1, '건마': 1, '건만': 2, '건면': 7, '건물': 6, '건방증': 1, '건빵': 2, '건선': 1, '건설': 1, '건성': 187, '건승': 1, '건시': 1, '건아': 7, '건어물': 1, '건의': 2, '건일': 1, '건재': 1, '건저': 1, '건전': 7, '건전지': 30, '건절': 1, '건조': 162, '건조과일': 3, '건조기': 201, '건조기후': 1, '건조대': 6, '건좀': 1, '건줄': 1, '건짘': 1, '건초': 1, '건포도': 15, '걷기': 17, '걷이': 1, '걸때': 1, '걸렀는데': 1, '걸레': 13, '걸렷': 2, '걸루': 7, '걸류': 2, '걸름망': 2, '걸보냇': 1, '걸살': 1, '걸삿': 1, '걸쇠': 3, '걸옷': 1, '걸왜': 1, '걸왜삿': 1, '걸음': 14, '걸이': 50, '걸정': 1, '걸죽': 3, '걸처': 1, '검검': 1, '검댕': 2, '검버섯': 1, '검사': 53, '검색': 314, '검수': 114, '검은색': 67, '검정': 89, '검정색': 90, '검증': 14, '검지': 6, '검진': 6, '검토': 4, '검품': 1, '겁나쌔': 1, '겁내': 3, '것던': 1, '것때매': 1, '것보': 1, '것쌀때': 1, '것일': 1, '것임': 6, '것터럼': 1, '겅그러': 1, '겅색': 1, '겉감': 3, '겉껍질': 4, '겉도': 18, '겉돈': 1, '겉돔': 1, '겉면': 8, '겉모습': 4, '겉모양': 5, '겉바': 11, '겉보기': 6, '겉봉': 3, '겉옷': 9, '겉옷안': 2, '겉잎': 2, '겉절이': 5, '게거품': 1, '게게': 1, '게눈': 4, '게다가': 93, '게란': 1, '게로': 3, '게말': 1, '게뭐': 4, '게뭘': 1, '게뭡': 1, '게속': 5, '게시': 2, '게시판': 1, '게양': 1, '게옷': 2, '게으름': 2, '게으름뱅이': 1, '게이': 30, '게이고': 1, '게이밍': 2, '게이지': 2, '게인': 1, '게임': 116, '게임기': 3, '게토레이': 1, '게톡': 1, '게티맛': 1, '겐네': 1, '겐지': 2, '겐찮': 1, '겐찮겠쥬': 1, '겐찮을': 1, '겔일리윤': 1, '겟겟근데': 1, '겟네': 1, '겟다': 1, '겟립밤': 1, '겟배송': 1, '겟사람': 1, '겟습': 1, '겟어': 2, '겟할': 1, '겟했습니당': 1, '겣이': 1, '겨드랑이': 21, '겨론해': 1, '겨를': 3, '겨속': 1, '겨우': 83, '겨우내': 1, '겨울': 347, '겨울방학': 1, '겨울왕국': 1, '겨울철': 59, '겨자': 10, '겨팼': 1, '겨환': 1, '격감': 7, '격동': 1, '격변': 2, '격비': 1, '격상': 1, '격습니': 1, '격식': 2, '격의': 1, '격인': 2, '격일': 1, '격입니': 1, '격조': 1, '격차': 2, '격침': 1, '격투': 1, '격하': 2, '견고': 5, '견과': 50, '견과루맛': 1, '견과류': 122, '견도': 1, '견뢰도': 1, '견미리': 1, '견본': 1, '견적': 1, '견주': 1, '견주어': 3, '견해': 9, '겯들': 1, '결곡': 1, '결과': 152, '결과물': 6, '결단': 4, '결데': 1, '결로': 2, '결론': 147, '결명자': 16, '결명자차': 12, '결벽': 1, '결부': 1, '결석': 1, '결선': 5, '결심': 13, '결장': 1, '결재': 7, '결점': 15, '결정': 136, '결제': 28, '결착': 3, '결코': 4, '결핍': 21, '결하': 2, '결함': 8, '결합': 17, '결합부': 4, '결합염': 3, '결합조직': 4, '결혼': 28, '결혼식': 3, '결혼식장': 1, '겸로': 1, '겸사겸사': 7, '겸색': 1, '겸용': 17, '겸자': 1, '겸함': 1, '겸허': 2, '겹겹이': 4, '겹살': 13, '겹속': 1, '겹치': 1, '겹치기': 1, '겹친': 1, '겹해': 1, '겻어': 1, '경계': 5, '경고': 1, '경과': 9, '경극': 1, '경기': 9, '경기도': 12, '경남': 5, '경단': 1, '경도': 2, '경락': 1, '경량': 15, '경력': 2, '경련': 8, '경로': 7, '경보': 4, '경북': 1, '경비실': 7, '경사': 1, '경상도': 3, '경상북도': 1, '경악': 2, '경영': 2, '경우': 426, '경운': 1, '경운기': 1, '경위': 1, '경의': 1, '경이': 1, '경작': 1, '경쟁': 2, '경쟁력': 3, '경제': 25, '경제성': 3, '경지': 2, '경차': 2, '경찰차': 1, '경첩': 1, '경청': 1, '경칩': 3, '경향': 10, '경험': 101, '경험치': 1, '경화유': 2, '곁눈질': 1, '곂쳐': 1, '계곡': 10, '계기': 30, '계단': 15, '계란': 821, '계란노른자': 1, '계란말이': 32, '계란스크램블': 1, '계란찜': 35, '계란판': 1, '계란프라이': 6, '계란후라이': 64, '계랴껍질': 1, '계량': 10, '계량컵': 2, '계로': 1, '계류': 1, '계륵': 1, '계린': 1, '계면활성제': 4, '계묘년': 1, '계발': 1, '계방': 1, '계보': 1, '계부': 2, '계산': 16, '계산기': 1, '계선': 1, '계속': 977, '계솓': 1, '계시': 15, '계쏙': 1, '계약': 4, '계열': 51, '계위': 1, '계장': 1, '계절': 73, '계정': 4, '계좌': 1, '계지': 1, '계층': 1, '계통': 2, '계패': 1, '계피': 2, '계핏': 1, '계핏가루': 1, '계해': 1, '계획': 26, '고가': 28, '고가도': 3, '고각': 1, '고간': 5, '고갈': 4, '고개': 16, '고객': 109, '고갱': 1, '고거': 1, '고건': 1, '고걸': 1, '고고': 18, '고고씽': 1, '고골': 1, '고공': 1, '고교': 4, '고구마': 75, '고국': 1, '고귀': 1, '고글': 4, '고급': 156, '고기': 598, '고기구': 2, '고기랑': 8, '고기만': 15, '고기호': 1, '고깃집': 2, '고깔': 1, '고난': 2, '고다': 5, '고담': 1, '고당': 2, '고대': 1, '고대로': 6, '고도': 8, '고도리': 1, '고등': 7, '고등어': 154, '고등학교': 7, '고등학생': 6, '고딩': 19, '고라': 1, '고래': 1, '고래밥': 2, '고랭지': 2, '고려': 107, '고려대': 1, '고령': 1, '고로': 6, '고로케': 1, '고루': 19, '고르곤': 1, '고름': 1, '고리': 54, '고리대': 1, '고릴라': 1, '고립': 1, '고마': 2, '고마리': 1, '고마움': 1, '고막': 5, '고멜': 1, '고명': 9, '고모': 1, '고목': 6, '고무': 141, '고무밴드': 3, '고무장갑': 5, '고무줄': 68, '고문': 4, '고물': 25, '고민': 705, '고발': 4, '고배': 2, '고백': 3, '고번': 1, '고변': 1, '고별': 2, '고봉': 1, '고분': 6, '고분자': 3, '고비': 1, '고사': 18, '고사리': 2, '고사하고': 4, '고산': 10, '고살': 5, '고삼': 1, '고색': 2, '고생': 112, '고서': 8, '고성': 1, '고성능': 4, '고소': 16, '고속': 26, '고속버스': 1, '고수': 9, '고수면': 2, '고수부지': 1, '고수영': 1, '고순': 2, '고숩고숩': 1, '고스': 10, '고슬거림': 1, '고슬고슬': 3, '고시': 1, '고시히카리': 15, '고식': 1, '고심': 14, '고아': 9, '고안': 2, '고압': 2, '고앵': 1, '고약': 1, '고양': 2, '고양이': 32, '고여': 12, '고역': 4, '고열': 3, '고영': 1, '고오': 2, '고온': 15, '고요': 87, '고요한': 2, '고요함': 1, '고용': 7, '고우리': 6, '고운동': 1, '고원': 1, '고위': 3, '고유': 24, '고유리': 1, '고은아': 1, '고음': 8, '고의': 2, '고이': 9, '고이왕': 1, '고일석': 1, '고자': 4, '고작': 5, '고장': 274, '고재': 2, '고저': 9, '고전': 1, '고정': 301, '고정력': 44, '고정수': 1, '고정식': 1, '고정용': 8, '고정은': 3, '고정휠': 1, '고제': 8, '고지': 1, '고지도': 1, '고지혈증': 9, '고진': 3, '고진하': 1, '고질': 6, '고집': 35, '고차': 1, '고찰': 1, '고참': 5, '고창': 1, '고천': 1, '고체': 10, '고초': 1, '고추': 60, '고추가': 4, '고추기름': 1, '고추장': 22, '고춧가루': 19, '고충': 1, '고층': 2, '고치': 1, '고카': 1, '고칼로리': 2, '고콸': 2, '고타': 2, '고토': 1, '고통': 9, '고트': 6, '고패': 1, '고품': 2, '고풍': 1, '고하': 10, '고하도': 2, '고학년': 6, '고함': 10, '고합': 2, '고해': 123, '고향': 40, '고향이': 7, '고현관': 1, '고현재': 3, '고혈': 1, '고혈압': 16, '고형': 3, '고화질': 6, '고후': 1, '고흐': 1, '곡류': 4, '곡률': 1, '곡면': 1, '곡명': 1, '곡물': 20, '곡선': 3, '곡성': 1, '곡식': 3, '곡정': 1, '곤란': 8, '곤색': 3, '곤약': 11, '곤욕': 3, '곤죽': 1, '곤지': 1, '곤해': 1, '곧바로': 8, '곧잘': 3, '곧장': 3, '곧제': 1, '골격': 1, '골다공증': 21, '골동품': 1, '골드': 128, '골드박슨': 1, '골드에디션': 1, '골든': 26, '골등퀸': 1, '골디': 2, '골랏': 1, '골로': 1, '골린': 3, '골목': 2, '골무': 1, '골박': 1, '골반': 25, '골뱅이': 1, '골슬': 1, '골절': 4, '골증': 3, '골지': 5, '골치': 4, '골칫거리': 1, '골퀸': 1, '골프': 35, '골프공': 2, '골프장': 1, '골프채': 1, '곪드': 1, '곰곰껄': 1, '곰돌이': 1, '곰방': 1, '곰보': 3, '곰솥': 2, '곰젤리': 1, '곰탕': 15, '곰탱이': 1, '곰팡이': 54, '곰표': 24, '곱슬': 25, '곱슬거려': 2, '곱슬거리': 3, '곱슬리': 1, '곱슬머리': 5, '곱슬인데': 1, '곳간': 1, '곳곳': 7, '곳곳이': 1, '곳단': 1, '곳도': 34, '곳번': 1, '곳불령': 1, '공가': 1, '공간': 233, '공간활용': 13, '공감': 20, '공개': 8, '공격': 2, '공공장소': 1, '공과': 1, '공구': 11, '공급': 78, '공급원': 4, '공기': 62, '공기청정기': 3, '공뎀': 1, '공도': 5, '공동': 2, '공략': 3, '공룡': 8, '공률': 2, '공백': 1, '공법': 18, '공병': 13, '공복': 46, '공부': 55, '공사': 1, '공산품': 3, '공생': 1, '공수': 1, '공식': 8, '공업': 4, '공연': 1, '공영': 1, '공용': 10, '공원': 7, '공유': 32, '공유기': 2, '공이': 27, '공인': 2, '공작': 1, '공장': 35, '공정': 16, '공정은': 1, '공존': 1, '공주': 8, '공중': 7, '공중화장실': 1, '공지': 10, '공진': 2, '공짜': 9, '공차': 3, '공책': 3, '공터': 1, '공통': 4, '공통점': 2, '공포': 1, '공포영화': 1, '공항': 1, '공해전': 1, '공홈': 16, '공황장애': 2, '곶감': 3, '곹드': 1, '과감': 5, '과거': 8, '과다르': 2, '과다복용': 4, '과당': 5, '과대': 19, '과도': 14, '과량': 1, '과로': 1, '과립': 3, '과목': 1, '과민': 1, '과민성': 7, '과보': 1, '과소': 1, '과속': 1, '과숙된': 1, '과식': 7, '과실': 1, '과언': 4, '과연': 18, '과열': 4, '과용': 2, '과유': 2, '과육': 33, '과음': 1, '과인': 1, '과일': 179, '과잉': 6, '과자': 319, '과자류': 4, '과장': 12, '과정': 113, '과제': 4, '과중': 1, '과즙': 23, '과지': 14, '과체중': 1, '과학': 4, '과학자': 1, '관건': 2, '관계': 23, '관계자': 6, '관광지': 2, '관념': 1, '관능': 1, '관련': 50, '관리': 355, '관리자': 3, '관문': 1, '관상': 2, '관심': 50, '관악산': 1, '관여': 17, '관자놀이': 1, '관절': 26, '관절염': 4, '관점': 1, '관종': 1, '관찮': 1, '관찮습니': 1, '관찮으': 1, '관찰': 6, '관할': 26, '관해': 5, '괐더': 1, '광각': 1, '광경': 1, '광고': 130, '광고송': 1, '광고인': 1, '광나': 2, '광남': 1, '광대': 2, '광도': 1, '광동': 6, '광등': 1, '광량': 1, '광명': 4, '광목천': 1, '광물': 2, '광범위': 1, '광복': 2, '광봉': 3, '광산구': 1, '광선': 23, '광선검': 2, '광역시': 1, '광주': 3, '광차': 1, '광채': 12, '광천수': 3, '광케이블': 2, '광택': 24, '광파': 1, '광팬': 1, '광폭렌': 1, '광풍': 1, '광합성': 4, '광화': 1, '괘아나': 1, '괘안': 1, '괘안아': 2, '괜스레': 1, '괜시리': 1, '괜안어': 1, '괜잖': 2, '괜장히': 1, '괜차나': 1, '괜찬': 4, '괜찬구': 1, '괜찬다': 2, '괜찬아': 8, '괜찬은거': 2, '괜챤앗다': 1, '괜챦습니': 1, '괜챦아': 2, '괜챦았는데': 1, '괜챦은거': 1, '괜챦은것': 1, '괜챦은데': 1, '괜첞아': 1, '괜춘': 6, '괜춘괜춘': 1, '괜춘괜춘했어': 1, '괜춘할듯': 1, '괜츈': 8, '괜츈괜츈': 1, '괜츈아': 1, '괜칞은데': 1, '괜한걸': 1, '괜한말': 1, '괞은데': 1, '괞찬': 1, '괞찮아': 1, '괞찮은데': 2, '괞찮읍니': 1, '괞첞엇어': 1, '괭이': 1, '괭찮아': 1, '괴랄함': 1, '괴물': 11, '괴안을듯해': 1, '괴어놨던': 1, '괴었더': 1, '괴육': 1, '괴혈병': 2, '괸찬': 1, '괸찮은데': 1, '굉음': 1, '굉장': 5, '교감신경': 1, '교과서': 1, '교구': 2, '교구장': 2, '교규': 1, '교대': 1, '교데': 1, '교보': 2, '교복': 18, '교부': 1, '교세라': 1, '교수': 4, '교실': 1, '교육': 2, '교장': 1, '교재': 1, '교정': 9, '교차': 4, '교체': 107, '교촌': 1, '교화': 2, '교환': 414, '교회': 2, '교횐': 1, '교훈': 6, '구가': 16, '구간': 2, '구강': 4, '구강염': 1, '구개': 1, '구경': 12, '구경만': 1, '구고': 8, '구관': 1, '구글': 2, '구글플레이': 1, '구기': 6, '구김': 22, '구나': 12, '구내염': 16, '구덩이': 2, '구도': 16, '구독': 4, '구동': 2, '구두': 6, '구들': 1, '구라': 4, '구래': 2, '구런건': 1, '구렇': 1, '구렛나루': 3, '구려': 17, '구력': 2, '구례': 1, '구로': 5, '구루': 1, '구류': 1, '구르프': 4, '구름': 3, '구리': 38, '구림': 10, '구릿빛': 1, '구마': 3, '구만': 3, '구매': 6830, '구매력': 1, '구멍': 274, '구명': 1, '구명조끼': 2, '구모': 1, '구무': 1, '구미': 2, '구박': 2, '구백원': 1, '구별': 7, '구별법': 2, '구보': 1, '구부리': 2, '구분': 55, '구비': 64, '구사': 1, '구색': 2, '구서': 1, '구석': 23, '구석구석': 14, '구성': 359, '구성만': 1, '구성선': 1, '구성요소': 3, '구성원': 1, '구성은': 52, '구스': 2, '구슬': 1, '구식': 2, '구실': 3, '구심': 9, '구애': 4, '구어': 19, '구역': 8, '구역질': 8, '구연산': 10, '구영': 5, '구오': 3, '구우': 24, '구우욷': 1, '구운소금': 5, '구울': 30, '구음': 1, '구의': 1, '구이': 48, '구이만': 1, '구이해': 2, '구인': 1, '구입': 1766, '구자체': 1, '구전': 1, '구절': 1, '구정': 1, '구제': 6, '구조': 38, '구조도': 1, '구지': 4, '구직': 2, '구질': 1, '구질구질': 1, '구찮': 1, '구채': 1, '구천오백원': 1, '구체': 3, '구토': 8, '구하라': 2, '구합': 1, '구해': 19, '구현': 4, '구형': 5, '구호식품': 1, '국가': 8, '국기': 1, '국내': 183, '국내선': 1, '국내외': 1, '국도': 2, '국등': 1, '국룰': 5, '국룰템': 1, '국립': 2, '국립공원': 1, '국물': 221, '국민': 41, '국민카드': 3, '국밥': 8, '국방': 2, '국뽕': 2, '국산': 117, '국수': 14, '국신': 2, '국안': 1, '국외': 1, '국자': 6, '국적': 3, '국제': 11, '국화': 2, '군갑': 1, '군것질': 8, '군납': 2, '군내': 8, '군대': 31, '군더더기': 14, '군데': 65, '군데군데': 14, '군말': 1, '군밤': 1, '군살': 2, '군생활': 1, '군인': 13, '군입': 1, '군집': 1, '군청색': 5, '군침': 2, '굳기': 2, '굳은살': 2, '굳이': 126, '굳좝붸뷍': 1, '굴곡': 9, '굴뚝': 3, '굴리': 5, '굴릴때': 1, '굴비': 4, '굴소스': 10, '굽굽': 9, '굽기': 3, '굿굿': 84, '굿굿굿': 11, '굿굿굿굿굿': 1, '굿굿굿티': 1, '굿굿집': 1, '굿궁': 1, '굿귯': 1, '굿그': 1, '굿꼭': 1, '굿내': 1, '굿맛': 1, '굿머릿결': 1, '굿모닝': 1, '굿물광': 1, '굿불굿': 1, '굿었어': 1, '굿왜': 1, '굿임': 1, '굿저': 1, '굿컵': 1, '굿킹': 1, '궁굼한것': 1, '궁궐': 1, '궁극': 2, '궁금': 6, '궁금증': 1, '궁금햇': 1, '궁댕': 1, '궁뎅': 2, '궁둥이': 1, '궁디': 8, '궁딩쪽': 1, '궁리': 1, '궁물': 1, '궁서': 1, '궁합': 13, '궈냇': 1, '권고': 2, '권리': 1, '권색': 1, '권위': 1, '권유': 12, '권장': 58, '권태': 2, '권해': 3, '권햇': 1, '궤양': 3, '귀가': 48, '귀걸이': 11, '귀결': 1, '귀리': 6, '귀마개': 5, '귀사': 2, '귀신': 8, '귀염': 3, '귀염둥이': 1, '귀요미': 2, '귀욤귀욤': 1, '귀욤져': 1, '귀인': 9, '귀차니스트': 1, '귀차니즘': 33, '귀촌': 1, '귀칞아': 2, '귀탆': 1, '귀퉁이': 2, '귀하': 2, '귓가': 1, '귓구녕': 1, '귓구멍': 5, '귓구멍속': 1, '귓속': 3, '규격': 8, '규매': 1, '규소': 4, '규어': 1, '규정': 4, '규제': 1, '규칙': 10, '균수': 3, '균열': 5, '균일': 1, '균제': 1, '균주': 3, '균형': 36, '귤맛': 2, '귤색': 1, '귤잼': 2, '귤철': 1, '귤청': 1, '귤팩': 1, '귤향': 1, '귯귯귯': 1, '그간': 6, '그거': 119, '그것': 156, '그게': 142, '그나': 3, '그날': 51, '그날그날': 3, '그냥': 2445, '그네': 10, '그녕': 1, '그늘': 24, '그니': 1, '그다음': 16, '그다지': 26, '그닥': 91, '그닥굳': 1, '그닥그': 1, '그닥내': 1, '그닥맛': 1, '그닥물': 1, '그닥임': 1, '그닥입니다뭣': 1, '그대': 7, '그대로': 332, '그동안': 111, '그때': 202, '그땐': 19, '그떄': 5, '그라데이션': 8, '그라스': 1, '그라인더': 42, '그라탕': 1, '그람': 36, '그래픽': 5, '그래픽카드': 2, '그램': 52, '그랫': 2, '그랫음': 1, '그랴': 2, '그럭': 1, '그렇겐': 1, '그레섯': 1, '그레이': 123, '그레이드': 1, '그렬려': 1, '그로': 3, '그롬': 1, '그롷': 1, '그루': 1, '그루밍': 1, '그루퍼': 1, '그룹': 2, '그른': 2, '그릇': 115, '그릏': 2, '그리기': 1, '그리네': 1, '그리드': 1, '그리움': 1, '그릭': 9, '그린': 56, '그린티': 40, '그릴': 34, '그림': 63, '그림자': 1, '그물': 6, '그뺘고': 1, '그윽': 1, '그을음': 1, '그이': 3, '그저께': 2, '그케': 2, '그텁텁함': 1, '극단': 2, '극도': 9, '극락': 5, '극복': 4, '극성': 1, '극악': 1, '극장': 3, '극적': 5, '극찬': 12, '극치': 4, '극한': 4, '극혐뭐': 1, '극히': 2, '근거': 1, '근거리': 2, '근교': 1, '근근히': 1, '근대': 14, '근래': 8, '근력': 25, '근로': 1, '근로자': 1, '근막': 5, '근무': 21, '근방': 1, '근본': 6, '근성': 1, '근속': 1, '근욱': 1, '근위': 3, '근육': 54, '근육통': 14, '근처': 31, '근해': 2, '근행': 1, '근후': 1, '글거': 2, '글구': 15, '글귀': 1, '글라스락': 2, '글램': 4, '글러벌': 1, '글러브': 3, '글렀': 1, '글로벌': 2, '글로브': 1, '글루': 4, '글루건': 5, '글루콘산': 1, '글루타치온': 1, '글루탐산': 1, '글루텐': 14, '글리': 6, '글리세린': 7, '글리신': 2, '글리코겐': 1, '글리터': 1, '글밥': 1, '글쌔': 2, '글쎄': 15, '글쎄요': 28, '글쎼': 1, '글씨': 17, '글씨체': 4, '글자': 24, '글좀': 1, '글치': 1, '글카': 1, '글캐': 1, '글케': 1, '글케써': 1, '글코': 2, '글함': 3, '글해': 1, '긁혔네': 1, '긁혔는데': 1, '긁혔어': 1, '긁힌': 3, '긁힌것': 1, '긇다': 1, '긇었는데': 1, '긇었더': 1, '긇이': 1, '금가루': 3, '금값': 1, '금고': 6, '금구': 1, '금귤': 1, '금기': 1, '금남': 1, '금단': 1, '금단증상': 1, '금단현상': 1, '금더': 1, '금도': 13, '금물': 2, '금반': 1, '금발': 2, '금방': 504, '금번': 1, '금붕어': 2, '금빛': 1, '금상첨화': 4, '금색': 6, '금생': 1, '금세': 12, '금속': 14, '금손': 4, '금실': 7, '금쌀': 1, '금액': 147, '금약': 1, '금연': 1, '금영': 1, '금요일': 11, '금욜': 2, '금은': 33, '금일': 3, '금제': 22, '금주': 2, '금지': 17, '금토': 1, '급니': 3, '급등': 1, '급로': 1, '급살': 1, '급성': 1, '급속': 8, '급수': 2, '급식': 4, '급여': 2, '급작': 1, '급정지': 1, '급제': 1, '급체': 1, '긍대별': 1, '긍정': 13, '긍지': 1, '긔엽': 1, '기간': 110, '기강': 1, '기겁': 7, '기격': 1, '기계': 61, '기계로': 6, '기계사': 1, '기고': 35, '기관': 6, '기관지': 8, '기관지염': 1, '기교': 1, '기구': 40, '기기': 52, '기껏': 5, '기내': 4, '기네': 17, '기념': 3, '기능': 546, '기니': 2, '기다림': 2, '기단': 1, '기대': 202, '기도': 445, '기두': 1, '기둥': 44, '기러기': 1, '기력': 9, '기록': 21, '기류': 9, '기름': 539, '기름값': 1, '기름기': 76, '기름종이': 7, '기린': 2, '기립': 2, '기만': 22, '기맥힌': 1, '기면': 1, '기모': 68, '기물': 10, '기미': 53, '기미엠플': 1, '기바': 1, '기반': 5, '기번': 2, '기법': 3, '기변': 4, '기별': 3, '기보': 6, '기본': 264, '기부': 9, '기분': 579, '기쁨': 3, '기사': 259, '기사도': 2, '기상': 2, '기상청': 1, '기색': 3, '기선': 7, '기성': 10, '기성복': 1, '기성은': 1, '기성품': 4, '기세': 4, '기소': 1, '기수영': 1, '기숙': 1, '기숙사': 12, '기술': 30, '기술자': 1, '기스': 50, '기스나': 3, '기스도': 1, '기스삼': 1, '기스없': 2, '기신': 1, '기쓰네': 1, '기아': 1, '기안': 5, '기압': 2, '기약': 2, '기어': 4, '기억': 119, '기업': 22, '기업가': 1, '기여': 12, '기역': 1, '기염': 1, '기엽다': 1, '기예': 1, '기온': 8, '기와': 6, '기왕': 9, '기욤': 1, '기용': 10, '기우': 3, '기운': 24, '기울기': 6, '기원': 16, '기원전': 1, '기이': 2, '기일': 1, '기입': 9, '기자': 2, '기장': 106, '기재': 31, '기저': 4, '기저귀': 17, '기적': 41, '기전': 82, '기전체': 1, '기절': 2, '기제': 8, '기존': 479, '기존닭슴': 1, '기준': 217, '기준량': 1, '기지': 38, '기지개': 1, '기진': 2, '기질': 2, '기차': 6, '기찮': 1, '기초': 92, '기초셋트': 1, '기출': 2, '기침': 18, '기타': 27, '기타등등': 6, '기틍': 1, '기피': 4, '기하': 2, '기한': 652, '기한길': 1, '기함': 2, '기해': 3, '기형': 1, '기호': 20, '기호식품': 1, '기호품': 1, '기회': 74, '기획': 6, '기후': 3, '긴걸루': 1, '긴급': 3, '긴머리': 28, '긴장': 18, '긴장도': 1, '긴지': 1, '길가': 4, '길거리': 8, '길냥이': 4, '길듯': 1, '길레': 1, '길목': 1, '길이': 411, '길주': 1, '길죽': 2, '길쭉': 2, '길컴': 1, '길흙길': 1, '김경수': 1, '김광주': 1, '김국': 2, '김냉': 2, '김만': 2, '김맛': 1, '김밥': 39, '김사랑': 2, '김성': 2, '김씨': 1, '김안': 2, '김연아': 1, '김유정': 1, '김이나': 4, '김자': 1, '김장': 6, '김정렬': 1, '김정문': 5, '김지영': 1, '김치': 185, '김치냉장고': 16, '김치라면': 2, '김치볶음밥': 7, '김치부침개': 2, '김치전': 5, '김치찌개': 17, '김칫국': 2, '김태희': 1, '김해': 1, '김현': 2, '김혜자': 1, '김효성': 1, '김희철': 1, '깁스': 2, '깃옹': 1, '깃털': 15, '깄구': 1, '깉습니': 1, '깉아': 1, '깉은맛': 1, '깊이': 39, '까닭': 1, '까딱': 1, '까르보나라': 1, '까만색': 2, '까스텔': 1, '까스텔바작': 1, '까슬거려': 2, '까슬거리': 3, '까슬거림': 1, '까슬까슬': 4, '까운': 2, '까지쫄깃': 1, '까치': 1, '까탈': 5, '까페': 5, '깍두기': 1, '깍아': 6, '깍아서넣을껄': 1, '깍지': 2, '깔개': 3, '깔깔': 2, '깔깔이': 1, '깔깜': 1, '깔꼼한걸': 1, '깔대기': 2, '깔때기': 2, '깔창': 8, '깜깜': 3, '깜끔하쥬': 1, '깜놀': 31, '깜딱': 1, '깜박': 12, '깜박할스': 1, '깜빠거림': 1, '깜빠뉴라고해얄': 1, '깜빡': 31, '깜장': 1, '깜지': 1, '깜짝': 56, '깜짝놀랏': 1, '깝깝': 1, '깡말깡': 1, '깡통': 1, '깡패': 6, '깨끗': 7, '깨끙': 1, '깨달': 1, '깨달음': 2, '깨뜻': 2, '깨맛': 1, '깨비': 1, '깨소금': 1, '깨알': 7, '깨작': 1, '깨찰빵': 1, '깻잎': 73, '꺄르륵': 1, '꺄핫': 1, '꺠끗': 4, '꺠끗하': 2, '꺼냇는데': 1, '꺼냬놓고씻': 1, '꺼멓': 1, '꺼스름허': 1, '꺼슬': 2, '꺼져랏': 1, '꺽쇠': 1, '껀데': 8, '껀디': 1, '껄그랫': 1, '껄끄러운': 1, '껄끄러워': 1, '껄끄럽': 1, '껄떠거림': 1, '껄떡': 2, '껄죽함': 1, '껌향': 2, '껍니': 1, '껍대기': 2, '껍대기핸': 1, '껍데기': 19, '껍질': 201, '껍찔': 3, '껍찔째': 1, '껏삿던': 1, '껑충': 1, '꼇는데': 1, '꼇다': 2, '꼬깃꼬깃': 1, '꼬깔콘': 5, '꼬깔형': 1, '꼬꼬': 1, '꼬끼오': 1, '꼬다리': 1, '꼬두밥': 1, '꼬드': 1, '꼬드꼬득': 1, '꼬득꼬득해': 1, '꼬들': 5, '꼬들꼬들': 3, '꼬들밥': 1, '꼬들하': 2, '꼬똑': 1, '꼬르륵': 1, '꼬리': 11, '꼬리뼈': 5, '꼬리염': 1, '꼬린내': 1, '꼬릿': 2, '꼬마': 5, '꼬매': 4, '꼬매놨': 1, '꼬매던': 1, '꼬매러': 1, '꼬매줬어': 1, '꼬맴': 2, '꼬맹이': 3, '꼬메': 1, '꼬박': 4, '꼬박꼬박': 6, '꼬북칩': 5, '꼬불': 1, '꼬불거려': 1, '꼬산행': 1, '꼬셔': 1, '꼬소': 4, '꼬소하': 1, '꼬소함': 1, '꼬소해': 1, '꼬수워': 1, '꼬순': 1, '꼬숩': 4, '꼬숩네': 1, '꼬숩지않': 1, '꼬슬': 1, '꼬슲꼬슬': 1, '꼬습': 1, '꼬신듯': 1, '꼬쏘하': 1, '꼬얌': 1, '꼬운거': 1, '꼬임': 6, '꼬저': 1, '꼬질꼬질': 2, '꼬치': 7, '꼭꼬핀': 2, '꼭꼭': 15, '꼭대기': 3, '꼭선': 1, '꼭지': 30, '꼰디': 1, '꼴깍': 2, '꼴꼴': 1, '꼴남': 1, '꼴딱': 4, '꼴찌': 1, '꼼꽁하': 1, '꼼수': 1, '꼼하': 1, '꼽기': 6, '꼽꼬': 1, '꼽는': 7, '꼽는것': 1, '꼽는곳': 1, '꼽는데': 2, '꼽는부분': 1, '꼽는선': 1, '꼽슬': 1, '꼽슬머리': 1, '꼽아': 6, '꼽아놓': 1, '꼽아야': 1, '꼽았': 1, '꼽았다': 1, '꼽았더': 1, '꼽으': 8, '꼽으라': 1, '꼽으라면': 1, '꼽은데': 1, '꼽을': 1, '꼽을수': 1, '꼽자': 3, '꽁꽁': 9, '꽁무니': 3, '꽃가루': 1, '꽃게': 4, '꽃내음': 1, '꽃받침': 2, '꽃봄': 1, '꽃봉': 1, '꽃샘추위': 1, '꽃송이': 1, '꽃양배추': 1, '꽃잎': 3, '꽃향': 20, '꽃혀': 1, '꽈리': 2, '꽈리꼬추': 1, '꽈배기': 15, '꽈베기': 1, '꽈악': 3, '꽉끼': 2, '꽐꽐': 1, '꽜꽉': 1, '꽝임': 2, '꽤됫': 1, '꽤았': 1, '꾁끼': 1, '꾸러미': 2, '꾸룩꾸룩': 1, '꾸리': 10, '꾸릿': 1, '꾸벅': 3, '꾸악꾸악따땃하': 1, '꾸우욱': 2, '꾸욱': 79, '꾸욱제': 1, '꾹꾹': 14, '꾹질용': 2, '꿀광': 2, '꿀꺽': 9, '꿀떡': 16, '꿀맛': 18, '꿀맛임': 1, '꿀맛제': 1, '꿀벅지': 1, '꿀베': 1, '꿀잠': 1, '꿀차': 2, '꿀탬': 1, '꿀텀이구': 1, '꿀템': 4, '꿀팁': 17, '꿀팁저': 1, '꿀팁침': 1, '꿀향': 2, '꿈쩍': 2, '꿈치': 2, '꿋꿋': 1, '꿍얼': 1, '꿰메': 1, '꿰메씁니': 1, '꿰메야겠어욤': 1, '꿰멜수': 1, '끄덕': 3, '끄리': 1, '끄읕앞': 1, '끄트머리': 3, '끈겨': 1, '끈기': 2, '끈끈': 8, '끈끈이': 8, '끈끈함': 3, '끈끈해': 1, '끈날': 1, '끈덕': 1, '끈덕임': 2, '끈떡': 1, '끈쩍': 1, '끈쩍임': 1, '끈킨': 1, '끈탈': 1, '끊겻다': 1, '끌해': 1, '끓는점': 1, '끓음': 1, '끗발': 1, '끗임': 1, '끙끙': 1, '끝내': 4, '끝단': 2, '끝닭': 1, '끝맛': 31, '끝물': 2, '끝밥': 1, '끝번': 1, '끝소리': 1, '끝앞': 1, '끝열': 1, '끝으': 1, '끝장': 2, '끝제': 2, '끝쪽': 5, '끝첨': 1, '끝판': 18, '끼기긱': 2, '끼니': 17, '끼리': 41, '끼웟': 1, '끼익': 1, '끼익끼익': 1, '끼익팔': 1, '끼임': 9, '끼통': 1, '끼통살': 7, '끼티': 1, '낌떡': 1, '낌새': 2, '나가시': 4, '나가야': 1, '나가요': 10, '나겧': 1, '나귀': 1, '나기': 32, '나나': 3, '나날': 3, '나날이': 4, '나남': 1, '나네욬': 1, '나노': 2, '나눔': 8, '나는머릿결': 1, '나니': 57, '나드': 38, '나드사': 1, '나드샴푸': 1, '나들가게': 1, '나들이': 13, '나딩굴었는': 1, '나라': 9, '나라고': 1, '나락': 1, '나로': 3, '나루': 3, '나름': 174, '나마': 3, '나마스떼': 1, '나막': 1, '나머지': 115, '나머진': 8, '나무': 138, '나무다리': 1, '나물': 42, '나뭇잎': 1, '나발': 4, '나방': 3, '나벨': 2, '나보이': 1, '나본': 2, '나부': 1, '나부랭이': 1, '나비': 5, '나빳던': 1, '나뿌': 4, '나뿌지': 1, '나쁜사람': 1, '나사': 208, '나사못': 1, '나서괸히': 1, '나서영': 1, '나서힌색': 1, '나선': 7, '나선형': 1, '나쉬': 1, '나시': 3, '나신': 2, '나안': 1, '나야': 2, '나열': 1, '나염': 2, '나오니': 15, '나와라': 1, '나왓더': 2, '나왓어': 2, '나왓을때': 1, '나왓음': 1, '나요': 1, '나요나': 1, '나용': 5, '나우': 41, '나위': 6, '나유': 6, '나으니': 2, '나은': 32, '나은정': 1, '나이': 176, '나이라': 5, '나이스': 5, '나이아신': 8, '나이키': 15, '나이트': 8, '나이트로': 1, '나이프': 4, '나인': 12, '나일': 1, '나일론': 10, '나잇': 2, '나장': 1, '나절': 1, '나중': 131, '나진': 10, '나크': 1, '나키': 1, '나타': 4, '나타남': 4, '나트륨': 39, '나팔': 1, '나하': 5, '나향': 1, '나혼자산다': 2, '나후': 1, '나흘': 1, '낙낙': 13, '낙낙해': 3, '낙넉': 1, '낙농업': 1, '낙상': 1, '낙서': 7, '낙엽': 2, '낙지': 3, '낙찰': 1, '낙타': 1, '낙하': 21, '낚시': 12, '낚시질': 1, '낚였네': 2, '낚인것': 1, '낚임': 3, '난각': 23, '난간': 2, '난감': 6, '난건': 4, '난걸': 2, '난국': 3, '난닝구': 1, '난대': 1, '난도질': 1, '난뒤': 11, '난또': 2, '난리': 72, '난린데': 1, '난방': 15, '난번': 3, '난생': 2, '난생처음': 3, '난소': 2, '난이': 3, '난이도': 8, '난장판': 2, '난적': 5, '난전': 2, '난중': 1, '난청': 2, '난치': 1, '난타': 3, '난후': 23, '낟알': 3, '날개': 25, '날겸': 1, '날김': 1, '날다람쥐': 2, '날때': 11, '날로': 3, '날림': 25, '날법': 1, '날뻔': 2, '날수': 13, '날쑥': 1, '날씨': 234, '날씬': 5, '날씬살아이': 1, '날씬캔': 1, '날외': 1, '날인': 8, '날자': 2, '날줄': 3, '날짜': 168, '날카': 1, '날턱': 1, '남고': 17, '남근': 2, '남녀': 35, '남뇨': 1, '남대문': 1, '남도': 6, '남돈': 1, '남동': 1, '남동생': 7, '남두': 1, '남맛': 2, '남매': 6, '남뭐': 1, '남미': 1, '남발': 1, '남방': 2, '남번': 1, '남비': 1, '남새': 1, '남색': 8, '남성': 105, '남성은': 1, '남쌀티남': 1, '남아': 166, '남아도': 3, '남양': 19, '남양유업': 3, '남여': 7, '남오': 1, '남용': 2, '남유': 1, '남유리': 1, '남음로레약': 1, '남일': 1, '남자': 190, '남자라면': 2, '남자에게': 1, '남자친구': 44, '남재': 1, '남전': 1, '남정': 2, '남제': 1, '남지': 30, '남짓': 2, '남쪽': 1, '남친': 24, '남탓': 1, '남태평양': 1, '남펀': 1, '남편': 484, '남표': 4, '남푠': 2, '남학생': 4, '남해': 14, '납득': 4, '납땜': 1, '납정': 1, '납짝': 2, '납품': 1, '낫다': 26, '낫또': 2, '낫벧': 1, '낫엇습니': 1, '낫질': 1, '낭낭': 1, '낭도': 2, '낭비': 22, '낭종': 2, '낭창거려': 1, '낭창낭창': 1, '낭패': 14, '낮아욤': 1, '낮아졋겟': 1, '낮애': 1, '낮용': 1, '낮잠': 6, '낯빛': 1, '낯선': 1, '낱개': 75, '낱장': 1, '낳읅뻔햇어': 1, '내겐': 1, '내과': 4, '내기': 17, '내껀데': 1, '내껄': 1, '내내': 52, '내년': 45, '내딸': 1, '내력': 1, '내렸넹': 1, '내리락': 4, '내리막': 1, '내면': 17, '내복': 59, '내부': 86, '내비': 2, '내뿜': 1, '내사': 1, '내세': 1, '내시': 1, '내신': 1, '내심': 8, '내야': 9, '내열': 4, '내열강': 2, '내외': 7, '내용': 89, '내용물': 144, '내의': 18, '내일': 51, '내장': 34, '내증': 1, '내지': 10, '내추럴': 6, '내츄럴': 12, '내후년': 2, '낼때': 8, '낼바': 1, '냄비': 159, '냄새': 1728, '냉각': 7, '냉각제': 1, '냉감': 10, '냉기': 8, '냉동': 485, '냉동고': 10, '냉동식품': 21, '냉동차': 1, '냉매': 5, '냉면': 6, '냉병': 5, '냉삼': 8, '냉새': 1, '냉수': 7, '냉온': 4, '냉이': 1, '냉장': 214, '냉장고': 355, '냉장고바지': 1, '냉증': 2, '냉차': 2, '냉채': 4, '냉침': 1, '냉커피': 5, '냉큼': 12, '냉털': 1, '냉팩': 1, '냉풍': 7, '냉풍냉풍': 1, '냠새': 1, '냥습': 1, '냼새': 1, '너구리': 45, '너덜거릴': 1, '너드': 3, '너리': 2, '너머': 1, '너무쌔': 2, '너무얊': 1, '너므': 2, '너비': 14, '너비아니': 5, '너츠류': 1, '너트': 20, '너프': 2, '넉넉': 1, '넋넋해': 1, '널겨': 1, '널널': 10, '널뛰기': 1, '널리': 6, '널린': 1, '널맛': 1, '넓이': 10, '넘겻는데': 1, '넘김': 102, '넘두툼해': 1, '넘버': 1, '넘버원': 3, '넘사벽': 2, '넘좋아욤': 1, '넘침': 5, '넘흐': 2, '넘흐넘흐': 1, '넙쩍': 1, '넙쩍해': 1, '넙치': 1, '넛츠들': 1, '넝마': 1, '넝쿨': 2, '넣기': 42, '넣어줫으': 1, '넣으셧나': 1, '네가지': 1, '네네': 2, '네덜란드': 3, '네모': 6, '네버': 2, '네번쨰': 1, '네비게이션': 2, '네스': 3, '네스카페': 2, '네스트': 1, '네스프레소': 15, '네슬레': 5, '네오': 5, '네이버': 25, '네이비': 46, '네이처': 8, '네이처리퍼블릭': 1, '네이쳐': 1, '네이티': 1, '네일': 29, '네일아트': 3, '네임드': 1, '네추럴': 2, '네츄럴': 1, '네트워크': 3, '넥라인': 1, '넥스': 4, '넥타이': 2, '넥티': 1, '넨트': 1, '넷이': 1, '넷째': 3, '넷플릭스': 11, '넹보': 1, '넹좀': 1, '녀석': 36, '녀자': 2, '년남': 1, '년년': 2, '년대': 9, '년더': 1, '년도': 31, '년뒤': 1, '년때': 1, '년맛': 1, '년반': 1, '년산': 3, '년새': 2, '년생': 1, '년월': 56, '년일': 1, '년전': 48, '년차': 11, '년치': 2, '년후': 1, '노가다': 2, '노견': 2, '노고': 3, '노끈': 1, '노년': 5, '노년기': 2, '노노': 8, '노노노': 2, '노니': 9, '노답': 6, '노도': 1, '노동': 4, '노동시간': 1, '노동자': 1, '노란색': 59, '노랑': 50, '노래': 68, '노래방': 9, '노랫소리': 1, '노랭': 1, '노렌': 1, '노력': 72, '노르': 1, '노르딕': 5, '노르웨이': 12, '노른': 4, '노른자': 80, '노름': 2, '노릇': 27, '노리': 3, '노말': 1, '노맛': 3, '노맛임': 2, '노멀': 7, '노모': 5, '노무': 1, '노발': 1, '노벨상': 1, '노비': 8, '노소': 26, '노쇄': 1, '노안': 4, '노약': 3, '노예': 3, '노오랗': 1, '노이즈': 42, '노인': 5, '노인환': 1, '노즐': 10, '노지': 3, '노출': 32, '노치': 1, '노캔': 10, '노코': 1, '노크': 1, '노트': 25, '노트북': 118, '노티': 1, '노페': 2, '노폐물': 32, '노하우': 5, '노화': 36, '노후': 3, '녹도': 4, '녹두': 4, '녹말가루': 1, '녹물': 3, '녹변': 2, '녹색': 20, '녹슨': 5, '녹슴': 1, '녹음': 16, '녹음기': 3, '녹즉기': 1, '녹즙': 1, '녹지': 17, '녹차': 29, '녹화': 5, '논란': 7, '논문': 4, '논슬림': 1, '논평': 2, '놀때': 2, '놀란': 4, '놀람': 17, '놀랏': 2, '놀랏구': 1, '놀랫': 2, '놀랫네': 2, '놀랫어': 1, '놀럤어': 1, '놀러와': 2, '놀림': 1, '놀수': 2, '놀이': 16, '놀이터': 9, '놉북': 1, '놋북': 1, '농가': 3, '농구': 3, '농구공': 3, '농구장': 1, '농담': 3, '농도': 39, '농락': 2, '농림': 2, '농림축산식품부': 1, '농문': 2, '농부': 2, '농사': 5, '농산물': 4, '농수산': 1, '농심': 93, '농약': 12, '농업': 1, '농원': 3, '농위': 1, '농장': 25, '농촌': 1, '농축': 15, '농축물': 1, '농축액': 4, '농충': 1, '농츱액': 1, '농협': 36, '농후': 1, '높낮이': 24, '높닐': 1, '높이': 151, '놔딩굴': 1, '놨구': 1, '놨네': 2, '놨는': 1, '놨는데': 4, '놨다': 5, '놨더': 6, '놨습니': 1, '놨어': 3, '놨었': 1, '뇌리': 1, '뇌신경': 1, '뇌졸중': 3, '뇌졸증': 2, '뇌피셜': 1, '뇌혈': 1, '뇬욕': 1, '누가': 82, '누구': 97, '누구세요': 1, '누군가': 26, '누굴': 2, '누나': 6, '누데': 3, '누드': 1, '누락': 17, '누런': 8, '누런끼': 2, '누런물': 1, '누런빛': 2, '누런색': 3, '누런색상': 1, '누런색이': 1, '누런쌀': 2, '누런코': 1, '누런콧물': 1, '누럴': 1, '누렇': 25, '누렇네': 1, '누렇습니': 1, '누루': 2, '누룽': 3, '누룽지': 49, '누르기': 3, '누릉': 1, '누릉션': 1, '누리': 10, '누리딩딩': 1, '누빔': 6, '누수': 3, '누액': 2, '누우': 5, '누운': 1, '누울': 3, '누웟는데': 1, '누적': 6, '누텔라': 5, '누피': 2, '눅눅': 4, '눅진맛': 1, '눈가': 22, '눈금': 9, '눈길': 6, '눈꼽': 1, '눈꽃': 1, '눈대중': 4, '눈데': 15, '눈데안': 1, '눈뎅': 1, '눈물': 14, '눈밑': 11, '눈볼겸': 1, '눈부심': 1, '눈사람': 2, '눈시울': 1, '눈썹': 13, '눈알': 1, '눈앞': 2, '눈옆': 1, '눈위': 1, '눈총': 1, '눈치': 13, '눈코입': 3, '눈팅': 6, '눈화장': 3, '눌럿다': 2, '눌려': 22, '눌렸': 1, '눌렸는': 1, '눌렸다': 1, '눌렸었는데': 1, '눌리': 9, '눌린': 9, '눌린듯': 1, '눌릴경우': 1, '눌릴정도': 1, '눌림': 6, '눕혔어': 1, '눕혔을때': 1, '눙물갖': 1, '뉴비': 1, '뉴스': 8, '뉴얼': 6, '뉴트': 2, '뉴트럴': 1, '뉴트로지나': 24, '뉴폰': 1, '느겨보': 1, '느글': 1, '느긋': 1, '느김': 1, '느꺼지': 1, '느껴졋구': 1, '느꼇': 3, '느꼇었': 1, '느낄껍니': 1, '느낌': 1984, '느누궨찮': 1, '느님': 1, '느데': 5, '느무': 3, '느무느무': 1, '느므': 1, '느므느므': 1, '느켜져': 1, '느킴': 1, '느타리': 2, '느타리버섯': 2, '늑간': 1, '는가': 4, '는걸': 134, '는고': 2, '는데': 1, '는바': 3, '늘늘': 1, '늘제': 2, '늠커용': 1, '능걸': 1, '능데': 1, '능력': 14, '능문': 1, '능성': 4, '능수': 1, '능이': 7, '늦가을': 3, '늦둥이': 1, '늦봄': 1, '늦잠': 3, '늬끼': 1, '니나': 1, '니드': 2, '니베아': 19, '니사': 1, '니스': 10, '니아': 2, '니요': 4, '니즈': 1, '니지': 2, '니코틴': 1, '니트': 39, '니트라': 2, '니트로': 1, '니트로소아민': 1, '니퍼': 3, '닉스': 6, '닌깐': 1, '닌자': 2, '닌지': 3, '닌텐도': 5, '님깁니': 1, '님들': 6, '닝닝': 3, '다가': 153, '다갈색': 1, '다감': 2, '다공': 3, '다과': 3, '다괜찬아': 1, '다괜츈해': 1, '다국적기업': 1, '다그': 29, '다기': 19, '다나': 9, '다날': 3, '다년': 10, '다년생': 3, '다농': 1, '다누': 5, '다닐떄': 1, '다다': 16, '다다다': 1, '다다익선': 1, '다단': 3, '다달이': 1, '다담': 3, '다대고': 1, '다대기': 1, '다데': 2, '다도': 1, '다드': 3, '다디어트': 1, '다라': 2, '다락': 1, '다람쥐': 1, '다래': 1, '다량': 14, '다른': 1496, '다른사람': 24, '다리': 285, '다리미': 4, '다린': 1, '다림질': 8, '다마': 9, '다만': 272, '다말': 1, '다망': 2, '다머': 1, '다모': 2, '다묵엇어': 1, '다미': 6, '다바람': 1, '다반': 4, '다반사': 1, '다발': 7, '다방': 10, '다방면': 2, '다버렷어': 1, '다복': 2, '다분': 4, '다비': 6, '다비워': 1, '다빠졌슴다': 1, '다사': 11, '다색': 7, '다생': 3, '다섯': 11, '다섯시': 1, '다세': 4, '다소': 69, '다솔': 1, '다솜': 1, '다수': 4, '다슈': 15, '다슈꺼': 2, '다스': 10, '다스키': 1, '다시': 955, '다시금': 2, '다시다': 11, '다시마': 19, '다시피': 1, '다식': 6, '다신코멧': 1, '다실': 2, '다썻는데': 1, '다애': 3, '다액': 2, '다양': 18, '다양성': 3, '다예': 3, '다오': 3, '다옥': 1, '다완': 2, '다욧트': 4, '다용': 11, '다용도실': 5, '다우': 4, '다운': 41, '다운동': 2, '다운로드': 6, '다운펌': 4, '다육': 2, '다음': 673, '다음주': 11, '다음해': 1, '다이나믹': 6, '다이닝룸': 1, '다이렉트': 2, '다이로': 5, '다이메티콘': 1, '다이브': 3, '다이소': 60, '다이스': 1, '다이슨': 8, '다이아': 2, '다이아몬드': 2, '다이어터': 16, '다이어트': 323, '다이어트식단': 2, '다이얼': 26, '다이올': 1, '다인': 8, '다임': 1, '다자': 3, '다작': 4, '다재': 10, '다정': 6, '다졋어잇엇어오': 1, '다주': 3, '다중': 4, '다중이': 1, '다즐링': 7, '다지': 4, '다짐': 60, '다집': 14, '다차': 4, '다채로웠으': 1, '다채롭': 4, '다처': 1, '다카': 1, '다쿠아즈': 1, '다큐': 1, '다큐멘터리': 1, '다크': 38, '다크닝': 2, '다크서클': 1, '다태': 1, '다트': 4, '다펌프': 2, '다프': 1, '다한': 7, '다한증': 2, '다합': 2, '다해': 80, '다행': 126, '다홍': 1, '다홍색': 1, '닥스훈트': 1, '닥아내': 1, '닥임': 1, '닥터': 170, '닥터스': 1, '닥토': 2, '닥티': 1, '닥핏': 1, '단가': 11, '단것': 5, '단결': 1, '단계': 109, '단골': 9, '단기': 2, '단기간': 4, '단내': 3, '단독': 62, '단독주택': 1, '단돈': 1, '단디': 2, '단말': 5, '단말기': 3, '단맛': 192, '단면': 13, '단무지': 5, '단물': 3, '단발': 14, '단발머리': 2, '단백': 11, '단백질': 162, '단번': 1, '단벌': 1, '단부': 1, '단사': 1, '단새': 1, '단선': 2, '단쇄': 1, '단순': 17, '단쉐': 1, '단시': 1, '단시간': 3, '단신': 1, '단양': 1, '단어': 12, '단언': 1, '단연': 9, '단열': 3, '단위': 18, '단일': 8, '단자': 50, '단장': 2, '단점': 486, '단정': 4, '단종': 20, '단지': 47, '단청': 1, '단체': 4, '단추': 70, '단축': 12, '단축키': 1, '단치': 1, '단팥': 2, '단팥빵': 4, '단편': 1, '단풍': 1, '단호': 1, '단호박': 13, '달갼': 1, '달걀': 163, '달걀찜': 2, '달걀프라이': 1, '달걀후라이': 5, '달고나': 14, '달구': 2, '달근': 1, '달기': 11, '달단': 1, '달달': 294, '달도': 40, '달동': 4, '달뒤': 3, '달때': 1, '달라': 281, '달라시': 1, '달라짐': 4, '달랑': 14, '달래': 12, '달러': 1, '달력': 2, '달리': 69, '달리기': 3, '달린다': 1, '달마': 1, '달맞이': 2, '달맞이꽃': 14, '달바': 21, '달반': 6, '달비': 1, '달뺑': 1, '달새': 2, '달성': 3, '달안': 3, '달이': 38, '달전': 8, '달좀': 2, '달짜': 2, '달짝': 1, '달짝찌': 4, '달짝찌근하': 1, '달차': 4, '달치': 5, '달콤': 27, '달콤새콤': 2, '달콤쌉싸롬': 1, '달톤': 13, '달팽이': 29, '달후': 5, '닭갈비': 17, '닭값': 1, '닭강정': 10, '닭계장': 1, '닭고기': 54, '닭꼬치': 3, '닭다리': 100, '닭덩': 1, '닭도리탕': 9, '닭똥': 1, '닭반': 1, '닭발': 14, '닭백숙': 5, '닭볶음탕': 32, '닭봉': 7, '닭봉팩': 1, '닭비른내': 1, '닭뻐': 1, '닭뼈': 5, '닭사': 1, '닭살': 5, '닭안': 2, '닭장': 2, '닭죽': 1, '닭즙': 1, '닭찌': 1, '닭찌찌': 1, '닭찌찌살': 2, '닭찜': 8, '닭털': 5, '닯멋': 1, '담날': 53, '담달': 2, '담당': 11, '담당자': 5, '담배': 5, '담번': 8, '담보': 1, '담소': 3, '담수': 2, '담아둿다': 1, '담요': 2, '담임': 2, '담즙': 1, '담터': 44, '담터표': 3, '답글': 3, '답니': 11, '답변': 57, '답변서': 1, '답보': 1, '답시고': 1, '답장': 5, '답준': 1, '답지': 1, '답터': 1, '당가': 1, '당구': 1, '당구공': 1, '당귀': 6, '당근': 85, '당나귀': 1, '당뇨': 38, '당뇨병': 12, '당느릅나무': 1, '당류': 17, '당면': 15, '당무': 1, '당밀': 6, '당부': 2, '당분': 5, '당분간': 27, '당사': 1, '당사자': 2, '당시': 37, '당신': 13, '당원': 2, '당인': 1, '당일': 58, '당장': 81, '당제': 1, '당지': 1, '당진': 10, '당첨': 31, '당체': 2, '당초': 3, '당하': 1, '당한': 7, '당혹': 1, '당화혈색소': 1, '당황': 117, '닺답': 1, '대가': 87, '대가리': 7, '대가족': 4, '대각': 1, '대각선': 2, '대감': 12, '대강': 3, '대개': 6, '대거': 1, '대게': 4, '대고': 27, '대광고': 2, '대구': 5, '대규모': 1, '대기': 23, '대기업': 24, '대길': 1, '대나무': 6, '대뇌피질': 1, '대니': 1, '대다수': 7, '대단원': 1, '대담': 1, '대답': 5, '대대': 4, '대도': 33, '대두': 18, '대디': 2, '대뜸': 1, '대란': 36, '대란특란': 1, '대략': 38, '대량': 44, '대량생산': 2, '대령': 1, '대로': 35, '대론': 1, '대루': 8, '대륙': 4, '대리': 4, '대리점': 14, '대만': 7, '대망': 1, '대머리': 2, '대면': 17, '대명': 1, '대명사': 3, '대목': 1, '대못': 2, '대문': 2, '대박': 101, '대반': 6, '대변': 3, '대별': 1, '대보': 1, '대부': 2, '대부분': 108, '대비': 668, '대비행': 1, '대사': 17, '대사율': 1, '대상': 14, '대상포진': 1, '대서': 41, '대성공': 6, '대성문': 1, '대세': 9, '대수': 2, '대수층': 1, '대쉬보드': 1, '대식': 4, '대식세포': 1, '대신': 218, '대씩': 1, '대안': 25, '대애': 3, '대야': 1, '대여': 4, '대왕': 3, '대요': 76, '대용': 98, '대우': 2, '대유행': 1, '대응': 11, '대의': 20, '대인': 1, '대일': 4, '대입': 2, '대자': 4, '대자연': 2, '대장': 10, '대장균': 1, '대장부': 1, '대저': 1, '대전': 1, '대접': 9, '대조': 1, '대주': 2, '대중': 20, '대중교통': 2, '대중성': 1, '대중화': 2, '대지': 2, '대질': 1, '대쪽': 1, '대책': 2, '대청': 1, '대체': 94, '대체로': 30, '대체재': 3, '대추': 41, '대추차': 16, '대충': 132, '대치': 6, '대칭': 13, '대파': 41, '대패': 23, '대포': 2, '대폭': 3, '대표': 38, '대표팀': 2, '대피': 2, '대하': 6, '대학': 6, '대학교': 4, '대학병원': 4, '대학생': 13, '대학원': 1, '대한': 134, '대한민국': 36, '대해': 90, '대행': 3, '대형': 44, '대형견': 3, '대화': 17, '대화면': 1, '대회': 4, '대흉근': 1, '댁배': 1, '댄스': 1, '댓글': 33, '댓글알바': 2, '댕강': 1, '댕겨': 3, '댕겨온': 1, '댕기': 8, '댕길': 1, '댕댕': 6, '댕체': 1, '댜충': 1, '댤걀피부': 1, '댭답하': 1, '더구나': 9, '더군다나': 8, '더기': 1, '더남': 1, '더니': 48, '더달': 1, '더더': 36, '더덕더덕': 1, '더라도': 4, '더라면': 2, '더랬': 6, '더랬습': 1, '더러': 4, '더레': 1, '더렵혀': 1, '더립': 2, '더맘': 2, '더맛': 4, '더무': 1, '더뭐': 1, '더미': 3, '더버': 1, '더보': 1, '더블': 33, '더블샷': 5, '더블클릭': 1, '더비': 6, '더빛': 1, '더빨': 1, '더삼': 1, '더새': 1, '더스트백': 1, '더쌈': 1, '더알': 1, '더없이': 2, '더용': 1, '더우기': 1, '더욱': 210, '더욱더': 16, '더욱이': 3, '더움': 1, '더웨': 1, '더위': 20, '더치': 1, '더치커피': 1, '더크': 9, '더하기': 4, '덕거려': 1, '덕분': 119, '덕삐': 3, '덕산': 1, '덕용': 1, '덕우': 1, '덕이': 3, '덕인': 4, '덕좀': 1, '덕지덕지': 14, '덕택': 2, '덕트': 1, '덕함': 2, '덕해': 1, '덕후': 15, '던거': 1, '던것': 1, '던데': 18, '던킨': 6, '던킨도넛': 1, '던파': 1, '던퐈': 1, '덜거락덜거락': 1, '덜그락덜그락': 1, '덜남': 1, '덜달': 1, '덜덜': 10, '덜렁': 14, '덜렁이': 1, '덜온': 1, '덜익': 1, '덜찌': 1, '덜컥': 4, '덜컹거릴때': 1, '덤밸': 1, '덤벨': 9, '덤블링': 2, '덤탱이': 1, '덤핑': 2, '덥석': 2, '덧니': 1, '덧댐': 1, '덧데': 3, '덧덴': 1, '덧뎀': 1, '덧버선': 1, '덧신': 1, '덧칠': 2, '덩거림': 3, '덩그': 2, '덩달아': 2, '덩손': 1, '덩어리': 83, '덩이': 28, '덩일': 1, '덩치': 12, '덩쿨': 1, '덪씌워': 1, '덮개': 9, '덮어서': 6, '데기': 3, '데넘': 10, '데노': 1, '데니': 1, '데님': 3, '데닭': 1, '데러': 1, '데롱데롱': 1, '데리': 13, '데리야끼': 15, '데말': 1, '데맛': 2, '데모': 1, '데미': 4, '데미소다': 2, '데미지': 7, '데바': 3, '데뷰': 1, '데비': 6, '데빌': 1, '데빵': 1, '데사': 1, '데스': 7, '데스크': 6, '데스크탑': 4, '데시벨': 2, '데쓰': 3, '데얘': 1, '데었어': 1, '데오': 1, '데오드란트': 1, '데옷': 1, '데이': 50, '데이즈': 2, '데이지': 3, '데이터': 29, '데이트': 2, '데인': 2, '데일': 18, '데저': 3, '데집': 1, '데치': 2, '데치기': 1, '데친': 12, '데칠': 1, '데카': 14, '데칸': 1, '데코': 4, '데크': 2, '데팔': 1, '데포': 4, '데피': 1, '덱스': 2, '덱스트린': 2, '덱스판테놀': 1, '덴데': 1, '덴마크': 4, '덴장': 1, '델꼬': 1, '델리': 1, '델링': 1, '델몬트': 11, '델키': 1, '델피': 1, '뎀잇': 1, '뎁혔': 1, '뎁힐때': 1, '뎅굴': 1, '뎅뭘': 1, '뎊히': 1, '뎌딘': 1, '도가니': 5, '도가니탕': 2, '도감': 3, '도계': 1, '도고': 2, '도광': 1, '도구': 25, '도구로': 1, '도금': 9, '도기': 2, '도깨비': 1, '도끼': 2, '도나': 21, '도난': 5, '도넛': 22, '도달': 8, '도당': 1, '도대체': 51, '도데': 2, '도도': 23, '도독': 1, '도둑': 18, '도드': 1, '도드람': 14, '도듬': 1, '도등': 1, '도딱': 3, '도라방스': 1, '도라지': 18, '도래': 2, '도레미': 1, '도려': 2, '도로': 45, '도록': 10, '도료': 1, '도루': 7, '도르르': 1, '도리': 5, '도리도': 3, '도마': 77, '도마도': 3, '도막': 3, '도맛': 1, '도망': 1, '도면': 5, '도모': 3, '도무지': 4, '도발': 2, '도배': 5, '도보': 2, '도복': 1, '도브': 1, '도블레': 3, '도비': 1, '도산': 2, '도살': 1, '도상': 1, '도색': 9, '도생': 1, '도서관': 4, '도선': 19, '도성': 1, '도속': 2, '도수': 4, '도스': 11, '도시': 2, '도시락': 39, '도시바': 2, '도식': 1, '도신': 1, '도심': 4, '도씨': 7, '도아': 6, '도안': 31, '도액': 1, '도약': 1, '도어': 8, '도었': 1, '도오': 3, '도올': 1, '도우': 16, '도우미': 1, '도울': 6, '도움': 1698, '도의': 9, '도인': 6, '도일': 2, '도입': 4, '도자기': 6, '도작': 2, '도장': 14, '도저히': 71, '도적': 4, '도전': 67, '도정': 42, '도정은': 2, '도제': 4, '도종이': 1, '도주': 5, '도중': 24, '도지': 1, '도착': 394, '도찰': 1, '도참': 2, '도청': 1, '도축장': 1, '도출': 1, '도침': 1, '도코': 1, '도크': 7, '도키': 1, '도킹': 5, '도토': 1, '도토리묵': 1, '도톰': 5, '도톱': 1, '도통': 7, '도툼하': 1, '도트': 1, '도팥': 1, '도편': 3, '도포': 52, '도표': 1, '도품': 1, '도피': 1, '도핑': 4, '도하': 15, '도해': 29, '도화지': 1, '독가스': 1, '독감': 2, '독거': 1, '독고': 1, '독도': 51, '독도클렌징폼': 1, '독립': 6, '독박': 3, '독보': 2, '독서': 7, '독성': 6, '독성도': 1, '독소': 8, '독수': 1, '독수리': 1, '독심술': 1, '독약': 2, '독일': 9, '독자': 3, '독점': 2, '독주': 2, '독해': 5, '돈가스': 5, '돈가쓰': 1, '돈값': 14, '돈까스': 8, '돈내': 1, '돈대': 1, '돈더': 2, '돈돈': 1, '돈모': 1, '돈버': 2, '돈버는': 1, '돈버렷': 1, '돈좀': 4, '돈후': 1, '돋보기': 1, '돋특하': 1, '돌기': 14, '돌때': 3, '돌려막기': 2, '돌리시': 4, '돌리지': 9, '돌림': 1, '돌맹이': 1, '돌멩이': 1, '돌발': 1, '돌변': 1, '돌비': 1, '돌뼈': 5, '돌상': 1, '돌솥': 1, '돌연': 1, '돌이': 37, '돌입': 1, '돌잔치': 1, '돌진': 1, '돌쯔음': 1, '돌체': 14, '돌체구': 1, '돌출': 2, '돌충': 1, '돌침대': 2, '돌톨': 1, '돌파': 1, '돌파구': 1, '돌판위': 1, '돔황': 1, '돗또': 2, '돗자리': 39, '동감': 1, '동갑': 1, '동강': 2, '동거': 1, '동거인': 1, '동결': 6, '동계': 3, '동관': 2, '동국': 1, '동국제약': 3, '동굴': 3, '동그라미': 4, '동그랑땡': 40, '동글동글': 9, '동글이': 4, '동기': 76, '동기화': 2, '동꺼': 1, '동남아': 2, '동났': 1, '동네': 78, '동다': 1, '동대문': 2, '동도': 1, '동동': 12, '동등': 2, '동량': 1, '동료': 18, '동맥경화': 5, '동물': 11, '동물복지': 31, '동물성': 29, '동반': 7, '동백나무': 1, '동병상련': 1, '동봉': 43, '동부': 1, '동사': 4, '동색': 1, '동생': 86, '동서': 3, '동성': 2, '동시': 65, '동심': 1, '동아리': 1, '동아오츠카': 5, '동안': 242, '동양인': 4, '동영상': 49, '동요': 2, '동원': 10, '동의': 2, '동의보감': 1, '동이': 9, '동일': 24, '동일면': 1, '동임': 1, '동작': 29, '동전': 27, '동전지갑': 3, '동참': 4, '동축케이블': 1, '동치미': 1, '동태': 7, '동한': 2, '동해': 8, '동해안': 1, '동호': 2, '동호회': 1, '동화': 1, '돼요꾸욱': 1, '돼요쫀쫀': 1, '돼요호버링': 1, '돼지': 37, '돼지갈비': 1, '돼지감자': 9, '돼지고기': 44, '돼지국밥': 1, '돼지껍데기': 1, '됏구': 1, '되겠슴': 1, '되길레': 1, '되넜습니': 1, '되드라구': 2, '되레': 1, '되버렷죵': 1, '되셧기': 1, '되셧길': 1, '되실런': 1, '되엇': 1, '되엇네욥': 1, '되엇어': 2, '되쥬': 1, '되풀이': 3, '된거': 78, '된장': 16, '된장국': 8, '된장찌개': 27, '될껄': 1, '될런': 2, '될런진': 1, '됫나': 1, '두개삿다': 1, '두건': 2, '두고두고': 22, '두기': 27, '두껑': 1, '두께': 235, '두뇌': 9, '두도': 1, '두둑': 7, '두드러기': 25, '두려움': 3, '두루': 47, '두루치기': 1, '두리': 5, '두발': 4, '두번째': 159, '두봉': 10, '두부': 34, '두부김치': 1, '두상': 6, '두서': 1, '두서면': 1, '두셋': 1, '두스픈': 1, '두시': 11, '두아': 2, '두운': 48, '두유': 8, '두절': 1, '두콧': 2, '두통': 48, '두툼': 27, '두툼한': 2, '두툼해': 18, '두툼했': 1, '두툼히': 1, '두툽': 1, '두툽해': 1, '두피': 265, '둔갑': 3, '둔화': 1, '둘걸': 1, '둘겨': 1, '둘둘': 4, '둘때': 1, '둘레': 35, '둘레길': 2, '둘맘': 1, '둘반': 1, '둘이서': 20, '둘째': 55, '둣집': 1, '둥굴레': 10, '둥그래짐': 1, '둥글레': 8, '둥둥': 14, '둥만둥': 1, '둥이': 9, '둥이맘': 2, '둥지': 1, '둥탁': 1, '둿는데': 1, '뒤꿈치': 5, '뒤느': 1, '뒤로': 2, '뒤론': 2, '뒤면': 1, '뒤물': 1, '뒤범벅': 1, '뒤산': 1, '뒤옆': 1, '뒤졋': 1, '뒤죽박죽': 1, '뒤집힌': 1, '뒤집힌것': 1, '뒤쪽': 32, '뒤척': 2, '뒤척일때': 1, '뒤탈': 1, '뒤통수': 12, '뒤판': 1, '뒤편': 1, '뒷날': 1, '뒷다리': 14, '뒷다릿살': 1, '뒷동산': 1, '뒷맛': 14, '뒷머릴': 1, '뒷모습': 5, '뒷목뻣뻣': 1, '뒷산': 2, '뒷정리': 4, '뒷쪽': 22, '뒹구': 1, '뒹글': 1, '뒹꿈치': 1, '듀금': 1, '듀얼': 20, '듀이': 1, '듀이셀': 2, '듀이트리껀': 1, '듀폰': 1, '듐살껄': 1, '드가': 2, '드글드글': 1, '드나': 1, '드나봐': 1, '드네': 57, '드네요': 1, '드네용': 3, '드니': 15, '드뎌': 8, '드뎌사': 1, '드라마': 22, '드라이': 95, '드라이기': 208, '드라이버': 40, '드라이브': 5, '드라이아이스': 7, '드라이어': 16, '드라이크리닝': 3, '드랍': 1, '드래곤': 2, '드럭스토어': 3, '드럼': 7, '드럼세탁기': 1, '드렀': 1, '드레스': 18, '드레싱': 34, '드렵': 1, '드렷': 3, '드로즈': 16, '드록': 1, '드론': 42, '드롱': 1, '드롱기': 2, '드루': 1, '드르': 1, '드름': 2, '드릅': 1, '드릉드릉': 1, '드리블': 1, '드릴': 41, '드림': 10, '드립': 39, '드립커피': 9, '드링킹': 1, '드면': 1, '드봉': 2, '드서': 1, '드셋': 1, '드스': 1, '드실런': 1, '드심': 7, '드심감쪽': 1, '드앤숄': 1, '드왓어': 1, '드용': 1, '드콩': 1, '드티': 1, '드하': 1, '득뎀했네': 1, '득점': 1, '득참': 1, '득템': 34, '듣기': 23, '듣보잡': 2, '들것': 5, '들기름': 13, '들깨': 4, '들꽃': 1, '들락날락': 2, '들러붙어': 2, '들러붙어서': 2, '들러븥': 1, '들보': 8, '들썩거릴': 1, '들쭉': 1, '들판': 1, '듬니': 1, '듬드름가드름': 1, '듬물건': 1, '듬뿍': 105, '듬새': 1, '듬샘플': 1, '듬쌈': 2, '듬좀': 1, '듭니': 193, '듭니다': 1, '듭니다긴': 1, '듭니다내': 1, '듭니다순': 1, '듭니다저': 1, '듭니다제': 2, '듭니다줄': 1, '듭니다키': 1, '듭니다팔': 1, '듭니다향': 1, '듭니다헬스뿐': 1, '듭니당': 2, '듭니닺': 1, '듯나': 1, '듯목': 1, '듯뭐': 1, '듯옷': 1, '듯요뾰루': 1, '듯이': 25, '듯저': 1, '듯제': 2, '듯좀': 1, '듯함': 4, '듯합': 1, '듯해': 16, '듯향': 1, '등고': 2, '등골': 2, '등교': 9, '등교시간': 1, '등굣길': 1, '등급': 112, '등급제': 1, '등뒤': 1, '등드름': 2, '등등': 151, '등디테일': 1, '등땀': 1, '등록': 18, '등린': 2, '등반': 3, '등배': 1, '등부': 4, '등분': 10, '등불': 1, '등산': 107, '등살': 1, '등새': 1, '등세': 1, '등신': 2, '등심': 6, '등쌀': 1, '등안': 1, '등알로': 1, '등옷': 1, '등원': 11, '등일': 1, '등장': 4, '등저': 2, '등제': 1, '등지느러미': 1, '등집': 1, '등짝': 3, '등쪽': 9, '등충': 1, '등치': 1, '등판': 5, '등판쪽': 1, '등푹': 1, '디다': 7, '디데이': 2, '디도': 1, '디램': 2, '디럭스': 1, '디렉터': 3, '디메티콘올': 1, '디바이스': 5, '디스': 8, '디스커버리': 4, '디스크': 11, '디스토션': 1, '디스플레이': 16, '디아': 4, '디앞': 1, '디앤': 1, '디어': 3, '디올': 3, '디용': 1, '디음': 1, '디자이너': 4, '디자인': 859, '디쟌': 4, '디저트': 23, '디제이': 1, '디즈니': 2, '디지털': 3, '디카': 5, '디코': 3, '디코용': 1, '디테': 10, '디테일': 10, '디토': 1, '디파': 1, '디팬드': 1, '디포': 2, '디퓨져': 1, '딜떠': 1, '딜리셔스': 1, '딜정도': 1, '딤플': 1, '딥디': 1, '딥스': 4, '딥스바': 1, '딥스하': 1, '딥클렌': 1, '딥클렌징': 6, '딥클렌징되': 1, '딥톡': 1, '딥퍼플': 1, '딩딩': 2, '딩젤': 20, '딪쳣': 1, '딫히': 1, '딯으': 1, '따끈따끈': 1, '따님': 3, '따따': 1, '따라서': 49, '따로따로': 3, '따름': 9, '따리': 1, '따숩': 3, '따숩긴': 1, '따숩다': 1, '따숩습니': 1, '따숩털': 1, '따위': 10, '따윈': 3, '따틋': 1, '딱봐듀': 1, '딱아': 2, '딱으': 1, '딱지': 14, '딱첨': 1, '딱풀': 1, '딴맛': 1, '딴판': 1, '딸기': 214, '딸깍': 2, '딸꾹질': 2, '딸내미': 6, '딸덕': 1, '딸도': 10, '딸때': 1, '딸땜시': 1, '딸라': 1, '딸램': 11, '딸방': 2, '딸살': 1, '딸셋': 1, '딸아': 2, '딸아이': 75, '딸애': 4, '딸칵': 2, '땀낫': 1, '땀등': 1, '땀띠': 11, '땀복': 1, '땀샘': 1, '땅겨': 1, '땅딸': 1, '땅땅': 4, '땅바닥': 2, '땅병': 1, '땅콤잼': 1, '땅콩': 58, '때귀': 1, '때기': 3, '때깔': 4, '때꼭': 1, '때내': 1, '때냉': 1, '때넜': 1, '때눈': 1, '때단': 1, '때닭': 1, '때더': 1, '때등': 2, '때또': 1, '때렷는데': 1, '때로는': 1, '때론': 2, '때마': 1, '때마침': 9, '때맛': 2, '때매': 4, '때메': 4, '때무': 2, '때문': 1059, '때물': 2, '때밥': 1, '때봉': 1, '때빵': 1, '때수건': 1, '때옆': 2, '때임': 1, '때잠': 1, '때좀': 1, '때찌애': 1, '때탈': 1, '때팩': 1, '때펩타': 1, '때후': 1, '때흙': 1, '때히알루': 1, '땐끈': 1, '땐뒤': 1, '땜빵': 1, '땜시': 4, '땟구': 1, '땟깔': 2, '땠음': 1, '땡겻': 1, '땡땡': 6, '땡리': 1, '땡볕': 2, '땡처리': 2, '땡초': 1, '땡큐': 6, '땨매': 1, '떄문': 9, '떙겨': 2, '떙길때': 1, '떙볕': 1, '떡갈비': 19, '떡국': 112, '떡그': 1, '떡류': 1, '떡맛': 2, '떡벙': 1, '떡보': 1, '떡복': 3, '떡볶기': 1, '떡볶이': 113, '떡뽀끼': 1, '떡심': 1, '떡안': 2, '떡언빠': 1, '떡이쫀득보단흐믈': 1, '떡임': 1, '떡입': 1, '떡진': 6, '떡진채': 1, '떡짐': 6, '떡집': 12, '떡첨': 1, '떨떠름': 2, '떨어트려': 5, '떨어트린것': 1, '떨이': 10, '떫거': 1, '떫다': 1, '떫은것': 1, '떫은맛': 2, '떫을것': 1, '떫음': 1, '떫지안': 1, '떱떱': 1, '떳길': 2, '떳었': 1, '떻었': 1, '떻었는데': 1, '떼글': 1, '떼글해': 1, '떼문': 1, '뗏다': 2, '또또': 3, '또띠아': 34, '또래': 6, '또록': 1, '또르': 1, '또르르': 6, '또물좀': 1, '또옥': 1, '또옴': 1, '또왜': 1, '또입': 2, '또쟁': 1, '또한': 214, '또향': 1, '똑닥': 1, '똑디': 1, '똑땅': 1, '똑똑': 4, '똑바로': 19, '똑뿌러지': 1, '똥구': 1, '똥구멍': 1, '똥그랗': 1, '똥꼬': 16, '똥꾸': 1, '똥망': 1, '똥배': 1, '똥빵땡': 1, '똥색': 4, '똥손': 26, '똥집': 1, '똥찬': 1, '똥파리': 1, '똬악': 2, '똭아직': 1, '뙇아이': 1, '뙇일': 1, '뚜겅': 4, '뚜기': 19, '뚜껑': 389, '뚜둑': 1, '뚜벅이': 1, '뚜쥬르': 1, '뚜컹': 4, '뚝딱': 60, '뚝뚝': 18, '뚝배기': 2, '뚠뚠': 2, '뚠뚠인데': 1, '뚤려': 5, '뚤린': 1, '뚫렷': 1, '뚱땡이': 1, '뚱뚱': 1, '뚱뚱이': 1, '뚱띵': 4, '뚱져보': 1, '뚱캔': 4, '뚱캔같': 1, '뜨개질': 1, '뜨드드득': 1, '뜨레': 2, '뜬금': 1, '뜯얺느': 1, '뜰때': 4, '뜰챴는데': 1, '뜸북': 1, '뜻밖': 3, '뜻털': 1, '뜻함': 1, '뜻해': 1, '뜻햇': 2, '띁어': 1, '띁어보': 1, '띠던': 1, '띠링': 1, '띠용': 2, '띡띡': 1, '띡히': 1, '띤다': 1, '띨때': 2, '띵맛': 1, '띵스': 1, '라가': 6, '라거': 2, '라그': 3, '라나': 4, '라나우': 1, '라네즈': 6, '라뇨': 1, '라다': 6, '라드': 1, '라든지': 1, '라디오': 25, '라떼': 144, '라라': 3, '라락': 2, '라리': 2, '라마': 24, '라멘': 1, '라며': 10, '라면': 789, '라묭': 1, '라무': 2, '라미': 6, '라바': 3, '라벤더': 7, '라벨': 127, '라벨로': 5, '라보': 8, '라볶이': 4, '라뷰': 1, '라비': 5, '라사': 2, '라서': 64, '라섹수술': 1, '라슈포제': 1, '라스트': 2, '라시': 1, '라식': 1, '라야': 1, '라영': 1, '라우': 1, '라운드': 32, '라운딩': 10, '라운딩용': 1, '라운지': 1, '라이': 59, '라이거': 1, '라이나': 5, '라이딩': 1, '라이머': 1, '라이브': 7, '라이스': 37, '라이신': 4, '라이어': 2, '라이언': 1, '라이온': 1, '라이코펜': 4, '라이크라': 1, '라이터': 3, '라이트': 36, '라이트닝': 7, '라이프': 13, '라이프스타일': 1, '라인': 217, '라인업': 3, '라일': 2, '라임': 59, '라즈': 1, '라즈베리': 7, '라지': 47, '라진': 2, '라차': 2, '라켓': 9, '라텍스': 4, '라트': 1, '라틴': 1, '라팔': 1, '라피': 1, '락불그락': 1, '락스': 4, '락앤': 1, '락앤락': 18, '락테이핑': 1, '락토': 25, '락토바실러스': 2, '락토프리': 4, '락토프리랍니': 1, '락토핏': 10, '락투세린': 1, '락피': 5, '락피도': 2, '락핏': 3, '란거': 1, '란건': 1, '란걸': 2, '란드': 1, '란딩': 1, '란딩햇네': 1, '란말': 1, '란맛': 1, '란스': 4, '란티스': 2, '란학': 1, '랄건냉': 1, '랄것': 2, '랄로': 1, '랄저': 1, '랄향': 2, '람사': 1, '랍니': 39, '랍생스': 1, '랏차': 2, '랏토핏': 4, '랑드': 45, '랑방': 10, '랑스': 4, '래몬': 1, '래몬향': 1, '래무': 1, '래미': 31, '래빗': 8, '래서': 31, '래서야': 1, '래야': 22, '래인': 1, '랜덤': 13, '랜드': 3, '랜딩': 1, '랜선': 1, '랜턴': 17, '랠리': 2, '램블': 1, '램프': 10, '랩거': 1, '랩핑': 4, '랫길': 1, '랫어욤': 1, '랫었': 1, '랬답니': 1, '랬어썽': 1, '랬으': 1, '랭보': 1, '랭스': 1, '랭킹': 12, '랳습': 1, '랴뷰': 1, '량및': 1, '량섲': 1, '량세': 1, '량용기': 1, '량층': 1, '러그': 4, '러닝': 3, '러닝머신': 3, '러미': 1, '러버': 14, '러브': 2, '러블': 2, '러블리': 6, '러블리워너베': 1, '러블리해': 1, '러산': 1, '러셀': 1, '러쉬': 1, '러시': 4, '러신': 2, '러케트': 1, '러키': 1, '러하': 2, '럭비': 1, '럭셔뤼': 1, '럭셔리': 5, '럭희': 3, '런가': 102, '런닝': 14, '런닝기': 3, '런닝뛰다보': 1, '런닝맨': 1, '런닝머신': 9, '런닝할': 1, '런던': 1, '런스': 1, '런싱': 1, '런치빵': 1, '런칭해': 1, '럼물': 1, '럽기': 1, '렇게되': 1, '렇베': 1, '레귤러': 1, '레귤러핏슬림': 1, '레기': 2, '레기나': 1, '레깅스': 61, '레깅슨': 1, '레나': 1, '레노버': 3, '레다': 2, '레더': 2, '레드': 59, '레드와인': 1, '레로로쉐': 1, '레만': 1, '레모': 1, '레모을': 1, '레몬': 63, '레몬디톡스': 1, '레몬라임': 2, '레몬에이드': 4, '레미': 15, '레버': 6, '레벨': 2, '레쉬': 44, '레스': 1, '레스터': 2, '레스토랑': 3, '레스톨': 1, '레스트': 2, '레스팅': 2, '레슨': 5, '레시': 15, '레시아': 1, '레시틴': 7, '레시피': 63, '레알': 6, '레얄': 1, '레온': 2, '레이': 18, '레이나': 2, '레이더스': 3, '레이드': 1, '레이디': 7, '레이라': 1, '레이스': 10, '레이어': 12, '레이온': 6, '레이저': 6, '레이져': 1, '레이즈': 1, '레이크': 15, '레인': 3, '레인보우': 4, '레인지': 6, '레일': 13, '레자': 2, '레전드': 3, '레진': 1, '레츠': 3, '레토르트': 3, '레트': 3, '레트로': 9, '레티놀': 8, '레티놀라': 1, '레프': 1, '렉스': 2, '렌녹': 1, '렌더링': 1, '렌덤인줄': 1, '렌스': 1, '렌앰': 1, '렌저': 3, '렌즈': 9, '렌지': 29, '렌지대': 2, '렌진': 1, '렌징': 49, '렌징폼': 5, '렌찌': 2, '렌치': 7, '렌치등': 1, '렌탈': 2, '렌탈료': 1, '렌트': 1, '렌튼': 1, '렐라': 1, '렐르': 1, '렘수면': 1, '려고': 102, '려냇구': 1, '려니': 10, '려려려려려려러': 1, '려면': 7, '려요': 1, '려카': 1, '력도': 1, '력셔리': 1, '렵니': 14, '렸습니': 1, '령해': 1, '로간': 1, '로거': 2, '로고': 25, '로굿': 1, '로그': 2, '로그인': 8, '로기': 1, '로나': 5, '로댕': 1, '로더': 2, '로되': 3, '로드': 11, '로디': 1, '로또': 3, '로라': 14, '로란': 2, '로럴': 10, '로레알': 34, '로레얄': 3, '로르': 2, '로리': 1, '로마': 3, '로만': 97, '로망': 1, '로맨틱': 2, '로메': 8, '로벤타': 1, '로봇': 1, '로부터': 23, '로빅': 2, '로사': 5, '로살걸': 1, '로서': 38, '로선': 3, '로션': 479, '로소': 1, '로손': 1, '로쉐': 1, '로스': 14, '로스트': 12, '로스트치킨': 1, '로스팅': 11, '로시': 9, '로써': 23, '로안': 4, '로알': 1, '로얄': 1, '로얄젤리': 2, '로어': 2, '로에베': 7, '로열': 4, '로예': 1, '로옴': 1, '로우': 28, '로움': 6, '로워': 1, '로이': 12, '로잉머신': 7, '로작': 1, '로제': 8, '로즈': 2, '로즈마리': 6, '로즈텍': 1, '로즈힙': 3, '로지': 2, '로지텍': 3, '로카': 1, '로캣': 3, '로캣배송': 1, '로켓': 524, '로켓트': 2, '로코': 1, '로키': 1, '로타': 1, '로트': 1, '로티': 6, '로프': 1, '로프트': 1, '록키스': 16, '론데': 2, '론옷': 1, '론칭': 1, '론칭후': 1, '롤라': 1, '롤라이': 4, '롤러': 46, '롤러브레이드': 1, '롤로': 2, '롤리타': 4, '롤링': 25, '롤빗': 1, '롤빵': 1, '롤업': 1, '롤온': 1, '롬앤': 4, '롯데': 16, '롯마': 1, '롱런': 2, '롱보드': 1, '롱안': 1, '롱청': 1, '롱티': 1, '롱티숏티': 1, '롱패딩': 1, '롱핀': 1, '뢀용도': 1, '루고': 5, '루나': 14, '루누튜': 1, '루듀': 1, '루루': 5, '루멘': 1, '루목': 1, '루비': 1, '루스': 2, '루시': 1, '루신': 1, '루우브': 1, '루이보스': 1, '루임': 1, '루쥬맛남냄새': 1, '루즈': 19, '루즈핏': 7, '루지': 14, '루집': 1, '루카스': 20, '루콘': 1, '루크': 1, '루테': 10, '루테인': 9, '루테인등': 1, '루트': 2, '루틴': 13, '루팡': 1, '루프': 3, '루하': 1, '룰루': 4, '룸메': 2, '룸메이트': 2, '룸앤홈': 1, '룸웨어': 1, '룽고': 1, '뤼뎅': 1, '류량': 2, '류마티스': 1, '류머티즘': 1, '르네휘테르': 1, '르디': 2, '르러': 1, '르르': 1, '르르르': 1, '르미': 1, '르뱅': 1, '르샤': 1, '를막': 1, '름시': 1, '리가': 45, '리겔': 1, '리그': 2, '리기': 33, '리까': 2, '리나': 27, '리놀렌산': 1, '리뉴': 4, '리뉴얼': 43, '리뉴얼됫나': 1, '리다': 10, '리더': 5, '리도': 17, '리드': 2, '리듬': 4, '리디닐': 1, '리딩': 2, '리라': 6, '리론': 1, '리르': 1, '리리': 1, '리릭': 6, '리만': 4, '리메이크': 1, '리모': 3, '리모컨': 22, '리모콘': 35, '리무': 3, '리무버': 3, '리미': 2, '리바': 1, '리바이스': 1, '리발': 1, '리벤스': 1, '리벳': 2, '리보': 6, '리보좀': 1, '리보플라빈': 1, '리복': 1, '리본': 18, '리부버': 1, '리뷸': 1, '리뷸쓰': 1, '리브': 2, '리브가': 1, '리빙': 1, '리사': 6, '리서치': 20, '리세': 2, '리셀': 1, '리셋': 4, '리스': 34, '리스트': 6, '리스프': 1, '리시버': 1, '리시아': 1, '리아': 5, '리안': 9, '리얼': 52, '리얼텍': 1, '리오': 7, '리오니': 2, '리용': 16, '리저': 1, '리전': 3, '리조또': 4, '리즈': 1, '리지': 106, '리진': 1, '리차': 2, '리찬': 1, '리츠': 2, '리치': 14, '리카': 3, '리커버리': 2, '리코': 9, '리코펜': 1, '리콧': 1, '리크': 1, '리키': 1, '리타': 12, '리터': 98, '리턴': 2, '리튬': 1, '리튬배터리': 3, '리튬이온': 1, '리트': 17, '리트리버': 2, '리파': 1, '리팩': 1, '리퍼블릭': 1, '리페': 8, '리포좀': 4, '리폼': 1, '리폼햇': 1, '리프': 8, '리프트': 2, '리프팅': 2, '리플': 2, '리필': 26, '리필용': 2, '리핑': 3, '리하': 13, '리해': 8, '리화': 1, '린거': 1, '린걸': 1, '린것': 1, '린다': 10, '린단': 1, '린데': 2, '린산': 2, '린스': 73, '린싱': 9, '린싱해': 1, '린지': 1, '릴때': 1, '릴리': 1, '릴링': 1, '림때매': 1, '림또': 1, '림바졸': 1, '림밤': 1, '림밥': 1, '림보': 1, '림질': 1, '림프': 2, '림프절': 1, '립글로즈': 6, '립누': 1, '립니': 1, '립밤': 172, '립밤제': 1, '립밥': 9, '립법': 1, '립스틱': 87, '립앤': 2, '립좀': 1, '립하': 2, '릿결': 1, '릿지릿': 1, '릿치': 1, '링거': 4, '링시': 1, '링쪽': 1, '링크': 20, '링클': 2, '맆스틱': 1, '마가': 6, '마가렛': 25, '마가린': 20, '마감': 255, '마개': 20, '마게': 1, '마구': 19, '마구리': 2, '마구잡이': 1, '마굿': 1, '마그네슘': 209, '마끼아또': 1, '마나': 11, '마냥': 76, '마넌': 8, '마네': 1, '마녀': 2, '마녹': 1, '마누라': 2, '마는': 9, '마늘': 127, '마늘빵': 1, '마늘장아찌': 1, '마늘쫑': 1, '마니아': 6, '마니커': 2, '마님': 1, '마다': 50, '마당': 4, '마대자루': 1, '마도': 3, '마동석': 1, '마듀': 1, '마들렌': 4, '마디': 6, '마디나': 1, '마디마디': 2, '마땅치': 8, '마뚜루': 7, '마라톤': 1, '마련': 17, '마론': 1, '마루': 9, '마루타': 2, '마르': 18, '마르고': 26, '마르구': 1, '마르다': 1, '마르지': 11, '마르코': 1, '마름': 2, '마리': 100, '마리나': 2, '마리네이드': 2, '마리오': 2, '마린': 15, '마막': 2, '마멀레이드': 1, '마메': 1, '마몽드': 6, '마무': 4, '마무리': 148, '마물': 1, '마미': 2, '마법': 19, '마법사': 2, '마분지': 1, '마블링': 12, '마비': 5, '마빡': 1, '마사': 2, '마사지': 88, '마산': 1, '마살라': 1, '마샬': 2, '마세욘': 1, '마셈': 1, '마셧': 2, '마셧거든': 1, '마셧는데': 1, '마셧던': 1, '마셧드': 1, '마셧습니': 1, '마셧어': 1, '마셧었어': 1, '마쇼': 1, '마술': 1, '마쉬멜로': 2, '마쉬멜로우': 1, '마스': 16, '마스네': 1, '마스카라': 12, '마스크': 210, '마스터': 3, '마스트': 1, '마시기': 79, '마시멜로': 5, '마시멜로우': 4, '마시쪙': 1, '마실런': 1, '마심': 4, '마싰': 1, '마싰어': 1, '마안': 11, '마야족': 1, '마약': 5, '마에스트로': 3, '마왕': 1, '마요': 1, '마요네스': 7, '마요네즈': 10, '마우스': 47, '마우스패드': 2, '마우스피스': 1, '마운': 1, '마운틴': 4, '마운틴듀': 12, '마움': 1, '마유': 9, '마을': 6, '마음': 830, '마음껏': 9, '마음대로': 9, '마음속': 5, '마응': 1, '마이': 19, '마이너': 1, '마이너스': 2, '마이크': 92, '마이크로': 9, '마이크로소프트': 1, '마이크로카드': 1, '마이크론': 1, '마인더': 1, '마인드': 8, '마일': 2, '마일리지': 3, '마자': 29, '마쟝': 1, '마저': 10, '마제': 38, '마주': 5, '마지막': 150, '마진': 1, '마차': 4, '마찬가지': 43, '마찰': 9, '마찰력': 3, '마찰음': 2, '마처': 1, '마취': 1, '마치': 50, '마침': 85, '마침내': 1, '마침표': 1, '마카': 33, '마카롱': 1, '마컬': 1, '마케팅': 5, '마켓': 18, '마쿠': 1, '마크': 12, '마크로': 2, '마키': 1, '마키아또': 3, '마키아토': 1, '마킹': 1, '마터': 1, '마테': 1, '마트': 397, '마파두부': 1, '마포': 1, '마하': 1, '마흔': 1, '막걸리': 4, '막국수': 1, '막귀': 9, '막내': 12, '막내아들': 2, '막노동': 1, '막눈': 1, '막달': 1, '막대': 4, '막대기': 4, '막도': 1, '막둥이': 4, '막뚱': 1, '막례': 1, '막막': 6, '막말': 1, '막무가내': 1, '막사': 1, '막상': 77, '막생': 1, '막심': 6, '막악': 1, '막앞': 1, '막입': 3, '막장': 1, '만가': 7, '만공': 1, '만구': 2, '만구천구백원': 1, '만구천원': 1, '만금': 3, '만끽': 1, '만난': 3, '만날': 7, '만남': 1, '만년': 4, '만능': 14, '만단': 1, '만담': 2, '만당': 1, '만대': 2, '만델링': 1, '만도': 2, '만두': 36, '만두국': 8, '만두소': 1, '만둣국': 3, '만드나': 1, '만들기': 64, '만듬': 1, '만듬새': 1, '만듭': 1, '만듭니': 3, '만라': 1, '만료': 2, '만만': 5, '만만찮': 2, '만물': 4, '만발': 3, '만배': 3, '만병통치약': 1, '만빵': 3, '만사': 5, '만사천': 1, '만사천이백원': 1, '만삭': 2, '만삼천백원': 1, '만삼천원': 1, '만삼천육백원': 1, '만상': 1, '만성': 7, '만성위염': 1, '만세': 7, '만수': 1, '만수르': 3, '만약': 33, '만오': 2, '만오천': 3, '만오천원': 3, '만오천팔백원': 1, '만요': 18, '만원': 395, '만유': 2, '만육천원': 1, '만육천팔백원': 1, '만이': 7, '만이구': 1, '만이천원': 4, '만이해': 1, '만인': 2, '만일': 5, '만자': 1, '만장': 1, '만전': 8, '만점': 36, '만족': 520, '만족감': 19, '만족도': 95, '만주': 1, '만쥬': 9, '만천': 3, '만천백': 1, '만천원': 18, '만추': 1, '만칠천원': 1, '만큼': 159, '만타': 2, '만트라': 1, '만팔천원': 2, '만하': 42, '만해': 73, '만호': 1, '만화': 3, '만회': 1, '만휘': 1, '많대요쫀쫀': 1, '많은량': 1, '많읏제품': 1, '말검': 1, '말괄량이': 1, '말기': 4, '말동무': 1, '말듯': 2, '말때': 1, '말뚝': 1, '말락': 1, '말랑헤': 1, '말랭이': 8, '말레이': 3, '말레이지아': 1, '말렛퍼터': 1, '말로': 12, '말리': 55, '말림': 3, '말맛': 1, '말모': 4, '말뭐말뭐': 1, '말복': 2, '말산': 3, '말소리': 6, '말썽': 3, '말씀': 65, '말이쥬': 1, '말입': 1, '말쩡히': 1, '말초신경': 1, '말토': 1, '말통': 1, '말투': 2, '말티즈': 1, '말할것듀': 1, '말함': 2, '맑은': 24, '맑음': 1, '맘껏': 7, '맘데': 1, '맘때': 2, '맘머꼬': 1, '맘속': 1, '맘에들면': 1, '맘에듬': 1, '맘에듭니': 13, '맘에안듬': 1, '맘음': 2, '맙다구': 1, '맙시': 3, '맙시다별': 1, '맛개': 1, '맛김치': 1, '맛깔': 2, '맛나': 6, '맛나욤': 1, '맛날때': 1, '맛남': 8, '맛내': 1, '맛내기': 1, '맛다시': 1, '맛달콤': 1, '맛닭': 1, '맛던': 1, '맛등': 1, '맛로': 1, '맛맛': 2, '맛보기': 4, '맛빵': 2, '맛사지': 5, '맛생': 1, '맛소금': 19, '맛술': 16, '맛술컵': 1, '맛습니': 1, '맛았': 1, '맛이없엇어': 1, '맛임': 5, '맛입': 1, '맛잇넹': 1, '맛잇넼': 1, '맛잇엇구': 1, '맛잇엇어': 1, '맛있슴': 1, '맛저': 3, '맛제': 2, '맛좀': 1, '맛집': 9, '맛청량': 1, '맛총': 1, '맛탕': 1, '맛탱': 1, '맛팁': 2, '맛파': 1, '맛평': 1, '맛포잠': 1, '맛향': 1, '맜있어욤': 1, '망가뜨릴거': 1, '망각': 1, '망간': 4, '망고': 53, '망막': 1, '망사': 7, '망설렸': 1, '망신': 3, '망아': 1, '망원': 1, '망은': 3, '망일': 1, '망정': 3, '망치': 35, '망토': 2, '맞고소': 1, '맞드라구': 1, '맞벌이': 8, '맞았슺니': 1, '맞앚는데': 1, '맞이': 8, '맞쬬': 1, '맞춤': 26, '맞춤법': 1, '맟우어야': 1, '매가': 5, '매각': 17, '매개': 1, '매그놀리아': 1, '매년': 12, '매뉴얼': 1, '매니아': 19, '매니큐어': 10, '매달': 6, '매도': 4, '매듭': 6, '매라': 4, '매럭': 1, '매력': 53, '매렵': 1, '매료': 1, '매립': 3, '매번': 191, '매부': 3, '매수': 2, '매쉬': 7, '매스': 5, '매실': 6, '매실장아찌': 1, '매실주': 1, '매우': 455, '매운탕': 2, '매월': 1, '매일': 474, '매일유업': 10, '매입': 3, '매장': 67, '매점': 1, '매정': 1, '매제': 6, '매직': 67, '매직핸즈': 1, '매진': 5, '매체': 1, '매치': 5, '매칭': 4, '매케': 1, '매콤': 85, '매트': 298, '매트리스': 72, '매트릭스': 1, '매품': 3, '매필': 1, '매하': 35, '매혹': 1, '맥도드': 1, '맥문동': 1, '맥미니': 1, '맥박': 2, '맥북': 9, '맥북에어': 1, '맥스': 26, '맥심': 54, '맥쌀': 1, '맥우': 1, '맥주': 52, '맥주잔': 1, '맥콜': 2, '맥힌': 1, '맥힙': 1, '맨드': 1, '맨몸': 3, '맨발': 1, '맨붕': 1, '맨손': 8, '맨위': 1, '맨입': 4, '맨즈': 3, '맨첨': 1, '맨하탄': 1, '맬릭서': 1, '맴도': 1, '맵기': 3, '맵시': 1, '맵쌀': 1, '맵진': 1, '맹글어': 1, '맹글었음': 1, '맹돌아': 1, '맹리': 1, '맹맛': 3, '맹물': 11, '맹신': 2, '맹탕': 3, '맹탕물뭐': 1, '맺힌': 1, '먀하개되엇슴': 1, '먙았을땐': 1, '머그': 2, '머그잔': 7, '머그컵': 19, '머금': 9, '머금듯': 1, '머금었': 1, '머금었는': 1, '머금으': 1, '머기': 1, '머너': 1, '머드': 3, '머랄': 1, '머랭': 2, '머르겠어': 1, '머리': 1454, '머리감기': 2, '머리겻': 1, '머리띠': 5, '머리말': 5, '머리모양': 1, '머리색': 14, '머리스타일': 1, '머리엉킴': 1, '머리카락': 291, '머리칼': 4, '머리크기': 2, '머리키락': 1, '머리털': 6, '머리핀': 1, '머린': 1, '머릴': 6, '머림': 1, '머릿': 1, '머릿겨이': 1, '머릿결': 205, '머릿결개선': 1, '머릿결때문': 1, '머릿결만상': 1, '머릿끝': 1, '머릿속': 6, '머선': 1, '머쉬': 1, '머스': 1, '머스크': 41, '머스타드': 9, '머스터드': 4, '머신': 76, '머쓰윽': 1, '머쓱': 1, '머진': 1, '머집': 1, '머침': 1, '머플러': 6, '머피': 2, '머핀': 1, '먹거리': 11, '먹겄다': 1, '먹기': 981, '먹기떄문': 1, '먹기뿌': 1, '먹기편햐': 1, '먹네욯': 1, '먹는샘물': 10, '먹듯': 2, '먹먹웅웅거리': 1, '먹방': 3, '먹보': 4, '먹어봣': 1, '먹어얄듯': 1, '먹엇습니': 1, '먹엇어': 3, '먹엇을때': 2, '먹었느데': 1, '먹었드랬지': 1, '먹었숩니': 1, '먹을껀데': 2, '먹을떄': 1, '먹을빠': 1, '먹음': 87, '먹이': 85, '먹통': 14, '먼산': 1, '먼저': 221, '먼지': 224, '먼지턴다': 1, '먼지털이': 1, '먼치킨': 1, '먼트': 2, '멀뚱': 2, '멀리': 36, '멀미': 5, '멀쩡': 1, '멀티': 79, '멀티미디어': 2, '멀티태스킹': 1, '멀티탭': 5, '멈췼': 1, '멈칫': 1, '멉닙카': 1, '멋대로': 5, '멋쟁이': 1, '멍꼬찡입니': 1, '멍텅': 1, '멍텅해': 1, '메갈로돈': 1, '메글레': 2, '메기': 1, '메꿈': 1, '메뉴': 21, '메뉴얼': 7, '메뉴인': 1, '메니큐어': 5, '메달': 2, '메데스': 1, '메덱스': 1, '메드': 1, '메디슨': 1, '메디핑': 1, '메뚜기': 6, '메라': 1, '메론': 6, '메롱': 1, '메르트': 1, '메리': 16, '메리야스': 1, '메리트': 12, '메모': 5, '메모리': 12, '메모장': 2, '메밀': 6, '메밀국수': 1, '메밀묵': 2, '메세지': 8, '메쉬': 10, '메스꺼움': 4, '메시지': 7, '메신저': 1, '메아리': 2, '메이': 8, '메이드': 12, '메이저': 2, '메이지': 3, '메이커': 17, '메이크업': 74, '메이킹': 1, '메이텁': 1, '메이트': 4, '메이플': 4, '메이플시럽': 1, '메인': 25, '메인보드': 9, '메일': 4, '메임': 1, '메추리': 28, '메칠': 1, '메컵': 1, '메콤함': 1, '메타': 1, '메탈': 15, '메탈슬러그': 1, '메트': 3, '메틸': 4, '메햇': 1, '멕스': 1, '멕시멈': 1, '멕시칸': 11, '멕시코': 4, '멕아리': 1, '멘붕': 8, '멘탈': 3, '멘톨': 5, '멘트': 2, '멘틸락테이트': 1, '멜라닌': 3, '멜라토닌': 1, '멜란지': 2, '멜론': 4, '멜빵': 1, '멜팅': 3, '멜팅제품': 1, '멤버': 1, '멤버십': 2, '멧돌': 3, '며느리': 3, '며질': 1, '며칠': 169, '멱국': 1, '멱살': 1, '면강': 1, '면개': 1, '면검': 2, '면년묵': 1, '면담': 1, '면대': 1, '면도': 59, '면도기': 5, '면도날': 4, '면문': 1, '면발': 52, '면발맛': 1, '면방': 1, '면복': 1, '면봉': 4, '면빨': 1, '면사': 1, '면색': 1, '면서': 77, '면세': 1, '면세점': 1, '면소': 1, '면스판': 2, '면식': 1, '면안': 4, '면알': 1, '면약': 2, '면양': 1, '면역': 106, '면역성': 1, '면역체계': 2, '면연': 7, '면적': 13, '면전': 1, '면제': 7, '면조': 1, '면질': 1, '면쫄바': 1, '면취저': 1, '면티': 13, '면틴줄': 1, '면포': 2, '면햇': 1, '면화': 1, '멸각': 1, '멸균': 102, '멸치': 40, '멸치액젓': 3, '몀역력': 1, '몃개': 1, '명가': 4, '명과': 5, '명관': 1, '명기': 1, '명담': 1, '명도': 4, '명란': 1, '명령': 1, '명료': 1, '명분': 1, '명사': 1, '명성': 2, '명소': 1, '명수': 2, '명시': 8, '명실': 1, '명암': 1, '명언': 1, '명의': 5, '명인': 1, '명작': 3, '명절': 32, '명정': 1, '명중': 1, '명치': 2, '명칭': 4, '명태': 13, '명판': 1, '명품': 17, '명함': 3, '명현': 1, '몆가': 1, '몆개': 2, '몆년또': 1, '몆번': 3, '몇개': 150, '몇몇': 11, '몇번': 243, '몇장': 6, '몇칠': 1, '모가지': 1, '모공': 107, '모공각화증': 1, '모과': 6, '모과차': 4, '모근': 15, '모금': 13, '모기': 4, '모나': 1, '모낭': 4, '모네': 1, '모녀': 3, '모노': 1, '모니터': 110, '모니터링': 3, '모닝': 33, '모닝커피': 4, '모던': 10, '모델': 97, '모델핏': 1, '모도': 5, '모되': 2, '모두': 435, '모듈': 1, '모드': 62, '모든': 172, '모듬': 2, '모듬쌈': 5, '모따': 1, '모라': 16, '모락모락': 3, '모래': 18, '모래사장': 1, '모래시계': 1, '모래알': 2, '모레': 3, '모로': 47, '모로코': 1, '모르갯': 1, '모름': 10, '모리': 1, '모말': 5, '모바일': 4, '모발': 215, '모비': 1, '모색': 1, '모서리': 113, '모션': 5, '모스': 1, '모습': 48, '모시': 2, '모야': 1, '모양': 213, '모양새': 8, '모에': 20, '모욕감': 1, '모용': 1, '모유': 2, '모유수유': 1, '모음': 3, '모의': 2, '모이': 5, '모임': 4, '모자': 176, '모자라': 5, '모자이': 1, '모자이크': 1, '모제': 13, '모조리': 1, '모직': 3, '모질라서': 1, '모짜렐라': 5, '모찌': 7, '모처럼': 5, '모친': 1, '모카': 37, '모카커피': 1, '모태': 3, '모터': 26, '모텔': 3, '모토로라': 1, '모퉁이': 1, '모트': 2, '모티브': 2, '모하': 4, '모함': 1, '모해': 4, '모험': 3, '모형': 1, '모회사': 1, '목걸이': 5, '목계': 1, '목공': 3, '목구녕': 1, '목구멍': 14, '목기': 2, '목끝': 1, '목덜미': 10, '목도': 12, '목도리': 26, '목둘': 1, '목뒤': 6, '목련': 2, '목록': 9, '목마': 1, '목마르다': 1, '목마름': 1, '목메임': 1, '목밑': 1, '목박': 1, '목뼈': 1, '목살': 6, '목선': 6, '목선부뷔': 1, '목소리': 15, '목수': 1, '목숨': 1, '목심': 2, '목어': 1, '목요일': 6, '목욕': 15, '목욕가방': 2, '목욕탕': 11, '목욜': 2, '목욜날': 1, '목이버섯': 2, '목장': 9, '목재': 7, '목적': 55, '목주름': 1, '목줄': 1, '목쪽': 8, '목초': 9, '목초액': 2, '목축': 1, '목탕': 1, '목표': 10, '목표량': 1, '목하': 1, '몬가': 1, '몬드': 1, '몬스터': 3, '몬앰플': 1, '몬테': 8, '몬트': 1, '몰랏는데': 2, '몰랏었는데': 1, '몰래': 12, '몰리': 8, '몰리브덴': 3, '몰이': 1, '몰입': 3, '몰티스': 1, '몸뚱': 2, '몸뚱이': 5, '몸매': 18, '몸무': 2, '몸무게': 94, '몸밖': 1, '몸부림': 1, '몸빼바지': 1, '몸살': 5, '몸소': 2, '몸속': 6, '몸안': 1, '몸집': 4, '몸짓': 1, '몸짱': 1, '몸쪽': 3, '몸채': 3, '몸체': 10, '몸통': 23, '몸판': 1, '몸폼': 1, '몹시': 9, '못난이': 12, '못내': 4, '못느꼇': 1, '못다': 1, '못마': 1, '못맙니': 1, '못봄': 1, '못봣': 1, '못삿': 1, '못질': 1, '못키': 1, '못해': 2, '못햇': 2, '못햇습': 1, '못향': 1, '몽땅': 6, '몽말': 1, '몽쉘': 1, '몽키': 2, '몽환': 1, '뫼솔': 3, '묭실': 2, '묭실가': 1, '묭실갈': 1, '묭실놀': 2, '무가': 3, '무거': 10, '무거워': 93, '무검': 2, '무게': 323, '무게중심': 5, '무결': 1, '무고': 1, '무공': 3, '무관': 5, '무광': 30, '무광임': 1, '무국': 9, '무궁': 2, '무궁무진': 3, '무균': 4, '무근': 1, '무기': 29, '무기력증': 1, '무기물': 1, '무기성': 1, '무기질': 6, '무난': 348, '무늬': 40, '무니': 9, '무당': 1, '무대': 2, '무더위': 2, '무뎌': 1, '무뎌져': 2, '무도': 5, '무독': 1, '무드': 1, '무드등': 5, '무딘걸지': 1, '무딘지': 1, '무럭무럭': 1, '무려': 23, '무력': 1, '무렵': 6, '무로': 1, '무료': 473, '무르': 5, '무르거': 6, '무르거든': 1, '무르기': 1, '무르다': 1, '무르지': 1, '무르지않': 2, '무른': 7, '무른거': 3, '무른건': 2, '무른것': 4, '무른제품': 1, '무릅': 1, '무릎': 69, '무리': 71, '무림': 2, '무마': 4, '무맛': 13, '무무': 6, '무미': 2, '무미건조': 1, '무반응르': 1, '무방': 12, '무배': 6, '무벤조페논': 1, '무보정': 2, '무부': 1, '무비': 1, '무뼈': 1, '무산': 1, '무상': 17, '무상관': 1, '무색': 17, '무색무취': 3, '무생채': 7, '무서움': 3, '무선': 75, '무성의': 3, '무소': 1, '무소식': 4, '무쇠': 2, '무수': 2, '무스': 2, '무슨': 191, '무슴': 1, '무승부': 1, '무시': 35, '무식': 1, '무신': 1, '무신경': 1, '무심': 5, '무심코': 8, '무쌈': 2, '무아': 1, '무안': 4, '무어': 1, '무언': 1, '무언가': 18, '무얼': 4, '무엇': 247, '무여': 1, '무역': 1, '무연': 1, '무염': 16, '무오': 2, '무용': 18, '무용지물': 9, '무음': 3, '무의식': 4, '무인': 1, '무임': 1, '무자': 8, '무작위': 2, '무작정': 7, '무잡': 2, '무장': 1, '무재': 2, '무쟈': 4, '무적': 8, '무전': 3, '무전기': 1, '무제한': 2, '무조': 9, '무조건': 192, '무족': 1, '무증상': 1, '무지': 44, '무지개': 3, '무지막지': 2, '무진': 2, '무진장': 9, '무질': 4, '무착': 1, '무채색': 3, '무척': 43, '무취': 6, '무치': 1, '무크': 18, '무턱': 4, '무티': 5, '무표': 7, '무픔관절': 1, '무한': 10, '무항': 1, '무행': 1, '무향': 121, '무향도있늣데': 1, '무형': 1, '무화과': 4, '묵고': 1, '묵묵': 3, '묵은지': 9, '묵음': 2, '묵직': 1, '묵힌': 1, '묵힌다': 1, '묶음': 58, '문건': 1, '문과': 2, '문구': 25, '문구점': 1, '문대': 1, '문도': 5, '문득': 20, '문물': 2, '문방구': 4, '문살': 1, '문서': 3, '문안': 5, '문어': 7, '문의': 98, '문의사항': 3, '문자': 36, '문장': 1, '문전': 3, '문제': 528, '문제안': 1, '문제점': 14, '문젠': 1, '문젭니': 1, '문중': 1, '문질럿더': 1, '문집': 2, '문짝': 5, '문쪽': 1, '문턱': 2, '문하': 2, '문해': 16, '문헌': 1, '문화센터': 2, '문후': 10, '묻엇네': 1, '물가': 39, '물감': 17, '물개': 1, '물건': 384, '물결': 6, '물결펌': 1, '물고기': 1, '물광': 10, '물광템': 1, '물구나무': 1, '물기': 104, '물김치': 2, '물끼': 2, '물난리': 2, '물놀이': 35, '물등': 2, '물때': 11, '물떡': 6, '물떡해': 1, '물라': 1, '물량': 7, '물량입니': 1, '물량투': 1, '물렁': 2, '물렁거려': 2, '물렁거리': 1, '물렁뼈': 2, '물렁여': 1, '물로헹구': 1, '물류': 9, '물리': 17, '물리치료': 4, '물만두': 2, '물말': 1, '물맘': 1, '물맛': 59, '물맛또': 1, '물무': 1, '물뭍': 1, '물반': 2, '물밤': 1, '물방울': 9, '물배': 1, '물번': 1, '물벼락': 1, '물병': 12, '물붇': 1, '물살': 2, '물색': 1, '물샘': 2, '물소': 1, '물속': 10, '물수건': 1, '물씬': 1, '물안경': 5, '물약': 4, '물어': 21, '물엿': 14, '물욕': 1, '물의': 18, '물이': 301, '물잔': 1, '물좀': 3, '물줄기': 1, '물즙': 2, '물증': 1, '물질': 130, '물집': 11, '물체': 2, '물총': 4, '물컵': 8, '물컵외': 1, '물컹': 3, '물컹거리': 1, '물키': 1, '물탄': 3, '물탱크': 6, '물통': 28, '물통이': 4, '물티슈': 67, '물팩': 1, '물폭탄': 1, '물품': 37, '물혹': 1, '뭂품': 1, '뭉개': 5, '뭉개져': 3, '뭉개지': 4, '뭉개짐': 1, '뭉게': 1, '뭉게져': 1, '뭉게져서사플': 1, '뭉근하': 1, '뭉글': 3, '뭉처': 1, '뭉처있는': 1, '뭉치': 18, '뭉태기': 1, '뭉탱이': 2, '뭉텅이': 1, '뭉툭': 1, '뭍었습니': 1, '뭍으': 1, '뭍혀': 4, '뭍히': 2, '뭍힌': 1, '뭏어': 1, '뭐굿굿': 1, '뭐때매': 1, '뭐말': 1, '뭐색': 1, '뭐술': 1, '뭐시기': 4, '뭐였냐몈': 1, '뭐임': 1, '뭐저': 1, '뭐좀': 1, '뭐죵암튼': 1, '뭐쥐': 1, '뭐함': 1, '뭐합': 6, '뭐해': 8, '뭔가': 323, '뭔갈': 1, '뭔들': 4, '뭔들물': 1, '뭔지': 1, '뭘랄': 1, '뭘루': 1, '뭘바': 1, '뭘타': 1, '뭣같음': 1, '뭣땀시': 1, '뭣모르': 2, '뭥미': 2, '뮈겁': 1, '뮤거운': 1, '뮤리': 1, '뮤신': 2, '뮤지컬': 1, '뮤직': 1, '뮤직비디오': 1, '뮤트': 1, '뮨샷': 1, '뮨제': 1, '뮬러': 8, '므슨': 1, '미가': 61, '미각': 8, '미개': 2, '미경': 2, '미고': 1, '미관': 6, '미국': 40, '미국여행': 1, '미국인': 1, '미끄럼': 21, '미끼': 1, '미끼상품': 1, '미나': 7, '미나리': 12, '미남': 2, '미네': 2, '미네랄': 84, '미니': 155, '미니게임': 1, '미니모': 2, '미니미': 9, '미니미니': 3, '미니스커트': 2, '미니어처': 2, '미닉스': 1, '미달': 3, '미당': 2, '미덕': 1, '미도': 15, '미동': 2, '미듐': 1, '미듐샀음': 1, '미드나잇': 4, '미디': 4, '미디어': 6, '미디어텍': 1, '미디엄': 4, '미디움': 1, '미라': 5, '미라클': 2, '미란다': 1, '미래': 3, '미량': 1, '미러': 2, '미러리스': 1, '미러링': 1, '미러볼': 2, '미련': 5, '미로': 16, '미로탐누스': 1, '미리': 248, '미리보기': 1, '미린다': 1, '미림': 5, '미만': 22, '미모': 1, '미미': 1, '미백': 44, '미백토닝': 1, '미보': 2, '미부': 1, '미분': 3, '미사': 7, '미산': 1, '미생물': 13, '미샤': 3, '미성년': 1, '미세': 25, '미세먼지': 7, '미소': 4, '미숙': 7, '미술': 2, '미숫가루': 1, '미슐랭': 1, '미스': 13, '미스테리': 2, '미스트': 157, '미시': 1, '미식': 9, '미식거렷': 1, '미신': 1, '미심': 3, '미싱': 3, '미아': 15, '미안': 2, '미약': 4, '미역': 32, '미역국': 42, '미열': 1, '미온수': 14, '미완성': 3, '미용': 24, '미용사': 4, '미용실': 93, '미원': 35, '미음': 1, '미장': 1, '미장센': 24, '미장원': 1, '미쟝센': 22, '미쟝셴': 2, '미적': 3, '미정': 3, '미제품': 2, '미지': 1, '미지수': 1, '미쯔': 4, '미처': 5, '미쳣음': 1, '미추': 1, '미터': 11, '미트': 2, '미트볼': 9, '미풍': 1, '미프': 4, '미프꺼': 1, '미학': 1, '미화원': 1, '미흡': 3, '믹서': 7, '믹서기': 5, '믹스': 145, '믹스넛': 1, '믹싱': 1, '민가': 4, '민간요법': 1, '민감': 99, '민국': 1, '민규': 2, '민낯': 1, '민락동': 1, '민를': 1, '민망': 7, '민물고기': 1, '민소매': 2, '민원': 4, '민중': 6, '민초': 1, '민트': 46, '민폐': 2, '민하': 1, '민후': 1, '믾네': 1, '믿고먹늗': 1, '믿음': 88, '밀가루': 198, '밀고': 13, '밀당': 1, '밀도': 9, '밀때': 1, '밀떡': 4, '밀랍': 1, '밀리': 35, '밀리미터': 1, '밀림': 26, '밀면': 11, '밀봉': 29, '밀수입': 1, '밀싹': 5, '밀전': 1, '밀족': 1, '밀집': 1, '밀착': 66, '밀첩': 1, '밀카': 2, '밀크': 84, '밀키': 5, '밀페': 1, '밀페된용기': 1, '밀폐': 17, '밋잇어': 1, '밍밍': 58, '밍숭맹': 1, '밍숭맹숭': 4, '밍크': 5, '밑단': 29, '밑면': 4, '밑바': 1, '밑바닥': 13, '밑바탕': 1, '밑반찬': 18, '밑발': 1, '밑위': 15, '밑줄': 1, '밑쪽': 7, '밑창': 7, '밑층': 1, '밑칸': 1, '밑판': 1, '밓쳐날뛰': 1, '바가지': 5, '바게뜨': 3, '바게트': 12, '바고': 1, '바교해': 1, '바구니': 4, '바구미': 1, '바금': 1, '바깟으': 1, '바깥': 22, '바깥쪽': 12, '바꾸셧음': 1, '바꿈': 2, '바꿧': 2, '바나': 1, '바나나': 190, '바나나빵': 3, '바나나칩': 3, '바나나킥': 9, '바느질': 67, '바늘': 15, '바닐나향': 1, '바닐라': 29, '바닐라코': 22, '바다': 18, '바다로': 1, '바닥': 327, '바닥면적': 1, '바닷가': 8, '바닷물': 3, '바둑판': 1, '바둥': 1, '바디': 126, '바라지': 3, '바락바락': 1, '바란': 2, '바람': 469, '바람따라': 1, '바람막이': 3, '바람소리': 2, '바랑': 2, '바랜': 2, '바램': 26, '바랫는데': 1, '바랬': 2, '바랬는데': 3, '바랬다': 1, '바랬어': 1, '바랬을뿐넘': 1, '바럼': 1, '바레': 2, '바려': 1, '바로': 1182, '바로가기': 2, '바로크': 2, '바루': 1, '바르게': 13, '바르나': 2, '바를슈': 1, '바름': 7, '바릉때': 1, '바리': 28, '바리스타': 4, '바린': 1, '바림': 1, '바립니': 2, '바밥': 1, '바베큐': 16, '바벨': 3, '바보': 20, '바비': 6, '바비큐': 6, '바뿌다규': 1, '바사': 1, '바삭': 108, '바서': 1, '바세린': 30, '바셀린': 1, '바스': 7, '바스락': 6, '바스켓': 1, '바스크': 3, '바싹': 16, '바야흐로': 2, '바영': 1, '바오': 4, '바오밥': 19, '바오밥나무': 3, '바우로': 1, '바운스': 3, '바위': 5, '바이': 7, '바이러스': 5, '바이럴': 1, '바이바이': 2, '바이어스': 1, '바이오': 15, '바이오스': 1, '바이올렛': 13, '바이옴': 3, '바이크': 6, '바인': 1, '바일': 1, '바임': 1, '바작': 1, '바중': 1, '바지': 310, '바지라': 1, '바지락': 7, '바지선': 3, '바지핏': 1, '바질': 5, '바짝': 18, '바츄': 1, '바치': 2, '바캉스': 1, '바코드': 1, '바퀴': 74, '바크': 1, '바킹': 1, '바타': 1, '바탕': 13, '바탕화면': 3, '바토': 1, '바트': 3, '바품': 1, '바하': 6, '박그': 1, '박대': 1, '박동': 1, '박람회': 1, '박력': 22, '박멸': 1, '박물': 1, '박민영': 1, '박빡해': 1, '박사': 3, '박삭': 1, '박살': 8, '박세일': 1, '박수': 7, '박스': 734, '박싱': 3, '박아': 19, '박용': 3, '박을수': 1, '박음질': 85, '박일': 2, '박자': 4, '박지': 2, '박지현': 1, '박침저': 1, '박카스': 2, '박테리아': 4, '박하': 1, '박하사탕': 1, '박해': 3, '밖애': 1, '반감': 3, '반값': 8, '반개': 16, '반경': 1, '반곱슬': 7, '반곱슬많': 1, '반나절': 20, '반납': 1, '반년': 10, '반노': 1, '반대': 33, '반대쪽': 11, '반대편': 5, '반도': 11, '반도체': 1, '반동': 3, '반드시': 49, '반듯이': 1, '반디': 1, '반란': 2, '반려': 4, '반려견': 4, '반려동물': 2, '반면': 30, '반미': 1, '반바지': 25, '반복': 75, '반봉': 1, '반불': 1, '반사': 7, '반사경': 1, '반성': 7, '반송': 6, '반수': 2, '반숙': 22, '반스': 2, '반시': 1, '반신': 1, '반신반의': 37, '반심': 1, '반영': 3, '반영구': 2, '반용부': 1, '반원': 1, '반응': 46, '반응속도': 5, '반의': 5, '반입': 2, '반적': 1, '반전': 4, '반절': 9, '반점': 20, '반정': 10, '반제품': 1, '반주': 2, '반죽': 63, '반증': 1, '반지': 5, '반지르르': 1, '반지하': 1, '반짝': 12, '반짝임': 2, '반쪽': 17, '반찬': 228, '반창고': 3, '반추': 1, '반크': 2, '반타작': 2, '반토막': 3, '반투명': 5, '반품': 725, '반한': 3, '반함': 1, '반했어': 3, '반환': 1, '받앗슴니': 1, '받았슴다': 1, '받음토욜': 1, '받침': 68, '발가락': 11, '발각': 1, '발갛': 1, '발걸음': 1, '발견': 124, '발골': 1, '발광': 3, '발굽': 1, '발기': 13, '발기부전': 1, '발길': 2, '발까락': 1, '발꿈치': 2, '발끈': 2, '발끝': 7, '발달': 11, '발도': 14, '발도장': 1, '발동': 1, '발뒤꿈치': 3, '발등': 11, '발라': 498, '발라드': 1, '발라먹엇네': 1, '발란스': 6, '발랏': 1, '발랏는데': 4, '발랏더': 2, '발랏을때': 3, '발레': 5, '발렌타인': 2, '발렌타인데이': 2, '발렛': 1, '발렷어': 1, '발리': 35, '발리어': 1, '발린': 3, '발림': 164, '발매': 1, '발명': 1, '발명왕': 1, '발명품': 1, '발모': 2, '발목': 94, '발바닥': 24, '발병': 3, '발볼': 12, '발부': 3, '발뺌': 1, '발사': 2, '발사믹': 5, '발사이즈': 4, '발산': 1, '발색': 51, '발색제': 1, '발색톤': 1, '발생': 98, '발송': 22, '발수': 1, '발신': 2, '발싸개': 1, '발아': 4, '발아현미': 4, '발암': 5, '발앞': 1, '발언': 1, '발열': 59, '발유': 1, '발육': 2, '발음': 1, '발의': 3, '발자국': 8, '발작': 4, '발전': 14, '발진': 17, '발찌': 1, '발차기': 2, '발코니': 6, '발톱': 13, '발통': 1, '발판': 13, '발포': 2, '발표': 4, '발품': 1, '발품팔': 1, '발해': 2, '발향': 1, '발현': 1, '발화점': 7, '발효': 20, '발효종': 1, '발휘': 6, '밝기': 44, '밤낮': 5, '밤사이': 1, '밤새': 5, '밤색': 2, '밤시': 3, '밤잠': 2, '밤참': 1, '밥국': 1, '밥그릇': 14, '밥량': 1, '밥맘': 1, '밥맛': 77, '밥먓': 1, '밥물': 2, '밥밥': 1, '밥법': 1, '밥상': 22, '밥색': 1, '밥솥': 33, '밥스크': 1, '밥안': 2, '밥알': 20, '밥위': 3, '밥주걱': 1, '밥집': 1, '밥테기': 1, '밥통': 8, '밥통채': 1, '밥풀': 1, '밥해': 1, '밥향': 1, '밥힘': 1, '밧데리': 33, '밨는데': 2, '밨더': 1, '방가': 1, '방갑습': 1, '방과후': 3, '방광염': 2, '방구': 4, '방귀': 2, '방글라데시': 1, '방금': 28, '방기': 19, '방도': 3, '방류': 1, '방망이': 2, '방면': 1, '방목': 4, '방문': 33, '방문옝정': 1, '방바닥': 9, '방범': 2, '방법': 306, '방부': 4, '방부제': 15, '방불': 2, '방사': 9, '방사선': 1, '방석': 16, '방속': 1, '방송': 30, '방수': 129, '방수재': 1, '방수힙색': 1, '방습': 4, '방식': 73, '방심': 1, '방안': 18, '방앗간': 8, '방어': 3, '방역': 1, '방용': 4, '방울': 60, '방울방울': 1, '방울토마토': 39, '방위': 1, '방유': 2, '방음': 8, '방이': 20, '방전': 12, '방제': 1, '방지': 127, '방쪽': 1, '방출': 1, '방치': 56, '방침': 1, '방탄': 11, '방토': 1, '방통': 1, '방파제': 1, '방판': 1, '방패': 2, '방편': 3, '방품': 1, '방학': 14, '방한': 10, '방해': 24, '방향': 74, '방향성': 1, '방황': 1, '밮맛': 1, '밯림': 1, '배겨': 3, '배경': 5, '배경음': 1, '배경음악': 1, '배경화면': 2, '배관': 7, '배그': 3, '배기': 13, '배기핏': 1, '배김': 1, '배꼽': 26, '배낭': 1, '배냇저고리': 1, '배달': 124, '배드': 1, '배드민턴': 4, '배란': 6, '배란통': 1, '배랑': 1, '배량': 1, '배려': 8, '배렸네': 1, '배리': 1, '배민': 1, '배변': 28, '배변훈련': 14, '배부': 3, '배상': 2, '배설': 1, '배설물': 2, '배속': 6, '배송': 2475, '배송비': 70, '배송지': 3, '배수': 1, '배식': 1, '배신': 2, '배쌀빼': 1, '배아': 2, '배아픔': 7, '배앓이': 4, '배양': 2, '배열': 1, '배우': 1, '배위': 2, '배율': 3, '배전': 1, '배정': 4, '배젖': 1, '배제': 3, '배즙': 1, '배지': 2, '배지영': 1, '배쪽': 8, '배쫄리는데': 1, '배초향': 1, '배추': 29, '배추김치': 1, '배출': 51, '배치': 19, '배치도': 1, '배타': 1, '배탈': 22, '배터리': 196, '배투더': 1, '배트': 1, '배하': 1, '배합': 14, '배향': 3, '백내장': 1, '백년': 1, '백대': 1, '백도': 4, '백두산': 3, '백라이트': 5, '백록담': 1, '백만': 3, '백만배': 1, '백만원': 6, '백미': 41, '백배': 3, '백사이': 1, '백산': 4, '백삼십이원': 1, '백색': 9, '백색소음': 1, '백설': 18, '백설공주': 1, '백설기': 15, '백수': 3, '백숙': 33, '백신': 1, '백업': 9, '백오일': 1, '백옥': 2, '백원': 13, '백육십': 1, '백이': 3, '백인': 1, '백일': 6, '백장': 1, '백점만점': 1, '백제': 1, '백종원': 5, '백질': 1, '백추': 1, '백칠십오': 1, '백태': 1, '백태현': 1, '백택': 1, '백팔배': 1, '백퍼': 6, '백프': 1, '백프로': 7, '백프론': 1, '백합': 1, '백혈구': 3, '백화': 1, '백화점': 30, '밴드': 217, '밴딩': 19, '밴딩이': 1, '밴딩한거': 1, '밸런스': 44, '밸런싱': 3, '밸루': 1, '밸리': 1, '밸브': 1, '밸트': 9, '뱀파이어': 2, '뱃살': 29, '뱃속': 5, '뱃어': 1, '뱅송': 1, '뱅이': 1, '버거': 5, '버거운': 3, '버건디': 1, '버그': 1, '버뀌': 1, '버나요털': 1, '버너': 2, '버드': 1, '버드나무': 1, '버들': 2, '버라이어티': 1, '버러지': 1, '버럭': 1, '버렀': 1, '버려얄듯': 1, '버려진': 1, '버렵': 1, '버렷': 5, '버렷내': 1, '버렷는데': 1, '버렷다네': 1, '버렷어': 2, '버렿': 1, '버르': 1, '버릇': 10, '버무러져': 1, '버무려': 2, '버무리': 2, '버무린': 1, '버무릴': 1, '버벅': 8, '버벅거려': 1, '버벅거렸': 1, '버벅거리': 2, '버벅되': 1, '버벅버벅': 1, '버벅이는': 1, '버벅임': 3, '버벅하': 1, '버블': 45, '버블폼클렌징': 3, '버비니': 1, '버선': 2, '버섯': 29, '버세': 1, '버셨': 1, '버스': 17, '버시길': 1, '버온략': 1, '버전': 30, '버젼': 2, '버즈': 9, '버즘': 1, '버진': 26, '버츄': 2, '버츄오': 13, '버츠립밤': 1, '버츠비': 8, '버츠비립밤': 1, '버츠비립밥': 1, '버클': 35, '버킷': 2, '버터': 312, '버터빵': 2, '버터쿠키': 3, '버터크림': 2, '버턴': 1, '버트을': 1, '버튼': 371, '버티고': 9, '버퍼드': 1, '버퍼링': 2, '버프': 1, '버피': 1, '버핏': 48, '벅벅': 2, '벅스': 2, '번가': 2, '번갈아': 44, '번개': 2, '번거러움': 2, '번건': 2, '번더': 2, '번돈': 1, '번딸칵': 3, '번떡': 1, '번란': 7, '번리': 1, '번만': 36, '번번': 2, '번시': 1, '번식': 9, '번썻': 1, '번역': 1, '번은': 68, '번의': 10, '번인': 11, '번임': 1, '번작': 1, '번잡': 2, '번재': 1, '번지': 8, '번질': 1, '번쨰': 2, '번쩍': 5, '번차': 2, '번창': 52, '번청': 1, '번토': 1, '번펌핑': 1, '번행': 2, '번호': 60, '번홀': 1, '벌꿀': 3, '벌떡': 1, '벌레': 33, '벌렌': 1, '벌렌줄': 1, '벌린다': 1, '벌벌': 1, '벌빨': 1, '벌삿': 1, '벌써': 171, '벌이': 4, '벌집': 7, '벌컥': 4, '벌키': 1, '범벅': 27, '범용': 6, '범위': 9, '범죄자': 1, '범주': 1, '범퍼': 1, '법가': 1, '법귤': 1, '법도': 16, '법랑': 1, '법보': 2, '법사': 2, '법성포': 1, '법인': 1, '법적': 1, '법칙': 3, '벙거지': 1, '벙쪘네': 1, '벙커': 2, '벚겨': 1, '벚꽃': 3, '베가': 1, '베개': 9, '베겨': 1, '베놈': 3, '베니': 1, '베드': 6, '베란다': 66, '베레모': 1, '베르가': 3, '베리': 28, '베베': 1, '베송되기': 1, '베송올': 1, '베스': 3, '베스트': 56, '베스트셀러': 3, '베어링': 1, '베웅': 1, '베이': 111, '베이글': 13, '베이비': 31, '베이스': 72, '베이스볼': 2, '베이지': 76, '베이지색': 25, '베이직': 22, '베이직하우스': 4, '베이커리': 2, '베이컨': 13, '베이킹파우더': 4, '베이트': 2, '베인': 3, '베일': 9, '베임': 3, '베젤': 7, '베지밀': 3, '베지터블': 1, '베타': 3, '베타글루칸': 1, '베타카로틴': 1, '베터리': 26, '베트남': 28, '벡터': 1, '벤다': 1, '벤딩': 4, '벤딩밀': 1, '벤딩밀크': 2, '벤치': 2, '벤치마크': 1, '벤큐': 1, '벤트': 1, '벤틸': 1, '벨기에': 2, '벨런스': 1, '벨레': 2, '벨벳': 3, '벨트': 121, '벳남': 1, '벼르': 2, '벽걸': 1, '벽돌': 8, '벽면': 11, '벽지': 2, '벽쪽': 3, '변감': 1, '변경': 45, '변기': 27, '변끼': 1, '변덕': 2, '변도': 3, '변동': 70, '변동성': 1, '변볼때': 1, '변비': 70, '변색': 36, '변수': 2, '변신': 10, '변심': 3, '변위': 1, '변인': 2, '변조': 1, '변질': 23, '변치': 1, '변현': 1, '변형': 23, '변형도': 2, '변화': 56, '변환': 5, '별개': 28, '별거': 16, '별것': 2, '별깜': 1, '별난': 1, '별다방': 4, '별도': 54, '별로': 895, '별롭니': 6, '별롭니다그닥': 1, '별롭니다슈피겐': 1, '별루': 40, '별루보플': 1, '별루임': 4, '별룹니': 1, '별문제': 7, '별미': 7, '별반': 5, '별세': 2, '별수': 1, '별식': 1, '별의별': 1, '별일': 1, '별점': 1, '별탈': 1, '별하나': 33, '병간호': 3, '병과': 4, '병균': 1, '병뚜껑': 1, '병마개': 1, '병맛': 1, '병명': 1, '병목': 1, '병색': 1, '병속': 1, '병실': 3, '병안': 1, '병원': 82, '병원균': 1, '병인': 1, '병입': 4, '병정': 2, '병중': 3, '병충해': 1, '병크': 1, '병풀': 19, '병해': 1, '병행': 11, '병행수입': 3, '병후': 1, '보가': 3, '보감': 2, '보강': 1, '보건': 1, '보건복지부': 1, '보건소': 1, '보걸': 1, '보고': 1183, '보고서': 5, '보관': 737, '보구': 27, '보급': 9, '보기': 207, '보나': 1, '보냇네': 1, '보냉': 26, '보냉컵': 1, '보냉팩': 1, '보냉효': 1, '보너스': 1, '보넨거아닌': 1, '보누맘': 2, '보늬밤': 1, '보니토': 1, '보답': 4, '보더': 44, '보도': 7, '보드': 82, '보드랗': 1, '보드마카': 1, '보딘': 2, '보라': 50, '보라색': 24, '보라카이': 1, '보람': 16, '보랏빛': 2, '보렵': 4, '보루': 1, '보류': 3, '보름': 17, '보름달': 5, '보름치': 1, '보리': 58, '보리밥': 1, '보리차': 52, '보릿물': 1, '보마': 1, '보물': 8, '보물창고': 1, '보부상': 6, '보브컷': 1, '보빠': 1, '보사': 1, '보삼': 1, '보상': 12, '보새': 1, '보색': 7, '보송보송': 2, '보수': 1, '보스': 14, '보스턴': 3, '보슬보슬': 5, '보슬비': 1, '보습': 490, '보습제': 6, '보시': 183, '보신': 32, '보심': 3, '보쌈': 5, '보아': 32, '보안': 6, '보약': 7, '보양식': 3, '보양음식': 1, '보온': 66, '보온병': 10, '보옴': 1, '보완': 11, '보유': 5, '보육': 1, '보이': 190, '보이스': 3, '보이시': 10, '보이지': 52, '보일러': 6, '보임': 42, '보자기': 1, '보장': 38, '보정': 20, '보조': 124, '보존': 11, '보존력': 1, '보존료': 6, '보쥬향': 1, '보증': 12, '보지': 78, '보충': 74, '보컬': 3, '보태': 15, '보태셔': 1, '보탠다': 1, '보탬': 4, '보텀': 1, '보템': 1, '보토': 1, '보톡스': 7, '보통': 381, '보통사람': 1, '보통신': 1, '보트': 4, '보틀': 2, '보편': 3, '보폭': 2, '보폴': 5, '보푸라기': 13, '보풀': 124, '보플': 8, '보험': 13, '보호': 126, '보호대': 31, '보호색': 1, '복구': 17, '복귀': 4, '복근': 3, '복날': 2, '복도': 7, '복만': 1, '복명': 1, '복물': 1, '복병': 2, '복볼복': 1, '복부': 14, '복부팽': 1, '복분자': 5, '복불': 1, '복불복': 44, '복사': 2, '복숭아': 19, '복슬거리': 1, '복용': 269, '복용량': 1, '복원': 8, '복원력': 9, '복위': 1, '복은': 6, '복음': 1, '복인': 3, '복임': 2, '복장': 6, '복주': 1, '복중': 1, '복지': 2, '복지관': 1, '복지로': 1, '복직': 1, '복첨': 1, '복통': 10, '복합': 76, '복합기': 5, '볶음': 125, '볶음밥': 61, '본가': 12, '본격': 12, '본답': 1, '본대': 2, '본드': 33, '본래': 13, '본론': 2, '본문': 2, '본분': 5, '본사': 10, '본새': 1, '본색': 2, '본선': 1, '본업': 2, '본연': 33, '본의': 3, '본인': 90, '본일': 1, '본적': 38, '본전': 6, '본진': 1, '본질': 5, '본체': 83, '본향': 1, '볼걸': 5, '볼겸': 2, '볼그': 2, '볼끼': 1, '볼때': 43, '볼때말': 1, '볼때앞': 1, '볼땐': 3, '볼떄': 1, '볼라': 2, '볼락': 1, '볼랬': 1, '볼룸': 2, '볼룸찍개': 1, '볼륨': 107, '볼목': 1, '볼밑': 1, '볼법': 1, '볼보': 1, '볼빅': 3, '볼살': 1, '볼새': 1, '볼일': 15, '볼쪽': 4, '볼캡': 5, '볼캡느므흐': 1, '볼켑': 1, '볼쾌': 1, '볼터치': 1, '볼트': 46, '볼펜': 10, '볼품': 6, '봄날': 3, '봄바람': 1, '봄버맨': 1, '봄별': 1, '봄볕': 1, '봄약': 1, '봄여름가을겨울': 1, '봄웜': 2, '봄웜톤': 1, '봄철': 1, '봉당': 3, '봉모': 1, '봉사': 1, '봉사자': 1, '봉선': 1, '봉요': 1, '봉인': 5, '봉입': 1, '봉저': 1, '봉제': 37, '봉지': 331, '봉짜': 1, '봉추': 1, '봉투': 39, '봉평': 2, '봉하': 2, '봉합': 1, '봌음': 1, '봐서쪼끔': 1, '봣는데': 2, '봣습니': 1, '봣어': 1, '봣어요뽁뽁': 1, '봣움': 1, '봣을때': 1, '봣자겟': 1, '부가': 26, '부각': 18, '부감': 1, '부견': 1, '부결': 2, '부과': 3, '부근': 2, '부글': 1, '부금': 1, '부기': 4, '부끄부끄': 1, '부다': 2, '부담': 382, '부대': 4, '부대찌개': 5, '부댬': 1, '부도': 4, '부두': 1, '부두럽': 1, '부드랍': 1, '부드러움': 39, '부드렇': 1, '부드렵': 1, '부득이': 3, '부들': 11, '부들부들': 32, '부디': 10, '부디럽': 1, '부딫히': 2, '부랴부랴': 9, '부량': 2, '부러': 10, '부레': 3, '부력': 1, '부로': 8, '부루': 1, '부룹뜨': 1, '부류': 1, '부르르': 15, '부리': 1, '부리고': 1, '부리또': 2, '부림': 1, '부모': 4, '부모님': 124, '부문': 6, '부방': 3, '부본': 1, '부부': 33, '부분': 1695, '부불': 1, '부붐': 3, '부비': 1, '부비부비': 2, '부사': 2, '부산': 7, '부산물': 2, '부상': 5, '부서': 3, '부설': 1, '부셔졋음': 1, '부소': 2, '부속': 4, '부속품': 20, '부수': 5, '부순': 1, '부숴': 9, '부숴진': 1, '부숴짐': 1, '부스': 2, '부스러기': 25, '부스럭': 1, '부스럼': 2, '부스레기': 1, '부스스': 8, '부스터': 3, '부스트': 3, '부슨것': 1, '부슬비': 1, '부시': 5, '부식': 5, '부신': 1, '부실': 15, '부어': 78, '부얶': 1, '부엌': 8, '부엌칼': 1, '부여': 8, '부영': 1, '부옷': 1, '부와': 4, '부웅부하': 1, '부워': 3, '부원': 1, '부위': 185, '부윈줄': 1, '부유': 1, '부인': 1, '부자': 10, '부자연': 2, '부작용': 50, '부잣집': 1, '부장': 2, '부재': 4, '부적': 1, '부적절': 1, '부적합': 6, '부정': 10, '부정맥': 1, '부제': 2, '부제품': 1, '부족': 69, '부족함': 14, '부종': 6, '부주의': 4, '부지': 42, '부직포': 14, '부쩍': 10, '부착': 54, '부착물': 1, '부채': 4, '부채살': 48, '부척': 2, '부천': 1, '부첨': 1, '부추': 27, '부츠': 8, '부친': 1, '부침개': 18, '부케': 21, '부탁': 49, '부터': 108, '부텀': 2, '부토': 1, '부트': 1, '부트럽': 1, '부팅': 9, '부푸레기': 1, '부풀': 4, '부품': 79, '부플': 1, '부피': 59, '부함': 1, '부합': 2, '부향률': 1, '부형': 1, '부형제': 3, '부활': 2, '부황': 1, '북극': 1, '북도': 1, '북북': 1, '북어': 2, '북유럽': 4, '북인': 1, '북쪽': 1, '북채': 3, '북한': 2, '분가': 2, '분간': 18, '분경': 1, '분과': 8, '분광': 2, '분괘': 1, '분기': 55, '분기도': 6, '분껜': 1, '분나': 3, '분노': 5, '분다': 2, '분담': 2, '분당': 1, '분더': 1, '분도': 48, '분돌렷': 1, '분동': 2, '분뒤': 5, '분듷': 1, '분량': 15, '분류': 8, '분리': 126, '분리수거': 42, '분만': 46, '분말': 63, '분맛': 1, '분명': 79, '분모': 2, '분무': 2, '분무기': 5, '분발': 1, '분배': 1, '분분': 9, '분비': 16, '분비물': 1, '분사': 137, '분사기': 4, '분산': 1, '분석': 6, '분쇄': 33, '분쇄육': 1, '분수령': 1, '분식': 1, '분식집': 1, '분실': 20, '분실물': 1, '분안': 3, '분야': 3, '분업': 1, '분열': 1, '분온': 1, '분위': 2, '분위기': 48, '분유': 37, '분율': 1, '분의': 1, '분일': 1, '분자': 7, '분자량': 3, '분잡': 1, '분재': 2, '분쟁': 1, '분전': 8, '분조': 2, '분주': 1, '분지': 4, '분진': 1, '분집': 1, '분초': 8, '분추': 1, '분출': 3, '분출구': 2, '분통': 4, '분포': 5, '분필': 3, '분한': 1, '분할': 7, '분할수': 1, '분해': 80, '분해햐': 1, '분향': 1, '분홍': 23, '분홍색': 27, '분활': 1, '분후': 14, '불가': 34, '불가능': 11, '불가라': 1, '불고기': 40, '불과': 3, '불구': 76, '불규칙': 1, '불균형': 8, '불급': 2, '불꽃': 2, '불끈쥐': 1, '불날뻔': 1, '불능': 6, '불닭': 9, '불닭볶음면': 5, '불도': 7, '불때': 3, '불량': 287, '불량품': 29, '불량픽셀': 1, '불량화소': 4, '불럿는데': 1, '불럿습': 1, '불렉': 1, '불령품': 1, '불로': 33, '불루': 1, '불루투스': 1, '불륨': 1, '불리': 15, '불만': 47, '불만족': 22, '불맛': 2, '불매': 2, '불매운동': 3, '불면': 10, '불면증': 15, '불문': 4, '불법': 1, '불변': 2, '불볕': 1, '불분명': 2, '불빛': 27, '불상': 3, '불소': 2, '불순': 18, '불시': 1, '불신': 1, '불안': 41, '불안감': 6, '불안전': 1, '불어': 26, '불운': 1, '불위': 2, '불의': 1, '불지': 5, '불찰': 11, '불철': 1, '불출': 1, '불치': 1, '불친절': 2, '불쾌': 2, '불키기': 1, '불타': 1, '불투명': 1, '불퉁': 1, '불판': 8, '불편': 65, '불평': 2, '불포화지방산': 5, '불하': 1, '불합': 2, '불향': 2, '불현듯': 1, '불호': 13, '불효자': 1, '붉그스레': 1, '붉닥': 1, '붉은빛': 7, '붐버': 1, '붓고빳빳': 1, '붓기': 5, '붓다': 1, '붕괴': 1, '붕대': 1, '붕뜬': 1, '붕붕': 6, '붕세권': 1, '붕어': 1, '붕어빵': 6, '붙여넣기': 1, '붙이': 64, '붙임머리': 1, '붙혔는': 1, '붸리붸리': 1, '뷔센': 2, '뷔페': 2, '뷰디': 1, '뷰카': 3, '뷰튜버들': 1, '뷰티': 17, '뷸편항': 1, '브라': 21, '브라가': 1, '브라더스': 1, '브라우니': 1, '브라우저': 1, '브라운': 57, '브라이튼': 1, '브라질': 11, '브라질너트': 3, '브라켓': 7, '브라킷': 1, '브람스': 1, '브래드': 4, '브래이': 1, '브래지어': 3, '브래킷': 1, '브랙': 1, '브랜드': 447, '브러쉬': 31, '브러시': 7, '브런치': 2, '브런트': 1, '브레드': 2, '브레이': 1, '브레이크': 2, '브렉': 4, '브렌': 8, '브렌드': 1, '브로': 8, '브로닌': 1, '브로민': 2, '브로치': 1, '브로컬리': 14, '브로콜리': 29, '브론즈': 1, '브루': 15, '브리': 15, '브리또': 23, '브리지': 1, '브리츠': 14, '브릭': 5, '브릭스': 4, '브릿지': 2, '브릿츠': 2, '브이': 3, '브이넥': 3, '브이넷': 1, '브카': 1, '브콜': 2, '블들': 1, '블라세': 1, '블라썸': 6, '블라우스': 2, '블라인드': 1, '블랙': 369, '블랙박스': 6, '블랙페퍼': 3, '블랙페퍼맛': 1, '블랙프라이데이': 1, '블랜드': 2, '블랜딩': 2, '블략': 1, '블량': 1, '블러': 5, '블럭': 24, '블렉': 4, '블렉페퍼': 1, '블렌더': 1, '블렌딩': 6, '블로거': 1, '블로그': 9, '블로썸': 1, '블록': 5, '블론드': 1, '블뢕': 1, '블루': 70, '블루레이': 1, '블루베리': 44, '블루투스': 109, '블루트스': 1, '블룸': 3, '블리': 1, '블리스': 7, '블린즈': 1, '블링': 2, '블링블링': 4, '블링유': 1, '블링츄밤': 1, '블박': 1, '블투': 6, '블투키보드': 1, '블프': 1, '비갑': 13, '비갑갑갑': 1, '비갑일팩': 1, '비갑촉촉': 1, '비값': 1, '비개': 2, '비건': 19, '비게': 1, '비결': 1, '비계': 123, '비고': 3, '비교': 415, '비굿': 2, '비굿굿': 1, '비굿굿굿': 1, '비글': 1, '비너': 2, '비너스': 3, '비누': 47, '비누거품': 1, '비눗물': 1, '비눗방울': 1, '비늘': 11, '비늦물': 1, '비니': 6, '비니루': 1, '비닐': 275, '비닐봉지': 9, '비닐봉투': 10, '비단': 6, '비달': 1, '비달사순': 8, '비대': 4, '비도': 84, '비드': 2, '비듬': 43, '비등': 1, '비량': 11, '비러브드': 2, '비려': 13, '비례': 1, '비록': 9, '비롯': 7, '비료': 2, '비르': 1, '비리': 16, '비릿': 14, '비릿내': 2, '비릿맛': 1, '비릿한감': 2, '비릿한거': 1, '비릿함': 2, '비릿해': 1, '비만': 18, '비명': 2, '비몽': 1, '비밀': 9, '비밀번호': 1, '비및': 1, '비바람': 5, '비번': 10, '비범': 1, '비법': 7, '비볏': 1, '비보': 2, '비비': 30, '비비고': 7, '비비드': 8, '비비안': 3, '비빔': 4, '비빔국수': 8, '비빔면': 4, '비빔밥': 17, '비사': 2, '비산': 6, '비상': 24, '비상식량': 3, '비샘': 1, '비성': 1, '비셔스': 1, '비쉬': 2, '비스': 2, '비스듬하': 1, '비스므리': 2, '비스킷': 6, '비스트': 1, '비슷': 16, '비슷톤업': 1, '비시': 1, '비실': 8, '비싼걸루': 1, '비씨': 3, '비씬긴해': 1, '비아': 29, '비약': 2, '비어': 10, '비엔나': 2, '비염': 9, '비오틴': 30, '비올': 14, '비용': 68, '비우기': 2, '비운': 2, '비위': 11, '비위생적': 1, '비유': 1, '비율': 55, '비자': 8, '비적': 3, '비전문가': 1, '비점': 1, '비정': 18, '비정상': 1, '비주': 14, '비중': 10, '비쥬': 7, '비즈': 4, '비즈니스맨': 1, '비지': 110, '비지니스': 2, '비질': 1, '비책': 16, '비철': 3, '비최': 1, '비추가': 2, '비축': 3, '비충': 2, '비츄': 3, '비치': 27, '비키': 2, '비키니': 2, '비타': 22, '비타민': 908, '비탄': 1, '비탈길': 1, '비탓': 1, '비터민': 1, '비템': 5, '비통': 1, '비트': 1, '비틀즈': 1, '비판': 2, '비평': 1, '비포': 3, '비폴': 1, '비품': 4, '비프': 1, '비하묜': 1, '비행': 16, '비행기': 7, '비헴철': 1, '비호': 2, '비활': 2, '빅마마': 1, '빅사': 5, '빅싸': 1, '빈곳': 1, '빈공간': 5, '빈대떡': 1, '빈도': 3, '빈말': 1, '빈모': 2, '빈번': 3, '빈병': 2, '빈부': 1, '빈사': 1, '빈소': 1, '빈속': 21, '빈주': 1, '빈채': 1, '빈츠': 6, '빈통': 5, '빈틈': 3, '빈티': 3, '빈티나': 1, '빈팔': 1, '빈품': 3, '빈혈': 44, '빋았습니': 1, '빌드퀄리티': 2, '빌라': 3, '빌어': 4, '빌어먹을': 1, '빌트': 1, '빔볼때': 1, '빗겨': 8, '빗겸': 1, '빗금': 1, '빗달': 1, '빗물': 8, '빗방울': 1, '빗살': 2, '빗살빗': 1, '빗살캡': 7, '빗솔': 1, '빗자루': 6, '빗질': 48, '빗캡': 2, '빗털': 1, '빙그레': 17, '빙금': 1, '빙떡': 1, '빙박스': 1, '빙빙': 2, '빙수': 13, '빙의': 3, '빙초산': 2, '빙판': 2, '빙하수': 3, '빚춤': 1, '빛과': 3, '빛깔': 16, '빛도': 1, '빛몇': 1, '빛바': 1, '빛바랜': 1, '빛바랜줄': 1, '빛샘': 4, '빛을띤': 1, '빠다': 4, '빠듯': 1, '빠듯해': 2, '빠따': 1, '빠뗴리': 1, '빠르기': 3, '빠름빠릉': 1, '빠리': 1, '빠마': 1, '빠밤가정': 1, '빠방': 2, '빠방이': 1, '빠배': 1, '빠빠': 1, '빠사삭': 1, '빠삭': 2, '빠삭빠삭': 2, '빠삭카': 1, '빠삭하': 1, '빠삭함': 2, '빠삭해짐': 1, '빠싹': 2, '빠알간해': 1, '빠이': 1, '빠작': 1, '빠저': 1, '빠클부분': 1, '빠트리': 1, '빡빡': 21, '빡빡이': 1, '빡뻑': 1, '빡세': 8, '빡센': 1, '빡쎄': 1, '빡씨': 1, '빡이침': 1, '빤닥': 1, '빤닥빤닥': 1, '빤스개': 1, '빤스사는': 1, '빤쥬': 2, '빤질빤질': 1, '빤짝': 1, '빤쭈': 2, '빤쮸': 1, '빤쮸같아': 1, '빨간색': 24, '빨강': 24, '빨강이': 5, '빨대': 41, '빨때': 5, '빨때손': 1, '빨랏': 1, '빨래': 97, '빨랫감': 2, '빨렸': 1, '빨판': 1, '빳빳': 15, '빳빳할거': 1, '빳빳함': 1, '빳빳해': 3, '빵가루': 5, '빵구': 5, '빵꾸': 16, '빵끈': 1, '빵닭': 1, '빵댕': 1, '빵땡': 1, '빵류': 1, '빵맛': 9, '빵밥떡': 1, '빵빵': 57, '빵속': 1, '빵수니': 1, '빵안': 3, '빵위': 1, '빵임': 1, '빵저': 1, '빵점': 2, '빵집': 15, '빵파': 1, '빼기': 13, '빼낼': 3, '빼낼때': 1, '빼냇': 1, '빼뚤': 2, '빼박': 1, '빼빼': 2, '빼빼로데이': 2, '빼주': 2, '빽팩': 1, '뺘르': 1, '뺴고': 1, '뺴곤': 1, '뺴놨는데': 1, '뺴빼': 1, '뺸다': 1, '뻈다': 1, '뻐덕뻐덕': 1, '뻐뻣': 1, '뻑간것': 1, '뻑뻑': 111, '뻑살': 1, '뻔햇': 1, '뻔향': 1, '뻗힌': 1, '뻘겋': 1, '뻘빼': 1, '뻘뻘': 1, '뻘쭘할거': 1, '뻣답': 1, '뻣뻣': 3, '뻣뻣거칠': 1, '뻥뻣해': 1, '뻥뻥': 1, '뻥튀기': 1, '뼈대': 5, '뼈찜': 1, '뼛뼛': 1, '뼛뼛해': 1, '뼛조각': 2, '뽀개져': 1, '뽀개지': 1, '뽀그작': 2, '뽀글이': 1, '뽀대나': 1, '뽀독': 1, '뽀드득': 12, '뽀레쏘': 2, '뽀로로': 18, '뽀로롱': 1, '뽀루지': 3, '뽀사시': 1, '뽀사짐': 1, '뽀샵': 1, '뽀송뽀쏭': 1, '뽀슬뽀슬': 1, '뽀인트': 1, '뽀인트저': 1, '뽀작너': 1, '뽀족하': 1, '뽀족해': 2, '뽁록': 1, '뽁뽁': 24, '뽁뽁이': 27, '뽁뽁이해': 1, '뽈록': 1, '뽐뿌': 1, '뽑기': 61, '뽕뽕': 1, '뾔뽁': 1, '뾰로': 1, '뾰로롱': 1, '뾰로지': 3, '뾰루': 12, '뾰루지': 15, '뾰류': 1, '뾰류지': 1, '뾰얀것': 1, '뾰옹': 1, '뾰적하': 1, '뾱뽁': 1, '뾱뾱': 3, '뾱뾱이': 2, '뾱뾱이가': 1, '뿌듯': 6, '뿌듯뿌듯': 1, '뿌러': 2, '뿌러지': 1, '뿌러진채': 1, '뿌러질것': 1, '뿌렷을때': 1, '뿌르': 1, '뿌리': 188, '뿌셔': 8, '뿌셔놓': 1, '뿌셔먹는': 1, '뿌셔먹던': 1, '뿌셔먹어': 1, '뿌셔뿌셔': 17, '뿌셔져': 3, '뿌셔졌음': 1, '뿌셨네': 1, '뿌쉈': 1, '뿌앻': 1, '뿌얘': 1, '뿌얘짐': 1, '뿌요': 1, '뿐담': 1, '뿐더러': 8, '뿐밖': 1, '뿔려놨다': 1, '뿔뿔이': 1, '뿔스테끼': 1, '뿜뿜': 11, '뿜뿜입니': 2, '뿜뿜하': 2, '뿜어': 1, '뿜어져': 3, '뿜음': 1, '뿡뿡이': 1, '쀼려': 1, '쁘띠': 2, '쁘리': 1, '쁞기': 1, '삐거덕': 2, '삐걱': 19, '삐끗': 3, '삐르': 1, '삐약': 1, '삐익': 2, '삐툴': 1, '삑삑': 3, '삑삑거림': 1, '사가': 13, '사각': 15, '사각기둥': 1, '사각팬티': 2, '사각형': 6, '사건': 5, '사격': 1, '사계': 2, '사계절': 22, '사고': 148, '사고력': 2, '사고사': 2, '사골': 6, '사골곰탕': 1, '사과': 324, '사과먓': 1, '사과소스': 1, '사과주스': 3, '사극': 2, '사기': 86, '사기꾼': 2, '사나': 4, '사나이': 2, '사내': 1, '사놧겟': 1, '사놨슴니': 1, '사다리': 9, '사담': 1, '사당': 1, '사도': 37, '사두': 18, '사드': 17, '사라': 23, '사락': 1, '사람': 894, '사람과': 2, '사람인': 9, '사랑': 70, '사래': 3, '사량': 1, '사레': 2, '사려': 89, '사력': 1, '사렵니': 6, '사례': 6, '사료': 14, '사르르': 15, '사리': 13, '사리곰탕': 10, '사리면': 1, '사림': 1, '사마': 5, '사마귀': 1, '사막': 5, '사만오천원': 1, '사만원': 2, '사만천원': 1, '사망': 16, '사면': 153, '사묜': 1, '사무': 4, '사무실': 73, '사무일': 2, '사무직': 2, '사물': 1, '사뭇': 1, '사바트': 2, '사발': 6, '사발면': 60, '사방': 19, '사방천': 1, '사백구십원': 1, '사보': 1, '사복': 2, '사본': 10, '사볼껄': 1, '사봣으': 1, '사분': 2, '사블': 1, '사살': 1, '사생활': 2, '사서': 439, '사선': 9, '사성': 2, '사수': 16, '사스': 1, '사스콰치': 5, '사슴': 2, '사시': 50, '사시미': 1, '사신': 1, '사실': 369, '사십': 1, '사십분': 1, '사안': 1, '사양': 18, '사업': 16, '사업자': 2, '사연': 3, '사오': 1, '사오천원': 1, '사욤함': 1, '사용': 5628, '사용설명서': 28, '사용성': 3, '사용자': 26, '사우나': 4, '사운드': 84, '사운드카드': 1, '사워크림': 2, '사원': 2, '사위': 5, '사유': 14, '사육': 9, '사육이': 1, '사은': 40, '사의': 14, '사이': 145, '사이다': 161, '사이드': 27, '사이드바': 1, '사이사이': 18, '사이즈': 1847, '사이클': 9, '사이툴': 1, '사이트': 41, '사인': 3, '사일런트': 1, '사임당': 1, '사자': 16, '사장': 39, '사재기': 6, '사적': 1, '사전': 9, '사전예약': 17, '사절': 1, '사정': 5, '사제': 1, '사제품': 17, '사조원': 6, '사주': 4, '사주면': 3, '사주지': 1, '사줄껄': 1, '사쥬': 4, '사지': 240, '사직': 1, '사진': 979, '사진빨': 1, '사진전': 1, '사진촬영': 1, '사천': 1, '사천원': 1, '사철': 1, '사촌': 1, '사춘기': 13, '사출': 5, '사치': 4, '사카': 1, '사카린': 8, '사케': 1, '사타구니': 11, '사탕': 19, '사탕무': 1, '사탕수수': 24, '사태': 11, '사투': 1, '사틴': 1, '사파리': 1, '사포': 5, '사포닌': 3, '사플': 2, '사하라': 1, '사항': 61, '사형': 1, '사회': 11, '사회생활': 1, '사후': 2, '사흘': 2, '삭발': 4, '삭스': 1, '삭았': 1, '삭제': 4, '삭함': 3, '삭해': 3, '삮아': 2, '산개': 2, '산걸': 1, '산겅': 1, '산격': 1, '산골': 1, '산국': 2, '산기': 3, '산김': 1, '산내': 2, '산다': 19, '산도': 10, '산둥': 1, '산들': 1, '산듯': 2, '산딸기': 1, '산때': 1, '산뜻': 1, '산뜻산뜻': 1, '산뜻촉': 1, '산란': 8, '산리오': 2, '산림': 1, '산만': 1, '산맘': 1, '산맛': 1, '산맥': 5, '산모': 2, '산미': 13, '산산': 1, '산산조각': 1, '산성': 63, '산소': 40, '산속': 2, '산수': 30, '산스장': 1, '산신': 1, '산악회': 1, '산양': 2, '산업': 2, '산이': 50, '산이면': 4, '산임': 1, '산입': 8, '산적': 6, '산전': 1, '산전수전': 1, '산정': 1, '산증': 1, '산지': 52, '산찬': 1, '산책': 23, '산책길': 1, '산청군': 1, '산초': 1, '산타': 3, '산택': 1, '산통': 1, '산티아고': 1, '산패': 14, '산행': 28, '산행때': 1, '산행용': 1, '산호': 1, '산화': 24, '산화마그네슘': 2, '산화제': 4, '산후': 8, '살갗': 4, '살걸': 40, '살걸향': 1, '살결': 1, '살구': 1, '살균': 13, '살균제': 3, '살기': 4, '살껄': 31, '살껄그랬': 1, '살껄타사': 1, '살다보면': 2, '살닭': 1, '살대': 4, '살딸': 1, '살때': 44, '살땐': 3, '살떄': 2, '살랬는데': 1, '살로': 17, '살롱': 3, '살리실산': 2, '살림': 13, '살림살이': 3, '살바': 4, '살발': 1, '살밥': 1, '살벌': 3, '살볼': 3, '살사': 9, '살사소스': 2, '살살': 57, '살색': 3, '살수': 20, '살얼음': 1, '살여': 3, '살의': 8, '살이': 196, '살인': 6, '살작': 3, '살점': 2, '살제': 1, '살집': 8, '살짝': 859, '살찐': 2, '살충제': 4, '살코기': 38, '살포': 1, '살포시': 4, '살피': 4, '삶의질': 4, '삻어서': 1, '삼각': 6, '삼각근': 1, '삼각김밥': 1, '삼각대': 2, '삼각지': 2, '삼각팬티': 2, '삼각형': 4, '삼결': 1, '삼겹': 48, '삼겹살': 221, '삼계': 4, '삼계탕': 25, '삼다수': 37, '삼류': 1, '삼림': 3, '삼립': 31, '삼립식품': 3, '삼만': 1, '삼만리': 1, '삼만원': 5, '삼박': 1, '삼박자': 1, '삼분': 3, '삼사십분': 1, '삼사십초': 1, '삼사일': 3, '삼사일분': 1, '삼색': 8, '삼성': 134, '삼수': 1, '삼순': 1, '삼십': 1, '삼십분': 2, '삼양': 1, '삼양라면': 16, '삼양식품': 1, '삼은': 1, '삼이': 2, '삼익': 5, '삼일': 14, '삼입': 1, '삼조': 2, '삼중': 1, '삼천오백원': 1, '삼천원': 3, '삼촌': 3, '삼치': 8, '삼투압': 2, '삼한': 1, '삽겹': 4, '삽겹살': 2, '삽겹실': 1, '삽립': 1, '삽입': 8, '삽입구': 2, '삿는데': 27, '삿는데원': 1, '삿는데윗': 1, '삿는뎁': 1, '삿다': 3, '삿다구': 1, '삿더': 1, '삿던거': 1, '삿드': 1, '삿어': 7, '삿으': 3, '삿을까': 2, '샀엉': 1, '샀을때느작': 1, '상가': 1, '상감': 1, '상공': 1, '상관': 39, '상권': 1, '상근': 1, '상금': 1, '상급': 4, '상긋': 1, '상기': 4, '상남자': 3, '상단': 32, '상담': 34, '상담사': 4, '상당': 1, '상당수': 1, '상대': 26, '상대방': 6, '상도': 12, '상등': 5, '상반': 2, '상반기': 3, '상병': 1, '상보': 2, '상복': 3, '상부': 6, '상부상조': 1, '상분': 1, '상비': 2, '상사': 2, '상사면': 1, '상상': 15, '상세': 113, '상속': 7, '상쇄': 1, '상술': 3, '상습': 1, '상승': 20, '상시': 5, '상식': 6, '상실': 5, '상아색': 1, '상어': 4, '상온': 23, '상요': 1, '상욕': 1, '상용': 3, '상위': 15, '상의': 70, '상이': 43, '상인': 1, '상일': 3, '상임': 1, '상자': 138, '상장': 1, '상적': 1, '상점': 2, '상제': 3, '상중': 1, '상중하': 1, '상징': 2, '상차림': 4, '상책': 1, '상처': 57, '상체': 16, '상추': 125, '상층': 1, '상치': 4, '상콤': 3, '상콤해': 1, '상쾌': 2, '상큼': 71, '상타': 1, '상태': 767, '상탠데': 1, '상판': 96, '상판위': 1, '상판홈안': 1, '상편': 1, '상평품': 1, '상폼': 1, '상표': 18, '상품': 2142, '상품택': 2, '상품푱': 1, '상풒': 1, '상퓸': 2, '상픔': 1, '상픔질': 1, '상피': 1, '상피세포': 1, '상하': 69, '상하이': 2, '상하좌우': 4, '상한': 62, '상함': 4, '상해': 34, '상햇': 1, '상향': 1, '상형': 6, '상호': 1, '상호작용': 1, '상황': 90, '상회': 1, '새거삿다': 1, '새꼼': 1, '새끼': 8, '새끼손가락': 3, '새내기': 1, '새댁': 4, '새로이': 3, '새록새록': 2, '새롣새롣': 1, '새미': 3, '새벽': 172, '새벽같이': 1, '새사람': 1, '새살': 2, '새삼': 3, '새송이': 4, '새싹': 1, '새우': 33, '새우깡': 62, '새우젓': 2, '새장': 1, '새집': 1, '새치': 62, '새털': 1, '새하얘': 1, '새해': 8, '색갈': 8, '색감': 121, '색계': 1, '색깍': 1, '색깔': 246, '색데': 1, '색도': 141, '색력': 8, '색료': 1, '색맹': 1, '색모': 1, '색뭍': 1, '색뭐': 1, '색바램': 1, '색상': 823, '색색': 1, '색소': 29, '색슝복': 1, '색연': 1, '색연필': 1, '색인': 6, '색조': 8, '색조화': 4, '색종이': 1, '색층': 1, '색칠': 2, '색카키': 1, '색호': 1, '샌드': 8, '샌드위치': 169, '샌드치': 1, '샌드카야샌드': 1, '샌드해': 1, '샌들': 1, '샌타': 2, '샐러드': 174, '샘물': 19, '샘표': 1, '샘플': 17, '샛노랑': 1, '샛어': 1, '생가': 8, '생각': 3108, '생강': 42, '생강차': 23, '생거': 1, '생것': 2, '생견': 1, '생겻': 1, '생겻는데': 1, '생겻다피자': 1, '생계': 1, '생굴': 2, '생귤': 1, '생기': 102, '생기지': 17, '생김새': 4, '생깃': 1, '생닭': 18, '생도': 3, '생때': 1, '생략': 15, '생르': 1, '생리': 27, '생리대': 4, '생리통': 12, '생머리': 8, '생면': 1, '생명': 11, '생명력': 3, '생명수': 1, '생명연장': 1, '생목': 1, '생물': 20, '생물권보전지역': 1, '생산': 80, '생산량': 2, '생산자': 7, '생삽겹살': 1, '생생': 8, '생선': 140, '생수': 269, '생식': 1, '생식기': 3, '생신': 6, '생쌀': 2, '생애': 2, '생얼': 5, '생으로': 16, '생인': 3, '생일': 30, '생일상': 2, '생임': 1, '생전': 4, '생존': 8, '생채기': 1, '생체': 6, '생체이용률': 5, '생초콜릿': 1, '생크림': 75, '생킈': 1, '생태': 1, '생태계': 1, '생필': 3, '생필품': 8, '생해': 1, '생협': 1, '생화': 1, '생화학': 2, '생활': 83, '생활비': 2, '생활용품': 2, '생활필수품': 2, '생활화': 2, '생후': 2, '샤넬': 2, '샤두팩': 1, '샤라': 1, '샤롱': 1, '샤르르': 2, '샤방샤': 1, '샤브': 5, '샤브샤브': 8, '샤브용': 2, '샤샤': 3, '샤샥': 1, '샤시': 2, '샤악': 1, '샤오마': 1, '샤오미': 32, '샤워': 112, '샤워실': 2, '샤인': 4, '샤프트': 1, '샤핑': 1, '샥샥': 1, '샥쇽': 2, '샴푸': 422, '샴푸트린트먼트': 1, '샴품': 1, '샴퓨': 6, '샴퓨같': 1, '샴퓨향': 1, '샴프': 1, '샴후': 1, '샷추가': 1, '샹각': 2, '섀도': 2, '섀도우': 4, '서간': 1, '서거': 2, '서고': 1, '서교': 2, '서구': 2, '서귀포': 3, '서금': 1, '서기': 2, '서기대': 2, '서기장': 1, '서나': 10, '서남': 1, '서너': 2, '서단': 2, '서도': 53, '서두': 5, '서든': 12, '서라운드': 1, '서랍': 192, '서로': 38, '서론': 1, '서류': 4, '서류가방': 1, '서른': 1, '서리': 7, '서린': 1, '서림': 4, '서막': 2, '서머': 2, '서면': 5, '서면역': 1, '서모': 2, '서무': 1, '서문': 1, '서민': 3, '서방': 1, '서버': 4, '서번': 1, '서부': 1, '서브': 9, '서브웨이': 2, '서비스': 105, '서비슬': 1, '서빙': 1, '서사': 10, '서산': 3, '서생': 1, '서서': 10, '서서히': 13, '서손': 3, '서수면': 1, '서술': 3, '서식': 3, '서안': 7, '서애': 1, '서약': 2, '서양': 3, '서어': 1, '서여': 1, '서연': 1, '서온': 1, '서요': 11, '서운동': 2, '서울': 43, '서울식': 1, '서위': 1, '서은': 1, '서인': 6, '서일': 5, '서장': 3, '서재': 7, '서전': 1, '서주': 1, '서지고': 1, '서진': 1, '서진하': 1, '서질': 2, '서천': 1, '서초': 1, '서치': 10, '서칭': 1, '서칭용': 1, '서코': 2, '서클': 3, '서통': 2, '서팩': 2, '서퍼': 1, '서프라이즈': 2, '서피스': 2, '서하면': 1, '서한': 3, '서한두': 1, '서해': 2, '서향': 2, '서호': 1, '서화': 1, '석고': 1, '석고보드': 2, '석류': 7, '석면': 2, '석수': 7, '석식': 1, '석유': 7, '석조': 3, '석촌동': 1, '석회': 1, '석회가루': 1, '석회질': 3, '섞힌': 1, '선도': 21, '선도주자': 1, '선두': 1, '선때메': 1, '선뜻': 5, '선명': 5, '선물': 427, '선물임둥맘': 1, '선반': 99, '선발': 3, '선방': 1, '선배': 1, '선별': 12, '선불': 2, '선비': 4, '선사': 12, '선생': 6, '선생님': 22, '선선': 4, '선수': 10, '선심': 3, '선암사': 1, '선용': 1, '선의': 2, '선인': 1, '선인장': 5, '선입견': 5, '선입견있어': 1, '선전': 2, '선정': 26, '선조': 1, '선즨': 1, '선지': 6, '선진': 11, '선진국': 1, '선집': 4, '선착순': 1, '선천': 2, '선천성': 1, '선크림': 153, '선태': 1, '선태은': 1, '선택': 598, '선포': 1, '선풍기': 18, '선호': 133, '선홍': 1, '선홍빛': 5, '선후': 1, '설거지': 63, '설겆': 10, '설계': 19, '설기': 5, '설날': 7, '설득': 1, '설땅': 1, '설때': 2, '설랑': 1, '설렁탕': 1, '설레임': 1, '설령': 1, '설례': 1, '설마': 42, '설명': 422, '설사': 48, '설산': 3, '설선물': 1, '설연휴': 1, '설정': 99, '설치': 576, '설탈': 1, '설탕': 462, '설표': 3, '설향': 1, '설화수': 1, '섬세': 1, '섬유': 32, '섬유소': 2, '섬유질': 16, '섭렵': 1, '섭리': 1, '섭섭': 1, '섭씨': 2, '섭외': 1, '섭취': 501, '섭취량': 23, '성격': 22, '성경': 2, '성공': 29, '성과': 16, '성구': 1, '성남시': 1, '성능': 207, '성도': 85, '성동': 1, '성민': 1, '성별': 7, '성분': 558, '성비': 161, '성수': 3, '성숙': 1, '성실': 1, '성심': 1, '성아': 1, '성안': 1, '성애자': 3, '성업': 1, '성용': 19, '성은': 33, '성의': 24, '성의껏': 3, '성인': 111, '성인병': 3, '성장': 20, '성장기': 17, '성적': 1, '성제': 2, '성조숙증': 2, '성주': 1, '성질': 12, '성탕': 1, '성품': 53, '성풍': 1, '성하': 1, '성함': 6, '성합': 1, '성해': 12, '성향': 3, '성혈': 1, '성형': 11, '성화': 1, '세가족': 2, '세계': 23, '세계관': 2, '세계대전': 1, '세고': 13, '세균': 14, '세기': 53, '세남자': 1, '세닥했슴다': 1, '세대': 14, '세도': 6, '세라': 3, '세라믹': 14, '세람': 1, '세럼': 3, '세련': 6, '세령': 1, '세례': 1, '세로': 24, '세로줄': 2, '세로토닌': 2, '세리': 4, '세면': 8, '세면대': 8, '세명': 2, '세모': 6, '세무서': 1, '세미': 6, '세밀': 10, '세바퀴': 1, '세배': 1, '세뱃돈': 1, '세번': 116, '세벌': 1, '세부': 10, '세분': 3, '세븐': 1, '세븐피엠': 1, '세비': 4, '세상': 104, '세수': 49, '세시': 2, '세심': 17, '세아': 3, '세안': 195, '세영': 1, '세용': 10, '세운': 1, '세월': 14, '세이': 3, '세이브': 4, '세이브존': 1, '세이프': 10, '세인': 2, '세자': 1, '세잔': 2, '세제': 25, '세종시': 2, '세지': 14, '세척': 272, '세컨드': 1, '세컨용': 2, '세컨폰': 2, '세콧': 1, '세타': 4, '세탁': 377, '세탁기': 111, '세탁물': 11, '세탁볼': 1, '세탁소': 5, '세탁실': 12, '세탇해': 1, '세태': 1, '세탹기': 1, '세트': 252, '세팅': 8, '세팅된': 1, '세팅시': 2, '세팅한다': 1, '세팅할': 5, '세팅할때': 1, '세팅해': 3, '세포': 32, '세포대사': 1, '세포막': 2, '세포벽': 1, '세포분열': 3, '세포조직': 1, '세한': 1, '센서': 16, '센스': 27, '센치': 50, '센치미터': 1, '센터': 87, '센텔': 4, '센트': 6, '센티': 50, '센티미터': 1, '센폼클렌징': 1, '셀러': 9, '셀레뉴': 1, '셀레늄': 6, '셀렉': 1, '셀렌': 2, '셀룰로스': 1, '셀린': 1, '셀링': 1, '셀링뉴': 1, '셀카': 5, '셀트리온': 4, '셀프': 55, '셀프컷팅': 1, '셀피': 1, '셋뚜': 1, '셋앤킵': 1, '셋업': 1, '셋탑박스': 2, '셋톱박스': 3, '셋트': 10, '셋트길': 1, '셋트씩': 1, '셋팅': 12, '셋팅된': 1, '셋팅력': 4, '셋팅펌': 1, '셋팅하': 1, '셋팅한': 1, '셋팅해': 1, '셍카': 3, '셔등': 1, '셔링': 3, '셔벗': 1, '셔요무른': 1, '셔츠': 22, '셔틀콕': 3, '션용': 1, '셧다': 4, '셧으': 3, '셧음': 2, '셨던': 1, '셩럼': 1, '셰프': 1, '소가': 3, '소갈비': 3, '소감': 7, '소개': 46, '소거': 1, '소견': 3, '소고기': 154, '소금': 303, '소금물': 15, '소기': 1, '소꿉': 1, '소꿉장난': 1, '소나기': 2, '소나무': 5, '소나타': 1, '소냐': 1, '소녀': 3, '소녀시대': 2, '소니': 9, '소닉': 1, '소도': 2, '소도구': 1, '소독': 30, '소독약': 6, '소독제': 2, '소두': 1, '소듕': 2, '소등': 1, '소라': 2, '소라색': 1, '소란': 4, '소래': 1, '소량': 97, '소로': 5, '소름': 10, '소리': 691, '소린': 3, '소릴': 1, '소만': 2, '소망': 6, '소매': 36, '소매통': 2, '소면': 1, '소멸': 1, '소모': 19, '소모전': 1, '소모품': 14, '소문': 12, '소문내기': 1, '소믈리에': 5, '소방차': 1, '소변': 19, '소병느': 1, '소보': 4, '소보로빵': 1, '소비': 117, '소비자': 102, '소비자고발': 2, '소비자보호': 1, '소비전력': 2, '소상': 1, '소세지': 14, '소셜': 1, '소송': 1, '소수': 1, '소스': 206, '소스류': 1, '소시지': 9, '소식': 12, '소신': 1, '소실': 1, '소심': 1, '소아': 2, '소아과': 3, '소액': 2, '소영': 1, '소요': 18, '소용': 28, '소울푸드': 1, '소원': 1, '소위': 2, '소유자': 2, '소음': 235, '소음공해': 1, '소음정': 2, '소의': 4, '소이': 4, '소자': 2, '소장': 5, '소재': 210, '소재지': 3, '소정': 1, '소제': 1, '소주': 8, '소주잔': 2, '소지': 6, '소지품': 3, '소진': 26, '소진하': 2, '소치': 1, '소태': 1, '소티': 1, '소파': 51, '소포': 4, '소포트': 1, '소품': 9, '소풍': 4, '소프': 11, '소프트': 20, '소프트아이스크림': 1, '소프트웨어': 6, '소하': 3, '소한': 4, '소형': 11, '소화': 109, '소화기': 3, '소화기관': 5, '소화도': 15, '소화효소': 4, '소환': 1, '속눈썹': 1, '속단': 1, '속담': 1, '속도': 110, '속력': 2, '속보': 1, '속사': 2, '속삭임': 1, '속성': 4, '속세': 3, '속옷': 100, '속임수': 1, '속지': 8, '속초': 2, '속편': 8, '손가락': 108, '손글씨': 1, '손길': 1, '손꾸락': 1, '손끝': 4, '손날': 3, '손녀': 5, '손님': 59, '손등': 56, '손때': 1, '손맛': 3, '손목': 138, '손목밴딩': 1, '손바닥': 66, '손발': 8, '손발톱': 1, '손보': 3, '손빗': 2, '손상': 199, '손색': 19, '손성인': 1, '손세정제': 1, '손소독제': 2, '손쇱게물': 1, '손수': 4, '손수건': 5, '손실': 12, '손씻기': 1, '손아귀': 1, '손안': 2, '손위': 1, '손자': 2, '손잡이': 272, '손재주': 3, '손전등': 17, '손절': 4, '손접': 1, '손주': 3, '손질': 145, '손톱': 87, '손팩': 1, '손편지': 1, '손하나': 1, '손해': 4, '손해배상': 3, '손흥민': 2, '손힘': 1, '솔기': 4, '솔까말': 1, '솔로': 9, '솔롱': 1, '솔루션': 7, '솔리': 1, '솔리드': 1, '솔솔': 20, '솔온': 1, '솔이': 6, '솔잎': 1, '솔직': 149, '솔질': 1, '솔찍': 6, '솔트': 38, '솜를': 1, '솜브레': 1, '솜사탕': 3, '솜씨': 3, '솜털': 4, '솜팩': 1, '솝느낌': 1, '솝톱': 1, '송곳': 4, '송글송글': 1, '송도': 3, '송딸기쨈': 1, '송료': 8, '송상': 1, '송송': 6, '송월타월': 1, '송이': 21, '송이버섯': 5, '송인': 1, '송장': 17, '송전': 5, '송중': 1, '송중기': 2, '송출': 1, '송출력': 1, '송충이': 1, '송파구': 1, '송편': 3, '송학': 2, '송해': 1, '솥밥': 1, '솥밥해': 1, '솨악': 1, '솨핑': 1, '쇄골': 4, '쇄신': 2, '쇠고기': 29, '쇠고기면': 4, '쇠고리': 4, '쇠독': 1, '쇠맛': 4, '쇠붙이': 1, '쇠비름': 2, '쇠수세미': 1, '쇠안': 1, '쇠약': 1, '쇠카쇠': 2, '쇳덩': 1, '쇳돌': 1, '쇳소리': 2, '쇼콜라': 1, '쇼킹': 1, '쇼트닝': 1, '쇼파': 33, '쇼팽': 1, '쇼퍼': 3, '쇼핑': 80, '쇼핑몰': 13, '쇼핑핟': 1, '숀리': 8, '숄더': 3, '숄드백': 1, '숏츠': 1, '숏컷': 3, '숏티': 3, '숏패딩': 1, '숏핀': 2, '수가': 132, '수거': 18, '수건': 131, '수경': 6, '수고': 27, '수급': 2, '수긍': 2, '수기': 6, '수납': 170, '수년': 10, '수능': 7, '수다': 1, '수단': 3, '수당': 2, '수도': 192, '수도권': 5, '수도꼭지': 1, '수돗물': 10, '수동': 16, '수두': 3, '수딩': 8, '수딩업': 1, '수딩젤': 59, '수딩젤향': 1, '수딩폼': 1, '수라': 4, '수락산': 1, '수란': 2, '수량': 52, '수레': 1, '수려': 1, '수력': 1, '수련': 5, '수렴': 3, '수령': 43, '수로': 9, '수록': 26, '수리': 45, '수린': 1, '수만': 5, '수면': 42, '수면시간': 3, '수면장애': 1, '수면제': 1, '수명': 18, '수모': 6, '수미': 7, '수박': 4, '수분': 419, '수분크림': 85, '수비드': 5, '수사': 1, '수산': 2, '수산물': 1, '수산업': 1, '수산화': 1, '수상': 1, '수선': 7, '수성': 3, '수세미': 11, '수수': 1, '수술': 20, '수습': 5, '수시': 3, '수신': 3, '수십': 4, '수액': 1, '수업': 24, '수염': 15, '수영': 30, '수영남': 1, '수영모': 3, '수영복': 60, '수영장': 24, '수요': 2, '수요일': 12, '수욜': 1, '수욜일': 1, '수용': 3, '수용성': 14, '수원': 8, '수원지': 9, '수유': 2, '수육': 7, '수은': 1, '수의': 5, '수의사': 1, '수입': 42, '수자원': 2, '수장국': 2, '수저': 38, '수정': 52, '수정과': 1, '수제': 5, '수제비': 26, '수족': 2, '수준': 134, '수중': 2, '수증기': 3, '수지': 1, '수직': 4, '수질': 10, '수질검사': 5, '수처리': 1, '수축': 7, '수출': 5, '수치': 65, '수쿠터': 1, '수크랄로스': 1, '수크로스': 1, '수트': 2, '수퍼': 1, '수평': 34, '수포': 4, '수풀': 1, '수프림': 1, '수하물': 2, '수학': 1, '수학여행': 1, '수합': 1, '수해': 2, '수행': 1, '수향': 29, '수험생': 7, '수혈': 1, '수확': 12, '숙고': 3, '숙달': 1, '숙란': 1, '숙면': 15, '숙명': 1, '숙모': 1, '숙박업소': 2, '숙변': 1, '숙성': 33, '숙소': 4, '숙식': 1, '숙제': 1, '숙주': 9, '숙지': 9, '숙취': 5, '순간': 160, '순대': 1, '순도': 12, '순두부': 17, '순두부찌개': 1, '순면': 12, '순삭': 32, '순서': 28, '순서대로': 9, '순서도': 1, '순수': 8, '순식간': 21, '순업': 1, '순위': 11, '순의': 2, '순이': 20, '순정': 2, '순차': 1, '순행': 1, '순환': 29, '숟가락': 58, '숟갈': 7, '술기': 1, '술김': 1, '술맛술': 1, '술빵': 1, '술술': 7, '술시': 1, '술안주': 11, '술자리': 2, '술집': 2, '술취해': 1, '술함': 2, '술해': 1, '숨구멍': 2, '숨기': 1, '숨소리': 1, '숨쉬기': 3, '숨키기': 1, '숫자': 33, '숭늉': 2, '숭당당': 1, '숭덩숭덩': 2, '숭숭': 3, '숭정': 1, '숯불': 5, '숯통': 1, '숲속': 2, '쉇입니': 1, '쉐낏쉐낏': 1, '쉐도우': 3, '쉐어': 3, '쉐이빙클렌': 1, '쉐이커': 5, '쉐이크': 7, '쉐이킷': 1, '쉐이킹': 1, '쉐입': 3, '쉐잎': 1, '쉐키쉐': 1, '쉐킷쉐킷': 2, '쉐프': 13, '쉣잡뼈': 1, '쉬는시간': 3, '쉬엄쉬엄': 1, '쉬움': 14, '쉬움내': 1, '쉬윙': 1, '쉬이': 2, '쉬익': 1, '쉬폰': 1, '쉬함': 2, '쉬향': 1, '쉰내': 13, '쉴드': 3, '쉽사리': 3, '슈가': 14, '슈거': 10, '슈과자': 1, '슈렉': 1, '슈우으웅': 1, '슈입산': 1, '슈팅게임': 1, '슈퍼': 45, '슈퍼마리오': 1, '슈프림': 8, '슈피겐': 2, '슉슉': 2, '슛돌이': 1, '슝갔다': 1, '슝슝': 8, '스그': 2, '스꼽': 1, '스낵': 16, '스낵면': 25, '스냅': 3, '스냅백': 1, '스네일': 20, '스넥': 1, '스넥면': 1, '스넥안뿌리': 1, '스넥양': 1, '스노': 8, '스노우': 1, '스누피': 3, '스니커즈': 2, '스님': 1, '스덴': 3, '스덴사이': 1, '스덴인데': 1, '스뎅': 1, '스드': 1, '스따': 1, '스랑': 3, '스레': 10, '스레기': 2, '스로틀': 1, '스루': 1, '스뤠기': 1, '스르': 1, '스름': 1, '스리': 22, '스리랑카': 1, '스릭슨': 1, '스릴': 1, '스림': 1, '스마': 1, '스마일': 3, '스마트': 32, '스마트워치': 19, '스마트폰': 15, '스매싱': 2, '스머프': 3, '스멜': 2, '스며듬': 3, '스며듭니': 2, '스면': 1, '스모키': 2, '스몰': 15, '스무디': 9, '스무살': 1, '스물': 8, '스므살': 2, '스믈스믈': 2, '스백': 1, '스백면': 1, '스벅': 5, '스샷': 1, '스스로': 26, '스승의날': 1, '스완': 1, '스용': 1, '스웨': 1, '스웨덴': 1, '스웨터': 2, '스위스': 9, '스위치': 39, '스위트콘': 1, '스위티': 17, '스윗': 15, '스윙': 14, '스윽': 3, '스윽바르': 1, '스윽원': 1, '스카': 1, '스카드': 1, '스카디': 6, '스카이': 5, '스카치': 2, '스카프': 2, '스칼렛': 2, '스칼프': 3, '스캐줄': 1, '스캣': 1, '스커스': 1, '스커트': 13, '스케': 1, '스케이트': 7, '스케이트보드': 2, '스케일': 1, '스케줄': 1, '스켈링제품': 1, '스켈링하': 1, '스코프': 1, '스콘': 17, '스쿠': 2, '스쿼드': 1, '스쿼트': 7, '스퀴': 2, '스퀴즈': 1, '스크라치': 2, '스크래쳐': 2, '스크래치': 40, '스크램블': 5, '스크랩': 1, '스크럼': 1, '스크럽': 4, '스크럽기능': 1, '스크레': 3, '스크레쳐': 1, '스크레치': 23, '스크레치나': 1, '스크레치나있': 1, '스크레치남': 1, '스크레치코팅': 1, '스크롤': 3, '스크루': 1, '스크린': 8, '스크린샷': 1, '스크림': 1, '스크릿': 1, '스키': 17, '스키니진': 2, '스키야키': 1, '스키장': 4, '스킨': 291, '스킨로션': 46, '스킬': 9, '스킵': 1, '스타': 89, '스타벅스': 11, '스타일': 177, '스타일리시': 4, '스타킹': 11, '스탈': 15, '스탕': 1, '스태킹': 1, '스탠': 7, '스탠드': 10, '스탠딩': 3, '스탠리': 9, '스탠스': 1, '스탭퍼': 1, '스탸일': 1, '스터디': 2, '스턴': 1, '스테': 24, '스테로이드': 2, '스테롤': 1, '스테미너': 1, '스테비': 58, '스테비아': 29, '스테비오사이드': 2, '스테이': 2, '스테이크': 43, '스테인레스': 26, '스테인리스': 13, '스텐': 28, '스텐드': 2, '스텐드형': 1, '스텐딩': 1, '스텐레스': 1, '스텐리': 2, '스텐부분': 1, '스텐이': 1, '스텐인건': 1, '스텐인데': 1, '스텐쪽': 1, '스텐통': 1, '스템': 3, '스템플러': 1, '스텝': 17, '스텝퍼': 2, '스토': 13, '스토리': 8, '스토어': 8, '스토퍼': 3, '스톤': 3, '스톨': 1, '스톱': 3, '스퇄': 4, '스툴': 5, '스툴개': 1, '스툴인데': 1, '스툴하': 1, '스튜': 1, '스튜디오': 1, '스트': 9, '스트래스': 1, '스트랩': 27, '스트러칭하': 1, '스트레스': 110, '스트레이트': 6, '스트레치': 1, '스트레칭': 53, '스트렙': 1, '스트렝스': 1, '스트로': 5, '스트로베리': 1, '스트로우': 3, '스트롱': 3, '스트리트': 1, '스트링': 3, '스트링치즈': 1, '스티': 5, '스티로폴': 1, '스티로폼': 25, '스티치': 1, '스티커': 85, '스틱': 113, '스틸': 11, '스팀': 31, '스팅': 3, '스파': 15, '스파게티': 14, '스파오': 2, '스파이': 13, '스파이더': 1, '스파크': 1, '스판': 53, '스판기': 11, '스판끼': 16, '스판끼도없': 1, '스판느낌': 1, '스판덱스': 1, '스판성': 1, '스판소재': 1, '스판실': 1, '스판아니': 1, '스판원단': 1, '스판이': 2, '스판좋아': 1, '스판좋음': 1, '스팟': 12, '스패너': 2, '스패어': 1, '스패츌': 1, '스패츌러': 3, '스패츠': 2, '스팸': 2, '스팽': 1, '스팽글': 1, '스펀지': 15, '스펀지밥': 1, '스페셜': 2, '스페이스': 3, '스페인': 11, '스펙': 15, '스펙트럼': 1, '스펜서': 2, '스포': 3, '스포이드': 20, '스포츠': 25, '스포츠카': 2, '스포크': 7, '스포티지': 1, '스폰지': 4, '스푼': 72, '스품': 1, '스프': 111, '스프라이트': 4, '스프레드': 7, '스프레이': 116, '스프링': 22, '스픈': 1, '스픜': 1, '스피드': 19, '스피커': 203, '스핀': 1, '스함': 1, '스햄': 1, '슨데': 1, '슬그머니': 1, '슬금슬금': 1, '슬기': 2, '슬라이드': 10, '슬라이딩': 3, '슬랙스': 4, '슬러': 1, '슬러그': 1, '슬러쉬': 1, '슬러지': 7, '슬렉스': 1, '슬렷': 2, '슬로': 2, '슬롯': 2, '슬리': 1, '슬리브': 2, '슬리퍼': 2, '슬림': 36, '슬림셔츠': 1, '슬림지갑': 1, '슬림핏': 11, '슬림핏살': 1, '슬림하': 6, '슬림한': 1, '슬림한데': 1, '슬림할줄': 1, '슬림해': 4, '슬림형': 2, '슬립': 12, '슬릿': 3, '슬링': 20, '슬슬': 24, '슬어': 6, '슬었': 1, '슬었어': 1, '슬픔': 3, '슬하': 2, '슴니': 1, '슴돠': 1, '슴돵': 1, '슴슴': 2, '습관': 43, '습기': 36, '습니': 6, '습도': 9, '습량': 1, '습립밤': 1, '습자': 1, '습제': 2, '습진': 7, '슷비슷': 1, '승리자': 1, '승마': 1, '승무원': 3, '승승장구': 1, '승용차': 1, '승인': 2, '승질': 1, '승질남': 1, '승하': 1, '승화': 1, '싑네': 1, '시가': 6, '시각': 11, '시각장애인': 2, '시간': 980, '시간대': 3, '시간텀': 1, '시간표': 1, '시경': 1, '시계': 32, '시곗줄': 1, '시골': 17, '시구': 1, '시국': 22, '시궁': 1, '시궁창': 3, '시금': 2, '시금치': 101, '시급': 1, '시기': 79, '시긴': 4, '시껍': 1, '시나': 13, '시나몬': 3, '시나몬롤': 1, '시내': 2, '시냅스': 1, '시너지': 10, '시대': 22, '시댁': 19, '시더': 4, '시더우드': 1, '시도': 59, '시동': 1, '시드': 7, '시드라': 2, '시들시들': 2, '시디': 2, '시라': 6, '시래기': 7, '시럽': 48, '시렁': 1, '시력': 9, '시련': 1, '시렵': 3, '시로': 30, '시루': 1, '시리': 10, '시리얼': 14, '시리즈': 31, '시림': 26, '시멘트': 3, '시뮬레이션': 1, '시반': 3, '시방': 1, '시범': 3, '시보': 2, '시부모': 1, '시브': 1, '시비': 2, '시사': 1, '시상': 1, '시선': 7, '시설': 5, '시세': 7, '시세이도': 3, '시속': 1, '시술': 11, '시스': 13, '시스테인': 1, '시스템': 31, '시스틴': 1, '시슬': 14, '시시': 2, '시시각각': 1, '시식': 14, '시신': 1, '시신경': 1, '시아버지': 1, '시안': 2, '시야': 11, '시어': 7, '시어머니': 11, '시어버터': 2, '시업': 1, '시에나': 1, '시엔': 4, '시연': 1, '시오': 17, '시올': 1, '시운': 1, '시운전': 1, '시원': 14, '시월': 1, '시위': 1, '시인': 3, '시일': 4, '시작': 370, '시장': 38, '시전': 5, '시절': 34, '시점': 11, '시접': 2, '시정': 1, '시조새': 1, '시종일관': 1, '시중': 66, '시즌': 19, '시지': 7, '시진': 1, '시집': 1, '시청': 11, '시체': 2, '시카앰플': 1, '시켯': 1, '시켯구': 1, '시켯다': 1, '시켯으': 1, '시크': 3, '시크릿': 4, '시킴': 10, '시타': 3, '시트': 81, '시트콤': 1, '시티': 2, '시판': 6, '시한': 7, '시합': 1, '시해': 3, '시행': 2, '시행착오': 3, '시험': 15, '시험관': 4, '식감': 178, '식감저': 1, '식겁': 1, '식구': 69, '식기': 4, '식기세척기': 1, '식단': 59, '식당': 23, '식당가': 1, '식도': 22, '식도염': 8, '식량': 3, '식료품': 2, '식물': 13, '식물섬유': 2, '식물성': 46, '식물원': 1, '식별': 1, '식비': 5, '식빵': 129, '식사': 180, '식사량': 5, '식생활': 2, '식선': 1, '식성': 10, '식수': 6, '식스': 1, '식약처': 10, '식염': 1, '식욕': 18, '식욕부진': 2, '식용': 30, '식용색소': 2, '식용유': 126, '식육': 3, '식은땀': 4, '식음': 3, '식이': 30, '식이섬유': 24, '식인': 1, '식자': 1, '식전': 14, '식중독': 2, '식초': 81, '식칼': 10, '식탁': 90, '식탁보': 3, '식탐': 1, '식품': 184, '식품부': 2, '식품의약품안전처': 3, '식해': 1, '식후': 30, '식후땡': 1, '식후평': 1, '식힘': 2, '신가': 2, '신건': 9, '신경': 363, '신경계': 7, '신경독': 1, '신경세포': 1, '신경안': 10, '신경안정제': 2, '신경장애': 1, '신경질': 3, '신경통': 3, '신고': 44, '신고식': 2, '신규': 2, '신규가입': 1, '신기': 18, '신기하': 1, '신년': 1, '신동진': 7, '신드롬': 1, '신라': 3, '신라면': 110, '신랑': 321, '신뢰': 55, '신맛': 39, '신문': 3, '신문지': 12, '신물': 1, '신바람': 3, '신발': 66, '신발장': 3, '신부': 1, '신분': 184, '신분증': 4, '신사': 2, '신상': 9, '신생': 1, '신생아': 15, '신서': 2, '신선': 38, '신선도': 104, '신세': 1, '신세경': 1, '신세계': 31, '신소재': 1, '신속': 3, '신시': 1, '신안': 3, '신어': 18, '신용': 5, '신용카드': 2, '신음': 1, '신의': 5, '신의한수': 2, '신인': 1, '신장': 15, '신장결석': 3, '신장병': 1, '신제품': 12, '신조': 1, '신주': 1, '신중': 2, '신지': 7, '신진대사': 8, '신청': 105, '신체': 34, '신체검사': 1, '신축': 139, '신통': 1, '신품': 4, '신하': 18, '신한': 12, '신해': 15, '신행': 1, '신협': 3, '신형': 3, '신호': 16, '신혼': 1, '신혼부부': 4, '신혼집': 6, '신화': 2, '신후': 5, '실감': 5, '실갱': 1, '실고추': 4, '실금': 2, '실기': 1, '실내': 85, '실내수영장': 1, '실눈': 1, '실때': 2, '실란트픽스': 1, '실랑이': 2, '실력': 11, '실로': 17, '실록': 9, '실뢰': 1, '실뢰성': 1, '실루엣': 1, '실리': 13, '실리콘': 57, '실린더': 2, '실링': 13, '실만': 1, '실망': 337, '실물': 60, '실밥': 57, '실버': 24, '실법': 1, '실비': 1, '실사': 15, '실상': 2, '실생활': 8, '실속': 8, '실수': 63, '실습': 2, '실시': 4, '실시간': 9, '실쏙팩': 1, '실액': 4, '실어': 9, '실언': 1, '실업자': 1, '실오라기': 3, '실온': 65, '실외': 20, '실용': 55, '실으': 1, '실의': 1, '실재': 1, '실전': 1, '실정': 1, '실제': 194, '실종': 1, '실줄': 1, '실증': 2, '실직': 1, '실질': 5, '실짝': 1, '실착': 2, '실천': 7, '실체': 2, '실추': 3, '실컷': 10, '실크': 19, '실키': 2, '실킬수': 1, '실팝': 1, '실패': 70, '실항': 1, '실행': 13, '실험': 17, '실화': 14, '실힘액': 1, '싫증': 3, '심각': 4, '심겹살': 1, '심근경색': 1, '심꽈': 1, '심드렁': 1, '심리': 11, '심박수': 7, '심보': 2, '심부볼': 1, '심사': 2, '심사숙고': 3, '심삶': 1, '심신': 2, '심심': 8, '심쌀': 1, '심야': 1, '심의': 1, '심장': 20, '심장마비': 1, '심장병': 4, '심장질환': 2, '심정': 6, '심증': 1, '심지': 7, '심지어': 64, '심취': 2, '심층수': 1, '심쿵': 1, '심풀해': 1, '심플': 116, '심학': 1, '심해': 88, '심해진': 2, '심햇음꼭': 1, '심혈관계': 1, '심호흡': 1, '십견': 1, '십년': 10, '십대': 5, '십만원': 6, '십분': 3, '십상': 1, '십센티': 1, '십이': 1, '십이일만': 1, '십일만원': 1, '십자': 4, '십장생': 1, '십팔만원': 1, '싯가': 1, '싰었는데': 1, '싱겨움': 1, '싱글': 10, '싱글벙글': 1, '싱깅': 1, '싱나': 1, '싱싱': 9, '싱싱단단도톰': 1, '싱어': 1, '싱재': 1, '싱크': 5, '싱크대': 12, '싱하': 2, '싶드라구': 1, '싶어욯': 1, '싶엇어': 1, '싸가지': 1, '싸구려': 77, '싸구려커피': 1, '싸라기': 3, '싸욤': 1, '싸운드': 2, '싸움': 4, '싸이': 48, '싸이클': 13, '싸이키': 1, '싸이트': 2, '싸인': 3, '싸쥬': 3, '싸즈': 1, '싹둑': 2, '싹뚝': 1, '싹싹': 5, '싼값': 24, '싼마이': 21, '쌀가게': 1, '쌀값': 1, '쌀겨': 1, '쌀골': 1, '쌀국수': 10, '쌀껄': 1, '쌀눈': 4, '쌀때': 5, '쌀떡': 10, '쌀떢볶': 1, '쌀뜨물': 10, '쌀맛': 4, '쌀물': 1, '쌀박': 1, '쌀밥': 27, '쌀벌': 1, '쌀벌레': 11, '쌀알': 37, '쌀엿': 15, '쌀월': 1, '쌀집': 2, '쌀컵': 1, '쌀통': 12, '쌀향': 1, '쌈무': 3, '쌈밥': 2, '쌈용': 1, '쌈장': 7, '쌈지': 3, '쌉싸롬한': 1, '쌋는데': 1, '쌍둥이': 5, '쌍떡잎식물': 1, '쌍란': 5, '쌍방': 1, '쌍욕': 2, '쌍피': 1, '쌓이네': 1, '쌔거': 1, '쌔까맣': 1, '쌔끼': 1, '쌔삥': 1, '쌔진않': 1, '쌘데': 1, '쌘편': 2, '쌤플': 1, '쌩쇼': 1, '쌩얼': 6, '쌩얼일때': 2, '쌩폰': 1, '써니': 1, '써니텐': 2, '써밨오': 1, '써보시렵': 1, '써봐야됏': 1, '써봣': 1, '써봣는데': 4, '써비': 2, '써비스': 2, '써야쥬': 1, '써줫으': 1, '써칭': 1, '써큘': 1, '써클': 2, '썩맘': 1, '썪거': 1, '썪어': 1, '썪은거': 2, '썪은건': 1, '썬브': 1, '썬칩': 1, '썬크림': 66, '썬팅': 1, '썰매': 1, '썻네': 1, '썻는데': 17, '썻다': 2, '썻더': 1, '썻던': 9, '썻던것같': 1, '썻던것마': 1, '썻습니': 1, '썻어': 3, '썻엇어': 1, '썻었': 1, '썻었는데': 1, '썻었던': 1, '썻으': 5, '썻을때': 5, '썻음': 1, '쎈탁스': 2, '쎈터': 1, '쎌럽': 1, '쎗또': 2, '쏘드': 2, '쏘렐': 1, '쏘스': 1, '쏙드': 1, '쏙듬': 2, '쏙빠저': 1, '쏙쏙': 8, '쏠티': 1, '쏵허': 1, '쐐기': 1, '쐿을때': 1, '쑤욱': 4, '쑥갓': 4, '쑥떡': 5, '쑥맛': 1, '쑥차': 2, '쑥풀': 1, '쑥향': 2, '쒈씬': 1, '쓰겠슈다': 1, '쓰기': 390, '쓰나미': 1, '쓰닌데': 1, '쓰다클렌징': 1, '쓰듼': 1, '쓰래': 3, '쓰레기': 151, '쓰레기봉투': 4, '쓰레기통': 19, '쓰레깁니': 1, '쓰려욤': 1, '쓰렵니': 6, '쓰렵니당': 1, '쓰셧던': 1, '쓰셧었는데': 1, '쓰시': 49, '쓰윽': 6, '쓰윽히히': 1, '쓱싹': 1, '쓱쓱': 26, '쓴맛': 48, '쓸껀데': 2, '쓸껀뎅': 1, '쓸껄': 1, '쓸랬는데': 1, '쓸랬더': 1, '쓸모': 12, '쓸케요다': 1, '쓻바': 1, '씌어': 1, '씌어져': 2, '씌여': 2, '씨게이트': 4, '씨껍': 1, '씨드': 11, '씨디': 13, '씨름': 5, '씨리얼': 8, '씨방': 1, '씨씨엠': 1, '씨앗': 12, '씨유': 39, '씨잘': 1, '씨제이': 3, '씨즌': 1, '씨컬': 2, '씬맛': 1, '씬커버': 3, '씰뜯': 1, '씰링': 2, '씰쌀': 1, '씼어': 1, '아가': 65, '아가미': 1, '아가씨': 1, '아가키': 1, '아구': 5, '아구찜': 9, '아군': 1, '아귀': 16, '아기': 375, '아기자기': 1, '아끼바레': 1, '아나이': 1, '아날로그': 4, '아내': 13, '아노락': 1, '아뇨': 1, '아늬': 1, '아니엇어': 1, '아니쥬': 1, '아닌뎁': 1, '아닝그': 1, '아닠': 1, '아담': 3, '아당': 2, '아동': 17, '아동복': 3, '아두': 8, '아드님': 4, '아들': 354, '아들내미': 3, '아디': 4, '아디다스': 4, '아따': 1, '아라리': 2, '아라사': 1, '아라하': 2, '아랍': 1, '아래': 204, '아래딜뜨': 1, '아래쪽': 26, '아래층': 3, '아랫입술': 2, '아랫쪽': 9, '아령': 16, '아로니아': 1, '아로마': 8, '아롱': 1, '아롱사태': 2, '아르': 24, '아르기닌': 19, '아르드': 1, '아르페지오': 1, '아리': 7, '아리따움': 1, '아리야': 1, '아마': 81, '아마다': 1, '아마이드': 2, '아마존': 2, '아마추어': 3, '아메': 2, '아메로': 1, '아메리카': 2, '아메리카노': 72, '아모레': 1, '아모레퍼시픽': 1, '아모스': 2, '아몬드': 87, '아무': 91, '아무나': 3, '아미': 5, '아미노산': 22, '아미드': 1, '아민': 4, '아밀라아제': 2, '아밀로스': 1, '아바': 2, '아버': 3, '아버님': 9, '아버지': 42, '아베': 2, '아벤느': 4, '아보': 51, '아보카': 1, '아보카도': 12, '아부지': 7, '아브카': 1, '아비': 1, '아빠': 92, '아뿔싸': 3, '아사': 1, '아사이베리': 1, '아세톤': 2, '아세틸콜린': 2, '아속': 1, '아수라': 1, '아수스': 1, '아숩': 3, '아쉬움': 72, '아쉽슴다': 1, '아슙': 1, '아스': 3, '아스코르브산': 3, '아스파탐': 2, '아스피린': 2, '아싑네': 1, '아시': 66, '아시아': 3, '아시안': 1, '아시죵': 1, '아씨': 1, '아아': 23, '아악': 4, '아애': 1, '아야': 5, '아야가야': 1, '아양': 1, '아역': 1, '아연': 143, '아영': 3, '아예': 154, '아용이': 1, '아우': 10, '아우성': 1, '아울렛': 2, '아웃': 6, '아웃도어': 3, '아웃백': 1, '아유': 8, '아음': 1, '아이': 1687, '아이돌': 2, '아이디': 2, '아이디어': 11, '아이라이너': 10, '아이라인': 3, '아이러니': 3, '아이리버': 7, '아이리스': 2, '아이맥': 10, '아이방': 8, '아이보리': 52, '아이브': 2, '아이손': 2, '아이쇼핑': 2, '아이스': 62, '아이스바': 1, '아이스박스': 12, '아이스커피': 18, '아이스크림': 36, '아이스티': 3, '아이스팟': 1, '아이스팩': 30, '아이시스': 8, '아이싱': 3, '아이어': 1, '아이언': 3, '아이엠': 2, '아이오': 1, '아이유': 2, '아이젠': 20, '아이콘': 4, '아이템': 50, '아이튠즈': 2, '아이패드': 32, '아이폰': 81, '아이피': 1, '아인': 3, '아인슈타인': 4, '아일랜드': 7, '아일릿쪽': 1, '아작': 5, '아저씨': 20, '아주': 1430, '아주머니': 2, '아주부': 1, '아줌마': 12, '아중': 1, '아쥬': 4, '아쥬아쥬': 1, '아즈텍': 1, '아지': 2, '아차': 8, '아치': 2, '아치머녁': 1, '아침': 718, '아침밥': 10, '아침식사': 18, '아침클렌징': 1, '아카데미': 1, '아카시아': 6, '아카펠라': 1, '아케': 1, '아쿠아': 19, '아크': 2, '아크네': 1, '아크릴': 2, '아키': 3, '아키바': 1, '아킬레스건': 1, '아타': 1, '아테나': 1, '아텍스': 1, '아토': 27, '아토피': 32, '아토피피부염': 1, '아트': 24, '아티스트': 1, '아티초크': 1, '아파트': 25, '아파해': 2, '아포': 3, '아포가토': 1, '아프리카': 1, '아픔': 21, '아하': 3, '아함': 1, '아해': 3, '아현': 1, '아홉': 1, '아히': 1, '악곱슬': 1, '악마': 2, '악명': 1, '악몽': 1, '악보': 2, '악성': 7, '악성곱슬': 1, '악세사리': 9, '악순환': 1, '악심': 1, '악의': 2, '악취': 10, '악평': 2, '악플': 1, '악화': 5, '안가렵': 1, '안감': 36, '안개': 37, '안거': 1, '안거르': 1, '안건': 1, '안검': 1, '안경': 10, '안경닦이': 1, '안고': 11, '안과': 5, '안구': 7, '안구건조증': 2, '안그랫늣데': 1, '안길': 1, '안끼웟내': 1, '안나': 315, '안날': 1, '안남': 18, '안내': 25, '안내서': 6, '안넘': 3, '안녕': 15, '안녕하십니까': 2, '안뇽': 1, '안눌려': 1, '안눌리': 3, '안느': 1, '안닌듯': 1, '안달': 11, '안당': 2, '안대': 6, '안댕겨': 1, '안도': 3, '안동': 4, '안동찜닭': 1, '안됏': 1, '안드': 4, '안드감': 1, '안드나': 1, '안드네': 6, '안드로이드': 1, '안드심': 1, '안듬': 1, '안듭': 3, '안듭니': 1, '안때': 1, '안떙김': 1, '안똑': 1, '안뚤리': 1, '안뜷어놓': 1, '안마': 4, '안면': 2, '안무': 2, '안무르': 1, '안뭍': 1, '안밖': 2, '안방': 11, '안배': 1, '안벽': 1, '안보': 75, '안봤넹': 1, '안부': 3, '안뻐뻣': 1, '안산': 4, '안살껄': 1, '안삿음': 1, '안상': 4, '안상한': 1, '안색': 5, '안성': 6, '안성맞춤': 20, '안성탕면': 38, '안스': 1, '안스려': 1, '안습': 2, '안시': 3, '안식': 5, '안심': 164, '안썻': 1, '안썻던거': 1, '안썻습니다내': 1, '안썻음': 1, '안씌': 1, '안약': 1, '안온': 1, '안이': 19, '안일': 2, '안입엇습니': 1, '안입엇어': 1, '안장': 11, '안전': 60, '안전모': 5, '안전밸트': 1, '안전벨트': 19, '안전성': 8, '안전핀': 1, '안정': 76, '안정감': 52, '안정화': 2, '안제': 5, '안주': 64, '안주시': 3, '안중': 1, '안중읍': 1, '안지': 3, '안지우': 1, '안질': 5, '안짝': 1, '안쩍': 1, '안쪽': 168, '안쫀득함': 1, '안쫄리는맛으루': 1, '안쭈글': 1, '안착': 6, '안촣아': 1, '안치': 1, '안코': 1, '안타': 14, '안터': 1, '안터넷': 1, '안터트려': 1, '안테나': 4, '안토시아닌': 1, '안통': 3, '안통함': 3, '안튕겨': 1, '안트거든': 1, '안티': 22, '안티폴루션': 2, '안팍': 1, '안팔': 3, '안폭': 1, '안풀': 1, '안학거': 1, '안함': 31, '안해': 95, '안햇': 1, '안확': 1, '안흥': 1, '앉은뱅이': 1, '앉은자리': 4, '앉은키': 3, '않고특란': 1, '않드네': 1, '않았츨까': 1, '알갱이': 34, '알걸': 1, '알고리즘': 2, '알곡': 1, '알구': 2, '알권리': 1, '알글애': 1, '알껀': 1, '알끈': 2, '알도': 30, '알됴': 1, '알뜰': 4, '알뜰맘': 1, '알뜰살뜰': 1, '알뜰폰': 1, '알뜻': 1, '알라': 1, '알란': 3, '알람': 17, '알래스카': 1, '알략': 1, '알러지': 27, '알레': 1, '알레르기': 21, '알레스카': 1, '알로': 85, '알로에겔': 8, '알록달록': 4, '알루': 1, '알루론': 1, '알루미늄': 14, '알룰': 8, '알류미늄': 2, '알리': 11, '알리오': 7, '알림': 25, '알맹이': 11, '알멩': 3, '알못': 1, '알미늄': 1, '알바': 23, '알바인': 1, '알반': 1, '알보칠': 1, '알부민': 1, '알비온': 1, '알색': 1, '알송': 1, '알쏭달쏭': 1, '알앆는데': 1, '알알이': 2, '알았': 2, '알았넴': 1, '알았느데': 1, '알약': 133, '알주머니': 1, '알짜': 3, '알짝': 3, '알츠하이머': 4, '알카리': 5, '알칼로이드': 2, '알칼리': 10, '알칼리성': 5, '알칼링': 1, '알코올': 6, '알콜': 41, '알토': 1, '알티': 23, '알팆': 1, '알파': 9, '앏네': 1, '앏습니': 1, '앏아': 5, '앏아요오돌뼈': 1, '앏으': 1, '암거': 3, '암내': 2, '암도': 1, '암등': 1, '암만': 6, '암모니아': 5, '암살': 1, '암석': 1, '암술': 1, '암염': 5, '암웨이': 2, '암치료': 1, '암턴': 1, '암페어': 2, '암호': 1, '암흑': 2, '압니': 2, '압니다빨': 1, '압도': 10, '압력': 20, '압력밥솥': 3, '압력솥': 6, '압박': 16, '압살': 1, '압승': 1, '압었는데': 1, '압착': 6, '압착되어': 1, '압촉': 1, '압축': 12, '압출': 2, '앖는': 1, '앖는듯': 1, '앗글': 2, '앗차': 1, '았단': 1, '았았슴': 1, '았음': 1, '앙금': 9, '앙꼬': 6, '앙꼬절편': 1, '앙념': 1, '앙즌맞아': 1, '앙크': 1, '앞니': 1, '앞다리': 12, '앞뒤': 39, '앞머리': 96, '앞면': 5, '앞바다': 1, '앞벅': 1, '앞번': 1, '앞볼': 1, '앞서': 13, '앞솔': 1, '앞전': 15, '앞쪽': 35, '앞코': 2, '애가': 43, '애견': 2, '애경': 1, '애교': 1, '애국': 1, '애기': 95, '애기살': 2, '애니': 1, '애니멀': 1, '애도': 4, '애둘': 1, '애드': 1, '애로': 2, '애매': 5, '애물': 3, '애바애': 1, '애바애겟': 1, '애벌': 1, '애벌레': 4, '애벌렝': 1, '애쉬': 44, '애슐리': 2, '애애': 1, '애용': 95, '애인': 1, '애정': 32, '애좀': 1, '애착': 3, '애창': 2, '애초': 21, '애터': 5, '애트': 1, '애플': 60, '애플그린': 1, '애플파이': 1, '애플힙': 1, '애호': 1, '애호가': 4, '애호박': 31, '애효': 1, '액땜': 1, '액상과당': 2, '액설런트': 1, '액세서리': 2, '액션': 4, '액율': 1, '액자': 1, '액젓': 4, '액정': 19, '액채': 1, '액체': 24, '액타': 2, '액티': 1, '액티브': 3, '액티브데': 1, '액티쿡': 3, '앤글': 4, '앤비': 2, '앤숄더': 6, '앤쥬': 1, '앨범': 1, '앰버': 1, '앰프': 3, '앰플': 126, '앰플개': 1, '앰플바르': 1, '앰플세럼': 2, '앰플입니': 2, '앰플자체': 1, '앰플제형': 1, '앰피': 2, '앱스토어': 1, '앱코': 2, '앵글': 11, '앵두': 2, '앵무새': 2, '앵커': 7, '야간': 19, '야경증': 3, '야광': 6, '야구': 2, '야구공': 2, '야구르트': 1, '야구모': 2, '야구복': 1, '야구장': 2, '야근': 5, '야기': 3, '야노': 1, '야다': 1, '야당': 1, '야들야들': 9, '야매': 3, '야맹증': 1, '야바위': 1, '야박': 1, '야스': 7, '야시': 1, '야식': 19, '야심': 1, '야야': 1, '야영장': 1, '야외': 46, '야자': 2, '야차': 1, '야채': 296, '야쿠르트': 2, '야합': 3, '야행성': 3, '야호': 1, '약간': 724, '약간쫀쫀': 1, '약과': 6, '약관': 4, '약국': 41, '약도': 7, '약물': 4, '약방': 3, '약사': 21, '약산': 4, '약속': 31, '약수터': 1, '약식': 1, '약인': 3, '약자': 4, '약재': 5, '약재료': 1, '약점': 2, '약정': 8, '약제': 1, '약지': 1, '약품': 30, '약학': 2, '약햐': 1, '약화': 1, '약효': 2, '얀디': 1, '얀락': 1, '얀로': 1, '얀부': 1, '얀색': 1, '얄것': 1, '얄듯': 1, '얄상': 1, '얄상하': 1, '얄심히': 1, '얄쌍': 1, '얄쌍했어': 1, '얅아': 1, '얆아': 3, '얆음': 1, '얊아보': 1, '얊은것': 1, '얋아': 2, '얌냠': 1, '얍상해': 1, '얏호': 1, '얐으': 1, '양가': 1, '양감': 5, '양갱': 1, '양계': 1, '양공': 1, '양념': 145, '양념장': 23, '양념치킨': 16, '양녕': 1, '양도': 252, '양동': 1, '양로': 1, '양막': 1, '양말': 22, '양면': 35, '양물': 2, '양반': 11, '양배추': 66, '양뱡향': 1, '양보': 15, '양복': 5, '양산': 30, '양상추': 68, '양성': 1, '양소': 1, '양소열': 1, '양손잡이': 1, '양송': 1, '양송이버섯': 1, '양식': 3, '양심': 46, '양약': 1, '양옆': 12, '양위': 1, '양으로': 26, '양은': 78, '양인': 4, '양일': 2, '양자': 1, '양적': 1, '양정': 2, '양제': 283, '양주': 3, '양지': 11, '양질': 5, '양쪽': 70, '양초': 2, '양치': 11, '양치질': 3, '양태': 1, '양털': 1, '양파': 178, '양파두': 1, '양파링': 10, '양팔': 4, '양퍄': 1, '양품': 6, '양피': 4, '양하': 1, '양해': 10, '양호': 25, '얘기': 100, '얘길': 2, '얫날꺼': 1, '어가': 3, '어감': 1, '어강': 1, '어거지': 3, '어구': 2, '어그': 6, '어글리슈즈': 1, '어금니': 3, '어기': 2, '어깨': 138, '어깨뼈': 1, '어깨셔링': 1, '어께쪽': 1, '어께쭉지': 1, '어남선생': 1, '어니언': 3, '어댑터': 15, '어덯': 1, '어뎁터': 3, '어도': 33, '어동': 1, '어두운곳': 2, '어두운색': 1, '어두운옷': 1, '어두운쪽': 1, '어두운편': 2, '어두울': 1, '어두움': 1, '어두위': 1, '어두컴컴': 1, '어둠': 6, '어드덧': 1, '어드매': 1, '어디': 225, '어디가': 13, '어디껀': 2, '어디셔': 1, '어딘': 5, '어딘가': 17, '어딛어': 1, '어딧': 1, '어딧엉감자': 1, '어딴건': 1, '어땋': 1, '어떠헥': 1, '어떡': 2, '어뜨케': 1, '어랏': 1, '어려움': 28, '어렷': 2, '어렷을때': 2, '어렿을때': 1, '어류': 4, '어르신': 27, '어른': 101, '어름': 1, '어리나': 1, '어린이': 46, '어린이날': 1, '어린이집': 33, '어린잎채소': 1, '어릴떄': 2, '어림': 2, '어마': 19, '어머': 8, '어머나': 3, '어머니': 109, '어머님': 17, '어머님께': 6, '어메이징': 1, '어무니': 4, '어묵': 17, '어물': 3, '어미': 3, '어버리핏': 1, '어버이날': 1, '어번': 8, '어벙벙': 1, '어보': 82, '어분': 3, '어색': 2, '어서': 30, '어석': 1, '어선': 1, '어성초': 7, '어셔': 1, '어슬렁': 1, '어슷': 2, '어시장': 1, '어썸블': 1, '어썸블리': 1, '어어': 4, '어어어어': 4, '어예': 1, '어요': 66, '어우': 2, '어울': 1, '어울림': 4, '어워려': 1, '어워즈': 2, '어원': 1, '어유': 6, '어의': 11, '어이': 46, '어이쿠': 1, '어입': 1, '어제': 112, '어젯밤': 4, '어좁': 1, '어주': 1, '어중간': 4, '어지러움': 4, '어지럼증': 3, '어직': 1, '어진': 3, '어째': 2, '어째서': 3, '어째어째': 1, '어째튼': 1, '어쨋': 5, '어쨋거': 1, '어쨌든': 29, '어쨌을': 1, '어쩌': 26, '어쩌겠어': 3, '어쩌구': 8, '어쩌구저쩌구': 1, '어쩌냐': 1, '어쩌냐구': 1, '어쩌다가': 2, '어쩌려': 1, '어쩌면': 10, '어쩌잔': 1, '어쩌쥬': 1, '어쩐지': 10, '어쩜': 15, '어찌': 80, '어차피': 116, '어처구니': 8, '어처음': 1, '어취': 8, '어취냄세': 1, '어치': 5, '어캐': 1, '어케': 13, '어케된거': 1, '어케알': 1, '어케하': 1, '어케해': 1, '어프': 3, '어플': 40, '어필': 3, '어항': 2, '어화': 1, '어후': 3, '어휘': 1, '억쌔': 1, '억울': 2, '억이': 2, '억이이': 1, '억제': 14, '억지': 1, '억지로': 33, '언급': 16, '언넝': 2, '언니': 38, '언니네': 1, '언더웨어': 3, '언뜻': 2, '언릉': 3, '언박싱': 5, '언어': 6, '언제': 142, '얺은편': 1, '얼굴': 667, '얼굴가리개': 1, '얼굴비율': 1, '얼굴빛': 1, '얼굴크기': 1, '얼그': 3, '얼그레이': 11, '얼기설기': 1, '얼떨결': 1, '얼라이브': 10, '얼루': 1, '얼룩': 52, '얼룩얼룩': 1, '얼른': 52, '얼릉': 7, '얼릉사': 1, '얼마': 198, '얼마간': 4, '얼마나': 155, '얼매': 1, '얼므타': 1, '얼씬': 5, '얼얼': 1, '얼음': 93, '얼죽': 1, '얼집': 6, '얼척': 1, '얼추': 6, '얼티': 2, '얼티밋': 7, '얼핏': 2, '얼핏봐': 1, '얼후': 1, '엄꼬': 1, '엄나무': 1, '엄니': 7, '엄두': 11, '엄마': 348, '엄망': 1, '엄뫄': 1, '엄빠': 1, '엄색': 1, '엄서': 1, '엄선': 14, '엄수': 1, '엄습': 1, '엄써': 2, '엄증': 1, '엄지': 33, '엄지발가락': 4, '엄지손가락': 1, '엄쩡': 1, '엄처안': 1, '엄청스레': 1, '엄체': 1, '업계': 6, '업그레이드': 27, '업꼭': 1, '업데이트': 16, '업뎃': 6, '업도': 5, '업로드': 8, '업무': 23, '업소': 1, '업업': 2, '업자': 4, '업종': 1, '업주': 2, '업청': 1, '업체': 98, '없겠심돠': 1, '없겠죵': 1, '없는텀': 1, '없드': 1, '없슴': 1, '없슴다': 1, '없어졋음': 1, '없엇네': 1, '없엇음': 1, '없을땨': 1, '없죠레츠': 1, '없쿠': 1, '엇구': 1, '엇네': 1, '엇네욤': 1, '엇슴': 1, '엇습': 1, '엇어': 10, '엇요': 1, '엇을': 2, '엇저녁': 1, '었는데': 1, '었어': 2, '었움나사': 1, '었으': 1, '엉덩이': 160, '엉망': 74, '엉엉': 2, '엉치뼈': 1, '엉킨': 6, '엉킨거': 1, '엉킨머리': 1, '엉킨부분': 2, '엉킨채': 1, '엉킴': 9, '엉킴없': 2, '엉킴줄': 1, '엉킵니': 1, '엉터리': 4, '엊그제': 7, '엎어': 1, '엎었습니': 1, '엎체': 1, '에고': 3, '에궁': 2, '에그드랍': 6, '에그드을': 1, '에그스크램블': 2, '에나': 2, '에나멜': 1, '에너지': 63, '에너지드링크': 1, '에네스': 1, '에녹': 1, '에놀': 1, '에다가': 1, '에두': 20, '에듀': 5, '에드': 22, '에디': 6, '에뛰드': 2, '에러': 9, '에르': 1, '에르메스': 3, '에리': 19, '에마': 1, '에멀전': 4, '에멀젼': 3, '에멘': 1, '에바': 9, '에버': 8, '에버랜드': 1, '에버튼': 1, '에보니': 2, '에브리데이': 5, '에뻐': 1, '에쁘': 2, '에쁘긴산데': 1, '에쁘네': 1, '에삿다': 1, '에세': 5, '에센': 4, '에센셜': 9, '에센스': 285, '에소': 5, '에스': 18, '에스쁘': 4, '에스에프': 1, '에스오에스': 1, '에스케이': 2, '에스테': 5, '에스텔': 2, '에스트': 1, '에스프레소': 26, '에쎄': 1, '에쓰': 20, '에어': 136, '에어덕트': 1, '에어로': 1, '에어로빅': 1, '에어리': 1, '에어백': 1, '에어캡': 9, '에어컨': 43, '에어콘': 1, '에어팟': 25, '에이': 53, '에이번': 2, '에이수스': 1, '에이스': 18, '에이지': 5, '에일': 1, '에일리언': 1, '에전': 3, '에코': 18, '에코탭': 1, '에타': 3, '에탄올': 9, '에탈렌': 1, '에틸렌': 3, '에펠': 1, '에폭': 1, '에프': 47, '에피네프린': 1, '에혀': 2, '에휴페': 1, '엑기스': 4, '엑사': 1, '엑셀': 6, '엑스': 30, '엑스트라': 25, '엑스파일': 1, '엔젤': 2, '엔진': 1, '엔진오일': 1, '엔틱해': 1, '엘라': 1, '엘라스': 9, '엘레베이터': 5, '엘렌': 1, '엘르': 1, '엘리': 1, '엘리베이터': 5, '엘베': 10, '엘사': 2, '엘이디': 1, '엘쥐': 1, '엘지': 45, '엘피': 1, '엠버': 2, '엠보': 2, '엠보싱': 10, '엠블럼': 1, '엠스': 1, '엠앤엠': 2, '엠앤엠즈': 2, '엠에스': 3, '엠프': 2, '엠플': 3, '엠피': 1, '엠피쓰리': 2, '엣셀': 1, '엣지': 5, '엥겔지수': 1, '여가': 5, '여간': 12, '여개': 4, '여거트': 1, '여건': 1, '여걸': 1, '여과': 28, '여권': 2, '여근': 3, '여기': 262, '여기저기': 128, '여느': 4, '여니': 2, '여닫이': 1, '여담': 2, '여덟': 1, '여동생': 2, '여드름': 208, '여량': 5, '여러': 188, '여러가지': 175, '여러분': 132, '여럿': 6, '여로': 1, '여룸': 1, '여름': 407, '여름날': 4, '여름방학': 3, '여름철': 41, '여리해': 2, '여물': 23, '여백': 1, '여벌': 1, '여보': 3, '여부': 19, '여분': 18, '여상': 1, '여서': 16, '여섯': 5, '여성': 109, '여성성': 1, '여식': 1, '여신': 4, '여실': 1, '여야': 12, '여얘': 1, '여왕': 2, '여요': 8, '여우': 3, '여운': 9, '여울': 1, '여원': 1, '여유': 139, '여윽시': 1, '여윾시': 1, '여음': 1, '여의': 1, '여의고': 1, '여자': 153, '여자도': 2, '여자라서': 2, '여자아이': 9, '여자애': 1, '여자친구': 16, '여재구': 1, '여전': 3, '여정': 1, '여제': 6, '여주': 8, '여주면': 2, '여즘': 2, '여지': 16, '여직것안': 1, '여직원': 4, '여진': 2, '여쮜보': 1, '여창': 1, '여친': 6, '여타': 5, '여태': 30, '여태껏': 7, '여파': 1, '여하튼': 4, '여학생': 2, '여한': 2, '여해': 1, '여행': 108, '여행가': 14, '여행지': 2, '여현재': 1, '역대': 12, '역류': 1, '역류성': 9, '역사': 10, '역삼각형': 1, '역쉬': 12, '역시': 684, '역이기': 1, '역자': 1, '역전': 1, '역할': 76, '역함': 1, '역활': 4, '연간': 1, '연거푸': 1, '연결': 205, '연결고리': 3, '연결봉': 2, '연고': 9, '연골': 5, '연관': 2, '연광': 1, '연구': 29, '연구개발': 1, '연구소': 3, '연구실': 2, '연구원': 2, '연근': 2, '연근조림': 1, '연기': 36, '연꽃': 1, '연년생': 2, '연노': 1, '연달': 8, '연도': 3, '연동': 14, '연두': 5, '연두색': 7, '연락': 119, '연락처': 9, '연령': 8, '연로': 1, '연루': 2, '연마': 7, '연말': 5, '연명': 3, '연모': 1, '연무': 2, '연보': 2, '연분홍': 1, '연사': 1, '연상': 2, '연성': 2, '연세': 14, '연소': 1, '연속': 23, '연수': 22, '연습': 77, '연습생': 1, '연습실': 1, '연습장': 6, '연애': 10, '연어': 4, '연연연': 1, '연예인': 7, '연원': 1, '연월일': 4, '연유': 26, '연육': 1, '연인': 1, '연장': 11, '연장탭': 1, '연주': 1, '연질': 5, '연질캠슐': 1, '연차': 3, '연청': 1, '연초록': 2, '연출': 21, '연통': 1, '연필': 6, '연필통': 1, '연한': 24, '연해': 7, '연화': 2, '연회': 1, '연휴': 10, '열공': 2, '열기': 16, '열기구': 2, '열꽃': 1, '열대': 1, '열대과일': 1, '열대야': 1, '열대어': 1, '열대지방': 2, '열도': 10, '열때': 1, '열떄': 2, '열라면': 63, '열량': 32, '열망': 1, '열매': 5, '열무': 1, '열병': 1, '열사': 1, '열선': 17, '열성': 1, '열시': 2, '열심': 4, '열씨': 6, '열씸히': 2, '열연': 1, '열원': 3, '열일': 1, '열자': 1, '열전도': 6, '열전도도': 1, '열전도율': 8, '열정': 3, '열처리': 2, '열탕': 2, '열풍': 7, '열한': 1, '열흘': 10, '염가': 3, '염도': 3, '염두': 7, '염려': 23, '염료': 21, '염류': 1, '염모': 8, '염분': 7, '염산': 1, '염색': 436, '염색머리': 1, '염색체': 1, '염색펌': 1, '염즘': 1, '염증': 31, '염통': 1, '염화칼륨': 1, '엽규': 1, '엽기': 3, '엽떡': 3, '엽산': 33, '엽차': 2, '엿기름': 2, '영계': 6, '영구': 2, '영국': 7, '영내': 1, '영농': 3, '영대': 1, '영문': 4, '영상': 89, '영상통화': 1, '영상편집': 1, '영성체': 1, '영수증': 1, '영아': 3, '영양': 213, '영양가': 12, '영양분': 25, '영양성분': 32, '영양소': 113, '영양식': 3, '영양음료': 2, '영양학': 1, '영어': 15, '영업': 11, '영역': 1, '영유': 5, '영장': 1, '영접': 1, '영주': 2, '영지': 1, '영차': 1, '영천시': 1, '영하': 3, '영햔': 1, '영향': 30, '영향력': 2, '영혼': 3, '영화': 22, '영화관': 2, '옆구리': 16, '옆면': 30, '옆방': 1, '옆선': 5, '옆줄': 1, '옆집': 10, '옆쪽': 7, '옆판': 1, '옇음': 1, '예감': 3, '예고': 1, '예나': 2, '예능': 1, '예담': 1, '예민': 38, '예방': 98, '예븜': 1, '예비': 5, '예뻐욤': 1, '예뻣': 1, '예뿌': 2, '예쁜핏': 2, '예산': 4, '예상': 87, '예상외': 3, '예술': 12, '예스': 20, '예시': 6, '예식': 1, '예약': 9, '예열': 1, '예외': 5, '예의': 1, '예전': 346, '예정': 196, '예정일': 11, '예지력': 1, '예찬': 2, '옐로우': 5, '옛날': 115, '옛말': 1, '옛적': 2, '오가면': 2, '오감': 3, '오거': 6, '오고내': 1, '오곡': 1, '오곡밥': 5, '오구': 5, '오귯': 1, '오그': 1, '오금': 3, '오기': 20, '오냐': 1, '오노': 2, '오뉴월': 2, '오늘': 504, '오늘날': 1, '오늘밤': 2, '오늘아침': 5, '오늘이': 5, '오니': 14, '오니아이': 1, '오닌': 1, '오뎅': 4, '오도': 2, '오도독': 2, '오동통면': 8, '오드': 5, '오든': 1, '오디오': 13, '오딨습': 1, '오뚜기': 266, '오뚜기식품': 2, '오뚝이': 1, '오뚯해': 1, '오라': 4, '오락': 1, '오락가락': 6, '오락실': 2, '오란': 3, '오란씨': 4, '오래됏음': 1, '오래썻으': 1, '오래오래': 26, '오레': 1, '오레가노': 5, '오레오': 1, '오렌지': 59, '오렌지색': 5, '오로나': 1, '오로라': 1, '오류': 15, '오류로': 3, '오르다': 1, '오르락': 2, '오르락내리락': 2, '오른': 11, '오른쪽': 56, '오름': 5, '오리': 52, '오리고기': 3, '오리발': 9, '오리엔트': 2, '오리온': 12, '오리털패딩': 1, '오마이': 1, '오만둥이': 5, '오만오천배': 1, '오만원': 1, '오매': 1, '오매불망': 1, '오맷': 1, '오메': 3, '오메가': 174, '오물': 2, '오므라이스': 1, '오믈렛': 4, '오미자': 2, '오백원': 6, '오버': 11, '오버레이': 1, '오부': 1, '오분': 2, '오브': 15, '오븐': 73, '오빠': 6, '오설록': 1, '오순도순': 1, '오슈': 1, '오스': 6, '오스트리아': 1, '오슬로': 4, '오시': 9, '오신': 6, '오십': 2, '오십만원': 1, '오십이': 1, '오씨': 1, '오아시스': 1, '오어': 1, '오억배': 1, '오염': 57, '오염수': 2, '오염원': 1, '오예': 4, '오오': 2, '오오오': 1, '오오오오오': 1, '오온': 1, '오옷': 1, '오우': 5, '오우야': 1, '오이': 19, '오이랑': 2, '오이지': 2, '오인페': 2, '오일': 307, '오일도': 15, '오일만': 9, '오일사': 1, '오일십': 1, '오일오일이': 1, '오일이': 56, '오일일': 1, '오입': 2, '오잉': 1, '오자': 2, '오전': 50, '오점': 3, '오죽헌': 1, '오줌': 5, '오즈': 1, '오지': 32, '오지랖': 1, '오직': 4, '오진': 1, '오징어': 38, '오징어짬뽕': 6, '오징어채': 1, '오차': 8, '오천원': 21, '오추': 1, '오카이': 1, '오케이': 8, '오코노미야끼': 1, '오코노미야키': 1, '오쿠': 1, '오크': 6, '오타': 3, '오토': 1, '오토바이': 4, '오톨도톨': 1, '오투': 1, '오트밀': 11, '오페': 17, '오프': 10, '오프너': 1, '오프라인': 33, '오픈': 45, '오피': 4, '오피스': 7, '오하': 1, '오해': 7, '오후': 74, '오히려': 216, '옥듭': 1, '옥배유': 2, '옥사': 2, '옥상': 11, '옥션': 1, '옥숀': 1, '옥수수': 48, '옥수수차': 1, '옥죄': 1, '옥타코어': 1, '온갖': 8, '온건': 20, '온기': 5, '온누리': 2, '온달': 1, '온대': 5, '온도': 161, '온도계': 6, '온도조절기': 3, '온두라스': 1, '온라인': 29, '온라인수업': 1, '온몸': 26, '온수': 5, '온스': 2, '온양': 1, '온전': 3, '온점': 2, '온천': 1, '온통': 7, '온풍': 2, '올가을': 1, '올께뇨': 1, '올때클렌징': 1, '올레': 2, '올레길': 1, '올레산': 1, '올로': 20, '올리고당': 20, '올리브': 39, '올리브영': 29, '올리브오일': 37, '올리브유': 109, '올린다': 2, '올반': 1, '올블랙': 1, '올스텐': 2, '올슨': 1, '올여름': 5, '올인원': 148, '올인윈': 1, '올케': 3, '올해': 60, '옴겨': 1, '옴브레': 3, '옴스': 1, '옴직': 1, '옴청': 2, '옴총': 2, '옵션': 25, '옷가지': 2, '옷감': 34, '옷값': 2, '옷고름': 2, '옷등': 1, '옷빨': 2, '옷색': 1, '옷속': 1, '옷안쫃': 1, '옷위': 2, '옷입': 2, '옷자락': 1, '옷장': 30, '옷좀': 2, '옷칸': 2, '옷태': 2, '옷테': 2, '옷품': 1, '옷핀꼽고하': 1, '옷핏': 1, '옹기종기': 3, '옹심이': 1, '와나': 1, '와르르': 3, '와사비': 5, '와삭': 2, '와압': 1, '와우': 97, '와웅': 1, '와이드': 19, '와이번': 1, '와이셔츠': 2, '와이어': 3, '와이파이': 23, '와이퍼': 1, '와이프': 52, '와인': 8, '와중': 31, '와콤': 3, '와트': 9, '와플': 8, '왁스': 19, '완곡': 1, '완두콩': 6, '완료': 110, '완만': 1, '완밥': 1, '완벽': 24, '완변히': 1, '완색': 1, '완선': 1, '완성': 137, '완숙': 9, '완연': 1, '완자': 1, '완자탕': 1, '완잔': 2, '완저': 1, '완전': 831, '완전식품': 2, '완전체': 1, '완정': 1, '완제': 14, '완젼': 23, '완젼맘': 1, '완젼히': 1, '완존': 7, '완죤': 10, '완죤좋아': 1, '완충': 35, '완충제': 16, '완치': 1, '완하': 2, '완화': 59, '왈렛': 1, '왈츠': 1, '왈칵': 3, '왐마': 1, '왓구': 1, '왓길': 1, '왓는': 1, '왓는데': 3, '왓다': 1, '왓다갔다': 1, '왓습니': 2, '왓어': 2, '왓을까': 1, '왓음': 1, '왔다갂다': 1, '왕강추': 1, '왕관': 3, '왕국': 1, '왕껑': 1, '왕눈이': 1, '왕대': 1, '왕따': 1, '왕란': 21, '왕란특란': 1, '왕래': 1, '왕복': 4, '왕성': 2, '왕송': 1, '왕실': 2, '왕왕': 3, '왕자': 1, '왕창': 14, '왕초보': 1, '왜곡': 2, '왜구런': 1, '왜그러지': 1, '왜내': 1, '왜냐면': 12, '왜단': 1, '왜안': 1, '왜앋': 1, '왜왜': 1, '왜이케': 1, '왜인': 2, '왜일': 1, '왜주나씰': 1, '왜캐': 4, '왜캐또': 1, '왜케': 15, '왜햇': 1, '왠즤': 1, '왤케': 7, '왤케흘러': 1, '외견': 1, '외계인': 2, '외곡': 1, '외과': 3, '외곽': 2, '외관': 60, '외국': 19, '외국산': 19, '외국어': 1, '외국인': 9, '외동': 1, '외력': 1, '외로': 10, '외면': 1, '외모': 2, '외박': 1, '외부': 57, '외산': 2, '외삼촌': 1, '외숙모': 7, '외식': 15, '외양간': 1, '외장하드': 35, '외적': 1, '외출': 137, '외췰시': 1, '외치': 5, '외케': 1, '외쿡': 1, '외투': 8, '외팔': 1, '외풍': 1, '외피': 1, '외한': 3, '외향': 1, '외형': 16, '외후': 1, '왼손': 1, '왼손잡이': 2, '왼쪽': 53, '요가': 155, '요가복': 2, '요강': 25, '요거루': 1, '요거트': 74, '요건': 52, '요걸루': 1, '요것': 22, '요겅': 1, '요겉': 1, '요게': 22, '요구': 26, '요구르트': 12, '요귀': 6, '요금': 8, '요기': 29, '요기스': 3, '요긴': 23, '요나': 6, '요다음': 46, '요담': 14, '요도': 15, '요동': 1, '요듬': 1, '요란': 3, '요랑': 2, '요량': 1, '요런': 21, '요럴때': 1, '요령': 18, '요렿': 1, '요로': 9, '요로감염': 1, '요롷': 1, '요리': 602, '요리법': 2, '요리사': 6, '요리조리': 6, '요립': 4, '요막': 1, '요망': 12, '요맨': 3, '요먼': 3, '요면': 12, '요명': 3, '요몇': 1, '요몇일': 1, '요모조모': 1, '요물': 78, '요미': 15, '요바이': 1, '요법': 3, '요별': 10, '요부': 4, '요사': 15, '요사이': 1, '요산': 4, '요새': 94, '요성': 3, '요셉': 3, '요소': 21, '요속': 1, '요순': 3, '요술': 2, '요승': 1, '요시': 6, '요시카': 1, '요안': 29, '요약': 59, '요양': 23, '요업': 2, '요엘': 1, '요염': 3, '요오드': 2, '요왕': 2, '요요': 30, '요욕': 1, '요원': 43, '요음': 5, '요인': 25, '요일': 38, '요작성': 1, '요장': 6, '요전': 153, '요절': 3, '요점': 9, '요정': 18, '요조': 1, '요즈음': 8, '요즘': 763, '요지': 6, '요질겨': 1, '요철': 5, '요청': 71, '요체': 2, '요추': 35, '요충': 2, '요코': 12, '요쿠르트': 3, '요크': 12, '요키': 18, '요타': 10, '요통': 8, '요트': 10, '요팔': 8, '요플레': 4, '요피': 7, '요하': 50, '요한': 48, '요한손': 1, '요향': 1, '요혈': 1, '요호': 6, '요홍': 2, '요화': 3, '욕구': 9, '욕실': 31, '욕심': 21, '욕조': 1, '욘석': 2, '욤향': 1, '욥더': 1, '욥저': 1, '욧전': 1, '욧트': 1, '용가리': 1, '용간': 2, '용감': 78, '용강': 1, '용개': 2, '용곰표': 1, '용공': 1, '용구성': 1, '용굿굿': 1, '용글': 1, '용글구': 1, '용기': 219, '용김': 1, '용남': 1, '용납': 1, '용닭': 3, '용담': 1, '용도': 193, '용돈': 3, '용두': 2, '용뒤': 1, '용럄임': 1, '용량': 940, '용매': 1, '용머리': 2, '용면': 2, '용법': 57, '용상': 1, '용서': 8, '용성': 2, '용소': 2, '용암': 6, '용액': 4, '용어': 2, '용역': 1, '용용': 1, '용운동': 1, '용의': 4, '용이': 93, '용인': 19, '용임': 2, '용입': 1, '용저': 11, '용적': 1, '용접': 18, '용정': 1, '용제': 6, '용지': 3, '용천': 1, '용콘': 1, '용평': 1, '용폰': 1, '용품': 22, '용한': 13, '용해': 15, '용해도': 7, '용향': 1, '우기': 2, '우대신': 1, '우동': 29, '우두둑': 2, '우둔': 4, '우드': 27, '우디': 6, '우랑': 1, '우량': 1, '우러': 4, '우러나': 8, '우러나네': 1, '우러나요제': 2, '우러나요향': 1, '우러남': 1, '우러납니': 1, '우러났': 1, '우러났구': 1, '우러났네': 1, '우러났다': 1, '우러내': 2, '우렁': 1, '우렁차': 1, '우레': 10, '우레아': 2, '우레이': 1, '우려': 62, '우렸': 3, '우롱': 7, '우루': 3, '우루과이': 1, '우르': 4, '우르르': 2, '우리': 361, '우리나라': 31, '우리네': 2, '우리동네': 2, '우리둘': 1, '우리땅': 6, '우리엄마': 1, '우린': 8, '우먼': 6, '우먼스': 1, '우물': 1, '우산': 252, '우산도': 6, '우삼겹': 4, '우선': 272, '우수': 13, '우수수': 10, '우스': 1, '우시': 3, '우씨': 1, '우양': 2, '우어': 1, '우엉': 14, '우여곡절': 1, '우연': 9, '우연이': 2, '우연찮': 2, '우완': 1, '우왕': 2, '우울': 1, '우울증': 14, '우울함': 1, '우웩': 2, '우유': 1139, '우유곽': 2, '우유팩': 12, '우윤': 1, '우윳빛': 1, '우의': 1, '우중': 1, '우지': 1, '우직': 1, '우짜': 2, '우쩨': 1, '우체국': 7, '우촌': 28, '우측': 10, '우투': 1, '우퍼': 12, '우포늪': 1, '우풍': 2, '우황': 1, '우회': 2, '우훗가격': 1, '욱신욱신': 1, '욱신함': 1, '욱할': 1, '운날': 2, '운동': 584, '운동량': 6, '운동복': 17, '운동선수': 2, '운동화': 17, '운동회': 1, '운듯': 1, '운란': 2, '운맛': 3, '운문': 1, '운반': 14, '운세': 2, '운송': 6, '운영': 10, '운전': 18, '운전면허증': 1, '운지': 2, '운치': 1, '운행': 1, '울긋불긋': 7, '울대': 1, '울렁': 2, '울릉도': 1, '울림': 13, '울산': 1, '울애': 1, '울어님': 1, '울음': 1, '울음소리': 4, '울트라': 15, '울화': 2, '움냉': 1, '움물': 1, '움색': 1, '움직': 23, '움직임': 21, '움질일때': 1, '움짤': 1, '움쿰': 1, '움쿰씩': 1, '움큼': 2, '움푹': 9, '웃기': 4, '웃돈': 2, '웃어요': 1, '웃음': 18, '웃음꽃': 1, '웃픈': 2, '웃픈일이': 1, '웅얼웅얼': 1, '웅웅': 4, '웅웅웅웅': 1, '웅장': 2, '웅직': 1, '웅진': 9, '워낙': 186, '워드': 3, '워드프로그램': 1, '워딩': 1, '워머': 1, '워머랍니': 1, '워메': 1, '워셔액': 1, '워스트': 1, '워시': 14, '워싱': 8, '워오': 1, '워용': 1, '워워': 2, '워치': 68, '워크샵': 1, '워킹': 5, '워킹데드': 1, '워킹맘': 10, '워킹머신': 5, '워타': 1, '워터': 80, '워터파크': 12, '워페': 2, '워프': 1, '워홀': 1, '원가': 12, '원개': 3, '원격': 2, '원금': 7, '원기': 1, '원내': 1, '원님': 1, '원단': 146, '원대': 17, '원더': 5, '원데이': 1, '원도': 4, '원동력': 1, '원두': 133, '원래': 516, '원랜': 1, '원레': 1, '원론': 1, '원료': 59, '원룸': 19, '원리': 5, '원만': 2, '원망': 1, '원목': 29, '원본': 1, '원부': 2, '원빈': 1, '원뿔': 2, '원산지': 39, '원상': 3, '원상회복': 1, '원샷': 4, '원선': 8, '원수': 1, '원시성': 1, '원심': 1, '원용': 1, '원유': 29, '원인': 33, '원자재': 1, '원장': 8, '원재': 1, '원전': 1, '원정': 7, '원조': 4, '원주고': 7, '원주민': 1, '원진': 1, '원천': 3, '원추': 1, '원칙': 1, '원클릭': 1, '원통': 3, '원투': 2, '원판': 17, '원플러스원': 1, '원피스': 24, '원픽': 4, '원픽은': 1, '원한': 7, '원함': 3, '원형': 19, '월간': 2, '월계수': 9, '월금': 2, '월급': 2, '월기': 1, '월남': 1, '월남쌈': 14, '월달': 11, '월동': 6, '월드컵': 2, '월등': 1, '월람쌈': 1, '월말': 6, '월보': 1, '월봄': 1, '월산': 1, '월살': 2, '월생': 1, '월수': 1, '월안': 1, '월영': 1, '월요일': 17, '월욜': 1, '월일': 56, '월전': 3, '월지': 2, '월차': 1, '월초': 5, '웜쿨': 1, '웜톤': 4, '웜할': 1, '웜히트텍': 2, '웟으': 1, '웟음': 1, '웨건': 3, '웨건있으': 1, '웨딩': 1, '웨딩드레스': 1, '웨딩사진': 1, '웨딩촬영': 2, '웨브': 1, '웨빙': 1, '웨스트': 6, '웨스트로': 1, '웨어': 8, '웨이': 3, '웨이브': 10, '웨이즈': 1, '웨일즈': 4, '웨하스': 6, '웬걸': 13, '웬만큼': 1, '웬일': 2, '웰빙': 5, '웰시코기': 1, '웰치': 3, '웰치스': 11, '웰컴': 1, '웰퍼': 1, '웹사이트': 1, '웹서핑': 7, '웹툰': 2, '웹페이지': 1, '위경련': 1, '위낙': 1, '위니': 1, '위더스': 4, '위도': 8, '위드': 3, '위드미': 1, '위란': 1, '위력': 1, '위로': 88, '위만': 1, '위메프': 1, '위부': 3, '위산': 7, '위생': 112, '위서': 1, '위세': 1, '위아래': 15, '위안': 4, '위액': 2, '위약금': 1, '위엄': 1, '위염': 8, '위원회': 1, '위이잉': 1, '위인': 1, '위잉': 1, '위자': 1, '위잔': 1, '위장': 32, '위주': 65, '위즈': 1, '위즈웰': 1, '위쪽': 29, '위축': 1, '위축감': 1, '위치': 79, '위클렌징': 1, '위키': 1, '위트': 2, '위풍': 1, '위함': 10, '위해': 409, '위험': 54, '위험성': 9, '위협': 2, '윈단': 1, '윈도우': 15, '윈도우즈': 1, '윈윈': 1, '윈윈하': 1, '윌넛': 1, '윗길': 1, '윗동': 1, '윗몸일으키기': 1, '윗입술': 2, '윗줄': 2, '윗쪽': 16, '윙봉': 2, '유가': 15, '유감': 2, '유값': 1, '유격': 7, '유고': 2, '유공': 2, '유광': 12, '유기': 13, '유기농': 47, '유기물': 2, '유기산': 7, '유나': 9, '유난': 4, '유년': 1, '유념': 1, '유노윤호': 1, '유니': 3, '유니온': 2, '유니콘': 3, '유니클로': 5, '유니폼': 1, '유닉스': 26, '유닛': 5, '유당': 23, '유당불내증': 7, '유대인': 1, '유덕': 1, '유도': 4, '유독': 36, '유동': 2, '유동성': 1, '유딩': 1, '유라': 7, '유랑': 3, '유래': 20, '유량': 1, '유럽': 14, '유레카': 2, '유령': 1, '유로': 12, '유료': 1, '유류': 1, '유리': 100, '유리기': 1, '유리아': 4, '유리잔': 4, '유리창': 3, '유리컵': 3, '유링': 1, '유막': 6, '유명': 26, '유모': 1, '유모차': 1, '유목': 2, '유목민': 28, '유몸': 1, '유묭': 1, '유무': 3, '유물': 3, '유발': 37, '유베': 1, '유보': 3, '유부': 26, '유부도': 1, '유부초밥': 2, '유사': 5, '유사시': 1, '유산': 9, '유산균': 238, '유산소운동': 1, '유상': 4, '유상수리': 1, '유선': 42, '유성': 2, '유성매직': 3, '유소': 1, '유수': 22, '유스': 7, '유시': 1, '유심': 29, '유아': 32, '유아기': 1, '유아식': 4, '유아인': 1, '유아차': 1, '유압': 2, '유약': 2, '유여': 2, '유연성': 1, '유연제': 12, '유영': 1, '유외': 1, '유용': 7, '유우': 1, '유유': 1, '유의': 38, '유의사항': 3, '유이': 4, '유익': 11, '유인상': 1, '유일': 3, '유입': 3, '유자': 19, '유자차': 12, '유자청': 8, '유재석': 2, '유저': 15, '유전': 5, '유전자': 2, '유점': 1, '유정': 25, '유제': 1, '유제품': 11, '유존': 2, '유지': 286, '유지됨': 3, '유지방': 3, '유지비': 1, '유지수': 1, '유지시': 5, '유참': 1, '유채': 2, '유채꽃': 1, '유청': 6, '유치원': 26, '유침칩': 1, '유카': 2, '유칼립투스': 2, '유탕': 4, '유턴': 1, '유톰기간': 1, '유통': 629, '유통기간': 21, '유투': 2, '유투버': 3, '유투브': 21, '유툽': 3, '유튜버': 9, '유튜버들': 5, '유튜브': 82, '유튭': 7, '유튭등': 1, '유트브': 1, '유틸리티': 1, '유플러스': 1, '유해': 40, '유행': 25, '유행병': 1, '유향': 1, '유형': 12, '유혹': 9, '유화': 8, '유효': 26, '유흥': 1, '육개장': 52, '육계나무': 1, '육남매': 4, '육류': 12, '육만팔천구백원': 1, '육박': 6, '육백원': 1, '육수': 31, '육식': 8, '육아': 36, '육아휴직': 1, '육안': 12, '육우': 7, '육유': 1, '육이': 5, '육인': 1, '육입': 1, '육전': 4, '육종': 1, '육즙': 34, '육질': 21, '육천구백이십구원': 1, '육천원': 1, '육체': 5, '육포': 6, '윤곽': 4, '윤광나는': 1, '윤기': 137, '윤리': 1, '윤수': 1, '윤아': 3, '윤이나': 1, '윤택': 1, '윤활유': 1, '윤활제': 1, '율과': 5, '율도': 3, '율동': 1, '율무': 49, '율휘': 1, '융기': 2, '융단': 4, '융쫀득': 1, '융털': 1, '융통성': 2, '융프라우': 1, '융화': 1, '으딨': 1, '으뜸': 7, '으러': 2, '으루': 4, '으른': 1, '으른들': 1, '으른이들': 1, '으름': 1, '으리': 3, '으셨': 1, '으스럭': 1, '으쓱': 1, '으잉': 1, '윽시': 2, '윽짠데': 1, '은감': 3, '은건데': 1, '은것': 2, '은근': 99, '은기': 7, '은단': 41, '은듯': 2, '은떡': 1, '은로': 2, '은못': 1, '은밀': 1, '은박': 8, '은반지': 1, '은발': 1, '은방': 1, '은방울꽃': 1, '은별': 3, '은병': 7, '은봉': 1, '은부': 3, '은비': 1, '은빛': 2, '은사': 3, '은상': 1, '은색': 52, '은서': 1, '은솔': 1, '은수': 1, '은애': 3, '은어': 1, '은율': 10, '은인': 1, '은점항': 1, '은정': 2, '은제': 6, '은좋아졋': 1, '은주': 1, '은줄': 11, '은지': 7, '은진': 2, '은침': 2, '은평': 4, '은하': 2, '은행': 5, '은행나무': 2, '은혀제': 1, '을사': 4, '을시': 1, '을유': 1, '을지': 1, '을해': 22, '음가': 2, '음각': 1, '음감': 1, '음강': 1, '음개': 4, '음공': 1, '음괞첞긴한대': 1, '음국': 1, '음귤맛': 1, '음기': 1, '음날': 7, '음날일': 1, '음내': 1, '음량': 36, '음료': 176, '음료수': 37, '음맛': 2, '음매': 2, '음머릿결': 1, '음모': 1, '음물': 1, '음뭐': 1, '음미': 5, '음번': 7, '음별룬데': 1, '음보': 1, '음부': 7, '음상': 2, '음새': 1, '음색': 2, '음성': 20, '음성인식': 1, '음소': 1, '음속': 1, '음시을': 1, '음식': 403, '음식물': 28, '음식재료': 1, '음식점': 3, '음심': 1, '음악': 64, '음약': 1, '음양': 2, '음양도': 1, '음역': 1, '음왜': 1, '음용': 2, '음우': 1, '음운': 1, '음울': 1, '음원': 8, '음으로': 5, '음이온': 1, '음저': 2, '음전': 1, '음절': 2, '음정': 1, '음주': 5, '음중': 1, '음직': 1, '음질': 208, '음집': 1, '음청': 1, '음쳥': 1, '음표': 1, '음해': 5, '음향': 20, '음화': 2, '읍겟': 1, '읍니': 24, '읎는': 1, '읎어': 1, '응고': 9, '응급': 2, '응급실': 5, '응급처치': 1, '응꼬': 2, '응날': 1, '응답': 1, '응대': 14, '응데': 1, '응때': 1, '응시': 1, '응어리': 2, '응용': 7, '응원': 9, '응축': 1, '의견': 56, '의결': 1, '의글': 1, '의논': 1, '의도': 9, '의례': 1, '의뢰': 2, '의료': 1, '의료기기': 1, '의류': 11, '의류수거함': 2, '의리': 2, '의맛': 1, '의무': 3, '의문': 24, '의미': 37, '의방': 1, '의사': 383, '의사결정': 1, '의사소통': 1, '의상': 3, '의소': 1, '의식': 8, '의심': 58, '의아': 7, '의안': 2, '의약품': 5, '의약화학': 1, '의외': 2, '의욕': 2, '의용': 1, '의의': 1, '의자': 225, '의적': 1, '의전': 1, '의정부': 1, '의제': 1, '의존': 5, '의중': 1, '의지': 9, '의집': 1, '의치': 1, '의타': 1, '의품삭': 1, '의학': 4, '의학박사': 1, '의향': 44, '이가성': 2, '이간': 2, '이감': 1, '이강': 1, '이강하': 1, '이개': 2, '이거루': 1, '이거슨': 2, '이건': 727, '이건모': 1, '이건재': 1, '이걸루': 4, '이겈': 1, '이게뭡': 1, '이겦좀': 1, '이견': 2, '이경우': 2, '이고리': 1, '이구': 72, '이구영': 1, '이구오': 1, '이군': 6, '이귀': 1, '이글': 16, '이기': 136, '이기용': 1, '이기전': 1, '이기중': 1, '이길자': 1, '이까짓': 1, '이나': 82, '이나고': 7, '이나영': 1, '이남': 7, '이납': 1, '이내': 29, '이노': 1, '이뇨제': 1, '이니셜': 1, '이니스프': 1, '이니스프리': 76, '이니슾': 1, '이닌데': 1, '이대': 2, '이도': 7, '이돈': 11, '이동': 50, '이동국': 1, '이동면': 1, '이동성': 1, '이동식': 3, '이동용': 1, '이동해': 1, '이드': 61, '이득': 22, '이듬': 1, '이듭': 2, '이따': 7, '이또': 2, '이라크': 1, '이란': 15, '이랜드': 1, '이량': 1, '이렁건': 1, '이렇케': 1, '이레': 1, '이력': 6, '이로': 10, '이론': 1, '이루': 4, '이류': 1, '이륙': 4, '이륜차': 1, '이름': 131, '이리고': 1, '이마': 46, '이마로': 2, '이마트': 6, '이만': 34, '이만오천원': 2, '이만원': 8, '이맘': 6, '이메일': 1, '이면': 156, '이모': 5, '이모저모': 1, '이모티콘': 1, '이목구비': 1, '이몸': 1, '이물': 22, '이미다졸': 1, '이미지': 50, '이바': 2, '이바지': 2, '이발': 3, '이발소': 5, '이방': 1, '이백오백원': 1, '이번': 1008, '이벤': 1, '이벤트': 419, '이변': 1, '이별': 7, '이보': 19, '이보희': 2, '이본': 2, '이부': 1, '이부자리': 1, '이분': 2, '이불': 41, '이브': 3, '이비': 3, '이비가': 1, '이비사': 1, '이비인후과': 2, '이빈': 1, '이빙': 2, '이빨': 20, '이뽀': 4, '이사': 48, '이사도': 2, '이사오': 1, '이사이사이': 1, '이사해': 5, '이삭': 2, '이산': 2, '이산화규소': 5, '이삼만원': 1, '이삼십분': 1, '이삼일': 3, '이삿날': 1, '이삿짐': 3, '이삿집': 1, '이상': 592, '이상구': 1, '이상만': 5, '이상무': 1, '이상보': 1, '이상없다': 2, '이상은': 56, '이상인': 9, '이상정': 1, '이상하': 6, '이상헌': 1, '이색': 4, '이샴프': 1, '이서': 13, '이성하': 1, '이세': 5, '이소리': 3, '이속': 2, '이순': 1, '이슈': 9, '이스': 27, '이스라': 1, '이스라엘': 1, '이스트': 11, '이슬': 1, '이슬비': 1, '이시영': 1, '이식': 4, '이신': 19, '이신선': 1, '이심': 1, '이십만원': 2, '이십분': 2, '이싼': 1, '이쑤시개': 4, '이아': 7, '이아주': 7, '이안': 18, '이애': 2, '이야기': 64, '이얏': 1, '이양': 1, '이어도': 9, '이어트': 2, '이어팟': 6, '이어폰': 183, '이엠': 2, '이여기': 2, '이여름': 1, '이염': 21, '이영': 1, '이영자': 1, '이예': 44, '이오': 3, '이온': 2, '이옹': 1, '이완': 3, '이왕이면': 33, '이왕지사': 1, '이외': 17, '이요': 4, '이요한': 1, '이욜': 1, '이용': 310, '이용기': 1, '이용사': 1, '이용성': 1, '이용신': 1, '이용자': 4, '이우': 1, '이웃': 6, '이웃집': 2, '이원': 1, '이월': 2, '이유': 544, '이유식': 32, '이유원': 2, '이윤': 1, '이율': 1, '이음': 21, '이의': 4, '이의제기': 1, '이이': 3, '이이이': 2, '이이이이이': 2, '이익': 6, '이인': 3, '이일': 1, '이임': 1, '이입': 4, '이자': 20, '이장': 1, '이적': 9, '이전': 136, '이점': 21, '이정': 77, '이제': 463, '이제껏': 9, '이제야': 33, '이제일': 5, '이조': 1, '이주': 8, '이주일': 4, '이중': 39, '이즈': 140, '이지': 31, '이지나': 3, '이지오': 1, '이지투': 1, '이직': 1, '이진': 4, '이질': 1, '이집': 6, '이징': 24, '이징도': 1, '이쯤': 1, '이찬': 1, '이참': 10, '이채': 2, '이처럼': 5, '이천': 20, '이천원': 5, '이천이': 1, '이체': 2, '이초': 1, '이충': 1, '이케아': 3, '이크': 8, '이크타': 1, '이탈': 16, '이탈리아': 1, '이트': 3, '이트리': 2, '이튼': 1, '이튿날': 2, '이틀': 173, '이티': 1, '이파리': 4, '이편': 2, '이풍': 1, '이프': 2, '이하': 62, '이하나': 2, '이하이': 3, '이학래': 1, '이해': 114, '이해도': 1, '이해해': 3, '이향': 7, '이허': 1, '이혜정': 1, '이확': 2, '이환': 1, '이후': 135, '이흠': 1, '익숙': 4, '익스트림': 9, '익음': 1, '익일': 1, '인간': 9, '인강': 5, '인걸': 5, '인고': 1, '인공': 36, '인공위성': 1, '인근': 1, '인기': 60, '인내': 2, '인내심': 6, '인대': 12, '인더헬': 1, '인덕': 1, '인덕션': 46, '인데': 1, '인도': 7, '인도네시아': 2, '인듯': 2, '인디고': 9, '인디안': 1, '인디언': 1, '인력': 2, '인막닥요즘': 1, '인물': 12, '인바디': 1, '인버터': 4, '인봉': 1, '인부': 4, '인분': 53, '인사': 9, '인산': 2, '인삼': 4, '인상': 28, '인생': 75, '인성': 3, '인셀덤': 5, '인솔': 1, '인쇄': 19, '인쇼': 1, '인수': 2, '인수분해': 1, '인슐린': 5, '인스타': 7, '인스타그램': 1, '인스탄트': 1, '인스턴트': 22, '인식': 110, '인식범위': 1, '인심': 1, '인안': 1, '인양': 3, '인연': 5, '인용': 50, '인원': 2, '인위': 31, '인의': 1, '인자': 6, '인적': 6, '인절미': 16, '인접': 1, '인정': 39, '인정슴슴': 1, '인정이': 1, '인제': 2, '인조': 4, '인주': 1, '인준': 1, '인중': 1, '인즈': 1, '인증': 141, '인증샷': 3, '인증서': 5, '인지': 139, '인지도': 18, '인지력': 2, '인지상정': 1, '인척': 2, '인천': 1, '인천공항': 1, '인체': 21, '인치': 63, '인켈': 1, '인터': 6, '인터넷': 112, '인터뷰': 1, '인터페론': 1, '인터페이스': 8, '인테리어': 52, '인텐스': 2, '인텔': 1, '인튜어스펜': 1, '인파': 3, '인편': 2, '인프라': 1, '인피니티': 1, '인하': 1, '인핸싱': 1, '인행싱': 1, '인햐': 1, '인형': 6, '인회': 1, '인후': 4, '읺아': 1, '일가': 10, '일가견': 1, '일간': 12, '일감': 3, '일개': 1, '일견': 2, '일곱': 3, '일곱시': 1, '일과': 1, '일관': 2, '일괄': 3, '일광욕': 1, '일구': 1, '일금': 2, '일기': 7, '일다': 2, '일단': 922, '일도': 64, '일동': 2, '일두': 1, '일드': 55, '일등': 5, '일때': 3, '일락': 1, '일련번호': 1, '일렬': 1, '일로': 27, '일롸': 1, '일류': 5, '일률': 4, '일르킬수': 1, '일리': 189, '일리윤': 9, '일링': 60, '일만': 45, '일만구천원': 1, '일말': 1, '일명': 7, '일문': 1, '일미': 1, '일바지': 1, '일반': 484, '일반도': 1, '일반세': 1, '일반인': 5, '일반풍': 1, '일방': 3, '일배': 1, '일변': 1, '일보': 8, '일본': 22, '일본여행': 2, '일부': 49, '일부러': 63, '일부분': 2, '일분': 9, '일사': 2, '일사구': 1, '일사이': 1, '일사천리': 3, '일산': 2, '일산서구': 4, '일상': 30, '일상다반사': 1, '일상생활': 11, '일색': 4, '일생': 2, '일석이조': 12, '일손': 1, '일수': 13, '일시': 14, '일식': 1, '일쑤': 10, '일어': 4, '일어나고': 10, '일어나서': 31, '일어나지': 7, '일언': 1, '일오': 1, '일요일': 16, '일욜': 1, '일용': 3, '일월': 4, '일위': 1, '일이': 137, '일이구': 1, '일인': 15, '일일': 20, '일일사이': 1, '일일이': 21, '일일일': 1, '일임': 4, '일자': 215, '일자핏': 1, '일전': 26, '일절': 2, '일정': 57, '일정량': 1, '일제': 7, '일종': 5, '일주': 3, '일주일': 239, '일쥬일': 1, '일지': 13, '일직선': 3, '일진': 1, '일찍': 41, '일차': 12, '일착': 1, '일체': 22, '일출': 1, '일치': 10, '일케': 1, '일판': 1, '일평생': 1, '일품': 28, '일할떄': 1, '일해': 21, '일행': 2, '일향': 5, '일화': 4, '일회용': 51, '일회용품': 4, '일후': 4, '임개': 1, '임걸': 1, '임금님': 6, '임나': 1, '임대': 1, '임뎡': 1, '임도': 5, '임돠': 1, '임돠굿': 1, '임몇': 1, '임무': 2, '임물': 2, '임뭐': 1, '임박': 14, '임별점': 1, '임부': 2, '임부복': 1, '임비': 4, '임빅한걸': 1, '임산부': 34, '임상시험': 2, '임상실험': 1, '임선': 1, '임시': 11, '임신': 38, '임신부': 1, '임실': 1, '임쒯': 1, '임연': 4, '임연수어': 1, '임오': 1, '임완': 2, '임원': 1, '임의': 5, '임재': 1, '임정': 1, '임제': 1, '임진': 1, '임차': 1, '임총': 1, '임키': 1, '임타': 1, '임타민': 1, '임파': 1, '임파구': 1, '임파선': 2, '임팔': 1, '임팩': 3, '임팩타민액티': 1, '임팩트': 2, '임플란트': 3, '임해': 1, '임향': 1, '임홈': 1, '입가': 9, '입가심': 3, '입구': 82, '입국': 2, '입그': 1, '입금': 4, '입길': 1, '입김': 1, '입는덴': 1, '입늘때': 1, '입다': 42, '입대': 9, '입덧': 7, '입도': 3, '입동': 1, '입드': 1, '입뚝': 1, '입력': 6, '입맛': 248, '입문': 48, '입밖': 1, '입병': 15, '입병땜': 1, '입부': 1, '입사': 3, '입산': 11, '입속': 6, '입수': 2, '입술': 281, '입숩': 1, '입습': 1, '입시': 15, '입심': 3, '입안': 63, '입옆': 1, '입원': 8, '입을런': 1, '입입': 1, '입자': 103, '입장': 45, '입점': 5, '입지': 34, '입천장': 2, '입체': 4, '입초': 1, '입출력': 3, '입컷': 1, '입턴적': 1, '입하': 2, '입학': 1, '잇몸': 9, '잇엇': 1, '잇엇네': 1, '잇음어쨋': 1, '있겠죵저': 1, '있고패트병': 1, '있고펩콜': 1, '있꼬': 1, '있나욤': 1, '있네욤': 1, '있는쫀득': 1, '있늗': 1, '있늣데': 1, '있다뇨': 1, '있드라구': 1, '있숩니': 2, '있슴': 2, '있슴다': 1, '있슴당': 1, '있슴돠': 1, '있엇으': 1, '있을깤': 1, '있을떄': 1, '있을런': 1, '있음끄읏': 1, '있죵집콕할': 1, '있쥬': 1, '잉글랜드': 1, '잉글롯': 1, '잉글리쉬': 3, '잉글리시': 1, '잉다리': 1, '잉레': 1, '잉브퍼': 2, '잉브퍼프옵웨': 1, '잉익잉': 1, '잉잉': 1, '잉크': 7, '잉크젯': 1, '잊혀짐': 1, '잎맛술': 1, '잎사귀': 1, '잎술': 1, '잎즙': 2, '잎채소': 1, '잎통': 1, '잏어': 1, '잏으': 1, '자가': 24, '자가발전': 1, '자가용': 1, '자갈길': 1, '자갈치': 12, '자건': 1, '자게': 3, '자격': 1, '자격시험': 1, '자격증': 3, '자고': 53, '자고로': 2, '자괴': 1, '자구': 9, '자국': 177, '자궁': 7, '자그마치': 1, '자극': 368, '자금': 6, '자급': 23, '자기': 104, '자기만족': 1, '자기야': 1, '자꾸': 283, '자꾸만': 17, '자네': 2, '자녀': 14, '자도': 24, '자동': 115, '자동사': 1, '자동차': 9, '자두': 1, '자등': 1, '자라': 6, '자락': 4, '자랑': 29, '자력': 4, '자로': 7, '자료': 17, '자루': 3, '자르르': 3, '자리': 149, '자립': 2, '자마자': 167, '자막': 2, '자만': 4, '자매': 3, '자면붕': 1, '자모': 1, '자못': 1, '자몽': 19, '자문': 1, '자물쇠': 2, '자미': 1, '자바라': 1, '자반': 5, '자본': 1, '자부': 9, '자부심': 2, '자비': 1, '자사': 7, '자살': 1, '자색': 1, '자서': 6, '자석': 36, '자성': 2, '자세': 35, '자속': 2, '자손': 1, '자수': 3, '자스민': 4, '자시': 1, '자식': 3, '자신': 43, '자신감': 8, '자심': 1, '자아': 2, '자안': 2, '자알': 2, '자애': 1, '자연': 146, '자연계': 1, '자연환경': 2, '자연휴양림': 1, '자영': 2, '자외선': 60, '자욱': 1, '자욱긱긱': 1, '자원': 1, '자월': 4, '자위': 1, '자유': 18, '자유시간': 3, '자율': 1, '자음': 2, '자의': 11, '자이로볼': 4, '자일로스': 6, '자일리톨': 6, '자임': 4, '자작나무': 2, '자장가': 1, '자재': 15, '자전': 1, '자전거': 54, '자정': 4, '자제': 20, '자존심': 1, '자주': 813, '자주색': 4, '자지': 7, '자질': 1, '자차': 1, '자책': 2, '자체': 395, '자취': 81, '자치기': 1, '자칫': 11, '자칫하면': 2, '자칭': 1, '자켓': 14, '자크': 14, '자태': 1, '자택': 1, '자투리': 4, '자판': 9, '자판기': 43, '자피': 1, '자하': 2, '자해': 5, '자형': 4, '자회사': 2, '작걸임': 1, '작고': 140, '작년': 60, '작당': 2, '작도': 1, '작동': 148, '작두': 1, '작렬': 3, '작법': 2, '작별': 2, '작살': 11, '작성': 676, '작성자': 2, '작성중': 1, '작시': 2, '작심삼일': 2, '작업': 87, '작업복': 15, '작용': 47, '작은방': 2, '작전': 2, '작정': 2, '작품': 4, '작황': 1, '잔고': 6, '잔기스': 7, '잔기침': 4, '잔꽃': 1, '잔꽃향': 1, '잔날': 1, '잔득': 1, '잔등이': 1, '잔디': 7, '잔디밭': 1, '잔뜩': 43, '잔량': 9, '잔량붙음': 1, '잔량확': 1, '잔류': 9, '잔반': 1, '잔변': 1, '잔병치레': 5, '잔불': 1, '잔뼈': 7, '잔샷': 1, '잔소리': 14, '잔액': 2, '잔잔': 1, '잔차': 1, '잔치': 4, '잔치국수': 4, '잔털': 5, '잔향': 37, '잘돠': 1, '잘되지': 9, '잘됫는데': 1, '잘라냄금욜': 1, '잘라봄읭': 1, '잘랏어옄': 1, '잘룩러': 1, '잘만': 6, '잘만드': 1, '잘못': 196, '잘삿다': 1, '잘삿어': 3, '잘안헹궈': 1, '잘왓어': 1, '잘잘': 5, '잘트': 1, '잘해야': 1, '잠결': 2, '잠구': 1, '잠귀': 1, '잠금장치': 15, '잠기': 4, '잠깐': 100, '잠도': 9, '잠드소': 1, '잠만보': 1, '잠바': 1, '잠쉬뒤': 1, '잠쉬헤푸닝': 1, '잠스트': 4, '잠시': 55, '잠시간': 1, '잠옷': 18, '잠자리': 5, '잠재': 1, '잠점': 1, '잠좀': 1, '잡고': 70, '잡곡': 28, '잡기': 27, '잡담': 1, '잡맛': 1, '잡미': 1, '잡비릿내': 1, '잡으셧는': 1, '잡음': 32, '잡지': 5, '잡착제': 1, '잡채': 23, '잡티': 27, '잡화': 1, '장가': 7, '장갑': 60, '장거리': 3, '장공': 1, '장관': 1, '장기': 18, '장기간': 15, '장기로': 1, '장난': 108, '장난감': 43, '장날': 4, '장남': 19, '장내': 10, '장년': 1, '장농': 3, '장님': 2, '장다리': 1, '장단': 2, '장단점': 34, '장담': 8, '장대비': 1, '장도': 8, '장땡': 4, '장량': 29, '장력': 2, '장례식': 1, '장롱': 9, '장롱디': 1, '장롱문': 1, '장마': 21, '장마철': 6, '장만': 45, '장말': 1, '장맛': 1, '장맛비': 1, '장면': 4, '장모님': 5, '장문': 3, '장물': 1, '장미': 18, '장미꽃': 1, '장미희': 3, '장바': 1, '장바구니': 61, '장벽': 12, '장병': 1, '장보': 6, '장보고': 2, '장보기': 5, '장복': 3, '장볼': 1, '장볼때': 2, '장부': 1, '장비': 20, '장사': 23, '장사진': 1, '장사치': 1, '장생': 1, '장석': 1, '장선': 1, '장소': 27, '장속': 1, '장수': 3, '장시': 1, '장시간': 23, '장식': 16, '장식품': 1, '장실': 1, '장아찌': 24, '장악': 1, '장안': 2, '장애': 26, '장애물': 3, '장애인': 2, '장염': 6, '장영란': 1, '장오': 1, '장용': 12, '장위': 4, '장윤': 1, '장으루': 1, '장의': 4, '장인': 8, '장일': 2, '장전': 3, '장점': 463, '장정': 1, '장조림': 27, '장진': 2, '장착': 9, '장창': 14, '장청': 1, '장축': 3, '장치': 26, '장통': 4, '장판': 7, '장패': 1, '장해': 3, '잫써': 1, '재개': 1, '재거': 2, '재격': 1, '재고': 21, '재끼': 1, '재는': 2, '재니': 3, '재단': 4, '재도': 1, '재래시장': 3, '재량': 1, '재료': 264, '재미': 36, '재미나': 1, '재밋': 3, '재발': 3, '재배': 20, '재봉': 20, '재봉틀': 1, '재부팅': 2, '재사용': 10, '재산': 1, '재상': 1, '재생': 43, '재선': 1, '재수': 4, '재시': 1, '재앙': 1, '재야': 1, '재연': 1, '재운': 1, '재작년': 3, '재적': 1, '재정': 1, '재주': 23, '재직': 1, '재질': 418, '재차': 1, '재채기': 3, '재촉': 2, '재치': 1, '재탕': 2, '재택근무': 7, '재판': 1, '재팬': 1, '재포': 16, '재폰': 1, '재품': 17, '재품비': 1, '재향': 1, '재현': 3, '재형': 4, '재활': 4, '재활용': 28, '재활용품': 1, '잴루': 1, '잼맛': 1, '잼맛펜션': 1, '잼민': 1, '잿빛': 2, '쟁겨': 4, '쟁겨놓': 3, '쟁겨두': 3, '쟁반': 4, '쟁여노': 1, '쟁여놓': 27, '쟁여놔': 4, '쟁여놨': 1, '쟁여두': 36, '쟁여둔': 1, '쟁여둘': 1, '쟁여둘걸': 1, '쟁여둘껄': 1, '쟁여둬': 5, '쟁여듀는': 1, '쟁여탬': 1, '쟁여템': 1, '쟁였어': 1, '쟁이': 2, '쟁일래': 1, '쟁입니': 1, '쟁잉템': 1, '쟈스민': 1, '쟈스민꽃': 1, '쟈스민향': 1, '저가': 41, '저건': 4, '저걸': 6, '저격': 10, '저고리': 9, '저그': 4, '저급': 4, '저기': 14, '저냐': 1, '저녁': 288, '저녁때': 2, '저녁밥': 2, '저녁식사': 2, '저는홈트': 1, '저능': 1, '저대로': 1, '저따위': 2, '저럄': 1, '저럭': 1, '저런': 22, '저련해': 1, '저렴': 114, '저리': 30, '저림': 1, '저만큼': 4, '저번': 83, '저분자': 26, '저서': 5, '저속': 2, '저승사자': 1, '저염식': 1, '저온': 1, '저울': 4, '저을': 1, '저을때': 1, '저음': 23, '저장': 44, '저절로': 9, '저조': 1, '저지': 2, '저지방우유': 5, '저쩌': 1, '저쪽': 2, '저체중': 1, '저크': 1, '저편': 1, '저하': 14, '저학년': 5, '저항': 2, '저항력': 3, '저혈압': 6, '저화질': 2, '저희': 299, '적갈색': 4, '적고쫄깃함': 1, '적극': 94, '적기': 1, '적당': 61, '적당량': 16, '적도': 29, '적량': 1, '적립': 2, '적립금': 3, '적미': 1, '적발': 1, '적색': 4, '적습': 1, '적신': 7, '적양배추': 7, '적어놧으': 1, '적외선': 2, '적용': 36, '적은량': 1, '적은집': 1, '적응': 54, '적일': 1, '적임': 161, '적자': 5, '적절': 3, '적정': 10, '적정가격': 1, '적중': 2, '적지': 20, '적진': 1, '적채': 1, '적하': 7, '적함': 5, '적합': 11, '적혈구': 3, '전가': 1, '전개': 1, '전건': 1, '전곡': 1, '전골': 6, '전과': 17, '전구': 7, '전국': 10, '전기': 34, '전기량': 1, '전기레인지': 2, '전기밥솥': 3, '전기장판': 3, '전기차': 1, '전기포트': 26, '전기회로': 1, '전날': 39, '전남': 1, '전달': 37, '전담': 1, '전도': 3, '전도율': 1, '전동': 7, '전등': 5, '전라도': 1, '전락': 2, '전란': 1, '전력': 11, '전류': 7, '전면': 11, '전무': 2, '전문': 28, '전문가': 34, '전문의': 5, '전문점': 9, '전반': 66, '전보': 24, '전복': 2, '전부': 101, '전분': 54, '전산': 2, '전생': 1, '전선': 11, '전설': 2, '전세': 2, '전세계': 3, '전속': 1, '전송': 4, '전송속도': 3, '전수': 1, '전시': 6, '전신': 22, '전압': 3, '전어': 1, '전업': 1, '전에껀': 2, '전역': 4, '전염': 2, '전완': 1, '전완근': 1, '전용': 61, '전원': 99, '전유': 1, '전율': 1, '전의': 3, '전의면': 1, '전이': 42, '전인': 4, '전일': 1, '전임': 1, '전입': 2, '전자': 30, '전자기': 1, '전자기기': 5, '전자랜즈': 1, '전자레인지': 103, '전자렌지': 157, '전자문서': 1, '전자상거래': 1, '전자음악': 1, '전자제품': 16, '전자책': 1, '전자파': 3, '전작': 1, '전쟁': 15, '전적': 2, '전전': 2, '전전긍긍': 1, '전제': 1, '전주': 1, '전지': 3, '전지현': 2, '전진': 1, '전집': 3, '전철역': 1, '전체': 263, '전통': 10, '전투': 3, '전투복': 2, '전투식량': 2, '전파': 3, '전하': 3, '전함': 1, '전해': 3, '전해질': 2, '전향': 1, '전혀': 448, '전형': 3, '전화': 124, '전화기': 2, '전화번호': 4, '전화통화': 4, '전환': 32, '전회': 1, '전후': 22, '절감': 13, '절개': 4, '절구': 1, '절기': 3, '절단': 8, '절대': 319, '절대로': 20, '절댓값': 1, '절때': 11, '절러': 1, '절레절레': 1, '절로': 10, '절박': 1, '절반': 66, '절삭': 19, '절실': 4, '절약': 30, '절용': 2, '절임': 3, '절전': 3, '절절': 1, '절정': 1, '절제': 9, '절차': 2, '절취': 3, '절편': 7, '절하': 2, '젊은이': 1, '점검': 6, '점끼': 1, '점나': 1, '점도': 48, '점등': 2, '점막': 1, '점맛': 1, '점멸': 3, '점몇': 1, '점박이': 3, '점빵': 2, '점사': 2, '점선': 2, '점성': 31, '점성도': 1, '점수': 27, '점심': 64, '점심때': 4, '점심밥': 1, '점심시간': 5, '점액': 4, '점원': 1, '점윈': 1, '점유': 3, '점입자': 1, '점자': 8, '점전': 2, '점점': 116, '점점이': 1, '점정': 1, '점제': 1, '점차': 3, '점착': 1, '점축': 1, '점캡': 1, '점토': 1, '점퍼': 9, '점포': 1, '점프': 2, '접근': 1, '접근성': 2, '접기': 10, '접대': 9, '접때': 1, '접속': 4, '접수': 11, '접시': 51, '접영': 1, '접이식': 22, '접지': 6, '접착': 77, '접착제': 17, '접촉': 30, '접촉성': 2, '접함': 6, '접합': 8, '접해': 15, '접혔던': 1, '접힌': 2, '접힌것마': 1, '접힌부분': 2, '접힌선': 1, '접힐': 1, '접힐때': 2, '접힐수': 1, '접힘': 2, '접힙': 1, '젓가락': 75, '젓갈': 1, '정가': 12, '정감': 1, '정강이': 1, '정과정': 4, '정기': 25, '정나미': 1, '정녕': 1, '정답': 8, '정도': 2634, '정도격': 1, '정독': 5, '정돈': 44, '정동': 1, '정량': 20, '정력': 78, '정렬': 1, '정리': 225, '정리정돈': 4, '정말': 1704, '정말루': 1, '정망': 1, '정먄': 1, '정면': 9, '정물': 3, '정민': 1, '정밀': 5, '정발': 4, '정방': 1, '정보': 91, '정보원': 1, '정복': 2, '정봉': 1, '정부': 5, '정비': 1, '정사': 69, '정사각형': 2, '정산': 1, '정상': 92, '정상인': 2, '정상품': 1, '정서': 1, '정석': 5, '정성': 31, '정성껏': 7, '정세': 3, '정수': 13, '정수기': 54, '정수리': 34, '정시': 5, '정식': 6, '정신': 32, '정신건강': 3, '정신과': 2, '정씨': 1, '정안': 4, '정용법': 1, '정우': 1, '정우성': 1, '정원': 1, '정위': 2, '정유': 2, '정육': 14, '정육점': 14, '정은': 5, '정의': 3, '정이': 39, '정이안': 1, '정이오': 1, '정이지': 1, '정인': 2, '정일': 9, '정일도': 1, '정자': 2, '정작': 10, '정장': 9, '정전기': 25, '정점': 1, '정제': 37, '정조': 1, '정종': 1, '정줄': 1, '정지': 7, '정착': 113, '정착햇겟': 1, '정책': 2, '정체': 4, '정치': 3, '정토': 1, '정통': 3, '정품': 105, '정핏': 1, '정핏입니': 1, '정함': 1, '정합': 1, '정해': 11, '정해진': 5, '정형': 2, '정형외과': 2, '정화': 5, '정확': 6, '정확도': 3, '정회': 1, '젖꼭지': 2, '젖꼭찌': 1, '젖병': 7, '젖산': 4, '젖소': 2, '젖은머리': 4, '젛다': 1, '젛아': 2, '젛아요또': 1, '젛아하': 1, '젛았어': 1, '제각각': 11, '제갈': 1, '제거': 252, '제겐': 12, '제격': 18, '제곧내': 1, '제공': 515, '제과': 12, '제과점': 7, '제과제빵': 2, '제구': 1, '제구실': 1, '제기': 3, '제껀': 4, '제껀데': 1, '제나': 4, '제니': 1, '제니트': 2, '제니퍼': 2, '제닉스': 4, '제다': 3, '제단': 5, '제당': 2, '제대': 3, '제대로': 258, '제도': 36, '제도로': 1, '제등': 1, '제때': 5, '제라': 9, '제로': 284, '제로로': 6, '제만': 3, '제머릿결': 1, '제모': 2, '제목': 7, '제바': 1, '제발': 64, '제방': 1, '제법': 37, '제보': 4, '제분': 2, '제비꽃': 2, '제비집': 2, '제빵': 10, '제뿜': 1, '제사': 5, '제산제': 2, '제수': 9, '제스': 1, '제습기': 2, '제시': 3, '제아': 1, '제안': 3, '제야': 1, '제약': 17, '제약회사': 3, '제어': 7, '제어판': 1, '제왕': 1, '제외': 31, '제원': 3, '제유': 1, '제육': 7, '제의': 7, '제이': 38, '제이다': 2, '제이든': 1, '제인': 3, '제인걸': 1, '제일': 532, '제입': 10, '제자리': 6, '제작': 24, '제작비': 2, '제작사': 1, '제작자': 1, '제적': 3, '제제': 3, '제조': 89, '제조업': 3, '제조업체': 2, '제주': 36, '제주도': 19, '제중': 7, '제지': 1, '제질': 1, '제철': 16, '제청': 1, '제컵': 1, '제코': 1, '제크': 1, '제키': 1, '제트': 11, '제품': 5982, '제품군': 11, '제품디자인': 1, '제픔': 2, '제피': 3, '제하': 3, '제한': 16, '제해': 1, '제형쫀쫀함': 1, '제후': 1, '제휴': 1, '젠더': 11, '젠뼈': 1, '젠장': 6, '젠틀': 1, '젠하이저': 1, '젤궁굼': 1, '젤라틴': 5, '젤로': 9, '젤루': 6, '젤리': 36, '젤리피쉬': 1, '젤맘': 1, '젤맛': 2, '젤크렌져': 1, '젤팁': 1, '젤향': 1, '져지': 1, '젼혀': 2, '졋다': 1, '졋어셔딱': 1, '조각': 127, '조각가': 1, '조각모음': 2, '조갈': 2, '조감': 2, '조개': 6, '조개류': 1, '조거': 4, '조건': 30, '조견': 1, '조국': 26, '조그만': 15, '조금': 1636, '조기': 10, '조깅': 8, '조끼': 10, '조난': 2, '조달': 1, '조던': 1, '조도': 1, '조량': 1, '조려': 4, '조로': 1, '조롱': 2, '조류': 4, '조리': 220, '조리법': 22, '조리사': 2, '조림': 57, '조립': 666, '조마': 1, '조만간': 36, '조명': 31, '조명도': 3, '조물': 4, '조미': 8, '조미료': 21, '조바심': 1, '조반': 1, '조사': 29, '조상': 3, '조선': 1, '조선시대': 2, '조선족': 1, '조성': 5, '조성하': 1, '조식': 1, '조심': 61, '조심성': 2, '조아영': 2, '조아욤': 1, '조약돌': 1, '조언': 5, '조여': 14, '조예': 1, '조우': 2, '조율': 4, '조으니': 1, '조음': 2, '조의': 2, '조이': 23, '조이스틱': 4, '조인': 6, '조일': 20, '조일이': 2, '조임쇠': 1, '조자수': 1, '조작': 58, '조절': 455, '조정': 29, '조정은': 1, '조종': 6, '조준': 1, '조지': 2, '조직': 12, '조짐': 3, '조차': 6, '조청': 16, '조취': 1, '조치': 13, '조카': 44, '조케따': 1, '조폭': 1, '조합': 73, '조합상': 1, '조향사': 1, '조화': 27, '조화로': 3, '조회': 3, '족도': 2, '족두리': 2, '족므': 1, '족발': 2, '족시': 1, '족욕': 1, '족저근막염': 2, '족족': 1, '존경': 3, '존경심': 1, '존똑': 1, '존뜩': 1, '존맛': 22, '존맛임': 1, '존맛탱': 1, '존맛턍입니': 1, '존바': 1, '존스': 1, '존슨': 2, '존예': 1, '존재': 24, '존존': 1, '존중': 1, '존쪽': 1, '존쫀': 1, '존초': 1, '존케이지': 1, '존해': 1, '졸깃': 1, '졸깃쫄낏': 1, '졸라': 6, '졸렵거든': 1, '졸리': 3, '졸림': 1, '졸맛': 1, '졸업': 7, '졸업사진': 1, '졸업식': 3, '졸음': 3, '졸졸': 1, '졸졸졸졸': 1, '졸지': 2, '졸티': 1, '좀금': 1, '좀낫': 1, '좀년': 1, '좀더': 179, '좀바': 1, '좀벌렷': 1, '좀비': 3, '좀비싸드': 1, '좀작': 1, '좀좀': 1, '좀쫍': 1, '좀쭈글': 1, '좀처럼': 1, '좀쿠망': 1, '좀햇': 1, '좀흠': 1, '좁쌀': 34, '종가': 1, '종결': 1, '종국': 1, '종근당': 47, '종기': 3, '종도': 1, '종량제': 1, '종료': 7, '종류': 344, '종별': 1, '종비': 1, '종사': 2, '종수': 1, '종아리': 31, '종양': 1, '종업식': 1, '종이': 168, '종이가방': 1, '종이곽': 1, '종이컵': 124, '종이팩': 4, '종인': 1, '종일': 78, '종잇장': 1, '종자': 9, '종점': 1, '종종': 100, '종주': 1, '종주국': 1, '종중': 1, '종지': 7, '종합': 61, '좋게썽': 1, '좋겠쥬': 1, '좋곘': 1, '좋고렌지': 1, '좋고쩐내': 1, '좋고특유': 1, '좋길레': 1, '좋네욜': 1, '좋네욤': 1, '좋드라구': 4, '좋숩니': 1, '좋스비': 1, '좋슴니': 1, '좋슴다': 2, '좋아욘': 1, '좋아욤': 2, '좋았넹': 1, '좋았읏듯': 1, '좋어욤': 1, '좋은거같슴미': 1, '좋은거러서': 1, '좋은것갇아': 1, '좋읉': 1, '좋음둥': 1, '좋읗것': 1, '좌르르': 3, '좌르륵': 1, '좌석': 3, '좌섴': 1, '좌우': 36, '좌절': 1, '좌지우지': 1, '좌측': 4, '좌판': 6, '좌표': 2, '좍좍': 1, '좔좔': 15, '죄밥통': 1, '죄인': 1, '죄책감': 9, '죙일': 5, '죠르': 1, '죠리퐁': 2, '죠스': 1, '죠아': 1, '죠오': 1, '죤맛': 1, '죨깃': 1, '죻으': 1, '주가': 11, '주간': 12, '주거': 2, '주걱': 3, '주검': 1, '주고후': 1, '주관': 46, '주구': 3, '주근깨': 11, '주기': 51, '주기도': 22, '주네': 11, '주니': 25, '주니어': 7, '주님': 1, '주더': 17, '주도': 2, '주둥이': 10, '주력': 5, '주로': 163, '주룩': 1, '주룩주룩': 1, '주류': 1, '주르르': 1, '주르륵': 14, '주름': 122, '주마': 1, '주말': 89, '주머니': 78, '주먹': 36, '주먹밥': 5, '주목': 1, '주무': 2, '주문': 2356, '주물': 2, '주민': 1, '주박사': 1, '주방': 87, '주방용품': 11, '주변': 164, '주변인': 3, '주볌': 1, '주부': 22, '주사': 15, '주사위': 1, '주산': 6, '주섬주섬': 3, '주성분': 5, '주세영': 1, '주소': 1, '주스': 27, '주시': 62, '주식': 15, '주식회사': 4, '주신': 21, '주심': 15, '주안': 3, '주야': 2, '주어': 24, '주얼': 10, '주얼리': 2, '주요': 5, '주요한': 1, '주욱': 2, '주위': 57, '주의': 140, '주의자': 2, '주인': 5, '주인공': 3, '주일': 50, '주임': 1, '주입': 7, '주자': 3, '주작': 1, '주저': 9, '주적': 1, '주전': 5, '주전부리': 1, '주전자': 54, '주정': 20, '주정이': 1, '주제': 1, '주조': 1, '주종': 3, '주주': 1, '주중': 7, '주지': 26, '주차': 10, '주차장': 3, '주최': 1, '주치의': 1, '주태': 1, '주택': 1, '주파': 5, '주파수': 13, '주해': 2, '주행': 2, '주황': 12, '주황색': 23, '죽겠네': 1, '죽도': 2, '죽마고우': 1, '죽밥': 1, '죽욋부분': 1, '죽음': 1, '죽죽': 4, '죽지': 2, '죽통': 2, '준가': 1, '준걸': 1, '준담': 1, '준뒤': 4, '준비': 154, '준비물': 10, '준성': 1, '준수': 18, '준인': 1, '준치': 3, '준템': 2, '준후': 4, '줄게': 1, '줄곧': 8, '줄곳': 1, '줄기': 23, '줄기세포': 1, '줄넘기': 1, '줄눈': 1, '줄때': 7, '줄무늬': 2, '줄번': 1, '줄알': 18, '줄어듬': 3, '줄엿으': 1, '줄자': 5, '줄줄': 37, '줄줄이': 5, '줄톱': 1, '줄팩': 1, '줄평': 15, '줌강추': 1, '줌마': 9, '줏대': 1, '중간': 287, '중간지점': 1, '중간층': 1, '중강': 1, '중건': 2, '중계': 1, '중고': 44, '중고나라': 3, '중고품': 2, '중과': 2, '중구': 1, '중국': 46, '중국말': 3, '중국산': 53, '중국어': 6, '중국집': 2, '중금속': 12, '중꾹산': 1, '중남미': 2, '중년': 8, '중눈': 1, '중단': 27, '중달': 1, '중대': 2, '중도': 1, '중독': 44, '중독증': 1, '중동': 1, '중등': 4, '중딩': 20, '중딸': 1, '중란': 3, '중란알': 1, '중량': 63, '중력': 18, '중만': 1, '중문': 9, '중반': 30, '중방': 1, '중병': 1, '중복': 11, '중불': 7, '중비': 1, '중사': 1, '중상': 2, '중성': 22, '중성세제': 3, '중세': 1, '중소': 6, '중소기업': 14, '중쇄': 1, '중순': 7, '중시': 3, '중식': 4, '중심': 19, '중심부': 1, '중아': 4, '중알': 2, '중앙': 32, '중요': 24, '중요성': 10, '중요시': 13, '중원': 1, '중원구': 1, '중유': 1, '중음': 2, '중이': 101, '중인': 19, '중임': 6, '중입': 1, '중장비': 2, '중재': 1, '중전': 2, '중점': 6, '중젤': 1, '중증': 1, '중지': 10, '중진': 1, '중질': 1, '중집': 1, '중청': 6, '중추신경계': 1, '중탕': 6, '중포': 5, '중하': 5, '중학교': 5, '중학생': 29, '중형': 3, '중화': 13, '중후': 8, '줘버렷음': 1, '쥐남': 1, '쥐똥': 2, '쥐뿔': 1, '쥐색': 1, '쥐약': 1, '쥐포': 1, '쥑입니': 1, '쥤답': 1, '쥤어': 1, '쥬글듯': 1, '쥬는어쩜': 1, '쥬니어': 1, '쥬르륵': 1, '쥬말만돠': 1, '쥬맘에듭': 1, '쥬문': 1, '쥬세': 1, '쥬스': 18, '쥬얼': 7, '쥭겟': 1, '쥰듯': 1, '즇겠어': 1, '즈란': 1, '즈럽다': 1, '즈음': 5, '즈희동': 1, '즉각': 20, '즉석': 5, '즉석밥': 44, '즉석식품': 1, '즉섭밥': 1, '즉시': 27, '즉흥': 1, '즌데': 2, '즐거움': 6, '즐겨찾기': 2, '즐넛': 1, '즐림': 1, '즐쇼': 1, '즐판': 1, '즙등': 1, '증가': 25, '증강': 1, '증거': 10, '증기': 1, '증대': 1, '증도': 1, '증등': 1, '증류': 1, '증류수': 2, '증말': 4, '증맬루': 1, '증명': 7, '증발': 10, '증빙': 1, '증산': 1, '증상': 76, '증서': 1, '증세': 11, '증식': 4, '증여': 1, '증인': 1, '증정': 8, '증진': 9, '증폭': 3, '증후': 1, '증후군': 14, '즤신': 1, '즤집': 3, '즨짜': 1, '지각': 1, '지갑': 68, '지게': 18, '지경': 19, '지고': 52, '지구': 6, '지구력': 1, '지국': 1, '지그': 9, '지근': 2, '지금': 635, '지금껏': 12, '지급': 3, '지기': 17, '지끈': 3, '지끗지끗': 1, '지나': 32, '지나왓': 1, '지난': 50, '지난날': 1, '지난달': 2, '지난번': 72, '지난주': 6, '지난해': 3, '지남': 5, '지네': 17, '지느러미': 2, '지능': 1, '지니': 11, '지다': 6, '지단': 6, '지대': 13, '지도': 102, '지드': 3, '지라': 28, '지란': 1, '지랄': 2, '지레': 1, '지력': 1, '지로': 17, '지루': 4, '지루함': 1, '지름': 14, '지름길': 1, '지리': 12, '지리산': 3, '지만원': 1, '지만지': 1, '지면': 33, '지명': 1, '지모': 2, '지목': 2, '지문': 8, '지물': 1, '지미': 2, '지민': 2, '지바': 1, '지방': 133, '지방간': 3, '지방도': 6, '지방량': 1, '지방산': 13, '지방산에스테르': 1, '지방조직': 2, '지방질': 2, '지방함량': 1, '지배': 4, '지법': 1, '지병': 2, '지불': 13, '지붕': 3, '지브라': 1, '지사': 1, '지상': 1, '지상파': 1, '지서': 1, '지성': 92, '지성민': 1, '지성은': 2, '지성이면': 1, '지성인': 9, '지세': 1, '지소': 1, '지속': 159, '지수': 9, '지식': 6, '지아': 4, '지안': 2, '지압': 22, '지에스': 1, '지역': 25, '지역별': 2, '지연': 22, '지오': 9, '지오다노': 2, '지옥': 6, '지요다': 2, '지용': 2, '지용성': 6, '지우': 1, '지우개': 2, '지원': 35, '지원이': 3, '지위': 2, '지유': 4, '지으니': 1, '지은': 16, '지음': 1, '지이미': 1, '지인': 194, '지장': 19, '지적': 4, '지점': 3, '지정': 4, '지정도': 2, '지정석': 1, '지중해': 2, '지지': 94, '지지도': 8, '지지리': 1, '지진': 3, '지질': 7, '지짐': 1, '지출': 9, '지층': 1, '지침': 3, '지칭': 1, '지큐': 7, '지탱': 8, '지팔': 1, '지퍼': 215, '지퍼락': 3, '지페': 4, '지평': 1, '지폐': 9, '지푸라기': 1, '지프': 1, '지하': 8, '지하상가': 1, '지하수': 4, '지하실': 2, '지하철': 6, '지해': 2, '지향': 3, '지향성': 3, '지현': 1, '지혈': 1, '지형도': 1, '지혜': 1, '지호': 1, '지휘': 1, '직각': 4, '직감': 3, '직거려': 1, '직거림': 2, '직격': 1, '직격타': 1, '직결': 3, '직경': 1, '직관': 12, '직구': 52, '직기': 11, '직냉': 2, '직다': 1, '직렬': 6, '직면': 1, '직모': 1, '직배': 2, '직빵': 2, '직사': 22, '직사각형': 5, '직선': 1, '직송': 6, '직수입': 2, '직스': 2, '직업': 15, '직역': 1, '직영': 1, '직왜케': 1, '직원': 57, '직장': 41, '직장인': 18, '직전': 17, '직접': 336, '직종': 1, '직직': 1, '직진': 5, '직함': 1, '직행': 11, '직화': 2, '직후': 33, '진가': 3, '진겨': 1, '진고': 1, '진공': 36, '진공상태': 2, '진과': 2, '진기': 1, '진다리': 1, '진단': 5, '진달래': 2, '진대': 1, '진동': 53, '진동기': 1, '진두': 1, '진드기': 2, '진득': 8, '진득거': 1, '진득진득': 1, '진땀': 2, '진라면': 58, '진로': 2, '진료': 5, '진리': 22, '진립': 1, '진맛': 1, '진물': 3, '진미채': 2, '진밥': 3, '진보': 7, '진보라': 1, '진보면': 3, '진볼': 1, '진부': 3, '진빵': 1, '진서': 1, '진선': 1, '진솔': 2, '진수': 1, '진시': 1, '진실': 2, '진심': 103, '진액': 1, '진에어': 1, '진열': 14, '진영': 1, '진임': 1, '진자': 4, '진작': 36, '진장': 1, '진전': 1, '진절머리': 1, '진정': 172, '진정작용': 1, '진제': 2, '진주': 7, '진중': 1, '진즉': 7, '진짜': 1608, '진짜루': 4, '진짜진짜': 5, '진짴': 1, '진쨔': 1, '진쨔그': 1, '진찌': 2, '진차': 2, '진찰': 2, '진창': 7, '진청': 5, '진출': 2, '진키': 1, '진통': 2, '진통제': 2, '진품': 5, '진피': 2, '진해': 10, '진행': 40, '진행중': 3, '진흙': 4, '질감': 120, '질강': 1, '질겅': 1, '질겅질겅': 1, '질겨': 44, '질겨짐': 1, '질겻': 1, '질김': 7, '질끈': 2, '질다': 2, '질도': 32, '질때': 1, '질라': 2, '질량': 1, '질럿': 1, '질럿오요원': 1, '질리': 39, '질문': 25, '질병': 12, '질부': 3, '질색': 5, '질서': 1, '질소': 3, '질식': 1, '질염': 4, '질의': 5, '질적': 3, '질정': 1, '질질': 12, '질퍽': 4, '질환': 29, '질후': 2, '짐볼': 9, '짐볼위': 1, '짐승': 13, '짐작': 6, '짐좀': 1, '짐초': 1, '짐칸': 1, '짐해': 2, '집게': 24, '집게삔': 1, '집기': 3, '집단': 2, '집단지성': 2, '집도': 10, '집들이': 11, '집문': 1, '집밖': 3, '집밥': 11, '집사': 10, '집사람': 10, '집시': 1, '집아': 1, '집안': 81, '집안일': 7, '집앞': 52, '집애': 2, '집업': 4, '집의': 1, '집접': 1, '집중': 66, '집지': 1, '집집': 1, '집착': 3, '집컵': 1, '집콕': 6, '집합': 2, '집행': 1, '집회': 1, '짓거리': 2, '짓드': 1, '짓무르': 1, '짓좀': 1, '징징': 4, '징쫀득': 1, '징폼': 1, '징후': 3, '짚압': 1, '짜고닽': 1, '짜고컨디셔너': 1, '짜른다': 1, '짜리몽땅': 1, '짜릴': 1, '짜임': 5, '짜임새': 2, '짜장': 65, '짜장라면': 10, '짜장면': 11, '짜져': 3, '짜증': 69, '짜파게티': 66, '짜파구리': 5, '짝궁': 1, '짝꿍': 7, '짝수': 1, '짝짝': 2, '짝짝이': 3, '짝퉁': 18, '짠맛': 25, '짠지': 3, '짤때': 3, '짤랐으': 1, '짤리': 1, '짦아': 2, '짧은머리': 4, '짪아': 3, '짬밥': 1, '짬뽕': 16, '짬짬이': 1, '짭짜름': 1, '짭쪼롬': 3, '짭쪼롬하': 1, '짭쪼롬해': 1, '짭쪼롭': 1, '짭쪼름': 3, '짭쪼름애들': 1, '짭쪼름하': 3, '짭쪼름함': 1, '짱구': 5, '짱아찌': 2, '짱짱': 30, '짱짱맨': 1, '째보': 1, '째완': 1, '짹짹': 2, '쨍겨': 2, '쨍그랑': 1, '쨍기지': 1, '쨍하': 6, '쨍하거': 1, '쨍한데': 1, '쨔증': 1, '쩌걱쩌걱': 1, '쩌구': 2, '쩌내': 1, '쩌억': 1, '쩌억훌러덩쉽': 1, '쩍습니': 1, '쩍었던차': 1, '쩍쩍': 13, '쩍쩎': 1, '쩍혀': 1, '쩐내': 20, '쩐내가': 1, '쩐다': 1, '쩔어요': 4, '쩜더주': 1, '쪗다뺏다': 1, '쪼가리': 8, '쪼게': 1, '쪼골거려': 1, '쪼그': 1, '쪼그맣': 1, '쪼글': 1, '쪼글거리': 1, '쪼글한것': 1, '쪼금': 17, '쪼금더': 2, '쪼금씩': 2, '쪼꼬': 2, '쪼꼬미': 2, '쪼꼼': 2, '쪼끄만하': 1, '쪼끔': 5, '쪼끔더': 1, '쪼롬': 1, '쪼름': 1, '쪼리': 1, '쪼만': 1, '쪼매': 1, '쪼맨해': 1, '쪼메': 1, '쪼아': 2, '쪼아욤': 1, '쪼오끔': 1, '쪼올깃': 1, '쪼을땐': 1, '쪼을텐': 1, '쪼즘': 1, '쪼큼': 1, '쪽문': 3, '쪽빛': 1, '쪽지': 1, '쪽쪽': 2, '쪽파': 9, '쫀득': 66, '쫀득살캉': 1, '쫀득쫀': 6, '쫀득쫀득': 19, '쫀득쫀득쌀떡': 1, '쫀득쫀득하': 3, '쫀득쫀득합니': 1, '쫀득쫀득해여싸쥬': 1, '쫀득쫀득허': 1, '쫀득하': 8, '쫀득하거': 1, '쫀득한': 1, '쫀득한거': 1, '쫀득한맛': 1, '쫀득함': 5, '쫀득해': 2, '쫀득했어': 1, '쫀듯': 1, '쫀듯하': 1, '쫀디기': 1, '쫀뜩': 2, '쫀쩐': 1, '쫀쪼놰지': 1, '쫀쫀': 77, '쫀쫀탱': 1, '쫀쫀탱글': 1, '쫀쫀하': 26, '쫀쫀하거': 1, '쫀쫀한': 1, '쫀쫀한거': 1, '쫀쫀한데': 2, '쫀쫀함': 13, '쫀쫀해': 7, '쫄깃': 91, '쫄깃거리': 1, '쫄깃거림': 1, '쫄깃도하': 1, '쫄깃쫄': 7, '쫄깃쫄깃': 23, '쫄깃쫄깃양념': 1, '쫄깃쫄깃쫄깃': 1, '쫄깃쫄깃하': 1, '쫄깃쫄깃한': 1, '쫄깃쫄깃해': 1, '쫄깃쫄깃했': 1, '쫄깃탱글해': 1, '쫄깃평': 1, '쫄깃하': 5, '쫄깃한': 1, '쫄깃한게더': 1, '쫄깃한데': 1, '쫄깃한데입속': 1, '쫄깃한맛': 2, '쫄깃함': 5, '쫄깃합니': 1, '쫄깃해': 4, '쫄깃했': 1, '쫄낏거기': 1, '쫄대': 1, '쫄득': 1, '쫄리': 1, '쫄리네': 1, '쫄리는': 1, '쫄리는감': 1, '쫄리는건': 1, '쫄바': 1, '쫄바지': 1, '쫄보': 1, '쫄았': 1, '쫄쫄': 1, '쫄쫄굶겼네': 1, '쫄쫄이': 1, '쫄쫄이티': 1, '쫄쫄쫄': 1, '쫄티': 4, '쫌나고': 1, '쫌더': 5, '쫌무숩': 1, '쫌쫌하': 1, '쫑긋': 1, '쫑기네': 1, '쫑긴다': 1, '쫑날': 1, '쫑쫑': 1, '쫗기듯': 1, '쫘끔': 1, '쫘악': 2, '쫙쫙': 6, '쫙쫙남': 1, '쫜득': 1, '쫜득쫙득': 1, '쫜득쫜득': 2, '쫜득쭨득해': 1, '쫠깃': 2, '쬐꼼': 2, '쬬아': 1, '쬬여': 1, '쭈굴': 1, '쭈굴거림': 1, '쭈굴쭈굴해': 1, '쭈글': 4, '쭈글거려': 1, '쭈글거렸습니': 1, '쭈글거리': 1, '쭈글쭈글': 5, '쭈글한': 1, '쭈글해': 1, '쭈꾸미': 7, '쭈리': 1, '쭈리인줄': 1, '쭈매': 1, '쭈우욱': 1, '쭈욱': 28, '쭈욱판매': 1, '쭈쭈': 1, '쭈쭈쭉': 1, '쭉쭉': 24, '쭉쭉쭉': 1, '쭉쭉쭉쭉': 1, '쭝뭰': 1, '쯉쯉': 1, '쯔란': 1, '쯔유': 1, '쯔음': 3, '쯧쯧': 1, '찌개': 34, '찌게': 7, '찌꺼기': 24, '찌끄레기': 1, '찌때': 1, '찌릿': 1, '찌부둥': 1, '찌뿌둥해': 2, '찌뿌등': 1, '찌뿌뚱': 1, '찌저': 1, '찌질': 1, '찌찌찍': 1, '찍겨': 1, '찍기': 6, '찍엇습니': 1, '찍찍': 19, '찐드': 1, '찐따핏': 2, '찐뜩하': 2, '찐빵': 11, '찜기': 1, '찜닭': 20, '찜솥': 2, '찜질': 2, '찜질방': 1, '찜찜학': 1, '찜콩': 2, '찜통': 2, '찟어': 1, '찟어지': 1, '찡긋': 1, '찡기': 6, '찢어젺따': 1, '차고': 21, '차곡': 2, '차곡차곡': 3, '차광': 2, '차근차근': 2, '차기': 3, '차내': 3, '차니': 3, '차단': 67, '차도': 6, '차돌': 2, '차돌박이': 4, '차때': 2, '차라': 12, '차라리': 90, '차량': 19, '차려': 3, '차렵': 1, '차렷자세': 1, '차례': 21, '차례대로': 1, '차로': 26, '차롬히': 1, '차루': 1, '차류': 1, '차릉': 1, '차림': 4, '차마': 6, '차만': 1, '차망': 2, '차물': 1, '차박': 8, '차박때': 1, '차별': 1, '차비': 1, '차색': 1, '차생': 1, '차서': 8, '차선': 1, '차안': 9, '차암': 2, '차애': 1, '차액': 2, '차앤박': 4, '차앤박껀': 1, '차야': 2, '차양': 2, '차요': 2, '차원': 13, '차이': 375, '차이나': 18, '차이점': 10, '차임': 2, '차잗': 1, '차제': 1, '차주': 1, '차지': 112, '차질': 2, '차징': 1, '차차': 1, '차체': 1, '차츰차츰': 1, '차콜': 18, '차키': 1, '차폐': 1, '차하': 1, '차향쟈': 1, '차후': 6, '착각': 22, '착륙': 4, '착불': 1, '착불료': 1, '착상': 1, '착색': 11, '착색제': 1, '착샷': 4, '착샷입니': 1, '착석': 2, '착시': 1, '착시효과': 1, '착안': 2, '착오': 3, '착용': 358, '착용샷': 1, '착제': 1, '착즙': 4, '착지': 3, '착착': 8, '착탈': 1, '착향': 1, '찬가': 1, '찬물': 48, '찬미': 2, '찬밥': 6, '찬송': 1, '찬스': 4, '찬장': 3, '찮니즘': 1, '찰기': 7, '찰나': 15, '찰떡': 45, '찰랑': 8, '찰량거려': 1, '찰밥': 3, '찰보리': 2, '찳아지': 1, '참가': 1, '참가자': 2, '참게': 1, '참고': 506, '참기름': 60, '참깨': 20, '참나': 6, '참나물': 4, '참내': 2, '참되고': 1, '참사': 5, '참새': 2, '참설': 1, '참숯': 1, '참스툴': 1, '참어': 1, '참여': 2, '참외': 1, '참위': 1, '참으로': 7, '참을껄': 1, '참을성': 1, '참전': 3, '참조': 22, '참조기': 3, '참치': 40, '찹쌀': 30, '찹쌀떡': 2, '찻잎': 1, '창고': 28, '창기': 1, '창녕': 2, '창녕군': 2, '창렬': 1, '창립': 2, '창문': 30, '창밖': 1, '창살': 16, '창안': 1, '창장': 1, '찾기': 51, '찿게되': 1, '찿던': 1, '찿아보': 1, '찿았는데완젼': 1, '채끝': 4, '채널': 25, '채도': 2, '채망': 1, '채반': 4, '채보': 1, '채소': 199, '채수': 1, '채식주의자': 1, '채요': 1, '채용': 1, '채운': 4, '채중': 1, '채찍': 1, '채칼': 2, '채택': 2, '채팅': 6, '채후': 1, '책가방': 2, '책꽂이': 5, '책꽃': 1, '책보': 1, '책상': 201, '책상다리': 4, '책임': 6, '책임감': 2, '책장': 54, '책정': 3, '챕스틱': 1, '챙갸먹어': 1, '챙위': 1, '챙피': 1, '챠콜': 1, '챡챡': 1, '챤갸': 1, '챱챱': 1, '처가': 2, '처길': 1, '처남': 1, '처넌': 8, '처녀': 2, '처러': 1, '처럼': 192, '처렴': 1, '처리': 250, '처림': 1, '처먹어봣': 1, '처발처': 1, '처발처발': 3, '처방': 17, '처방약': 2, '처방전': 1, '처벌': 1, '처분': 7, '처사': 1, '처서': 3, '처숍': 1, '처움': 1, '처음': 1377, '처음처럼': 2, '처음핏': 1, '처자': 1, '처지': 4, '처참': 1, '처치': 8, '처트': 2, '처피뱅': 1, '처향': 1, '처형': 2, '척도': 1, '척물': 1, '척사': 6, '척수': 1, '척척': 5, '척추': 2, '척추뼈': 2, '척후': 3, '천고마비': 1, '천국': 4, '천대': 1, '천도': 11, '천막': 1, '천만': 2, '천만다행': 2, '천명': 1, '천백원': 2, '천백육십원': 1, '천사': 4, '천사이': 1, '천삼백': 4, '천수': 6, '천시': 1, '천식': 4, '천연': 37, '천연섬유': 1, '천오백원': 1, '천원': 176, '천은': 8, '천이': 44, '천인': 1, '천일염': 19, '천장': 14, '천재지변': 1, '천정': 4, '천지': 3, '천차만별': 5, '천천': 1, '천팔백원': 1, '천하': 1, '천해': 6, '천혜': 2, '천후': 2, '철값': 1, '철거': 2, '철근': 1, '철끈': 2, '철도': 3, '철로': 1, '철망': 2, '철문': 1, '철물': 3, '철벽녀': 3, '철봉': 25, '철분': 176, '철사': 4, '철수': 5, '철용': 1, '철원': 2, '철재': 10, '철제': 41, '철철': 2, '철칙': 1, '철판': 3, '철회': 1, '첨가': 70, '첨가제': 5, '첨벙': 2, '첨부': 100, '첩촉': 1, '첫경험': 1, '첫날': 42, '첫번쨋탁': 1, '첫사랑': 2, '첫인상': 10, '첫째': 25, '청결': 3, '청경채': 3, '청과': 3, '청광': 1, '청구': 4, '청국장': 1, '청귤': 10, '청귤차맛': 1, '청귤청': 5, '청귤향': 1, '청년': 2, '청도': 6, '청두': 1, '청란': 2, '청량': 1, '청량감': 15, '청량고추': 6, '청록색': 4, '청문': 1, '청바지': 67, '청사': 2, '청산': 1, '청상': 12, '청색': 6, '청소': 135, '청소기': 11, '청소년': 14, '청소년기': 5, '청숭': 1, '청양': 3, '청양고추': 18, '청어': 1, '청연': 2, '청원': 5, '청원구': 1, '청음': 2, '청정': 35, '청주': 5, '청주시': 1, '청중': 1, '청진': 1, '청청': 1, '청취': 1, '청치': 7, '청탁': 1, '청포': 1, '청풍명월': 1, '청하면': 2, '청해': 9, '청홍': 1, '첮던': 1, '첮제': 1, '체감': 28, '체격': 13, '체결': 10, '체계': 11, '체고': 4, '체공': 1, '체구': 2, '체내': 45, '체다': 4, '체당': 3, '체력': 33, '체력검정': 2, '체리': 19, '체리블로썸': 1, '체면': 1, '체성': 1, '체식': 1, '체안': 1, '체어': 5, '체온': 9, '체온조절': 1, '체외': 1, '체용': 3, '체육': 1, '체육관': 1, '체육복': 2, '체인': 22, '체인지': 3, '체적': 34, '체제': 3, '체조': 1, '체중': 45, '체중감량': 8, '체지방': 5, '체질': 31, '체질개선': 1, '체크': 76, '체티': 2, '체함': 1, '체함단': 1, '체험': 595, '체험담': 1, '체형': 55, '첵스': 1, '첵오': 1, '쳇바퀴': 1, '쳉겨': 2, '쳐놧': 1, '초가': 3, '초가을': 4, '초겨울': 7, '초고': 8, '초고추장': 1, '초과': 3, '초금': 1, '초기': 37, '초년': 3, '초단': 3, '초대': 9, '초도': 1, '초등': 22, '초등딸': 1, '초등생': 5, '초등학교': 15, '초등학생': 23, '초딩': 30, '초딩남': 1, '초딸': 1, '초때': 1, '초란': 24, '초래': 3, '초로': 1, '초록': 35, '초록빛': 4, '초록색': 37, '초롬': 1, '초롱': 2, '초롱꽃목': 1, '초롱초롱': 1, '초면': 3, '초무': 1, '초미세먼지': 1, '초반': 46, '초밥': 1, '초벌': 4, '초보': 37, '초보자': 32, '초복': 2, '초봄': 3, '초산': 1, '초성': 1, '초소': 3, '초순': 1, '초심': 2, '초심자': 1, '초아': 3, '초안': 1, '초여름': 7, '초유': 2, '초이': 3, '초이스': 16, '초임': 13, '초입': 1, '초장': 4, '초적': 1, '초점': 5, '초조': 1, '초창': 3, '초초': 3, '초초저': 1, '초초초': 1, '초초초초': 1, '초컬릿': 5, '초코': 114, '초코렛': 16, '초코릿': 2, '초코우유': 4, '초코쿠키': 3, '초코파이': 46, '초콜렛': 37, '초콜릿': 113, '초크': 1, '초파리': 1, '초퍼': 1, '초후': 2, '촉감': 93, '촉겉': 1, '촉매': 1, '촉진': 23, '촉쪽': 1, '촉척': 1, '촉촉': 42, '촉촉물광': 1, '촉촉밖': 1, '촉촉제': 1, '촌득': 2, '촌빨': 1, '촌시런': 1, '촏촉한것': 1, '촘롤러': 1, '촘촘': 6, '촘촘하': 4, '촘촘한면': 1, '촛농': 1, '촛물': 1, '촛불': 1, '총기': 3, '총량': 2, '총명': 1, '총무': 1, '총알': 16, '총장': 2, '총총': 2, '총평': 2, '촣지않': 1, '촤라락': 2, '촤락': 1, '촤르르': 4, '촤르르밥': 1, '촤르륵': 1, '촤르륵돌려': 1, '촤악': 4, '촥감기': 1, '촥부터': 1, '촥촥': 3, '촥촥촥': 1, '촬영': 31, '촵촵': 3, '최강': 16, '최거': 1, '최고': 672, '최고근': 2, '최고급': 1, '최고다': 5, '최고봉': 1, '최고재': 1, '최고점': 1, '최공': 1, '최근': 149, '최단': 1, '최대': 48, '최대로': 7, '최대한': 70, '최도': 1, '최면': 2, '최상': 23, '최상급': 6, '최선': 6, '최선호': 1, '최소': 48, '최소한': 27, '최신': 21, '최악': 213, '최애': 61, '최애라': 1, '최저': 30, '최적': 20, '최적화': 10, '최전선': 1, '최종': 22, '최초': 8, '최최최': 1, '최최최최최': 1, '최하': 6, '쵝오': 6, '쵝오네': 1, '쵝오쵝': 1, '쵝오쵝오': 1, '쵣오얌': 1, '쵸코': 3, '쵸콜렛': 2, '쵸콜릿': 2, '추가': 424, '추가됏다': 1, '추강': 11, '추구': 7, '추도': 2, '추락': 3, '추락사고': 2, '추럴': 1, '추례하': 1, '추로': 1, '추리': 4, '추무': 1, '추문': 2, '추사': 1, '추석': 25, '추세': 4, '추억': 41, '추욱': 1, '추움': 1, '추위': 10, '추이': 1, '추장': 1, '추적': 4, '추정': 7, '추찬': 1, '추처': 1, '추천': 1582, '추출': 144, '추출량': 1, '추측': 5, '추카': 2, '추켜': 1, '추후': 19, '축구': 20, '축구공': 11, '축구선수': 2, '축복': 4, '축사': 1, '축산': 7, '축산물': 1, '축성': 1, '축소': 1, '축적': 3, '축제': 1, '축쪽': 1, '축척': 2, '축하': 1, '축협': 2, '축협껄': 2, '춘장': 1, '춘천': 1, '춘추': 2, '출고': 19, '출구': 9, '출국': 6, '출근': 114, '출근길': 17, '출근시간': 3, '출동': 1, '출력': 41, '출발': 3, '출사표': 1, '출산': 40, '출산휴가': 1, '출석': 1, '출시': 28, '출시일': 1, '출신': 4, '출연자': 1, '출원': 1, '출입': 1, '출입구': 2, '출장': 15, '출처': 6, '출퇴근': 12, '출하': 6, '출현': 1, '출혈': 9, '춥다': 6, '충격': 49, '충격파': 1, '충고': 1, '충남': 5, '충당': 1, '충돌': 3, '충동': 1, '충만': 1, '충북': 4, '충분': 13, '충사': 1, '충성': 8, '충실': 3, '충전': 463, '충전기': 40, '충전지': 1, '충족': 17, '충주': 4, '충진재': 1, '충천': 3, '충치': 6, '충해': 1, '충혈': 1, '취급': 10, '취나물': 1, '취미': 11, '취사': 4, '취소': 32, '취수': 1, '취약': 6, '취업': 3, '취월': 1, '취이잌췩하': 1, '취저': 1, '취저네': 1, '취저앗': 1, '취준생': 3, '취준생이': 1, '취지': 3, '취침': 6, '취하': 11, '취할': 1, '취할수': 1, '취해': 5, '취향': 135, '츄럴': 2, '츄리': 5, '츄리닝': 9, '츄어블': 4, '츄어블정제': 1, '츄잉': 1, '츄천': 1, '츌러': 1, '츠바키': 3, '츠비': 9, '츠암': 1, '츠음': 1, '츠향': 1, '측면': 36, '측은': 3, '측정': 18, '측정기': 5, '층간소음': 18, '층운': 1, '층정': 1, '층층': 3, '치가': 51, '치과': 4, '치기': 6, '치노': 1, '치닝디핑': 2, '치덕': 2, '치덕치덕': 3, '치도': 4, '치드': 1, '치레': 1, '치렝스': 2, '치료': 40, '치료법': 1, '치룰': 1, '치마': 57, '치맛살팩': 1, '치매': 6, '치맥': 4, '치면': 19, '치명': 7, '치밥': 1, '치수': 88, '치실': 1, '치아': 32, '치약': 7, '치얼업': 1, '치역': 1, '치유': 5, '치의': 5, '치익': 2, '치인': 3, '치자': 1, '치자나무': 1, '치전': 1, '치중': 4, '치즈': 176, '치즈케이크': 6, '치직': 1, '치질': 1, '치코리타': 1, '치킨': 94, '치킨너겟': 2, '치토스': 1, '치통': 1, '치트키': 1, '치폴레': 7, '치하': 1, '칙촉': 15, '친가': 1, '친곳': 1, '친구': 221, '친그들드': 1, '친꼴': 1, '친밀도': 1, '친수성': 1, '친언니': 2, '친일': 1, '친절': 12, '친정': 24, '친정엄마': 27, '친지': 1, '친척': 4, '친한친구': 2, '친환경': 21, '친후': 3, '칠갑산': 2, '칠구이원': 1, '칠때': 1, '칠레': 1, '칠리': 3, '칠리소스': 3, '칠부': 1, '칠성': 8, '칠성사': 17, '칠성파': 1, '칠이': 11, '칠천원': 1, '칠판': 1, '칠팔만원': 1, '침구': 2, '침남': 1, '침낭': 21, '침대': 142, '침독': 1, '침묵': 4, '침범': 1, '침샘': 1, '침실': 10, '침용': 1, '침전': 4, '침착': 8, '침투': 5, '침해': 1, '칩셋': 1, '칩쌀': 1, '칫솔': 4, '칫수': 2, '칭구': 1, '칭구들': 1, '칭다오': 2, '칭량': 1, '칭찬': 62, '칭칭': 3, '칮아본': 1, '카나': 1, '카나페': 1, '카노': 1, '카누': 33, '카드': 99, '카등': 1, '카라': 18, '카라넥티': 1, '카라멜': 13, '카라치': 1, '카락': 4, '카레': 111, '카레돈까스': 1, '카레밥': 1, '카례밥': 1, '카로티노이드': 2, '카르': 1, '카를': 4, '카마': 6, '카메라': 75, '카멕': 1, '카멕스': 4, '카멜': 3, '카멜리아': 1, '카미': 1, '카밍': 6, '카바': 2, '카밤': 1, '카베': 1, '카산': 1, '카수': 1, '카스': 3, '카스타드': 3, '카스테라': 22, '카슬거리': 1, '카시스': 1, '카시트': 16, '카야': 5, '카우치': 2, '카운트': 1, '카제인': 1, '카제인나트륨': 1, '카카': 1, '카카오': 19, '카키': 24, '카키색': 9, '카테고리': 1, '카테킨': 1, '카토': 1, '카톡': 14, '카투': 1, '카툭': 2, '카퉤': 1, '카트': 5, '카페': 76, '카페나': 1, '카페라떼': 9, '카페룽': 1, '카페인': 32, '카페트': 9, '카펫': 6, '카포네': 3, '카폼': 2, '카푸치노': 3, '카프': 1, '카프리': 1, '카프리썬': 2, '카피': 5, '카향': 1, '칵테일': 7, '칸디다': 2, '칸로일': 1, '칸막이': 5, '칸쵸': 1, '칸칸': 1, '칸칸이': 2, '칼국수': 35, '칼끝': 2, '칼날': 19, '칼등': 2, '칼라': 18, '칼로리': 258, '칼륨': 23, '칼리': 1, '칼마': 1, '칼몬드': 2, '칼몬드먹': 1, '칼슘': 157, '칼질': 17, '칼집': 31, '칼치': 4, '칼칼': 1, '칼컷팅해': 1, '칼퓸': 1, '캄보디아': 2, '캍아': 1, '캐나다': 4, '캐드': 1, '캐또': 1, '캐러멜': 3, '캐럿': 1, '캐리어': 35, '캐릭': 1, '캐릭터': 26, '캐머': 2, '캐모마일': 1, '캐쉬': 2, '캐슈넛': 14, '캐스터': 3, '캐시': 6, '캐시미어': 6, '캐치': 3, '캐캐': 1, '캐핑용': 1, '캑캑뿜을뻔': 1, '캔들': 4, '캔디': 2, '캔볼': 2, '캔슬되': 1, '캔커피': 3, '캠린': 6, '캠슐': 1, '캠퍼': 2, '캠퍼스': 1, '캠프': 4, '캠핑': 110, '캠핑러': 1, '캠핑장': 4, '캡사이신': 3, '캡술': 1, '캡슐': 200, '캡처': 1, '캡쳐': 7, '캥핑': 1, '캬라멜': 6, '커널': 7, '커녕': 16, '커런트': 1, '커리': 21, '커뮤니티': 1, '커버': 268, '커브': 13, '커비': 2, '커서': 278, '커스터': 1, '커요스판끼': 1, '커큐민': 1, '커클랜드': 4, '커터': 1, '커터칼': 2, '커트': 6, '커트머리': 1, '커튼': 5, '커팅': 3, '커팅류': 1, '커플': 11, '커플링': 1, '커피': 1074, '커피량': 1, '커피메이커': 27, '커피메이트': 2, '커피믹스': 33, '커피빈': 2, '커피숍': 16, '커피숖': 1, '커피우유': 7, '커피잔': 7, '커피전문점': 6, '커피점': 1, '커피차': 1, '커피컵': 1, '커피콩': 2, '커피크림': 1, '커피포트': 16, '커피폿': 1, '커피한잔': 11, '컥컥': 1, '컨데': 3, '컨디셔': 3, '컨디셔너': 18, '컨디셔너가더': 1, '컨디셔너임니': 1, '컨디셔닝메디힐': 1, '컨디션': 40, '컨백션': 2, '컨셉': 1, '컨실러': 6, '컨테이너': 1, '컨텐츠': 1, '컨트롤': 3, '컨트롤러': 3, '컨퍼런스': 1, '컨펌': 1, '컬라겐': 1, '컬러': 217, '컬러링': 1, '컬러풀': 1, '컬럽': 1, '컬레': 1, '컬렉션': 4, '컬리': 5, '컬링': 1, '컬컬': 1, '컬테피': 1, '컴누': 1, '컴맹': 1, '컴백': 1, '컴스': 3, '컴터': 21, '컴팩트': 35, '컴펙트하': 1, '컴펙트합니': 1, '컴퓨존': 1, '컴퓨터': 103, '컴플렉스': 15, '컵누': 12, '컵라면': 74, '컵밥': 2, '컵수': 1, '컵시': 1, '컵홀더': 5, '컷끝': 1, '컷던': 1, '컷던탓': 1, '컷습니': 1, '컷으': 1, '컷음': 1, '컷트': 3, '컷팅': 4, '컷팅되어': 1, '컷팅된': 1, '컷팅부분': 1, '컷팅해': 1, '케나': 1, '케라세스': 1, '케라시스': 33, '케라틴': 10, '케라팅': 1, '케리': 1, '케릭': 1, '케바케': 9, '케세틴': 1, '케어': 208, '케이': 8, '케이블': 109, '케이스': 159, '케이시': 2, '케이크': 27, '케이프': 1, '케익': 15, '케일': 5, '케잌': 15, '케쥬얼': 1, '케찹': 16, '케챱': 3, '케첩': 8, '케토': 1, '케프레': 1, '켑슐박스': 1, '켓찹소스': 1, '켜연': 1, '켤레': 4, '켯는데': 2, '켯으': 1, '켯음': 1, '코끗': 2, '코끝': 3, '코끼리': 1, '코너': 4, '코다리': 5, '코덱': 1, '코듀': 1, '코드': 46, '코디': 19, '코디해': 1, '코딩': 2, '코딱지': 3, '코랄': 9, '코로': 6, '코로나': 103, '코롱': 3, '코르크': 1, '코리아': 8, '코리아나': 3, '코마': 4, '코맥': 2, '코멕스': 1, '코멘트': 1, '코멧': 14, '코멧글씨': 1, '코멧꺼': 1, '코모': 1, '코미': 1, '코미디': 1, '코미디언': 1, '코바': 6, '코박터': 1, '코발라민': 1, '코베': 2, '코볼': 1, '코사': 1, '코산': 1, '코셔': 2, '코스': 21, '코스닥': 1, '코스메슈티컬': 1, '코스트': 5, '코스트코': 8, '코알라': 1, '코앞': 2, '코어': 17, '코엔자임': 2, '코옆': 2, '코웃음': 1, '코익': 1, '코인': 4, '코일': 2, '코저': 1, '코지': 1, '코쪽': 1, '코치': 4, '코칭': 1, '코카': 4, '코카콜라': 43, '코카콜라사': 1, '코코': 12, '코코넛': 25, '코코넛오일': 3, '코코리': 4, '코코아': 13, '코코팜': 5, '코코포': 1, '코콜라': 7, '코큐텐': 3, '코크': 2, '코킹': 1, '코타': 3, '코털': 1, '코트': 34, '코튼': 14, '코티': 3, '코팅': 223, '코팩': 5, '코퍼': 1, '코피': 3, '콘덴서': 2, '콘도': 1, '콘서트장': 1, '콘선트': 1, '콘센트': 29, '콘솔': 4, '콘칲': 5, '콘크리트': 2, '콘트라': 1, '콘트라베이스': 2, '콘푸': 1, '콘헤드': 1, '콜달콤': 1, '콜드': 10, '콜땡': 1, '콜라': 215, '콜라겐': 207, '콜라보': 3, '콜라쥬': 1, '콜레겐': 1, '콜레스테롤': 39, '콜로': 1, '콜롬비아': 2, '콜리': 5, '콜린': 2, '콜센터': 1, '콜텍스': 1, '콤달콤': 27, '콤달콤향': 1, '콤담콜': 1, '콤마': 1, '콤보': 1, '콤팩트': 9, '콤플렉스': 9, '콤함': 6, '콤해': 1, '콧구멍': 2, '콧대': 1, '콧등': 2, '콧망울쪽': 2, '콧물': 5, '콧물같': 1, '콧물제': 1, '콧볼': 1, '콧볼등': 1, '콧볼주위': 1, '콧속': 2, '콧잔등': 1, '콧정도': 1, '콩가루': 3, '콩고': 1, '콩고기': 5, '콩국수': 3, '콩기름': 35, '콩나물': 62, '콩나물국': 3, '콩떡': 1, '콩로': 1, '콩물': 1, '콩밥': 1, '콩비릿내': 1, '콩새': 1, '콩선': 1, '콩섬취': 1, '콩쑥': 1, '콩알': 4, '콩쿨': 2, '콩팥': 1, '콰트로': 2, '콸콸': 2, '쾌남': 1, '쾌변': 3, '쾌속': 2, '쾌쾌': 1, '쿠나': 1, '쿠도': 1, '쿠로': 1, '쿠사리': 1, '쿠생쿠': 1, '쿠선': 1, '쿠세권': 1, '쿠셔닝': 2, '쿠션': 268, '쿠숀이없': 1, '쿠스': 4, '쿠애애팡': 1, '쿠이': 1, '쿠진': 1, '쿠체': 2, '쿠커': 1, '쿠쿠': 9, '쿠키': 40, '쿠킨': 4, '쿠파': 2, '쿠퍼스': 1, '쿠폰': 52, '쿤달': 22, '쿤달꺼': 1, '쿤달오일': 1, '쿨러': 1, '쿨론': 1, '쿨링': 20, '쿨링감': 8, '쿨링팩': 1, '쿨샷': 1, '쿨타임': 1, '쿨톤': 14, '쿨톤립': 1, '쿵덕': 2, '쿼드': 2, '쿼츠': 1, '퀄러티': 1, '퀄리': 2, '퀄리티': 166, '퀄리티재': 1, '퀄리팁': 1, '퀘르세틴': 1, '퀘사디아': 2, '퀘퀘': 3, '퀠리티': 1, '퀭한': 1, '퀴노아': 1, '퀴즈': 2, '퀵배송': 1, '퀸호': 1, '퀼리티': 5, '큐브': 6, '큐비': 8, '큐빅': 6, '큐션': 1, '큐알': 3, '큐어': 9, '큐티컬': 1, '큐티클': 15, '큐티킬': 1, '크게': 469, '크기': 981, '크껀': 1, '크닝': 1, '크라운': 3, '크라이': 1, '크란': 1, '크래커': 7, '크랙': 2, '크랜베리': 2, '크랩': 1, '크랭크': 4, '크런치': 5, '크런키': 6, '크렇': 1, '크레': 1, '크레마': 8, '크레모아': 2, '크레용': 1, '크레파스': 5, '크렌베리': 1, '크로스': 4, '크로스핏': 2, '크로와상': 5, '크로케': 1, '크로크무슈': 1, '크론': 1, '크롤': 1, '크롬': 8, '크롭': 3, '크롭인줄': 1, '크롭티': 1, '크류': 1, '크리': 4, '크리머': 1, '크리미': 19, '크리스': 12, '크리스마스': 11, '크리스마스카드': 1, '크리스탈': 2, '크리스털': 1, '크린싱': 1, '크릴': 1, '크림': 633, '크산틴': 1, '크시': 2, '큰거느맘': 1, '큰길': 1, '큰딸': 8, '큰소리': 1, '큰손': 3, '큰아들': 2, '큰일': 24, '클라스': 6, '클라우드': 8, '클라이너': 2, '클래식': 19, '클랙식': 1, '클랜': 3, '클럽': 5, '클레': 5, '클레어': 1, '클레이': 5, '클렌': 32, '클렌저': 15, '클렌저등': 1, '클렌져': 4, '클렌지폼': 1, '클렌징': 114, '클렌징겸': 1, '클렌징되': 1, '클렌징때문': 1, '클렌징력': 2, '클렌징면': 1, '클렌징밤': 2, '클렌징쓰기': 1, '클렌징오일': 10, '클렌징워터': 3, '클렌징주': 1, '클렌징템': 1, '클렌징티슈': 1, '클렌징폼': 49, '클렌징피': 1, '클렌징피부': 1, '클렌징할떄': 1, '클렌징해': 1, '클로렐라': 1, '클로브': 1, '클리': 25, '클리나': 2, '클리닉샴퓨': 1, '클리어': 28, '클리퍼': 3, '클릭': 53, '클린': 26, '클린앤클리어': 2, '클립': 11, '큼버츄오일리': 1, '큼섭취량': 1, '키감': 1, '키곤': 1, '키구': 1, '키그': 1, '키다': 1, '키달': 1, '키도': 14, '키드': 1, '키라': 6, '키로': 17, '키로로': 4, '키로뿌': 1, '키링': 4, '키보': 2, '키스': 1, '키스미': 2, '키오': 4, '키온': 3, '키위': 7, '키이라': 1, '키자니': 1, '키즈': 24, '키진': 1, '키친': 60, '키카': 1, '키캡': 2, '키크': 4, '키토': 4, '키트': 12, '키포인트': 1, '킨건': 1, '킨더': 3, '킨집생기': 1, '킬때': 2, '킬러': 3, '킬레이트': 7, '킬로': 15, '킬로그람': 1, '킬로그램': 1, '킴맘': 2, '킴버': 1, '킹랙': 1, '킹소': 17, '킹시': 1, '킹오브': 3, '킹왕짱': 2, '킹용': 3, '킹유': 1, '킹카': 1, '킼킼보통': 1, '타가': 3, '타겟': 2, '타격': 3, '타계': 1, '타고': 41, '타구': 6, '타나': 2, '타네': 2, '타다보먄': 1, '타닥': 2, '타도': 3, '타드랑': 1, '타라': 1, '타래': 2, '타령': 1, '타로': 1, '타르트': 1, '타마': 5, '타바스코': 1, '타박': 1, '타박상': 1, '타블렛': 18, '타블릿': 1, '타소': 1, '타오': 1, '타요': 13, '타우린': 1, '타운': 1, '타워': 4, '타원': 2, '타원형': 1, '타월': 15, '타이': 76, '타이거': 1, '타이머': 24, '타이밍': 7, '타이어': 1, '타이즈': 5, '타이트': 7, '타이트해': 2, '타이틀': 11, '타이핑': 2, '타일': 9, '타일러': 1, '타임': 24, '타임딜': 1, '타임리스': 1, '타임세일': 3, '타임특': 1, '타입': 289, '타입쫀쫀': 1, '타지': 18, '타지방': 1, '타진': 1, '타치': 1, '타카': 7, '타코': 4, '타투': 5, '타트': 1, '타파': 1, '타프': 9, '타프치': 1, '타피오카': 1, '타협': 5, '탁상': 4, '탁송': 1, '탁시': 7, '탁월': 3, '탁자': 3, '탁탁': 15, '탁터스': 1, '탁파': 1, '탁후': 1, '탄도': 1, '탄력': 99, '탄력성': 7, '탄산': 220, '탄산가스': 2, '탄산수': 19, '탄산음료': 41, '탄생': 4, '탄성': 14, '탄소': 3, '탄소강': 1, '탄수': 3, '탄수화물': 36, '탄지': 1, '탄탄': 1, '탄회': 1, '탅단': 1, '탆아': 1, '탈것': 1, '탈때': 13, '탈떄': 1, '탈락': 7, '탈린': 1, '탈모': 80, '탈모증': 9, '탈색': 93, '탈수': 16, '탈수증': 1, '탈지면': 2, '탈지분유': 3, '탈착': 9, '탈출': 7, '탈취': 7, '탈콤': 1, '탈퇴': 2, '탏색모': 1, '탐결': 1, '탐라': 4, '탐사': 52, '탐색': 1, '탐스': 1, '탐지견': 1, '탑승': 1, '탑재': 4, '탑제': 1, '탑젤': 6, '탑젤뷰닉': 1, '탑핸폰': 1, '탓음': 1, '탓잉': 1, '탕면': 2, '탕수육': 5, '탕용': 3, '탕종': 1, '탕후': 1, '탕후루': 1, '태고': 1, '태교': 1, '태국': 2, '태권': 1, '태권도': 1, '태그': 4, '태도': 6, '태만': 1, '태반': 1, '태배': 1, '태보': 1, '태블릿': 15, '태생': 2, '태아': 2, '태양': 8, '태양빛': 1, '태열': 18, '태엽': 2, '태이블임': 1, '태진': 1, '태초': 1, '태크핏': 1, '태클': 2, '태팔': 2, '태플릿': 1, '택도없': 1, '택배': 136, '택스': 2, '택을때': 1, '택일': 1, '택할': 1, '택해': 2, '택했어': 2, '택했으': 1, '탠트': 1, '탬퍼링': 1, '탭내': 1, '탭을낄때': 1, '탯줄': 1, '탱글쫄깃해': 1, '탱탱': 10, '터널': 2, '터득': 9, '터린': 1, '터미널': 1, '터번': 1, '터보': 5, '터브': 1, '터어키': 1, '터울': 1, '터점왜': 1, '터졋네': 1, '터치': 94, '터치스크린': 3, '터치패드': 3, '터키': 1, '터트려': 2, '터틀넥': 1, '터팔': 1, '턱걸이': 12, '턱끈': 1, '턱볼': 1, '턱뾰루': 1, '턱쪽': 2, '턱턱': 1, '턴다': 1, '턴테이블': 2, '털땜': 1, '털북숭': 1, '털옷': 2, '텀블러': 66, '텀텀': 1, '텀플러': 1, '텁덥해': 1, '텁텁': 17, '텁텁살': 1, '텁텁하': 5, '텁텁함': 2, '텁텁해': 2, '텃치': 1, '텄드라고': 1, '텅텅': 3, '텅텅빈': 1, '테그': 3, '테니스': 11, '테니스공': 8, '테더링': 1, '테두리': 39, '테디': 6, '테라': 16, '테라스': 2, '테러': 2, '테리': 8, '테린': 1, '테마': 2, '테블릿': 7, '테스': 5, '테스토스테론': 1, '테스트': 134, '테슬': 1, '테옆': 1, '테오': 2, '테왜': 1, '테이': 20, '테이블': 87, '테이크': 2, '테이크아웃': 2, '테이프': 89, '테이핑': 10, '테일': 1, '테일러': 1, '테입': 1, '테잎': 15, '테크': 5, '테투': 1, '테티': 1, '테팔': 93, '텍션': 1, '텍스': 8, '텍스처': 4, '텍스쳐': 15, '텍스트': 3, '텍터': 1, '텍트': 2, '텐더': 1, '텐데': 5, '텐데요당': 1, '텐셀': 1, '텐션': 3, '텐에스': 1, '텐텐': 2, '텐트': 61, '텔레비전': 1, '텔레비젼': 1, '템바': 1, '템임': 2, '템퍼': 1, '템퍼링': 1, '템프': 1, '템플': 1, '텹텁함그': 1, '토끼': 22, '토너': 167, '토네이도': 1, '토니모리': 1, '토닝': 1, '토닥': 3, '토닥토닥': 1, '토대': 7, '토도': 2, '토띠': 1, '토란': 4, '토로': 10, '토리': 13, '토마': 1, '토마토': 98, '토마토소스': 1, '토막': 14, '토맘토': 1, '토박이': 1, '토스': 5, '토스터': 9, '토스트': 86, '토시': 6, '토양': 2, '토요일': 15, '토욜': 4, '토욜날': 1, '토용': 2, '토인': 3, '토종': 3, '토종닭': 5, '토즈': 1, '토치': 2, '토코페롤': 4, '토키': 1, '토탈': 8, '토트': 1, '토트넘': 1, '토퍼': 2, '토핏': 1, '토핑': 17, '토핑도없': 1, '토핑들': 1, '토핑할': 1, '톡소': 1, '톡톡': 57, '톤업': 66, '톤임': 1, '톨러': 1, '톱밥': 8, '톱톱톱': 1, '통가': 1, '통값': 1, '통계': 2, '통과': 32, '통관': 5, '통깨': 4, '통닭': 1, '통닭구이': 1, '통더': 1, '통땜': 1, '통로': 1, '통맛': 1, '통면': 1, '통밀': 23, '통보': 6, '통뼈': 1, '통살': 1, '통삽결': 1, '통상': 4, '통속': 1, '통수': 5, '통스텐': 1, '통신비': 1, '통신사': 22, '통원': 1, '통읓': 1, '통일': 8, '통임': 1, '통입': 1, '통잠': 12, '통잣': 1, '통장': 1, '통정': 4, '통조림': 21, '통증': 38, '통지': 1, '통짜': 1, '통짜로': 1, '통째': 50, '통쨰': 1, '통창': 1, '통채': 2, '통토': 1, '통통': 27, '통통이': 4, '통풍': 21, '통학': 1, '통한': 2, '통합': 4, '통해': 96, '통행': 3, '통화': 39, '통화시': 3, '통후추': 8, '퇴근': 53, '퇴근길': 2, '퇴사': 1, '퇴수': 1, '퇴스': 2, '퇴원': 2, '퇴직': 1, '퇴진': 2, '퇴퇴': 1, '투과': 1, '투기': 1, '투더': 1, '투더갑': 1, '투덜': 2, '투데이': 4, '투룸': 1, '투맨': 17, '투명': 38, '투명의자': 1, '투바': 2, '투비': 1, '투뿔': 2, '투샷': 3, '투성이': 11, '투스': 1, '투신': 1, '투썸': 1, '투어': 1, '투엑': 1, '투엑라': 1, '투엑스': 2, '투여': 1, '투움': 2, '투움바': 5, '투웨': 1, '투입': 10, '투자': 23, '투자가': 1, '투정': 3, '투척': 4, '투텆': 1, '투톤': 5, '투툭': 1, '투툼': 1, '투튜듁예전': 1, '투하': 7, '투항': 1, '툭툭': 9, '툭하면': 1, '툼해': 2, '퉁퉁': 5, '퉤퉤': 1, '퉤퉷': 1, '튀김': 140, '튀르': 1, '튀어': 38, '튀튀': 3, '튕겨': 2, '튕겨나갈': 1, '튕겨나옴': 1, '튕겨낼듯': 1, '튕겨보': 1, '튕겨볼수': 1, '튕겨봐': 1, '튕겨주': 1, '튕기': 1, '튕기지': 1, '튜닝밴드': 1, '튜버': 2, '튜브': 47, '트곤': 1, '트기': 2, '트길': 1, '트닫트닥영': 1, '트라고': 1, '트라니': 1, '트라우마': 2, '트라이텝': 1, '트라택': 11, '트래스': 1, '트래킹용': 1, '트랙': 2, '트랜드': 1, '트랜스': 1, '트랜스지방': 14, '트램폴린': 3, '트러블': 252, '트러스': 5, '트러플': 14, '트럭': 2, '트럴': 1, '트럼을해': 1, '트럼하': 1, '트럽르이': 1, '트렁크': 6, '트레': 2, '트레블': 2, '트레이': 9, '트레이너': 4, '트레이닝': 16, '트레이닝복': 7, '트레이드': 1, '트레킹': 6, '트렌드': 3, '트렌디': 3, '트렌치코트': 1, '트렘펄린': 1, '트려': 4, '트렸': 2, '트론': 1, '트롤': 1, '트롬': 6, '트루': 2, '트룸': 7, '트르르': 1, '트름': 5, '트리': 138, '트리블': 1, '트리스': 8, '트리크먼트': 1, '트리트룸': 1, '트리트먼트': 172, '트리트먼트바': 1, '트리트먼트용': 1, '트리트먼트좋': 1, '트리트먼트향': 3, '트리플': 5, '트린트': 2, '트린트먼트': 24, '트릴': 1, '트림': 7, '트립토판': 1, '트릿': 3, '트먼트': 46, '트먼트나컨디셔': 1, '트먼트로머릿': 1, '트먼틎': 1, '트병': 1, '트스': 2, '트와이닝': 5, '트와이닝스': 1, '트위터': 1, '트윅스': 8, '트집': 4, '트함': 1, '트해': 5, '특가': 8, '특가딜': 1, '특가떳길': 1, '특급': 4, '특대': 1, '특등': 2, '특란': 45, '특란등': 1, '특란사세': 1, '특벽': 1, '특별': 3, '특산': 1, '특상품': 1, '특색': 2, '특성': 41, '특송': 1, '특수': 13, '특식': 1, '특유': 109, '특이': 7, '특이점': 3, '특임': 1, '특정': 15, '특징': 99, '특템': 3, '특특': 1, '특허': 10, '특허성': 1, '특화된': 1, '특효른': 1, '특효약': 1, '튿어': 1, '튿어져': 1, '튿어지': 1, '틀니': 2, '틀뒤': 2, '틀때': 3, '틀림': 2, '틀후': 1, '틈새': 18, '틈새라면': 1, '틈틈이': 3, '틍선트': 1, '티격태격': 1, '티끌': 1, '티나': 49, '티날': 1, '티남': 4, '티눈': 1, '티니': 2, '티듀': 1, '티라미수': 3, '티라미슈': 1, '티락': 2, '티망': 1, '티민': 1, '티백': 58, '티보': 1, '티뷰': 1, '티비': 86, '티빙': 1, '티샷': 1, '티셔츠': 73, '티슈': 17, '티스': 9, '티스푼': 12, '티쌤': 1, '티안': 2, '티어': 1, '티원': 1, '티임': 1, '티져': 3, '티존': 10, '티카': 3, '티컵': 1, '티타': 1, '티타늄': 14, '티타임': 1, '티피': 6, '틱톡': 2, '틱틱대': 1, '틴산': 3, '틴트': 28, '틴티드': 2, '틴틴': 1, '틸팅': 1, '팁클렌징': 1, '팃힌': 1, '팅팅': 4, '팅후': 1, '파가': 8, '파격': 1, '파견': 1, '파고': 1, '파괴': 8, '파김치': 9, '파꼭': 1, '파나소닉': 1, '파네': 9, '파니': 1, '파도': 5, '파두': 1, '파라': 12, '파라다이스': 1, '파라솔': 5, '파라핀': 1, '파란': 26, '파란빛': 1, '파란색': 28, '파랑': 20, '파랑빛': 1, '파랑색': 3, '파래': 1, '파랭': 3, '파로': 1, '파른': 1, '파릇': 1, '파릇파릇': 1, '파리': 15, '파리바게트': 1, '파마': 20, '파마머리': 2, '파막': 1, '파바': 1, '파보': 2, '파부': 1, '파부톤': 1, '파새': 1, '파생': 1, '파서': 7, '파셋': 1, '파셧': 1, '파손': 146, '파쇄': 2, '파스': 8, '파스타': 45, '파스텔': 16, '파스퇴르': 10, '파스파': 1, '파슬리': 3, '파시': 11, '파악': 4, '파열': 1, '파우더': 75, '파우치': 49, '파운데이션': 27, '파운드': 9, '파워': 28, '파워에이드': 2, '파워워킹': 1, '파월': 1, '파이': 15, '파이널판타지': 2, '파이론': 1, '파이브': 1, '파이어': 2, '파이팅': 4, '파이프': 7, '파인애플': 73, '파일': 32, '파전': 5, '파절': 1, '파주': 1, '파지': 1, '파츠': 2, '파코': 1, '파크': 4, '파킨슨병': 1, '파킹': 1, '파톡': 1, '파트너': 2, '파티': 11, '파티션': 3, '파파': 3, '파편': 2, '파프리카': 59, '판국': 1, '판끼': 2, '판넬': 5, '판다': 7, '판단': 43, '판도': 13, '판독': 2, '판때': 2, '판때기': 1, '판매': 402, '판매량': 12, '판매원': 2, '판매점': 1, '판밑': 1, '판소리': 1, '판시딜': 1, '판용': 1, '판이': 68, '판자': 6, '판재': 1, '판정': 8, '판지': 1, '판짱': 1, '판토': 1, '판토텐산': 7, '판패': 1, '판품': 1, '판하': 2, '팔걸이': 38, '팔고': 16, '팔굽혀펴기': 1, '팔근육': 1, '팔꿈치': 10, '팔다리': 11, '팔도': 7, '팔뚝': 14, '팔로': 2, '팔로우': 1, '팔만': 7, '팔메': 2, '팔면': 17, '팔목': 12, '팔방': 6, '팔방미인': 2, '팔백원': 1, '팔십': 1, '팔이': 47, '팔자': 6, '팔자주름': 6, '팔전': 1, '팔지': 23, '팔짝': 2, '팔찌': 4, '팔천원': 1, '팔팔': 23, '팜스': 2, '팜유': 3, '팝송': 1, '팝업': 1, '팝콘': 6, '팟팟': 1, '팥빙수': 3, '팥빵': 3, '팥색': 1, '팥소': 3, '팥안': 1, '팥죽': 1, '팥차': 4, '팥향': 1, '패기': 2, '패널': 8, '패달': 2, '패달끈': 1, '패드': 61, '패드프린팅': 1, '패디': 3, '패딩': 11, '패딩속': 1, '패딩안': 2, '패딩입으': 1, '패브': 1, '패션': 4, '패션후르츠': 1, '패스': 31, '패스트': 2, '패스트푸드': 2, '패쓰': 11, '패인': 3, '패일': 1, '패임': 1, '패취': 2, '패치': 13, '패키지': 58, '패키지디자인': 2, '패키징': 7, '패킹': 14, '패턴': 15, '패트': 2, '패트병': 6, '패티': 8, '팩때': 1, '팩를': 2, '팩안': 2, '팩알로': 1, '팩용': 1, '팩워트글': 1, '팩저': 1, '팩징': 1, '팩채': 1, '팩킹': 2, '팩트': 43, '팩티': 1, '팩틴': 1, '팩함': 1, '팬던트': 1, '팬디': 2, '팬매': 1, '팬미팅': 2, '팬슬': 1, '팬위': 1, '팬이긇히': 1, '팬체': 1, '팬츠': 12, '팬치': 2, '팬케이크': 13, '팬케익': 2, '팬티': 272, '팬틴': 8, '팹시제': 1, '팻치': 1, '팻트병': 1, '팽만감': 1, '팽이버섯': 9, '팽창': 1, '팽팽히': 2, '퍈티': 1, '퍙퍙하': 1, '퍼걱거리': 1, '퍼남음': 1, '퍼뜩': 1, '퍼머': 2, '퍼먹': 3, '퍼먹네': 1, '퍼먹는': 2, '퍼센트': 17, '퍼스': 3, '퍼스트': 8, '퍼엉': 1, '퍼온': 1, '퍼옴': 1, '퍼왔는': 1, '퍼은': 1, '퍼입니': 1, '퍼정': 2, '퍼줘': 1, '퍼즐': 1, '퍼터': 4, '퍼트': 1, '퍼팅': 2, '퍼팅감': 1, '퍼팅거리': 1, '퍼팩트': 1, '퍼펙': 1, '퍼펙션': 1, '퍼펙스': 1, '퍼펙트': 28, '퍼포먼스': 2, '퍼품삼푸': 1, '퍼퓸': 28, '퍼프': 31, '퍼프소매': 1, '퍼프입니': 1, '퍼프중': 1, '퍼플': 22, '퍼플제이': 5, '퍽퍽': 106, '퍽퍽살': 5, '퍽퍽퍽퍽': 1, '퍽퍽함': 9, '퍽퍽해': 11, '퍽퍽해짐': 1, '펀리': 1, '펀안해': 1, '펄감': 1, '펄럭': 2, '펄프': 4, '펌매직': 1, '펌웨어': 1, '펌프': 108, '펌핌해': 1, '펌핑': 57, '펌핑기': 2, '펌핑되는': 1, '펌핑시': 1, '펌핑식': 1, '펌핑용': 1, '펌핑용기': 2, '펌핑이': 1, '펌핑타입': 2, '펌핑하': 6, '펌핑할때': 4, '펌핑해': 13, '펌핑했을때': 2, '펌핑형': 8, '펌핑형태': 2, '펌하': 1, '펌헤어': 1, '펑상추': 1, '펑소': 1, '펑소리': 3, '펑크': 2, '펑퍼짐': 2, '펑펑': 4, '펑핌': 1, '펑핑': 1, '펑하': 2, '페놀': 1, '페닐': 1, '페달': 30, '페라리': 2, '페레로로쉐': 4, '페로몬': 1, '페루': 5, '페르몬향': 1, '페리': 1, '페브리즈': 8, '페셔': 1, '페셔널': 5, '페션': 1, '페스트리': 1, '페어': 21, '페이': 8, '페이도': 1, '페이스': 23, '페이지': 63, '페이트': 1, '페이퍼': 2, '페인': 14, '페인터': 1, '페인트': 18, '페인팅': 1, '페키지': 1, '페키지리뉴얼': 1, '페트': 11, '페트라': 1, '페트롤': 1, '페트병': 21, '페퍼': 14, '페퍼로니': 1, '페퍼론치노': 1, '페퍼를택': 1, '페페로니': 1, '펙틴': 4, '펜넬': 1, '펜넬마': 1, '펜션': 9, '펜스': 3, '펜심': 2, '펜촉': 3, '펜타': 1, '펜티': 1, '펜틴': 2, '펜팩': 1, '펜홀딩': 1, '펩시': 77, '펩시콜라': 6, '펩콜': 2, '펩콜라': 2, '펩타': 2, '펩타이드': 7, '펫드': 1, '펫트': 2, '펫트병': 2, '펭귄': 2, '편강': 1, '편견': 16, '편김': 1, '편도': 12, '편도선': 2, '편도염': 1, '편두통': 3, '편리': 28, '편릿합니': 1, '편배': 1, '편백': 2, '편법': 2, '편선': 1, '편성': 1, '편식': 8, '편안': 7, '편안함': 18, '편의': 17, '편의점': 90, '편이': 681, '편임': 14, '편입': 129, '편주': 1, '편지': 2, '편집': 9, '편차': 3, '편평': 1, '편햇': 1, '편행': 1, '편향': 1, '편흐안하': 1, '폇다': 1, '평가': 83, '평균': 44, '평길': 1, '평끝': 1, '평남': 6, '평늘': 1, '평담터': 1, '평량': 10, '평론': 1, '평맛': 1, '평면': 3, '평몇': 1, '평무': 2, '평밥': 1, '평범': 3, '평보': 37, '평사': 2, '평상': 3, '평상복': 3, '평상시': 26, '평생': 28, '평세': 1, '평소': 502, '평수': 1, '평시': 1, '평쌀': 1, '평안': 4, '평앞': 1, '평유': 1, '평의': 1, '평이': 194, '평인': 1, '평일': 12, '평임': 1, '평재': 2, '평저': 3, '평점': 26, '평좀': 1, '평주': 1, '평준화': 3, '평줄': 1, '평지': 1, '평집': 1, '평첫': 1, '평타': 12, '평탄': 2, '평택시': 1, '평판': 1, '평평': 1, '평행': 1, '평형': 2, '평화': 1, '폐가': 2, '폐경기': 1, '폐기': 24, '폐기물': 2, '폐달': 1, '폐방': 1, '폐암': 1, '폐지': 1, '폐활량': 1, '포고': 1, '포근포근': 1, '포글포글': 1, '포기': 78, '포대': 13, '포대자루': 1, '포도': 69, '포도당': 6, '포도주': 1, '포동': 1, '포동포동': 1, '포럼': 1, '포레스트': 7, '포로': 7, '포르자': 1, '포르투갈': 1, '포리': 1, '포린': 2, '포마드': 4, '포만': 44, '포맨': 8, '포맷': 6, '포머스': 1, '포메': 1, '포멧': 4, '포물선': 1, '포밍': 4, '포뷰트': 1, '포사': 1, '포산': 1, '포션': 1, '포션값': 1, '포쉐린타일': 1, '포스': 26, '포스터': 1, '포스트': 2, '포스팅': 1, '포식': 2, '포어': 5, '포유': 1, '포의': 1, '포인트': 79, '포장': 1224, '포장재': 9, '포정': 1, '포지션': 1, '포진': 1, '포징': 1, '포징괴정': 1, '포차': 1, '포천시': 2, '포카칩': 1, '포켓': 10, '포켓몬': 1, '포코': 1, '포크': 34, '포터': 2, '포터블': 2, '포테': 1, '포테이토': 1, '포토': 1, '포토샵': 1, '포트': 72, '포티': 1, '포포': 4, '포픽서': 1, '포함': 156, '포화': 6, '포화상태': 1, '포화지방': 15, '포화지방산': 3, '폭닥': 1, '폭닥폭닥': 1, '폭도': 4, '폭등': 1, '폭리': 1, '폭망': 5, '폭발': 17, '폭삭': 1, '폭쉰': 1, '폭신': 2, '폭신폭신함': 1, '폭신햐': 1, '폭싹': 1, '폭염': 6, '폭우': 3, '폭주': 1, '폭탄': 10, '폭팔': 1, '폭포': 1, '폭포수': 2, '폭폭': 2, '폭풍': 24, '폭하': 1, '폰기': 1, '폰살때': 1, '폰트': 1, '폴더': 3, '폴데': 1, '폴드': 2, '폴드들': 1, '폴드폰': 1, '폴딩': 8, '폴딩카트': 1, '폴때': 1, '폴라': 17, '폴란드': 1, '폴러를집': 1, '폴레': 1, '폴로': 2, '폴리': 21, '폴리머': 1, '폴리스': 1, '폴리에스터': 8, '폴리에스테르': 2, '폴리에틸렌': 2, '폴리우레탄': 5, '폴리코사놀': 1, '폴리페놀': 8, '폴리프로필렌': 1, '폴폴': 1, '폴폴나': 1, '폴폴저': 1, '폴폴폴': 1, '폼룰러': 1, '폼미첬쥬': 1, '폼염': 1, '폼임': 1, '폼클렌저': 1, '폼클렌져': 1, '폼클렌징': 85, '폼클렌징이딱': 1, '폼클렌징입니': 1, '폼클렌징폼': 1, '폼클썻는데': 1, '폼텍스지': 1, '폼핑하': 1, '퐁당': 6, '퐁듀': 1, '퐁실퐁실': 1, '퐁퐁': 4, '퐁퐁물': 2, '퐁퐁없': 1, '퐈이팅': 1, '표고': 2, '표고버섯': 6, '표기': 93, '표나': 2, '표눈': 1, '표면': 69, '표본': 1, '표시': 93, '표장': 1, '표정': 7, '표좀': 1, '표준': 7, '표지': 6, '표피': 1, '표현': 74, '푸가지': 1, '푸네': 2, '푸드': 45, '푸딩': 7, '푸라면': 1, '푸란': 1, '푸룬': 2, '푸르스름': 1, '푸른': 7, '푸른빛': 2, '푸른색': 5, '푸마': 1, '푸마르산': 1, '푸만': 1, '푸쉬업': 6, '푸시': 5, '푸시업': 1, '푸실리': 1, '푸욱': 1, '푸지': 1, '푸하하하': 1, '푹데': 1, '푹신': 1, '푹욱': 1, '푼걸': 1, '푼더': 1, '푼돈': 1, '풀기': 5, '풀다': 1, '풀때': 1, '풀라': 1, '풀림': 10, '풀맛': 1, '풀무원': 33, '풀밭': 2, '풀셋': 3, '풀숲': 1, '풀업': 8, '풀업바': 2, '풀용': 1, '풀이': 12, '풀잎': 4, '풀충': 1, '풀토': 3, '풀트': 1, '풀향': 5, '품격': 6, '품귀': 3, '품류': 1, '품명': 10, '품목': 30, '품바': 1, '품번': 1, '품사': 6, '품성': 2, '품위': 4, '품일': 2, '품절': 121, '품종': 17, '품질': 472, '품택': 1, '품평': 23, '풋내': 5, '풋발용': 1, '풋살': 4, '풍경': 2, '풍구': 1, '풍기': 6, '풍기면': 1, '풍도': 1, '풍량': 1, '풍력': 1, '풍부': 10, '풍선껌': 4, '풍속': 2, '풍엽': 1, '풍요': 4, '풍요롭': 1, '풍자': 1, '풍파': 1, '퓨레': 1, '퓨례': 1, '퓨리티': 1, '퓨마': 1, '퓨어': 13, '퓨저': 5, '퓨전': 9, '퓨즈': 1, '프라': 35, '프라스': 14, '프라이': 19, '프라이드': 1, '프라이머': 3, '프라이버시': 3, '프라이어': 59, '프라이팬': 93, '프라임': 6, '프락토': 2, '프랑스': 24, '프랑스어': 1, '프랑스전': 1, '프래': 4, '프랙스': 1, '프랜차이즈': 4, '프런트': 1, '프레': 186, '프레스': 2, '프레스코': 3, '프레스티지': 1, '프레임': 75, '프레지': 15, '프레지던트': 1, '프렌': 2, '프렌치': 17, '프렌치토스트': 5, '프로': 137, '프로그램': 26, '프로도': 2, '프로모션': 1, '프로바이오틱': 4, '프로바이오틱스': 29, '프로세스': 1, '프로젝터': 3, '프로젝트': 1, '프로판': 1, '프로펠러': 2, '프로폴리스': 23, '프로필': 4, '프로필렌': 1, '프로필사진': 1, '프론트': 2, '프루': 1, '프루티': 1, '프루티향': 1, '프루프': 6, '프룻': 1, '프리': 65, '프리도스': 1, '프리랜서': 1, '프리미어': 1, '프리미엄': 42, '프리바이오틱스': 10, '프리사': 1, '프리즈': 1, '프리지아': 2, '프리타': 1, '프린': 1, '프린세스': 1, '프린스': 5, '프린터': 8, '프린트': 12, '프린팅': 11, '프릴': 4, '프림': 6, '프맛': 2, '프맥': 1, '프시': 1, '프옵웨': 2, '프티': 1, '픈반': 1, '플라보노이드': 1, '플라스틱': 250, '플라스틱병': 1, '플라시보': 5, '플라워': 7, '플래그': 1, '플래시': 1, '플래시백': 1, '플랜': 1, '플랫': 7, '플랭크': 5, '플러': 1, '플러그': 3, '플러스': 40, '플레이': 16, '플레이어': 6, '플레인': 2, '플렉스': 4, '플로': 9, '플로러향': 1, '플로리다': 2, '플로우': 7, '플루': 10, '플리': 2, '플린트': 3, '플립': 19, '플미': 1, '플사': 1, '플스': 7, '픔절': 1, '피각': 1, '피검': 1, '피겨': 1, '피고': 9, '피곤': 11, '피나': 5, '피남': 1, '피넛': 3, '피니쉬': 2, '피닝디핑': 1, '피단': 1, '피도': 1, '피드백': 2, '피라미드': 1, '피로': 113, '피롤': 2, '피마자': 2, '피맛': 1, '피망': 4, '피멍': 2, '피복': 1, '피부': 2121, '피부관리': 20, '피부병': 3, '피부색': 9, '피부염': 9, '피부질환': 2, '피뷰': 1, '피상': 1, '피셜': 1, '피손': 1, '피쉬': 16, '피스': 29, '피시': 2, '피시방': 3, '피씨': 2, '피아노': 2, '피안': 2, '피어': 2, '피어싱': 2, '피임': 1, '피자': 77, '피자치즈': 2, '피자토핑': 1, '피좀': 1, '피지': 54, '피지량': 1, '피치': 19, '피칭': 2, '피칭때': 1, '피카': 2, '피칸': 9, '피케': 2, '피콜': 2, '피콧': 1, '피콧밴드': 1, '피크': 2, '피크닉': 21, '피클': 11, '피토': 1, '피톤': 2, '피트': 6, '피트니스': 3, '피티': 3, '피티병': 1, '피페린': 1, '피폐': 1, '피하': 19, '피해': 38, '피해자': 4, '픽서': 8, '픽셀': 1, '픽스': 5, '픽싱': 1, '픽앤': 1, '픽업': 1, '픽착용감': 1, '픽참고': 1, '픽픽': 3, '픽하': 1, '픽했구': 1, '핀쪽': 1, '핀침': 1, '필기': 6, '필기구': 1, '필기체': 1, '필독': 4, '필드': 11, '필때': 3, '필라': 2, '필라델피아': 7, '필라테스': 10, '필러': 2, '필레': 1, '필로': 2, '필름': 52, '필리핀': 7, '필림': 2, '필립스': 61, '필링': 36, '필뷔': 1, '필살기': 1, '필수': 263, '필수품': 42, '필심': 2, '필압': 4, '필요': 215, '필요성': 13, '필요시': 7, '필욘': 2, '필자': 3, '필터': 103, '필템': 2, '필히': 6, '핏감': 4, '핏기': 4, '핏덧': 1, '핏도좋': 1, '핏되': 4, '핏물': 21, '핏물빼': 2, '핏물빼거': 1, '핏물빼고잘': 1, '핏물빼기': 1, '핏물짝': 1, '핏불': 1, '핏어': 1, '핏예쁨': 1, '핏이': 1, '핏이쁘': 1, '핏입니': 1, '핏줄': 1, '핏하': 1, '핑갈': 7, '핑거': 2, '핑거푸드': 1, '핑계': 3, '핑꾸': 1, '핑예': 2, '핑쿠': 1, '핑쿠색깔': 1, '핑크': 169, '핑크레이디': 1, '핑크색': 32, '핑크퐁': 1, '핑키': 1, '핑해': 1, '핑휴': 1, '하강': 2, '하겐': 2, '하겟': 1, '하겟슴다': 1, '하교': 3, '하그': 1, '하급': 6, '하나': 1747, '하나고': 2, '하나라': 10, '하나로': 79, '하나로마트': 2, '하나요': 36, '하나피': 1, '하내': 2, '하늘': 33, '하늘나라': 1, '하늘빛': 2, '하늘색': 12, '하니': 226, '하니아': 1, '하니웅': 1, '하단': 45, '하달': 3, '하드': 29, '하드드라이브': 1, '하드디스크': 2, '하든': 5, '하디': 5, '하라': 30, '하란': 4, '하랍니': 1, '하래': 3, '하렵니다남': 1, '하루': 891, '하루나': 5, '하루아침': 3, '하루하루': 10, '하룻밤': 5, '하리': 15, '하리보': 1, '하림': 68, '하마': 2, '하모니': 1, '하문': 1, '하물며': 1, '하복': 4, '하복부': 1, '하부': 5, '하비': 5, '하사': 1, '하산': 1, '하산시': 1, '하서': 1, '하셧구': 1, '하셧으': 1, '하셰': 1, '하소연': 1, '하수': 2, '하실슈': 1, '하씨': 1, '하안': 1, '하앟': 1, '하야': 2, '하얀색': 31, '하얂': 1, '하양': 1, '하양색': 1, '하여튼': 9, '하연': 1, '하와이': 2, '하용': 1, '하우스': 10, '하우젠': 1, '하운': 1, '하울링': 2, '하원': 5, '하위': 2, '하위호환': 2, '하의': 35, '하의도': 1, '하이': 19, '하이닉스': 2, '하이라이스': 1, '하이라이트': 10, '하이마트': 1, '하이얼': 3, '하이웨이': 1, '하이위스트': 1, '하이킹': 1, '하이트진로': 2, '하인': 2, '하자': 98, '하장': 1, '하절': 3, '하제': 1, '하죠잉': 1, '하중': 8, '하지맙시': 1, '하지정맥류': 1, '하진': 26, '하차': 1, '하천': 1, '하체': 28, '하키': 1, '하트': 5, '하품': 5, '하필': 11, '하하': 18, '하해': 1, '하향': 3, '학교': 67, '학교행사': 1, '학구': 1, '학기': 2, '학년': 33, '학생': 23, '학술지': 1, '학습': 8, '학심': 1, '학원': 27, '학적': 2, '학창시절': 2, '한가운데': 3, '한가지': 64, '한갓': 1, '한강': 7, '한게임': 1, '한겨울': 27, '한결': 25, '한경희': 1, '한계': 18, '한과': 1, '한곽': 1, '한국': 53, '한국말': 2, '한국사': 1, '한국어': 3, '한국영': 1, '한국인': 18, '한글': 15, '한기': 1, '한깍': 1, '한끗차': 1, '한나': 1, '한나절': 2, '한눈': 12, '한다해': 4, '한단': 5, '한당': 1, '한데얜': 1, '한도': 6, '한동': 2, '한딜': 1, '한라': 1, '한라봉': 5, '한라산': 4, '한란': 12, '한마디': 24, '한마음': 2, '한몫': 7, '한문': 1, '한뭉텅': 1, '한버': 1, '한번': 1578, '한복': 16, '한산': 2, '한살림': 1, '한살이': 1, '한성': 4, '한성은': 1, '한소리': 3, '한솥': 4, '한수': 5, '한순간': 4, '한술': 1, '한숨': 5, '한스': 2, '한시': 4, '한시름': 2, '한식': 6, '한안': 2, '한약': 3, '한약재': 1, '한양': 3, '한여름': 27, '한영': 1, '한우': 50, '한우물': 1, '한웅': 3, '한원': 1, '한의원': 5, '한일': 9, '한일전': 4, '한자': 2, '한자리': 5, '한잔': 128, '한장': 38, '한재': 1, '한적': 17, '한정': 5, '한족': 2, '한주': 1, '한지': 186, '한진택배': 1, '한쪽': 155, '한참': 87, '한창': 11, '한철': 23, '한층': 16, '한치': 1, '한칫수': 5, '한컴': 1, '한컴오피스': 1, '한콧': 2, '한탄': 1, '한텐': 35, '한파': 4, '한판': 16, '한판만': 1, '한편': 84, '한해': 13, '한해살이풀': 1, '할걸그랫': 1, '할껀': 1, '할껀가': 1, '할껀데': 1, '할껄': 8, '할껍니': 1, '할껭': 1, '할때엉킴': 1, '할떄': 3, '할떈': 1, '할라피뇨': 1, '할랬': 3, '할런': 2, '할로': 4, '할로우': 1, '할로윈': 4, '할로윈데이': 1, '할리': 2, '할마': 1, '할머니': 30, '할부': 12, '할아버지': 8, '할인': 282, '할필욘': 1, '함곱슬': 1, '함눈': 1, '함달': 1, '함덕': 1, '함돈': 1, '함돠': 1, '함라면': 1, '함량': 187, '함물': 2, '함바': 1, '함박눈': 2, '함병옆': 1, '함보': 1, '함부로': 4, '함소': 9, '함수': 1, '함스판': 1, '함안': 1, '함옷위': 1, '함유': 169, '함유량': 14, '함일': 1, '함재': 1, '함저': 1, '함정': 5, '함주': 1, '함집': 1, '함차': 1, '함초': 10, '함통': 1, '함팔': 1, '함포': 2, '함풍': 1, '함함': 1, '함향': 1, '함흥차사': 1, '합격': 25, '합계': 1, '합니닼': 1, '합니돵돈': 1, '합당': 1, '합동': 1, '합량': 1, '합류': 2, '합리': 49, '합법': 2, '합산': 1, '합선': 1, '합성': 39, '합성섬유': 2, '합성수지': 1, '합숙': 1, '합작': 1, '합체해': 1, '합축': 1, '합치': 2, '합판': 34, '합포': 1, '합피': 1, '핫것': 1, '핫도그': 4, '핫딜': 1, '핫딜가': 1, '핫딜뜰때': 1, '핫바': 1, '핫소스': 2, '핫스팟': 2, '핫초코': 7, '핫케이크': 17, '핫케익': 2, '핫트랙스': 2, '핫팩': 2, '핫핑크': 1, '항공': 4, '항공기': 1, '항균': 2, '항목': 3, '항문': 1, '항산화': 39, '항산화물질': 2, '항산화작용': 3, '항산화제': 4, '항상': 613, '항생물질': 1, '항생제': 103, '항시': 1, '항아리': 4, '항암': 7, '항염': 2, '항의': 6, '항정': 1, '항정살': 4, '항진': 2, '항체': 1, '항하': 1, '해감': 1, '해결': 127, '해결사': 2, '해골': 1, '해놧는데': 1, '해달': 1, '해당': 74, '해도': 323, '해독': 10, '해동': 141, '해드부분': 2, '해드셋': 2, '해드폰': 1, '해또': 1, '해루': 1, '해리': 1, '해머': 1, '해먹': 162, '해명': 1, '해묵': 1, '해물': 19, '해물전': 2, '해물찜': 2, '해물파전': 4, '해뭐해': 1, '해바': 1, '해바라기': 31, '해바라기씨': 20, '해발': 2, '해방': 2, '해변': 2, '해병대': 1, '해볼렵니': 1, '해봣': 1, '해봣는데': 1, '해사': 3, '해산물': 12, '해삼': 4, '해삼이': 1, '해상도': 4, '해석': 2, '해성': 1, '해소': 30, '해수': 5, '해수욕': 1, '해수욕장': 1, '해심': 1, '해썹': 2, '해안': 2, '해안가': 1, '해얄': 2, '해양': 2, '해양수산부': 1, '해양심층수': 4, '해외': 46, '해외여행': 16, '해요': 2, '해욤': 2, '해유': 1, '해이': 1, '해자': 1, '해장': 6, '해장국': 1, '해전': 2, '해정': 1, '해제': 9, '해조류': 2, '해주': 10, '해주시': 40, '해줄껍니': 1, '해쥤': 1, '해쥬구여웍': 1, '해지': 27, '해진': 6, '해짐': 1, '해체': 9, '해충': 1, '해치': 6, '해커': 1, '해킹': 1, '해태': 3, '해태제과': 9, '해표': 41, '해풍': 2, '해피': 12, '해피밀': 1, '해피아워': 1, '해하': 1, '해해': 3, '핵사': 2, '핵산': 2, '핵심': 18, '핵폐기물': 1, '핵폭': 1, '핵폭탄': 1, '핸드': 45, '핸드백': 1, '핸드불렌더': 1, '핸드폰': 113, '핸드픈': 1, '핸들': 14, '핸들바': 2, '핸싱앰플': 1, '핸즈': 2, '핸펀': 1, '핸펀들': 1, '핸폰': 5, '핸폰없어': 1, '핼쓰': 1, '햄굽': 1, '햄등': 1, '햄버거': 22, '햄버그': 2, '햄버그스테이크': 1, '햄볶': 2, '햄스트링': 1, '햅니': 1, '햅쌀': 44, '햅쌉': 1, '햅피': 1, '햇기': 1, '햇님': 1, '햇더랫는데': 1, '햇던': 5, '햇반': 44, '햇밤': 2, '햇밥': 1, '햇볓': 1, '햇볕': 17, '햇빛': 75, '햇살': 8, '햇습': 1, '햇습니': 6, '햇쌀': 2, '햇으': 1, '햇음': 4, '했느데': 1, '했늣': 1, '했더랬': 2, '했슴': 3, '했슴다': 1, '했슴당담': 1, '했슴돠': 1, '행거': 5, '행구': 1, '행군': 2, '행굴때': 2, '행굼회': 1, '행궈': 4, '행궈내': 1, '행궈낸뒤': 1, '행궈보': 1, '행궈줍니': 1, '행동': 4, '행벅': 3, '행복': 32, '행복감': 1, '행사': 53, '행시': 5, '행여': 1, '행온': 1, '행운': 4, '행위': 5, '행정지도': 1, '행주': 7, '행태': 1, '행텐': 1, '햋빛': 1, '햏으': 1, '햐구': 1, '햡니': 1, '햤어': 1, '향가': 3, '향과': 1, '향균': 5, '향기': 125, '향기도': 22, '향나': 4, '향남': 1, '향등': 1, '향때메': 1, '향땜': 2, '향로봉': 1, '향료': 16, '향무향': 1, '향비': 1, '향사': 2, '향상': 26, '향수': 155, '향수병': 2, '향순': 1, '향신료': 8, '향약': 2, '향얘': 1, '향유': 1, '향음': 1, '향임': 4, '향진': 1, '향차': 1, '향초': 1, '향퍽퍽': 1, '향합': 1, '향향': 1, '향후': 2, '허가': 1, '허겁지겁': 1, '허공': 4, '허구': 1, '허그': 1, '허기': 2, '허니': 9, '허니버터칩': 10, '허닭': 2, '허둥지둥': 1, '허락': 2, '허름': 3, '허리': 390, '허리띠': 29, '허리밴딩': 6, '허리쫀쫀': 1, '허리춤': 3, '허물': 2, '허벅지': 116, '허브': 93, '허브쏠트': 1, '허브차': 3, '허비': 2, '허세': 1, '허술햠': 1, '허쉬': 4, '허쉬초콜릿': 1, '허심': 1, '허약': 2, '허얗': 1, '허옇': 4, '허옇게뜸': 1, '허옇습니': 1, '허용': 1, '허위': 3, '허접햐': 1, '허지만': 2, '허헣여자둘': 1, '헌혈': 3, '헐값': 2, '헐랭': 2, '헐렁': 1, '헐렁거리': 1, '헐렁거림': 1, '헐렁이': 2, '험담': 2, '헛개': 1, '헛개차': 2, '헛구역질': 2, '헛도': 5, '헛돌길': 1, '헛돌아': 1, '헛돌음': 1, '헛돔': 1, '헛돕니': 1, '헛배': 2, '헛웃음': 3, '헛일': 1, '헝겁': 1, '헝겊': 1, '헤까닥': 1, '헤깔려': 1, '헤너팩': 1, '헤더': 3, '헤드': 75, '헤드레스트': 1, '헤드셋': 56, '헤드폰': 11, '헤라': 22, '헤롱': 1, '헤르츠': 4, '헤맷어': 1, '헤메': 4, '헤멨어': 1, '헤모글로빈': 4, '헤비': 5, '헤어': 285, '헤어드라이어': 4, '헤어디자이너': 1, '헤어샵': 4, '헤어스타일': 7, '헤어스프레이': 6, '헤어컨디셔너': 1, '헤얼': 1, '헤이절넛': 1, '헤이즐넛': 17, '헤이즐럿': 1, '헤즐넛': 1, '헤지': 5, '헤진데': 1, '헤질': 1, '헤질지': 1, '헤퍼': 1, '헤프': 9, '헤허': 1, '헤헤': 3, '헬로': 13, '헬로모바일': 1, '헬로키티': 1, '헬리': 1, '헬린': 1, '헬맷': 1, '헬멧': 17, '헬스': 17, '헬스가방': 1, '헬스다닐돈': 1, '헬스복': 2, '헬스식단': 1, '헬스용': 1, '헬스장': 26, '헬스쟁': 1, '헬스짐': 1, '헬스하': 1, '헬스할': 2, '헬스할때': 1, '헬스해': 1, '헬시': 1, '헬쓰장': 1, '헬씨칸루': 1, '헬창': 1, '헬창들': 1, '헴철': 1, '헷반': 1, '헸었': 1, '헹거': 1, '헹거주': 1, '헹구': 26, '헹구게되': 1, '헹구고': 1, '헹구기': 2, '헹구긴': 1, '헹구는데': 5, '헹구던': 1, '헹구듯': 1, '헹구먼': 1, '헹구면': 1, '헹구어': 1, '헹군': 4, '헹군후': 1, '헹굴': 3, '헹굴때': 5, '헹굴땐': 2, '헹굼': 8, '헹굼시': 2, '헹궈': 32, '헹궈내': 6, '헹궈내는': 1, '헹궈내어': 1, '헹궈낸': 2, '헹궈냅니': 1, '헹궈냈': 1, '헹궈냈어': 1, '헹궈주': 3, '헹궈준': 1, '헹궈줍니': 1, '헹궈지며워시': 1, '헹궛는데': 1, '헹궜': 3, '헹궜어': 1, '헹귀내': 1, '헹그': 1, '헹복': 1, '헹주같은걸': 1, '헹팩': 1, '혀끝': 2, '혁띠': 1, '혁명': 8, '혁신': 1, '현관': 11, '현관문': 9, '현금': 2, '현기증': 1, '현대': 8, '현대인': 20, '현미': 64, '현상': 112, '현실': 8, '현이': 1, '현장': 14, '현재': 127, '현저': 6, '현지': 2, '현혹': 6, '혈관': 42, '혈당': 26, '혈도': 1, '혈반': 2, '혈색': 8, '혈색소': 1, '혈소판': 1, '혈압': 34, '혈액': 45, '혈액질환': 1, '혈육': 1, '혈전': 2, '혈점': 1, '혈중': 9, '혈증': 1, '혈행': 12, '혐오': 3, '협력': 3, '협소': 2, '협소해': 4, '협심증': 2, '협착': 2, '협찬': 10, '협탁': 6, '협탁퀸': 1, '협회': 2, '혓다': 1, '혓바닥': 2, '형광': 18, '형광등': 6, '형도': 12, '형사': 1, '형성': 35, '형식': 50, '형아': 3, '형언': 1, '형영': 1, '형임': 1, '형제': 16, '형태': 122, '형편': 16, '형평': 1, '형형색색': 1, '혜염': 2, '혜자': 15, '혜택': 12, '호가': 13, '호감': 4, '호강': 2, '호객': 1, '호갱': 1, '호구': 11, '호기': 2, '호기롭': 2, '호기심': 23, '호다닥': 1, '호더': 1, '호도': 5, '호두': 41, '호떡': 2, '호랑': 1, '호로': 15, '호르몬': 14, '호리': 1, '호면': 1, '호밀': 4, '호밀빵': 2, '호박': 42, '호보': 2, '호부': 1, '호분': 2, '호불호': 80, '호빵': 58, '호빵맨': 1, '호사': 1, '호소': 4, '호수': 7, '호스': 5, '호시탐탐': 1, '호안': 1, '호우': 1, '호웜톤': 1, '호응': 1, '호의': 2, '호인': 1, '호일': 30, '호임': 1, '호전': 5, '호정': 1, '호주': 46, '호주머니': 4, '호출': 2, '호캉스': 1, '호텔': 27, '호평': 4, '호프': 1, '호피': 1, '호한': 1, '호해': 2, '호호': 31, '호환': 24, '호환성': 2, '호환용': 2, '호흡': 8, '호흡기': 7, '혹사': 1, '혹시': 248, '혹여': 1, '혹자': 1, '혼돈': 3, '혼동': 4, '혼란': 3, '혼밥': 6, '혼밥러': 1, '혼방': 6, '혼선': 1, '혼술': 2, '혼술용': 1, '혼용': 5, '혼입': 3, '혼자': 245, '혼줄': 1, '혼탁': 1, '혼합': 64, '혼합물': 3, '혼합형': 4, '홀더': 13, '홀드': 3, '홀딩': 1, '홀딱': 2, '홀라당': 3, '홀랑': 2, '홀려': 3, '홀렸었나봐': 1, '홀로그램': 3, '홀리': 4, '홀릭됐는데싱싱도': 1, '홀린': 2, '홀머슬햄': 1, '홀빈': 5, '홀어머니': 1, '홀짝': 3, '홀쪽': 2, '홀컵': 1, '홀터': 1, '홈런': 26, '홈럼볼': 1, '홈로': 1, '홈보잆': 1, '홈쇼핑': 23, '홈웨어': 1, '홈좀': 1, '홈캉스할때': 1, '홈캠': 6, '홈키': 1, '홈트': 34, '홈트용': 2, '홈트하': 1, '홈트할거': 1, '홈트할때': 1, '홈트할수': 1, '홈페이지': 11, '홈플': 2, '홈플래닛': 2, '홈플러': 2, '홈플러스': 1, '홈피': 2, '홍두깨': 1, '홍루먹다': 1, '홍루이': 1, '홍루이젠': 3, '홍보': 15, '홍삼': 3, '홍색': 7, '홍수': 3, '홍어': 2, '홍조': 27, '홍차': 29, '홍초': 4, '홍콩': 1, '홍합': 1, '홍해': 1, '홍홍또': 1, '홑겹': 4, '화가': 70, '화강': 1, '화강암': 2, '화공': 2, '화구': 1, '화끈': 5, '화남': 3, '화남면': 1, '화낼': 1, '화농': 8, '화덕': 1, '화도': 2, '화로': 5, '화룡': 1, '화만': 1, '화면': 247, '화목': 2, '화병': 1, '화보': 3, '화분': 5, '화사': 6, '화산': 10, '화산암': 2, '화산폭발': 1, '화살': 1, '화살표': 4, '화상': 20, '화상통화': 1, '화상회의': 1, '화성': 3, '화성시': 1, '화소': 1, '화악': 4, '화약': 2, '화염': 2, '화요일': 14, '화욜': 1, '화운데이션': 1, '화원': 1, '화웨이': 1, '화이': 2, '화이트': 234, '화이트골드': 6, '화이트컬러': 1, '화이트헤드': 11, '화이팅': 9, '화장': 314, '화장실': 100, '화장전후': 1, '화장지': 1, '화장품': 245, '화제': 13, '화질': 106, '화차': 11, '화초': 1, '화풍': 1, '화학': 47, '화학물질': 1, '화학반응': 1, '화학조미료': 1, '화합물': 7, '화해': 14, '화확': 1, '화흡': 1, '확답': 2, '확대': 9, '확대경': 1, '확룰': 2, '확률': 12, '확보': 6, '확산': 1, '확신': 6, '확실': 17, '확연': 6, '확율': 1, '확인': 440, '확인가능': 4, '확장': 13, '확정': 9, '확진': 1, '확행': 2, '확현': 1, '환경': 87, '환경보호': 1, '환경부': 1, '환경오염': 5, '환경호르몬': 3, '환급': 2, '환기': 18, '환도': 4, '환불': 192, '환산': 1, '환상': 10, '환승': 1, '환율': 1, '환인': 1, '환자': 39, '환절기': 38, '환타': 9, '환풍기': 4, '환호성': 1, '활기': 2, '활동': 79, '활동량': 2, '활동할떄': 1, '활보': 1, '활성산소': 10, '활성탄': 1, '활성화': 11, '활약': 1, '활용': 173, '활용햐': 1, '활짝': 5, '홧팅': 1, '황감': 4, '황금': 14, '황금비율': 5, '황금색': 1, '황기': 1, '황달': 1, '황당': 13, '황도': 4, '황반변성': 1, '황보': 1, '황사': 2, '황산': 3, '황색': 5, '황성': 1, '황의조': 1, '황태': 1, '황토': 1, '황토색': 4, '홪장품': 1, '회감': 1, '회당': 1, '회로': 5, '회복': 49, '회복기': 1, '회분': 2, '회사': 245, '회상': 1, '회색': 61, '회손': 1, '회손안': 1, '회수': 15, '회식': 2, '회신': 2, '회용': 8, '회원': 24, '회을': 1, '회의': 8, '회의실': 1, '회장': 1, '회전': 50, '회전력': 1, '회정': 3, '회차': 5, '회춘': 1, '회피': 4, '회항': 1, '회화': 2, '획득': 2, '횐불': 1, '횐색': 1, '횟수': 11, '횡성': 3, '횡성군': 1, '횡재': 2, '횡제했어': 1, '횡한': 1, '횡해': 1, '효가': 1, '효겉': 1, '효과': 905, '효과음': 2, '효기': 1, '효녀': 1, '효능': 128, '효도': 8, '효로': 1, '효모': 7, '효소': 17, '효용': 1, '효율': 25, '효입': 1, '효자': 3, '후각': 7, '후기': 2429, '후끈': 1, '후년': 1, '후다닥': 11, '후닥': 2, '후닭': 1, '후대': 1, '후도': 1, '후두': 3, '후드': 24, '후땡': 1, '후뚜루': 1, '후라이드': 6, '후라이팬': 149, '후렌치': 1, '후론': 9, '후루꾸': 1, '후루루': 1, '후루룩': 2, '후루츠향이': 1, '후르': 4, '후리카케': 1, '후면': 3, '후물': 1, '후미': 2, '후반': 41, '후배': 1, '후보': 2, '후분': 2, '후불': 1, '후산': 1, '후삿': 1, '후세': 1, '후속': 1, '후숙': 8, '후숙하': 1, '후스': 1, '후시': 5, '후시딘': 1, '후식': 7, '후알': 1, '후원': 1, '후유증': 1, '후의': 8, '후잎': 1, '후자': 2, '후저': 1, '후주': 1, '후지': 5, '후진': 6, '후질': 2, '후천': 1, '후첫': 1, '후청후': 1, '후추': 95, '후츠': 1, '후쿠': 1, '후쿠시마': 2, '후크': 13, '후해': 1, '후호': 1, '후회': 215, '후훗': 2, '훅훅': 7, '훈련': 10, '훈연': 1, '훈제': 36, '훈제란': 1, '훌라후프': 1, '훌랄': 1, '훌러': 1, '훌러덩': 1, '훌렁': 1, '훌렁훌렁': 1, '훌륭': 4, '훌쩍': 9, '훔챠먹는': 1, '훗날': 2, '훤하': 1, '훤해': 1, '훤히': 3, '훨괜찮': 1, '훨신': 6, '훨씨': 1, '훨씩': 1, '훨이득': 1, '훨좋아': 1, '훨힌': 1, '훼까닥': 1, '훼손': 13, '훼이셜': 2, '훼이셜폼': 2, '휑하': 1, '휑할정도': 1, '휑함잠': 1, '휑해': 1, '휘뚜루': 7, '휘리익': 1, '휘발': 1, '휘발유': 5, '휘벼': 1, '휘었': 4, '휘었습': 1, '휘었어': 1, '휘었으': 1, '휘었음이것': 1, '휘저': 3, '휘쳥거리': 1, '휘프': 1, '휘핑': 11, '휘핑기': 1, '휘핑쳐': 1, '휘핑크림': 24, '휘핑하': 1, '휘핑할때': 1, '휘핑했더': 1, '휘회': 1, '휘휙': 1, '휙휙': 4, '휜건': 1, '휜색': 3, '휜히': 1, '휠거같아': 1, '휠까봐': 1, '휠라': 1, '휠레': 2, '휠부분': 1, '휠씬': 3, '휠씬좋': 1, '휩니': 2, '휩클렌징': 1, '휴가': 29, '휴게소': 2, '휴대': 150, '휴대폰': 64, '휴롬': 2, '휴무': 1, '휴식': 3, '휴일': 7, '휴재': 1, '휴지': 34, '휴지통': 4, '흉근': 1, '흉내': 4, '흉내내': 1, '흉터': 13, '흐느적': 1, '흐느적해': 1, '흐늘': 1, '흐늘흐': 1, '흐다닥': 1, '흐들흐들': 1, '흐름': 5, '흐릿': 3, '흐릿감': 1, '흐릿하': 1, '흐물': 9, '흐물거려': 2, '흐물거리': 5, '흐물거림': 1, '흐물렁': 1, '흐물텅물': 1, '흐물텅합니': 1, '흐물하': 1, '흐물흐물': 24, '흐믈흐믈': 1, '흐믓': 1, '흐미': 5, '흐엉': 1, '흐지부지': 2, '흐트러': 2, '흐트러져': 1, '흐트러지': 5, '흐트러진': 1, '흐트러짐': 1, '흐트러짐없': 1, '흑건': 1, '흑색': 9, '흑설탕': 10, '흑아': 1, '흑임자': 3, '흑자': 1, '흑조': 1, '흔녀': 1, '흔적': 51, '흙손': 3, '흙탕물': 2, '흙흙': 1, '흠닭': 1, '흠뻑': 5, '흠좀': 1, '흠집': 60, '흡사': 5, '흡수': 474, '흡스': 1, '흡연': 4, '흡입': 14, '흡족': 3, '흡착': 12, '흢수율': 1, '흢수할': 1, '흥건': 11, '흥분': 1, '흥이': 1, '흥해랏': 1, '희귀': 1, '희끗': 2, '희망': 6, '희망사항': 2, '희생': 1, '흰떡': 1, '흰밥': 6, '흰빛': 1, '흰색': 156, '흰자': 40, '흰핑': 1, '히곷': 1, '히끗히끗': 1, '히달고': 1, '히든싱어': 1, '히말라야': 22, '히스타민': 1, '히아루로닉': 1, '히알라룬': 1, '히알루': 4, '히알루로닉': 2, '히알루로산': 1, '히알루론': 3, '히알루론산': 44, '히터': 4, '히텍': 3, '히트': 13, '히트택': 1, '히팅': 1, '히팅건': 1, '히프': 1, '히피': 2, '히피펌': 1, '히히': 1, '히히히': 1, '힌거': 2, '힌건': 1, '힌것': 1, '힌번': 1, '힌색': 1, '힌수': 1, '힌시트위': 1, '힌옷': 1, '힌지': 2, '힐거': 1, '힐링': 8, '힐수': 1, '힐팩': 1, '힘글': 1, '힘껏': 5, '힘돈': 1, '힘안': 2, '힘좀': 1, '힘줄': 15, '힙내봅시': 1, '힙니': 1, '힙딥': 2, '힙라인': 1, '힙색': 2, '힙쌥': 1, '힙함': 1, '힙합': 3, '힛트': 1, '힛팅': 1}\n"
          ]
        }
      ],
      "source": [
        "print(x_train_cv.toarray()) # 각 단어의 리뷰별 등장 횟수. row: 리뷰, column: 단어\n",
        "print(x_train_cv.shape)\n",
        "word_list = cv.get_feature_names_out() # 단어 리스트\n",
        "count_list:np.ndarray = x_train_cv.toarray().sum(axis=0) # 각 단어의 빈도 리스트\n",
        "print(len(word_list))\n",
        "print(len(count_list))\n",
        "print(word_list[count_list.argsort()[::-1]][:30]) # 빈도수가 높은 단어 30개\n",
        "print(dict(zip(word_list, count_list))) # 단어별 빈도수 Dictonary"
      ]
    },
    {
      "cell_type": "code",
      "execution_count": 31,
      "metadata": {
        "id": "DKbT5ni19Otv"
      },
      "outputs": [],
      "source": [
        "# TF-IDF\n",
        "# TfidfVectorizer: 텍스트 데이터를 TF-IDF 행렬로 변환\n",
        "# TfidfTransformer: 기존에 계산된 TF (Term Frequency) 행렬을 TF-IDF 행렬로 변환\n",
        "\n",
        "from sklearn.feature_extraction.text import TfidfTransformer\n",
        "\n",
        "tfidf_transformer = TfidfTransformer()\n",
        "tfidf_transformer.fit(x_train_cv)\n",
        "x_train_tfidf = tfidf_transformer.transform(x_train_cv)\n",
        "x_valid_tfidf = tfidf_transformer.transform(x_valid_cv)\n",
        "x_test_tfidf = tfidf_transformer.transform(x_test_cv)"
      ]
    },
    {
      "cell_type": "code",
      "execution_count": 32,
      "metadata": {
        "colab": {
          "base_uri": "https://localhost:8080/"
        },
        "id": "iqEDOV3V9Otv",
        "outputId": "bc7999fc-2139-4c46-c1d4-967487fb46a8"
      },
      "outputs": [
        {
          "output_type": "stream",
          "name": "stdout",
          "text": [
            "(18000, 21231)\n",
            "\n",
            "BOW에서 단어의 중요도(0이 아닌 것만 출력)\n",
            "  (0, 1780)\t1\n",
            "  (0, 6962)\t1\n",
            "  (0, 7672)\t1\n",
            "  (0, 8983)\t1\n",
            "  (0, 13465)\t1\n",
            "  (0, 15628)\t1\n",
            "  (0, 15731)\t1\n",
            "  (0, 20173)\t1\n",
            "\n",
            "TF-IDF에서 단어의 중요도(0이 아닌 것만 출력)\n",
            "  (0, 20173)\t0.43929266129230987\n",
            "  (0, 15731)\t0.3790267726039549\n",
            "  (0, 15628)\t0.2929073903410587\n",
            "  (0, 13465)\t0.34142304229579146\n",
            "  (0, 8983)\t0.43929266129230987\n",
            "  (0, 7672)\t0.43929266129230987\n",
            "  (0, 6962)\t0.2359497417318541\n",
            "  (0, 1780)\t0.13916847740540203\n"
          ]
        }
      ],
      "source": [
        "print(x_train_tfidf.shape,end='\\n\\n') # (리뷰 개수, 단어 종류 개수)\n",
        "print('BOW에서 단어의 중요도(0이 아닌 것만 출력)')\n",
        "print(x_train_cv[0],end='\\n\\n')\n",
        "print('TF-IDF에서 단어의 중요도(0이 아닌 것만 출력)')\n",
        "print(x_train_tfidf[0])\n"
      ]
    },
    {
      "cell_type": "code",
      "execution_count": 33,
      "metadata": {
        "colab": {
          "base_uri": "https://localhost:8080/"
        },
        "id": "otMf9s2Z9Otv",
        "outputId": "707c8a90-72a8-496c-ac73-5c129f7857d7"
      },
      "outputs": [
        {
          "output_type": "stream",
          "name": "stdout",
          "text": [
            "\n",
            "==============================\n",
            ">>>> accuracy-score: 0.787\n",
            ">>>> precision-score: 0.7864617396991498\n",
            ">>>> recall-score: 0.7937293729372937\n",
            ">>>> f1-score: 0.7900788436268068\n",
            "\n",
            ">>>> Params: {'C': 1, 'max_iter': 100}\n",
            "==============================\n",
            "\n",
            ">>>> Best Score Update: 0.787\n",
            ">>>> Best Params Update: {'C': 1, 'max_iter': 100}\n",
            "==============================\n",
            ">>>> Best Score: 0.787\n",
            ">>>> Best Params: {'C': 1, 'max_iter': 100}\n"
          ]
        }
      ],
      "source": [
        "# 로지스틱 회귀\n",
        "\n",
        "from sklearn.metrics import accuracy_score, precision_score, recall_score, f1_score\n",
        "from sklearn.linear_model import LogisticRegression\n",
        "\n",
        "params = {'C': [1], 'max_iter': [100]}\n",
        "best_params = {}\n",
        "best_score = 0\n",
        "\n",
        "for C in params['C']:\n",
        "    for max_iter in params['max_iter']:\n",
        "        lr = LogisticRegression(C=C, max_iter=max_iter, random_state=1353)\n",
        "        lr.fit(x_train_tfidf, train_y)\n",
        "        pred_y = lr.predict(x_valid_tfidf)\n",
        "        score = accuracy_score(valid_y, pred_y)\n",
        "\n",
        "        print()\n",
        "        print(\"=\" * 30)\n",
        "        print(\">>>> accuracy-score: {}\".format(accuracy_score(valid_y, pred_y)))\n",
        "        print(\">>>> precision-score: {}\".format(precision_score(valid_y, pred_y)))\n",
        "        print(\">>>> recall-score: {}\".format(recall_score(valid_y, pred_y)))\n",
        "        print(\">>>> f1-score: {}\".format(f1_score(valid_y, pred_y)))\n",
        "        print()\n",
        "        print(\">>>> Params: {}\".format({ 'C': C, 'max_iter': max_iter}))\n",
        "        print(\"=\" * 30)\n",
        "        print()\n",
        "\n",
        "        if score > best_score:\n",
        "            best_score = score\n",
        "            best_params['C'] = C\n",
        "            best_params['max_iter'] = max_iter\n",
        "            print(\">>>> Best Score Update: {}\".format(best_score))\n",
        "            print(\">>>> Best Params Update: {}\".format(best_params))\n",
        "\n",
        "\n",
        "\n",
        "\n",
        "print(\"=\" * 30)\n",
        "print(\">>>> Best Score: {}\".format(best_score))\n",
        "print(\">>>> Best Params: {}\".format(best_params))\n",
        "\n",
        "\n"
      ]
    },
    {
      "cell_type": "code",
      "execution_count": 34,
      "metadata": {
        "colab": {
          "base_uri": "https://localhost:8080/"
        },
        "id": "ZF7gAkXt9Otv",
        "outputId": "f36fc603-5298-46ca-c4ce-110738c929e9"
      },
      "outputs": [
        {
          "output_type": "stream",
          "name": "stdout",
          "text": [
            ">>>> accuracy-score: 0.7856666666666666\n",
            ">>>> precision-score: 0.7912125340599455\n",
            ">>>> recall-score: 0.7753671562082777\n",
            ">>>> f1-score: 0.7832097100472015\n"
          ]
        },
        {
          "output_type": "execute_result",
          "data": {
            "text/plain": [
              "array([[2391,  613],\n",
              "       [ 673, 2323]])"
            ]
          },
          "metadata": {},
          "execution_count": 34
        }
      ],
      "source": [
        "# best_params\n",
        "# test set으로 평가\n",
        "from sklearn.metrics import confusion_matrix\n",
        "\n",
        "lr = LogisticRegression(**best_params, random_state=1353)\n",
        "lr.fit(x_train_tfidf, train_y)\n",
        "pred_y = lr.predict(x_test_tfidf)\n",
        "print(\">>>> accuracy-score: {}\".format(accuracy_score(test_y, pred_y)))\n",
        "print(\">>>> precision-score: {}\".format(precision_score(test_y, pred_y)))\n",
        "print(\">>>> recall-score: {}\".format(recall_score(test_y, pred_y)))\n",
        "print(\">>>> f1-score: {}\".format(f1_score(test_y, pred_y)))\n",
        "\n",
        "confusion_matrix(test_y, pred_y)"
      ]
    },
    {
      "cell_type": "code",
      "execution_count": 35,
      "metadata": {
        "colab": {
          "base_uri": "https://localhost:8080/"
        },
        "id": "z_dId3Dd9Otw",
        "outputId": "9c005d6c-206b-43da-8fc8-57d7407f6143"
      },
      "outputs": [
        {
          "output_type": "stream",
          "name": "stdout",
          "text": [
            "0.8 확률로 부정 리뷰입니다.\n"
          ]
        }
      ],
      "source": [
        "text = '내가 웬만하면 리뷰 안쓰려했는데 이건 좀 선넘은거 아닌가요? 진짜 열받네 ㄹㅇ'\n",
        "text_cv = cv.transform([text])\n",
        "text_tfidf = tfidf_transformer.transform(text_cv)\n",
        "pred = lr.predict(text_tfidf)[0]\n",
        "predict_proba = lr.predict_proba(text_tfidf)[0]\n",
        "print(f\"{round(predict_proba[0], 2)} 확률로 부정 리뷰입니다.\" if pred == 0 else f\"{round(predict_proba[1], 2)} 확률로 긍정 리뷰입니다.\")"
      ]
    },
    {
      "cell_type": "code",
      "execution_count": 36,
      "metadata": {
        "colab": {
          "base_uri": "https://localhost:8080/"
        },
        "id": "rKGDzwgK9Otw",
        "outputId": "b80d66ab-cc15-47e1-9683-0642ce435856"
      },
      "outputs": [
        {
          "output_type": "stream",
          "name": "stdout",
          "text": [
            "Requirement already satisfied: seaborn in /usr/local/lib/python3.10/dist-packages (0.12.2)\n",
            "Requirement already satisfied: matplotlib in /usr/local/lib/python3.10/dist-packages (3.7.1)\n",
            "Requirement already satisfied: wordcloud in /usr/local/lib/python3.10/dist-packages (1.9.2)\n",
            "Requirement already satisfied: numpy!=1.24.0,>=1.17 in /usr/local/lib/python3.10/dist-packages (from seaborn) (1.23.5)\n",
            "Requirement already satisfied: pandas>=0.25 in /usr/local/lib/python3.10/dist-packages (from seaborn) (1.5.3)\n",
            "Requirement already satisfied: contourpy>=1.0.1 in /usr/local/lib/python3.10/dist-packages (from matplotlib) (1.2.0)\n",
            "Requirement already satisfied: cycler>=0.10 in /usr/local/lib/python3.10/dist-packages (from matplotlib) (0.12.1)\n",
            "Requirement already satisfied: fonttools>=4.22.0 in /usr/local/lib/python3.10/dist-packages (from matplotlib) (4.45.1)\n",
            "Requirement already satisfied: kiwisolver>=1.0.1 in /usr/local/lib/python3.10/dist-packages (from matplotlib) (1.4.5)\n",
            "Requirement already satisfied: packaging>=20.0 in /usr/local/lib/python3.10/dist-packages (from matplotlib) (23.2)\n",
            "Requirement already satisfied: pillow>=6.2.0 in /usr/local/lib/python3.10/dist-packages (from matplotlib) (9.4.0)\n",
            "Requirement already satisfied: pyparsing>=2.3.1 in /usr/local/lib/python3.10/dist-packages (from matplotlib) (3.1.1)\n",
            "Requirement already satisfied: python-dateutil>=2.7 in /usr/local/lib/python3.10/dist-packages (from matplotlib) (2.8.2)\n",
            "Requirement already satisfied: pytz>=2020.1 in /usr/local/lib/python3.10/dist-packages (from pandas>=0.25->seaborn) (2023.3.post1)\n",
            "Requirement already satisfied: six>=1.5 in /usr/local/lib/python3.10/dist-packages (from python-dateutil>=2.7->matplotlib) (1.16.0)\n"
          ]
        }
      ],
      "source": [
        "!pip install seaborn matplotlib wordcloud\n"
      ]
    },
    {
      "cell_type": "code",
      "source": [
        "\n",
        "!sudo apt-get install -y fonts-nanum\n",
        "!sudo fc-cache -fv\n",
        "!rm ~/.cache/matplotlib -rf\n"
      ],
      "metadata": {
        "colab": {
          "base_uri": "https://localhost:8080/"
        },
        "id": "F1OnM6WyafG0",
        "outputId": "7d8359a6-46f0-4c51-f55a-682dd0a31198"
      },
      "execution_count": 37,
      "outputs": [
        {
          "output_type": "stream",
          "name": "stdout",
          "text": [
            "Reading package lists... Done\n",
            "Building dependency tree... Done\n",
            "Reading state information... Done\n",
            "fonts-nanum is already the newest version (20200506-1).\n",
            "0 upgraded, 0 newly installed, 0 to remove and 29 not upgraded.\n",
            "/usr/share/fonts: caching, new cache contents: 0 fonts, 1 dirs\n",
            "/usr/share/fonts/truetype: caching, new cache contents: 0 fonts, 3 dirs\n",
            "/usr/share/fonts/truetype/humor-sans: caching, new cache contents: 1 fonts, 0 dirs\n",
            "/usr/share/fonts/truetype/liberation: caching, new cache contents: 16 fonts, 0 dirs\n",
            "/usr/share/fonts/truetype/nanum: caching, new cache contents: 39 fonts, 0 dirs\n",
            "/usr/local/share/fonts: caching, new cache contents: 0 fonts, 0 dirs\n",
            "/root/.local/share/fonts: skipping, no such directory\n",
            "/root/.fonts: skipping, no such directory\n",
            "/usr/share/fonts/truetype: skipping, looped directory detected\n",
            "/usr/share/fonts/truetype/humor-sans: skipping, looped directory detected\n",
            "/usr/share/fonts/truetype/liberation: skipping, looped directory detected\n",
            "/usr/share/fonts/truetype/nanum: skipping, looped directory detected\n",
            "/var/cache/fontconfig: cleaning cache directory\n",
            "/root/.cache/fontconfig: not cleaning non-existent cache directory\n",
            "/root/.fontconfig: not cleaning non-existent cache directory\n",
            "fc-cache: succeeded\n"
          ]
        }
      ]
    },
    {
      "cell_type": "code",
      "source": [
        "import matplotlib.pyplot as plt\n",
        "import matplotlib as mpl\n",
        "import seaborn as sns\n",
        "from wordcloud import WordCloud\n",
        "\n",
        "mpl.rcParams['axes.unicode_minus'] = False\n",
        "\n",
        "\n",
        "# Basic statistics of the DataFrame\n",
        "print(reviews.info())\n",
        "\n",
        "# Distribution of Ratings\n",
        "plt.figure(figsize=(8, 5))\n",
        "sns.countplot(x='rating', data=reviews)\n",
        "plt.title('Distribution of Ratings')\n",
        "plt.show()\n",
        "\n",
        "# # Word Cloud for Positive and Negative Reviews\n",
        "# positive_reviews = ' '.join(reviews[reviews['sentiment'] == 1]['content'])\n",
        "# negative_reviews = ' '.join(reviews[reviews['sentiment'] == 0]['content'])\n",
        "\n",
        "# # Word Cloud for Positive Reviews\n",
        "# plt.figure(figsize=(12, 6))\n",
        "# wordcloud_positive = WordCloud(width=800, height=400, background_color='white').generate(positive_reviews)\n",
        "# plt.imshow(wordcloud_positive, interpolation='bilinear')\n",
        "# plt.axis('off')\n",
        "# plt.title('Word Cloud for Positive Reviews')\n",
        "# plt.show()\n",
        "\n",
        "# # Word Cloud for Negative Reviews\n",
        "# plt.figure(figsize=(12, 6))\n",
        "# wordcloud_negative = WordCloud(width=800, height=400, background_color='white').generate(negative_reviews)\n",
        "# plt.imshow(wordcloud_negative, interpolation='bilinear')\n",
        "# plt.axis('off')\n",
        "# plt.title('Word Cloud for Negative Reviews')\n",
        "# plt.show()\n",
        "\n",
        "# Histogram of Review Lengths\n",
        "reviews['review_length'] = reviews['content'].apply(len)\n",
        "plt.figure(figsize=(10, 6))\n",
        "sns.histplot(reviews['review_length'], bins=50, kde=True)\n",
        "plt.title('Distribution of Review Lengths')\n",
        "plt.xlabel('Review Length')\n",
        "plt.ylabel('Count')\n",
        "plt.show()\n"
      ],
      "metadata": {
        "colab": {
          "base_uri": "https://localhost:8080/",
          "height": 1000
        },
        "id": "WGahyiZHG661",
        "outputId": "12693ad4-743b-4ae4-967f-380265503797"
      },
      "execution_count": 38,
      "outputs": [
        {
          "output_type": "stream",
          "name": "stdout",
          "text": [
            "<class 'pandas.core.frame.DataFrame'>\n",
            "Int64Index: 810635 entries, 0 to 1590506\n",
            "Data columns (total 3 columns):\n",
            " #   Column     Non-Null Count   Dtype \n",
            "---  ------     --------------   ----- \n",
            " 0   rating     810635 non-null  int64 \n",
            " 1   content    810635 non-null  object\n",
            " 2   sentiment  810635 non-null  int64 \n",
            "dtypes: int64(2), object(1)\n",
            "memory usage: 24.7+ MB\n",
            "None\n"
          ]
        },
        {
          "output_type": "stream",
          "name": "stderr",
          "text": [
            "WARNING:matplotlib.font_manager:findfont: Font family 'AppleGothic' not found.\n",
            "WARNING:matplotlib.font_manager:findfont: Font family 'AppleGothic' not found.\n",
            "WARNING:matplotlib.font_manager:findfont: Font family 'AppleGothic' not found.\n",
            "WARNING:matplotlib.font_manager:findfont: Font family 'AppleGothic' not found.\n",
            "WARNING:matplotlib.font_manager:findfont: Font family 'AppleGothic' not found.\n",
            "WARNING:matplotlib.font_manager:findfont: Font family 'AppleGothic' not found.\n",
            "WARNING:matplotlib.font_manager:findfont: Font family 'AppleGothic' not found.\n",
            "WARNING:matplotlib.font_manager:findfont: Font family 'AppleGothic' not found.\n",
            "WARNING:matplotlib.font_manager:findfont: Font family 'AppleGothic' not found.\n",
            "WARNING:matplotlib.font_manager:findfont: Font family 'AppleGothic' not found.\n",
            "WARNING:matplotlib.font_manager:findfont: Font family 'AppleGothic' not found.\n",
            "WARNING:matplotlib.font_manager:findfont: Font family 'AppleGothic' not found.\n",
            "WARNING:matplotlib.font_manager:findfont: Font family 'AppleGothic' not found.\n",
            "WARNING:matplotlib.font_manager:findfont: Font family 'AppleGothic' not found.\n",
            "WARNING:matplotlib.font_manager:findfont: Font family 'AppleGothic' not found.\n",
            "WARNING:matplotlib.font_manager:findfont: Font family 'AppleGothic' not found.\n",
            "WARNING:matplotlib.font_manager:findfont: Font family 'AppleGothic' not found.\n",
            "WARNING:matplotlib.font_manager:findfont: Font family 'AppleGothic' not found.\n",
            "WARNING:matplotlib.font_manager:findfont: Font family 'AppleGothic' not found.\n",
            "WARNING:matplotlib.font_manager:findfont: Font family 'AppleGothic' not found.\n",
            "WARNING:matplotlib.font_manager:findfont: Font family 'AppleGothic' not found.\n",
            "WARNING:matplotlib.font_manager:findfont: Font family 'AppleGothic' not found.\n",
            "WARNING:matplotlib.font_manager:findfont: Font family 'AppleGothic' not found.\n",
            "WARNING:matplotlib.font_manager:findfont: Font family 'AppleGothic' not found.\n",
            "WARNING:matplotlib.font_manager:findfont: Font family 'AppleGothic' not found.\n",
            "WARNING:matplotlib.font_manager:findfont: Font family 'AppleGothic' not found.\n",
            "WARNING:matplotlib.font_manager:findfont: Font family 'AppleGothic' not found.\n",
            "WARNING:matplotlib.font_manager:findfont: Font family 'AppleGothic' not found.\n",
            "WARNING:matplotlib.font_manager:findfont: Font family 'AppleGothic' not found.\n",
            "WARNING:matplotlib.font_manager:findfont: Font family 'AppleGothic' not found.\n",
            "WARNING:matplotlib.font_manager:findfont: Font family 'AppleGothic' not found.\n",
            "WARNING:matplotlib.font_manager:findfont: Font family 'AppleGothic' not found.\n",
            "WARNING:matplotlib.font_manager:findfont: Font family 'AppleGothic' not found.\n",
            "WARNING:matplotlib.font_manager:findfont: Font family 'AppleGothic' not found.\n",
            "WARNING:matplotlib.font_manager:findfont: Font family 'AppleGothic' not found.\n",
            "WARNING:matplotlib.font_manager:findfont: Font family 'AppleGothic' not found.\n",
            "WARNING:matplotlib.font_manager:findfont: Font family 'AppleGothic' not found.\n",
            "WARNING:matplotlib.font_manager:findfont: Font family 'AppleGothic' not found.\n",
            "WARNING:matplotlib.font_manager:findfont: Font family 'AppleGothic' not found.\n",
            "WARNING:matplotlib.font_manager:findfont: Font family 'AppleGothic' not found.\n",
            "WARNING:matplotlib.font_manager:findfont: Font family 'AppleGothic' not found.\n",
            "WARNING:matplotlib.font_manager:findfont: Font family 'AppleGothic' not found.\n",
            "WARNING:matplotlib.font_manager:findfont: Font family 'AppleGothic' not found.\n",
            "WARNING:matplotlib.font_manager:findfont: Font family 'AppleGothic' not found.\n",
            "WARNING:matplotlib.font_manager:findfont: Font family 'AppleGothic' not found.\n",
            "WARNING:matplotlib.font_manager:findfont: Font family 'AppleGothic' not found.\n",
            "WARNING:matplotlib.font_manager:findfont: Font family 'AppleGothic' not found.\n",
            "WARNING:matplotlib.font_manager:findfont: Font family 'AppleGothic' not found.\n",
            "WARNING:matplotlib.font_manager:findfont: Font family 'AppleGothic' not found.\n"
          ]
        },
        {
          "output_type": "display_data",
          "data": {
            "text/plain": [
              "<Figure size 800x500 with 1 Axes>"
            ],
            "image/png": "[encoded data removed]"
          },
          "metadata": {}
        },
        {
          "output_type": "error",
          "ename": "KeyboardInterrupt",
          "evalue": "ignored",
          "traceback": [
            "\u001b[0;31m---------------------------------------------------------------------------\u001b[0m",
            "\u001b[0;31mKeyboardInterrupt\u001b[0m                         Traceback (most recent call last)",
            "\u001b[0;32m<ipython-input-38-dc03c1fc6025>\u001b[0m in \u001b[0;36m<cell line: 23>\u001b[0;34m()\u001b[0m\n\u001b[1;32m     21\u001b[0m \u001b[0;31m# Word Cloud for Positive Reviews\u001b[0m\u001b[0;34m\u001b[0m\u001b[0;34m\u001b[0m\u001b[0m\n\u001b[1;32m     22\u001b[0m \u001b[0mplt\u001b[0m\u001b[0;34m.\u001b[0m\u001b[0mfigure\u001b[0m\u001b[0;34m(\u001b[0m\u001b[0mfigsize\u001b[0m\u001b[0;34m=\u001b[0m\u001b[0;34m(\u001b[0m\u001b[0;36m12\u001b[0m\u001b[0;34m,\u001b[0m \u001b[0;36m6\u001b[0m\u001b[0;34m)\u001b[0m\u001b[0;34m)\u001b[0m\u001b[0;34m\u001b[0m\u001b[0;34m\u001b[0m\u001b[0m\n\u001b[0;32m---> 23\u001b[0;31m \u001b[0mwordcloud_positive\u001b[0m \u001b[0;34m=\u001b[0m \u001b[0mWordCloud\u001b[0m\u001b[0;34m(\u001b[0m\u001b[0mwidth\u001b[0m\u001b[0;34m=\u001b[0m\u001b[0;36m800\u001b[0m\u001b[0;34m,\u001b[0m \u001b[0mheight\u001b[0m\u001b[0;34m=\u001b[0m\u001b[0;36m400\u001b[0m\u001b[0;34m,\u001b[0m \u001b[0mbackground_color\u001b[0m\u001b[0;34m=\u001b[0m\u001b[0;34m'white'\u001b[0m\u001b[0;34m)\u001b[0m\u001b[0;34m.\u001b[0m\u001b[0mgenerate\u001b[0m\u001b[0;34m(\u001b[0m\u001b[0mpositive_reviews\u001b[0m\u001b[0;34m)\u001b[0m\u001b[0;34m\u001b[0m\u001b[0;34m\u001b[0m\u001b[0m\n\u001b[0m\u001b[1;32m     24\u001b[0m \u001b[0mplt\u001b[0m\u001b[0;34m.\u001b[0m\u001b[0mimshow\u001b[0m\u001b[0;34m(\u001b[0m\u001b[0mwordcloud_positive\u001b[0m\u001b[0;34m,\u001b[0m \u001b[0minterpolation\u001b[0m\u001b[0;34m=\u001b[0m\u001b[0;34m'bilinear'\u001b[0m\u001b[0;34m)\u001b[0m\u001b[0;34m\u001b[0m\u001b[0;34m\u001b[0m\u001b[0m\n\u001b[1;32m     25\u001b[0m \u001b[0mplt\u001b[0m\u001b[0;34m.\u001b[0m\u001b[0maxis\u001b[0m\u001b[0;34m(\u001b[0m\u001b[0;34m'off'\u001b[0m\u001b[0;34m)\u001b[0m\u001b[0;34m\u001b[0m\u001b[0;34m\u001b[0m\u001b[0m\n",
            "\u001b[0;32m/usr/local/lib/python3.10/dist-packages/wordcloud/wordcloud.py\u001b[0m in \u001b[0;36mgenerate\u001b[0;34m(self, text)\u001b[0m\n\u001b[1;32m    637\u001b[0m         \u001b[0mself\u001b[0m\u001b[0;34m\u001b[0m\u001b[0;34m\u001b[0m\u001b[0m\n\u001b[1;32m    638\u001b[0m         \"\"\"\n\u001b[0;32m--> 639\u001b[0;31m         \u001b[0;32mreturn\u001b[0m \u001b[0mself\u001b[0m\u001b[0;34m.\u001b[0m\u001b[0mgenerate_from_text\u001b[0m\u001b[0;34m(\u001b[0m\u001b[0mtext\u001b[0m\u001b[0;34m)\u001b[0m\u001b[0;34m\u001b[0m\u001b[0;34m\u001b[0m\u001b[0m\n\u001b[0m\u001b[1;32m    640\u001b[0m \u001b[0;34m\u001b[0m\u001b[0m\n\u001b[1;32m    641\u001b[0m     \u001b[0;32mdef\u001b[0m \u001b[0m_check_generated\u001b[0m\u001b[0;34m(\u001b[0m\u001b[0mself\u001b[0m\u001b[0;34m)\u001b[0m\u001b[0;34m:\u001b[0m\u001b[0;34m\u001b[0m\u001b[0;34m\u001b[0m\u001b[0m\n",
            "\u001b[0;32m/usr/local/lib/python3.10/dist-packages/wordcloud/wordcloud.py\u001b[0m in \u001b[0;36mgenerate_from_text\u001b[0;34m(self, text)\u001b[0m\n\u001b[1;32m    618\u001b[0m         \u001b[0mself\u001b[0m\u001b[0;34m\u001b[0m\u001b[0;34m\u001b[0m\u001b[0m\n\u001b[1;32m    619\u001b[0m         \"\"\"\n\u001b[0;32m--> 620\u001b[0;31m         \u001b[0mwords\u001b[0m \u001b[0;34m=\u001b[0m \u001b[0mself\u001b[0m\u001b[0;34m.\u001b[0m\u001b[0mprocess_text\u001b[0m\u001b[0;34m(\u001b[0m\u001b[0mtext\u001b[0m\u001b[0;34m)\u001b[0m\u001b[0;34m\u001b[0m\u001b[0;34m\u001b[0m\u001b[0m\n\u001b[0m\u001b[1;32m    621\u001b[0m         \u001b[0mself\u001b[0m\u001b[0;34m.\u001b[0m\u001b[0mgenerate_from_frequencies\u001b[0m\u001b[0;34m(\u001b[0m\u001b[0mwords\u001b[0m\u001b[0;34m)\u001b[0m\u001b[0;34m\u001b[0m\u001b[0;34m\u001b[0m\u001b[0m\n\u001b[1;32m    622\u001b[0m         \u001b[0;32mreturn\u001b[0m \u001b[0mself\u001b[0m\u001b[0;34m\u001b[0m\u001b[0;34m\u001b[0m\u001b[0m\n",
            "\u001b[0;32m/usr/local/lib/python3.10/dist-packages/wordcloud/wordcloud.py\u001b[0m in \u001b[0;36mprocess_text\u001b[0;34m(self, text)\u001b[0m\n\u001b[1;32m    593\u001b[0m         \u001b[0mstopwords\u001b[0m \u001b[0;34m=\u001b[0m \u001b[0mset\u001b[0m\u001b[0;34m(\u001b[0m\u001b[0;34m[\u001b[0m\u001b[0mi\u001b[0m\u001b[0;34m.\u001b[0m\u001b[0mlower\u001b[0m\u001b[0;34m(\u001b[0m\u001b[0;34m)\u001b[0m \u001b[0;32mfor\u001b[0m \u001b[0mi\u001b[0m \u001b[0;32min\u001b[0m \u001b[0mself\u001b[0m\u001b[0;34m.\u001b[0m\u001b[0mstopwords\u001b[0m\u001b[0;34m]\u001b[0m\u001b[0;34m)\u001b[0m\u001b[0;34m\u001b[0m\u001b[0;34m\u001b[0m\u001b[0m\n\u001b[1;32m    594\u001b[0m         \u001b[0;32mif\u001b[0m \u001b[0mself\u001b[0m\u001b[0;34m.\u001b[0m\u001b[0mcollocations\u001b[0m\u001b[0;34m:\u001b[0m\u001b[0;34m\u001b[0m\u001b[0;34m\u001b[0m\u001b[0m\n\u001b[0;32m--> 595\u001b[0;31m             \u001b[0mword_counts\u001b[0m \u001b[0;34m=\u001b[0m \u001b[0munigrams_and_bigrams\u001b[0m\u001b[0;34m(\u001b[0m\u001b[0mwords\u001b[0m\u001b[0;34m,\u001b[0m \u001b[0mstopwords\u001b[0m\u001b[0;34m,\u001b[0m \u001b[0mself\u001b[0m\u001b[0;34m.\u001b[0m\u001b[0mnormalize_plurals\u001b[0m\u001b[0;34m,\u001b[0m \u001b[0mself\u001b[0m\u001b[0;34m.\u001b[0m\u001b[0mcollocation_threshold\u001b[0m\u001b[0;34m)\u001b[0m\u001b[0;34m\u001b[0m\u001b[0;34m\u001b[0m\u001b[0m\n\u001b[0m\u001b[1;32m    596\u001b[0m         \u001b[0;32melse\u001b[0m\u001b[0;34m:\u001b[0m\u001b[0;34m\u001b[0m\u001b[0;34m\u001b[0m\u001b[0m\n\u001b[1;32m    597\u001b[0m             \u001b[0;31m# remove stopwords\u001b[0m\u001b[0;34m\u001b[0m\u001b[0;34m\u001b[0m\u001b[0m\n",
            "\u001b[0;32m/usr/local/lib/python3.10/dist-packages/wordcloud/tokenization.py\u001b[0m in \u001b[0;36munigrams_and_bigrams\u001b[0;34m(words, stopwords, normalize_plurals, collocation_threshold)\u001b[0m\n\u001b[1;32m     41\u001b[0m     \u001b[0;31m# \"thank much\" from \"thank you very much\".\u001b[0m\u001b[0;34m\u001b[0m\u001b[0;34m\u001b[0m\u001b[0m\n\u001b[1;32m     42\u001b[0m     \u001b[0;31m# We don't allow any of the words in the bigram to be stopwords\u001b[0m\u001b[0;34m\u001b[0m\u001b[0;34m\u001b[0m\u001b[0m\n\u001b[0;32m---> 43\u001b[0;31m     \u001b[0mbigrams\u001b[0m \u001b[0;34m=\u001b[0m \u001b[0mlist\u001b[0m\u001b[0;34m(\u001b[0m\u001b[0mp\u001b[0m \u001b[0;32mfor\u001b[0m \u001b[0mp\u001b[0m \u001b[0;32min\u001b[0m \u001b[0mpairwise\u001b[0m\u001b[0;34m(\u001b[0m\u001b[0mwords\u001b[0m\u001b[0;34m)\u001b[0m \u001b[0;32mif\u001b[0m \u001b[0;32mnot\u001b[0m \u001b[0many\u001b[0m\u001b[0;34m(\u001b[0m\u001b[0mw\u001b[0m\u001b[0;34m.\u001b[0m\u001b[0mlower\u001b[0m\u001b[0;34m(\u001b[0m\u001b[0;34m)\u001b[0m \u001b[0;32min\u001b[0m \u001b[0mstopwords\u001b[0m \u001b[0;32mfor\u001b[0m \u001b[0mw\u001b[0m \u001b[0;32min\u001b[0m \u001b[0mp\u001b[0m\u001b[0;34m)\u001b[0m\u001b[0;34m)\u001b[0m\u001b[0;34m\u001b[0m\u001b[0;34m\u001b[0m\u001b[0m\n\u001b[0m\u001b[1;32m     44\u001b[0m     \u001b[0munigrams\u001b[0m \u001b[0;34m=\u001b[0m \u001b[0mlist\u001b[0m\u001b[0;34m(\u001b[0m\u001b[0mw\u001b[0m \u001b[0;32mfor\u001b[0m \u001b[0mw\u001b[0m \u001b[0;32min\u001b[0m \u001b[0mwords\u001b[0m \u001b[0;32mif\u001b[0m \u001b[0mw\u001b[0m\u001b[0;34m.\u001b[0m\u001b[0mlower\u001b[0m\u001b[0;34m(\u001b[0m\u001b[0;34m)\u001b[0m \u001b[0;32mnot\u001b[0m \u001b[0;32min\u001b[0m \u001b[0mstopwords\u001b[0m\u001b[0;34m)\u001b[0m\u001b[0;34m\u001b[0m\u001b[0;34m\u001b[0m\u001b[0m\n\u001b[1;32m     45\u001b[0m     \u001b[0mn_words\u001b[0m \u001b[0;34m=\u001b[0m \u001b[0mlen\u001b[0m\u001b[0;34m(\u001b[0m\u001b[0munigrams\u001b[0m\u001b[0;34m)\u001b[0m\u001b[0;34m\u001b[0m\u001b[0;34m\u001b[0m\u001b[0m\n",
            "\u001b[0;32m/usr/local/lib/python3.10/dist-packages/wordcloud/tokenization.py\u001b[0m in \u001b[0;36m<genexpr>\u001b[0;34m(.0)\u001b[0m\n\u001b[1;32m     41\u001b[0m     \u001b[0;31m# \"thank much\" from \"thank you very much\".\u001b[0m\u001b[0;34m\u001b[0m\u001b[0;34m\u001b[0m\u001b[0m\n\u001b[1;32m     42\u001b[0m     \u001b[0;31m# We don't allow any of the words in the bigram to be stopwords\u001b[0m\u001b[0;34m\u001b[0m\u001b[0;34m\u001b[0m\u001b[0m\n\u001b[0;32m---> 43\u001b[0;31m     \u001b[0mbigrams\u001b[0m \u001b[0;34m=\u001b[0m \u001b[0mlist\u001b[0m\u001b[0;34m(\u001b[0m\u001b[0mp\u001b[0m \u001b[0;32mfor\u001b[0m \u001b[0mp\u001b[0m \u001b[0;32min\u001b[0m \u001b[0mpairwise\u001b[0m\u001b[0;34m(\u001b[0m\u001b[0mwords\u001b[0m\u001b[0;34m)\u001b[0m \u001b[0;32mif\u001b[0m \u001b[0;32mnot\u001b[0m \u001b[0many\u001b[0m\u001b[0;34m(\u001b[0m\u001b[0mw\u001b[0m\u001b[0;34m.\u001b[0m\u001b[0mlower\u001b[0m\u001b[0;34m(\u001b[0m\u001b[0;34m)\u001b[0m \u001b[0;32min\u001b[0m \u001b[0mstopwords\u001b[0m \u001b[0;32mfor\u001b[0m \u001b[0mw\u001b[0m \u001b[0;32min\u001b[0m \u001b[0mp\u001b[0m\u001b[0;34m)\u001b[0m\u001b[0;34m)\u001b[0m\u001b[0;34m\u001b[0m\u001b[0;34m\u001b[0m\u001b[0m\n\u001b[0m\u001b[1;32m     44\u001b[0m     \u001b[0munigrams\u001b[0m \u001b[0;34m=\u001b[0m \u001b[0mlist\u001b[0m\u001b[0;34m(\u001b[0m\u001b[0mw\u001b[0m \u001b[0;32mfor\u001b[0m \u001b[0mw\u001b[0m \u001b[0;32min\u001b[0m \u001b[0mwords\u001b[0m \u001b[0;32mif\u001b[0m \u001b[0mw\u001b[0m\u001b[0;34m.\u001b[0m\u001b[0mlower\u001b[0m\u001b[0;34m(\u001b[0m\u001b[0;34m)\u001b[0m \u001b[0;32mnot\u001b[0m \u001b[0;32min\u001b[0m \u001b[0mstopwords\u001b[0m\u001b[0;34m)\u001b[0m\u001b[0;34m\u001b[0m\u001b[0;34m\u001b[0m\u001b[0m\n\u001b[1;32m     45\u001b[0m     \u001b[0mn_words\u001b[0m \u001b[0;34m=\u001b[0m \u001b[0mlen\u001b[0m\u001b[0;34m(\u001b[0m\u001b[0munigrams\u001b[0m\u001b[0;34m)\u001b[0m\u001b[0;34m\u001b[0m\u001b[0;34m\u001b[0m\u001b[0m\n",
            "\u001b[0;31mKeyboardInterrupt\u001b[0m: "
          ]
        },
        {
          "output_type": "display_data",
          "data": {
            "text/plain": [
              "<Figure size 1200x600 with 0 Axes>"
            ]
          },
          "metadata": {}
        }
      ]
    }
  ],
  "metadata": {
    "language_info": {
      "name": "python"
    },
    "colab": {
      "provenance": []
    },
    "kernelspec": {
      "name": "python3",
      "display_name": "Python 3"
    }
  },
  "nbformat": 4,
  "nbformat_minor": 0
}