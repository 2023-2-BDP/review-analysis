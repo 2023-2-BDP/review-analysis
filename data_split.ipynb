{
 "cells": [
  {
   "cell_type": "code",
   "execution_count": 1,
   "metadata": {},
   "outputs": [],
   "source": [
    "import pandas as pd\n",
    "import numpy as np\n",
    "import matplotlib.pyplot as plt\n",
    "import seaborn as sns\n",
    "import warnings\n",
    "warnings.filterwarnings('ignore')"
   ]
  },
  {
   "cell_type": "code",
   "execution_count": 2,
   "metadata": {},
   "outputs": [],
   "source": [
    "reviews = pd.read_csv('coupang_reviews.csv', encoding='utf-8', sep='\\t')"
   ]
  },
  {
   "cell_type": "code",
   "execution_count": 8,
   "metadata": {},
   "outputs": [],
   "source": [
    "# reviews 3등분 후 csv로 저장\n",
    "reviews1 = reviews.iloc[:len(reviews)// 3]\n",
    "reviews2 = reviews.iloc[len(reviews) // 3:len(reviews) // 3 * 2]\n",
    "reviews3 = reviews.iloc[len(reviews) // 3 * 2:]\n",
    "\n",
    "reviews1.to_csv('coupang_reviews1.csv', index=False, encoding='utf-8', sep='\\t')\n",
    "reviews2.to_csv('coupang_reviews2.csv', index=False, encoding='utf-8', sep='\\t')\n",
    "reviews3.to_csv('coupang_reviews3.csv', index=False, encoding='utf-8', sep='\\t')"
   ]
  }
 ],
 "metadata": {
  "kernelspec": {
   "display_name": "myvenv",
   "language": "python",
   "name": "python3"
  },
  "language_info": {
   "codemirror_mode": {
    "name": "ipython",
    "version": 3
   },
   "file_extension": ".py",
   "mimetype": "text/x-python",
   "name": "python",
   "nbconvert_exporter": "python",
   "pygments_lexer": "ipython3",
   "version": "3.9.7"
  }
 },
 "nbformat": 4,
 "nbformat_minor": 2
}
